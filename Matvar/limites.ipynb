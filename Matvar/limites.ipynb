{
 "cells": [
  {
   "cell_type": "code",
   "execution_count": 2,
   "metadata": {},
   "outputs": [],
   "source": [
    "import numpy as np\n",
    "from math import sin"
   ]
  },
  {
   "cell_type": "code",
   "execution_count": 3,
   "metadata": {},
   "outputs": [
    {
     "name": "stdout",
     "output_type": "stream",
     "text": [
      "[ 1  2  3  4  5  6  7  8  9 10]\n"
     ]
    }
   ],
   "source": [
    "L = np.arange(1, 10+1, 1)\n",
    "print(L)"
   ]
  },
  {
   "cell_type": "code",
   "execution_count": 6,
   "metadata": {},
   "outputs": [
    {
     "name": "stdout",
     "output_type": "stream",
     "text": [
      "a1 = 0.42073549240394825\n",
      "a2 = 0.6480598491103686\n",
      "a3 = 0.665699850117852\n",
      "a4 = 0.7130000060745976\n",
      "a5 = 0.7429663896578207\n",
      "a6 = 0.747332256817179\n",
      "a7 = 0.7524649646196695\n",
      "a8 = 0.756329645270542\n",
      "a9 = 0.7571345641870298\n",
      "a10 = 0.7576658348031328\n"
     ]
    }
   ],
   "source": [
    "for a in L:\n",
    "    i = 0\n",
    "    S = 0\n",
    "    while i <= a:\n",
    "        S += abs(sin(i))/2**i\n",
    "        i += 1\n",
    "    print(f'a{i-1} = {S}')\n"
   ]
  }
 ],
 "metadata": {
  "interpreter": {
   "hash": "74ab7c6ffe6706754a8af46cc4d18eebe476c74ce21a19282f620e1b1e9919fe"
  },
  "kernelspec": {
   "display_name": "Python 3.8.8 ('base')",
   "language": "python",
   "name": "python3"
  },
  "language_info": {
   "codemirror_mode": {
    "name": "ipython",
    "version": 3
   },
   "file_extension": ".py",
   "mimetype": "text/x-python",
   "name": "python",
   "nbconvert_exporter": "python",
   "pygments_lexer": "ipython3",
   "version": "3.8.8"
  },
  "orig_nbformat": 4
 },
 "nbformat": 4,
 "nbformat_minor": 2
}
