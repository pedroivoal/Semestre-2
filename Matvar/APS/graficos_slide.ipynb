{
 "cells": [
  {
   "cell_type": "code",
   "execution_count": 113,
   "metadata": {},
   "outputs": [],
   "source": [
    "import matplotlib.pyplot as plt\n",
    "import numpy as np"
   ]
  },
  {
   "cell_type": "code",
   "execution_count": 114,
   "metadata": {},
   "outputs": [],
   "source": [
    "def simples(x, n):\n",
    "    Σ = 0\n",
    "    for i in range(0, n+1):\n",
    "        Σ += x**i\n",
    "    return Σ"
   ]
  },
  {
   "cell_type": "code",
   "execution_count": 136,
   "metadata": {},
   "outputs": [
    {
     "name": "stderr",
     "output_type": "stream",
     "text": [
      "<ipython-input-114-ffd872eef8c8>:4: RuntimeWarning: overflow encountered in double_scalars\n",
      "  Σ += x**i\n"
     ]
    }
   ],
   "source": [
    "x = 1\n",
    "n = 20000\n",
    "\n",
    "l_x = np.arange(0, 1.1, 0.001)\n",
    "l_Σ = []\n",
    "\n",
    "for i in range(0, len(l_x)):\n",
    "    l_Σ.append(simples(l_x[i], n))"
   ]
  },
  {
   "cell_type": "code",
   "execution_count": 153,
   "metadata": {},
   "outputs": [
    {
     "name": "stderr",
     "output_type": "stream",
     "text": [
      "c:\\Users\\pedro\\anaconda3\\lib\\site-packages\\numpy\\ma\\core.py:6845: RuntimeWarning: overflow encountered in power\n",
      "  result = np.where(m, fa, umath.power(fa, fb)).view(basetype)\n",
      "<ipython-input-153-12344d13a14b>:5: UserWarning: Attempted to set non-positive bottom ylim on a log-scaled axis.\n",
      "Invalid limit will be ignored.\n",
      "  plt.ylim(0,300);\n"
     ]
    },
    {
     "data": {
      "image/png": "[encoded data removed]",
      "text/plain": [
       "<Figure size 432x288 with 1 Axes>"
      ]
     },
     "metadata": {
      "needs_background": "light"
     },
     "output_type": "display_data"
    }
   ],
   "source": [
    "# experimento, ax = plt.subplots()\n",
    "\n",
    "plt.plot(l_x, l_Σ);\n",
    "plt.yscale('log');\n",
    "plt.ylim(0,300);\n",
    "plt.xlim(0, 1);\n",
    "# plt.grid(True);\n",
    "plt.show();\n",
    "\n",
    "# experimento.savefig('exmplo.jpg',  format = 'jpg', dpi = 720)"
   ]
  }
 ],
 "metadata": {
  "interpreter": {
   "hash": "aea149784bd30735ce6bf75b9a5314843328adf2083b944f20623ef50c2ca00d"
  },
  "kernelspec": {
   "display_name": "Python 3.8.8 ('base')",
   "language": "python",
   "name": "python3"
  },
  "language_info": {
   "codemirror_mode": {
    "name": "ipython",
    "version": 3
   },
   "file_extension": ".py",
   "mimetype": "text/x-python",
   "name": "python",
   "nbconvert_exporter": "python",
   "pygments_lexer": "ipython3",
   "version": "3.8.8"
  },
  "orig_nbformat": 4
 },
 "nbformat": 4,
 "nbformat_minor": 2
}
