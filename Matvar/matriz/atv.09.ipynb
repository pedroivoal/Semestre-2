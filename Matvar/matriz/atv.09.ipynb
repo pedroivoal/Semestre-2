{
 "cells": [
  {
   "cell_type": "code",
   "execution_count": 2,
   "metadata": {},
   "outputs": [],
   "source": [
    "S = [[-0, 2],[2, 0]]"
   ]
  },
  {
   "cell_type": "code",
   "execution_count": 9,
   "metadata": {},
   "outputs": [
    {
     "name": "stdout",
     "output_type": "stream",
     "text": [
      "[1, -1]\n",
      "[-2, 2]\n",
      "[4, -4]\n",
      "[-8, 8]\n",
      "[16, -16]\n",
      "[-32, 32]\n",
      "[64, -64]\n",
      "[-128, 128]\n",
      "[256, -256]\n",
      "[-512, 512]\n",
      "[1024, -1024]\n"
     ]
    }
   ],
   "source": [
    "# l_Mx = [[1, 1]]\n",
    "l_Mx = [[1, -1]]\n",
    "n = 10\n",
    "i = 0\n",
    "while i < n:\n",
    "    a11 = round(S[0][0]*l_Mx[i][0]+S[0][1]*l_Mx[i][1], 11)\n",
    "    a21 = round(S[1][0]*l_Mx[i][0]+S[1][1]*l_Mx[i][1], 11)\n",
    "    xn = [a11, a21]\n",
    "    l_Mx.append(xn)\n",
    "    i += 1\n",
    "\n",
    "for i in l_Mx:\n",
    "    print(f'{i}')"
   ]
  }
 ],
 "metadata": {
  "interpreter": {
   "hash": "ad2bdc8ecc057115af97d19610ffacc2b4e99fae6737bb82f5d7fb13d2f2c186"
  },
  "kernelspec": {
   "display_name": "Python 3.9.12 ('base')",
   "language": "python",
   "name": "python3"
  },
  "language_info": {
   "codemirror_mode": {
    "name": "ipython",
    "version": 3
   },
   "file_extension": ".py",
   "mimetype": "text/x-python",
   "name": "python",
   "nbconvert_exporter": "python",
   "pygments_lexer": "ipython3",
   "version": "3.9.12"
  },
  "orig_nbformat": 4
 },
 "nbformat": 4,
 "nbformat_minor": 2
}
