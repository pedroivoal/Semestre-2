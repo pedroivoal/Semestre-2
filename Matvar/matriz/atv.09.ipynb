{
 "cells": [
  {
   "cell_type": "code",
   "execution_count": 23,
   "metadata": {},
   "outputs": [],
   "source": [
    "S = [[-1.6, 0.3],[1.6, -0.8]]"
   ]
  },
  {
   "cell_type": "code",
   "execution_count": 49,
   "metadata": {},
   "outputs": [
    {
     "name": "stdout",
     "output_type": "stream",
     "text": [
      "[1, 4]\n",
      "[-0.4, -1.6]\n",
      "[0.16, 0.64]\n",
      "[-0.064, -0.256]\n",
      "[0.0256, 0.1024]\n",
      "[-0.01024, -0.04096]\n",
      "[0.004096, 0.016384]\n",
      "[-0.0016384, -0.0065536]\n",
      "[0.00065536, 0.00262144]\n",
      "[-0.000262144, -0.001048576]\n",
      "[0.0001048576, 0.0004194304]\n"
     ]
    }
   ],
   "source": [
    "# l_Mx = [[3, -4]]\n",
    "l_Mx = [[1, 4]]\n",
    "n = 10\n",
    "i = 0\n",
    "while i < n:\n",
    "    a11 = round(S[0][0]*l_Mx[i][0]+S[0][1]*l_Mx[i][1], 11)\n",
    "    a21 = round(S[1][0]*l_Mx[i][0]+S[1][1]*l_Mx[i][1], 11)\n",
    "    xn = [a11, a21]\n",
    "    l_Mx.append(xn)\n",
    "    i += 1\n",
    "\n",
    "for i in l_Mx:\n",
    "    print(f'{i}')"
   ]
  }
 ],
 "metadata": {
  "interpreter": {
   "hash": "aea149784bd30735ce6bf75b9a5314843328adf2083b944f20623ef50c2ca00d"
  },
  "kernelspec": {
   "display_name": "Python 3.8.8 ('base')",
   "language": "python",
   "name": "python3"
  },
  "language_info": {
   "codemirror_mode": {
    "name": "ipython",
    "version": 3
   },
   "file_extension": ".py",
   "mimetype": "text/x-python",
   "name": "python",
   "nbconvert_exporter": "python",
   "pygments_lexer": "ipython3",
   "version": "3.8.8"
  },
  "orig_nbformat": 4
 },
 "nbformat": 4,
 "nbformat_minor": 2
}
