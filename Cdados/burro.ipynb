{
 "cells": [
  {
   "cell_type": "code",
   "execution_count": null,
   "metadata": {},
   "outputs": [],
   "source": [
    "var1 = 4\n",
    "var2 = expon.var(scale=15)\n",
    "var3 = 30\n",
    "\n",
    "var12 = var1+var2#+2*np.cov(var1, var2)\n",
    "\n",
    "x = np.linspace(0, 1700, 10000)\n",
    "f1 = pd.DataFrame(norm.pdf(x, 120, 2))\n",
    "f2 = pd.DataFrame(expon.pdf(x, scale=15))\n",
    "f3 = pd.DataFrame(norm.pdf(x,1500,30**(1/2)))\n",
    "\n",
    "# f3.cov(f2)\n",
    "f3\n",
    "f2"
   ]
  }
 ],
 "metadata": {
  "language_info": {
   "name": "python"
  },
  "orig_nbformat": 4
 },
 "nbformat": 4,
 "nbformat_minor": 2
}
