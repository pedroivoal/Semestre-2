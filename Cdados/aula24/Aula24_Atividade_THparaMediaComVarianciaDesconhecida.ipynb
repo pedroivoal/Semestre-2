{
 "cells": [
  {
   "cell_type": "markdown",
   "metadata": {},
   "source": [
    "___\n",
    "# Atividade: Teste de hipóteses para média populacional \n",
    "___\n",
    "\n",
    "## Aula 24"
   ]
  },
  {
   "cell_type": "markdown",
   "metadata": {},
   "source": [
    "\n",
    "<div id=\"indice\"></div>\n",
    "\n",
    "## Índice\n",
    "\n",
    "- [Teste de hipóteses para média populacional com variância populacional desconhecida](#th-var-desconhecida)\n",
    "    - [Passos para construção de um teste de hipóteses](#passos)\n",
    "    - [Decisão do teste](#decisao)\n",
    "        - [Caso Unilateral a Esquerda](#unilateral-esquerda)\n",
    "        - [Caso Unilateral a Direita](#unilateral-direita)\n",
    "        - [Caso Bilateral](#bilateral)\n",
    "    - [Exemplos](#exemplos)\n",
    "        - [Exemplo 1: Pontuação em um exame de inglês](#exemplo1)\n",
    "        - [Exemplo 2: Conteúdo de latas de refrigerante](#exemplo2)\n",
    "        \n",
    "<p>\n",
    "\n",
    "- [Exercício: Precipitação Pluviométrica](#base)\n",
    "    - [item (a)](#a)\n",
    "    - [item (b)](#b)\n",
    "    - [item (c)](#c)\n",
    "    - [item (d)](#d)\n",
    "\n",
    "<p>\n",
    "    \n",
    "- [Estimando o tamanho da amostra](#estimando-n)\n",
    "    - [Exercício](#calc_n)\n",
    "___"
   ]
  },
  {
   "cell_type": "code",
   "execution_count": 55,
   "metadata": {},
   "outputs": [],
   "source": [
    "import scipy.stats as stats\n",
    "from scipy.stats import t, norm, probplot\n",
    "import numpy as np\n",
    "import pandas as pd\n",
    "import matplotlib.pyplot as plt\n",
    "from math import sqrt, ceil\n",
    "from ipywidgets import interact, interactive, fixed, interact_manual\n",
    "import ipywidgets as widgets\n",
    "%matplotlib inline"
   ]
  },
  {
   "cell_type": "markdown",
   "metadata": {},
   "source": [
    "___\n",
    "<div id=\"th-var-desconhecida\"></div>\n",
    "\n",
    "# Teste de hipóteses para média populacional com variância populacional desconhecida\n",
    "\n",
    "Quando não conhecemos a variância populacional não é possível realizar o teste de hipóteses utilizando o TLC. Assim, precisamos de uma nova estatística de teste. **Importante**: para esta estatística vamos considerar apenas variáveis de interesse com distribuição **normal**.\n",
    "\n",
    "Supondo que uma amostra aleatória simples foi coletada da população, podemos utilizar o estimador $S^2$ (variância amostra - calculada a partir de uma amostra) para $\\sigma^2$ (variância populacional - desconhecida), obtemos, sob $H_0$, que:\n",
    "\n",
    "$$t = \\frac{\\overline{X}-\\mu_0}{S/\\sqrt{n}}\\sim t_{(n-1)}$$\n",
    "\n",
    "sendo $(n-1)$ os graus de liberdade da distribuição t-Student do teste."
   ]
  },
  {
   "cell_type": "markdown",
   "metadata": {},
   "source": [
    "___\n",
    "<div id=\"passos\"></div>\n",
    "\n",
    "## Passos para construção de um teste de hipóteses\n",
    "\n",
    "1. Fixe qual a hipótese nula, $H_0$, a ser testada e qual a hipótese alternativa ($H_A$).\n",
    "2. Use a teoria estatística e as informações disponíveis para decidir qual **estatística de teste** será usada sob $H_0$. Não se esqueça de levantar as propriedades dessa estatística.\n",
    "3. Utilize a estatística para rejeitar, ou não, $H_0$. Para isso temos duas opções:\n",
    "    * **Via Região Crítica:**\n",
    "        1. **Fixe a probabilidade $\\alpha$** de cometer erro de rejeitar $H_0$, sob $H_0$ verdadeiro, e use este valor para **construir a região crítica RC**. Lembre que esta região é construída para a estatística definida no segundo passo, usando o valor hipotetizado em $H_0$.\n",
    "        2. Use as informações fornecidas pela amostra para encontrar o **valor observado da estatística de teste**. \n",
    "        3. Se o **valor observado da estatística de teste pertencer à região crítica, rejeite $H_0$**; caso contrário, não rejeite.\n",
    "    * **Via valor-p:**\n",
    "        1. Use as informações fornecidas pela amostra para encontrar o **valor observado da estatística de teste**. \n",
    "        2. Use o valor observado da *estatística de teste* para **encontrar o valor-p**, ou seja, a probabilidade de encontrar valores tão ou mais desfavoráveis à $H_0$ quanto a *estatística de teste* observada pela amostra. \n",
    "        3. Se o **valor-p for menor do que algum $\\alpha$ fixado, rejeite $H_0$**; caso contrário, não rejeite."
   ]
  },
  {
   "cell_type": "markdown",
   "metadata": {},
   "source": [
    "[Voltar ao índice](#indice)"
   ]
  },
  {
   "cell_type": "markdown",
   "metadata": {},
   "source": [
    "___\n",
    "<div id=\"decisao\"></div>\n",
    "\n",
    "## Decisão do teste\n",
    "\n",
    "Vamos considerar a estatística do teste observada (sob $H_0$): \n",
    "\n",
    "$$t_{obs} = \\frac{\\overline{x}-\\mu_0}{s/\\sqrt{n}}$$"
   ]
  },
  {
   "cell_type": "markdown",
   "metadata": {},
   "source": [
    "<div id=\"unilateral-esquerda\"></div>\n",
    "\n",
    "### Caso Unilateral a Esquerda\n",
    "\n",
    "$\\quad$ No caso em que a hipótese alternativa está exclusivamente à esquerda da média, ou seja,\n",
    "\n",
    "$$H_0: \\mu = \\mu_0$$\n",
    "$$H_A: \\mu < \\mu_0$$\n",
    "\n",
    " * **Via Região Crítica**: Obtemos o valor crítico como: $t_c = \\text{stats.t.ppf}(\\alpha , \\text{df}=n-1)$, pois $\\alpha = P(erro~I)$ estará na cauda à esquerda. Assim, rejeitamos $H_0$, ao nível de significância $\\alpha$, se $t_{obs} < t_c$.\n",
    "\n",
    " * **Via valor-p**: É razoável rejeitar $H_0$ se a média amostral observada $(\\overline{x})$ for muito menor que $\\mu_0$, ou seja, se $t_{obs}$ for \"muito\" negativo. Define-se o valor-p em um teste unilateral a esquerda por: $valor\\_p = P(t_{(n-1)} < t_{obs} | \\mu=\\mu_0) = \\text{stats.t.cdf}(t_{obs}, \\text{df}=n-1)$."
   ]
  },
  {
   "cell_type": "markdown",
   "metadata": {},
   "source": [
    "<div id=\"unilateral-direita\"></div>\n",
    "\n",
    "### Caso Unilateral a Direita\n",
    "\n",
    "$\\quad$ No caso em que a hipótese alternativa está exclusivamente à direita da média, ou seja,\n",
    "\n",
    "$$H_0: \\mu = \\mu_0$$\n",
    "$$H_A: \\mu > \\mu_0$$\n",
    "\n",
    " * **Via Região Crítica**: Obtemos o valor crítico como: $t_c = \\text{stats.t.ppf}(1-\\alpha, \\text{df}=n-1)$, pois $\\alpha = P(erro~I)$ estará na cauda à direita. Assim, rejeitamos $H_0$, ao nível de significância $\\alpha$, se $t_{obs} > t_c$.\n",
    "\n",
    " * **Via valor-p**: É razoável rejeitar $H_0$ se a média amostral observada $(\\overline{x})$ for muito maior que $\\mu_0$, ou seja, se $t_{obs}$ for \"muito\" positivo. Define-se o valor-p em um teste unilateral a esquerda por: $valor\\_p = P(t_{(n-1)} > t_{obs} | \\mu=\\mu_0) = 1 - \\text{stats.t.cdf}(t_{obs}, \\text{df}=n-1)$."
   ]
  },
  {
   "cell_type": "markdown",
   "metadata": {},
   "source": [
    "<div id=\"bilateral\"></div>\n",
    "\n",
    "### Caso Bilateral\n",
    "\n",
    "$\\quad$ No caso em que a hipótese alternativa é diferente da média, ou seja,\n",
    "\n",
    "$$H_0: \\mu = \\mu_0$$\n",
    "$$H_A: \\mu \\neq \\mu_0$$\n",
    "\n",
    " * **Via Região Crítica**: Obtemos o valor crítico como: $t_c = \\text{stats.t.ppf}(1-\\alpha/2, df=n-1)$, pois temos $\\alpha/2$ em cada cauda. Assim, rejeitamos $H_0$, ao nível de significância $\\alpha$, se $t_{obs} < -t_c$ ou $t_{obs} > t_c$.\n",
    "\n",
    " * **Via valor-p**: É razoável rejeitar $H_0$ se a média amostral observada $(\\overline{x})$ for muito menor ou muito maior que $\\mu_0$, ou seja, se $t_{obs}$ for \"muito\" negativo ou \"muito\" positivo. Define-se o valor-p em um teste bilateral por: $valor\\_p = 2p'$, onde\n",
    "\n",
    "<pp>\n",
    "    \n",
    "**Atenção:**\n",
    " 1. Se $\\overline{x} < \\mu_0$: $p' = P(t_{(n-1)} < t_{obs} | \\mu=\\mu_0) = \\text{stats.t.cdf}(t_{obs}, \\text{df}=n-1)$.\n",
    " 2. Se $\\overline{x} > \\mu_0$: $p' = P(t_{(n-1)} > t_{obs} | \\mu=\\mu_0) = 1 - \\text{stats.t.cdf}(t_{obs}, \\text{df}=n-1)$."
   ]
  },
  {
   "cell_type": "markdown",
   "metadata": {},
   "source": [
    "### Teoria Geral:\n",
    "  * erro tipo I: concluir por rejeitar $H_0$ quando $H_0$ é verdadeira\n",
    "  * erro tipo II: concluir por não rejeitar $H_0$ quando $H_0$ é falsa (ou dizer, rejeitar $H_A$ quando $H_A$ é verdadeira)"
   ]
  },
  {
   "cell_type": "markdown",
   "metadata": {},
   "source": [
    "[Voltar ao índice](#indice)"
   ]
  },
  {
   "cell_type": "markdown",
   "metadata": {},
   "source": [
    "___\n",
    "<div id=\"exemplos\"></div>\n",
    "\n",
    "## Exemplos\n",
    "\n",
    "Vamos apresentar dois exemplos de teste de hipótese para média populacional com variância desconhecida."
   ]
  },
  {
   "cell_type": "markdown",
   "metadata": {},
   "source": [
    "___\n",
    "\n",
    "<div id=\"exemplo1\"></div>\n",
    "\n",
    "# Exemplo 1: Pontuação em um exame de inglês\n",
    "\n",
    "O número médio de pontos em um exame de inglês tem sido historicamente igual a 80. Foram sorteados 10 estudantes que fizeram recentemente esse exame e observadas as notas: 65, 70, 76, 86, 59, 81, 75, 72, 81, 83.\n",
    "\n",
    "Especialistas desconfiam que o rendimento médio dos alunos diminuiu e desejam testar essa afirmação por meio de um teste de hipóteses, com nível de significância de 5%. Fazendo as suposições necessárias, qual seria a conclusão do teste?"
   ]
  },
  {
   "cell_type": "markdown",
   "metadata": {},
   "source": [
    "## Resposta:"
   ]
  },
  {
   "cell_type": "markdown",
   "metadata": {},
   "source": [
    "### Definição da variável de interesse\n",
    "\n",
    " * $X$: número de pontos que um estudante tira em um exame de inglês.\n",
    "\n",
    " * Aqui, $E(X)=\\mu \\mbox{ e } Var(X)=\\sigma^2$, \n",
    " sendo ambos desconhecidos pelo contexto do problema!\n",
    "\n",
    "### Hipóteses em termos do problema e em termos estatísticos\n",
    "\n",
    " * $H_0:$ Desconfiança não procede $\\Rightarrow H_0: \\mu=80$\n",
    "\n",
    " * $H_1:$ Desconfiança procede que rendimento médio caiu $\\Rightarrow H_1: \\mu<80$\n"
   ]
  },
  {
   "cell_type": "markdown",
   "metadata": {},
   "source": [
    "### Inicializando com a amostra e suas estimativas (com uso do `numpy`):"
   ]
  },
  {
   "cell_type": "code",
   "execution_count": 56,
   "metadata": {
    "scrolled": true
   },
   "outputs": [
    {
     "name": "stdout",
     "output_type": "stream",
     "text": [
      "Tamanho da amostral: n=10 \n",
      "Média amostral observada (estimativa para mu): xbarra=74.80000 \n",
      "Desvio padrão amostral (estimativa de sigma): s=8.48266\n"
     ]
    }
   ],
   "source": [
    "# Conjunto de Dados\n",
    "amostra = [65,70,76,86,59,81,75,72,81,83]\n",
    "\n",
    "n = len(amostra)                                                                                                                                                                                                                                                                                                                                                                                                                                                                                                                                                                                                                             \n",
    "xbarra = np.mean(amostra)\n",
    "s = np.std(amostra, ddof=1)\n",
    "\n",
    "print(f'Tamanho da amostral: n={n:.0f} \\n'\n",
    "      f'Média amostral observada (estimativa para mu): xbarra={xbarra:.5f} \\n'\n",
    "      f'Desvio padrão amostral (estimativa de sigma): s={s:.5f}')"
   ]
  },
  {
   "cell_type": "markdown",
   "metadata": {},
   "source": [
    "### Inicializando com a amostra e suas estimativas (com uso do `pandas`):"
   ]
  },
  {
   "cell_type": "code",
   "execution_count": 57,
   "metadata": {},
   "outputs": [
    {
     "name": "stdout",
     "output_type": "stream",
     "text": [
      "Tamanho da amostral: n=10 \n",
      "Média amostral observada (estimativa para mu): xbarra=74.80000 \n",
      "Desvio padrão amostral (estimativa de sigma): s=8.48266\n"
     ]
    }
   ],
   "source": [
    "# Conjunto de Dados\n",
    "amostra = pd.Series([65,70,76,86,59,81,75,72,81,83])\n",
    "\n",
    "n = len(amostra)                                                                                                                                                                                                                                                                                                                                                                                                                                                                                                                                                                                                                             \n",
    "xbarra = amostra.mean()\n",
    "s = amostra.std()\n",
    "\n",
    "print(f'Tamanho da amostral: n={n:.0f} \\n'\n",
    "      f'Média amostral observada (estimativa para mu): xbarra={xbarra:.5f} \\n'\n",
    "      f'Desvio padrão amostral (estimativa de sigma): s={s:.5f}')"
   ]
  },
  {
   "cell_type": "code",
   "execution_count": 58,
   "metadata": {},
   "outputs": [],
   "source": [
    "# Valores de acordo com enunciado\n",
    "𝛼 = 0.05 #nível de significância fixado para o teste\n",
    "μ0 = 80 #sob a hipótese nula"
   ]
  },
  {
   "cell_type": "markdown",
   "metadata": {},
   "source": [
    "### Decisão via Região Crítica: UNICAUDAL a esquerda"
   ]
  },
  {
   "cell_type": "code",
   "execution_count": 59,
   "metadata": {},
   "outputs": [
    {
     "name": "stdout",
     "output_type": "stream",
     "text": [
      "t_obs = -1.93852 \n",
      "t_c = -1.83311 \n",
      "\n",
      "Regra geral: Rejeitamos a hipótese nula H0 se t_obs pertencer a Região Crítica (RC)!! \n",
      "RC=t_obs < -1.83311 \n",
      "\n",
      "Conclusão: Como t_obs= -1.93852 pertence a RC, \n",
      "    então há evidências de que desconfiança procede, com 5% de significância!!\n"
     ]
    }
   ],
   "source": [
    "# Decisão Via Região Crítica: UNICAUDAL a esquerda\n",
    "\n",
    "t_obs = (xbarra-μ0)/(s/np.sqrt(n))\n",
    "\n",
    "t_c = stats.t.ppf(𝛼, df=n-1) #valor crítico na cauda a esquerda\n",
    "\n",
    "print(f't_obs = {t_obs:.5f} \\n'\n",
    "      f't_c = {t_c:.5f} \\n\\n'\n",
    "      f'Regra geral: Rejeitamos a hipótese nula H0 se t_obs pertencer a Região Crítica (RC)!! \\n'\n",
    "      f'RC=t_obs < {t_c:.5f} \\n\\n'\n",
    "      f'Conclusão: Como t_obs= {t_obs:.5f} pertence a RC, \\n'\n",
    "      f'    então há evidências de que desconfiança procede, com {𝛼*100:.0f}% de significância!!')\n"
   ]
  },
  {
   "cell_type": "markdown",
   "metadata": {},
   "source": [
    "### Decisão via Valor-p: UNICAUDAL a esquerda"
   ]
  },
  {
   "cell_type": "code",
   "execution_count": 60,
   "metadata": {
    "scrolled": true
   },
   "outputs": [
    {
     "name": "stdout",
     "output_type": "stream",
     "text": [
      "𝛼 = 0.05000 \n",
      "valor-p = 0.04225 \n",
      "\n",
      "Regra geral: Rejeitamos a hipótese nula H0 se valor-p < 𝛼!! \n",
      "\n",
      "Conclusão: Conclusão: Como nos resultados acima vemos que valor-p = 0.04225 < 𝛼, \n",
      "    então há evidências de que desconfiança procede, com 5% de significância!!\n"
     ]
    }
   ],
   "source": [
    "#Decisão Via Valor-p: UNICAUDAL a esquerda\n",
    "t_ob = (xbarra-μ0)/(s/np.sqrt(n))\n",
    "\n",
    "valor_p = stats.t.cdf(t_obs, df=n-1) \n",
    "\n",
    "print(f'𝛼 = {𝛼:.5f} \\n'\n",
    "      f'valor-p = {valor_p:.5f} \\n\\n'\n",
    "      f'Regra geral: Rejeitamos a hipótese nula H0 se valor-p < 𝛼!! \\n\\n'\n",
    "      f'Conclusão: Conclusão: Como nos resultados acima vemos que valor-p = {valor_p:.5f} < 𝛼, \\n' \n",
    "      f'    então há evidências de que desconfiança procede, com {𝛼*100:.0f}% de significância!!')\n"
   ]
  },
  {
   "cell_type": "markdown",
   "metadata": {},
   "source": [
    "[Voltar ao índice](#indice)"
   ]
  },
  {
   "cell_type": "markdown",
   "metadata": {},
   "source": [
    "___\n",
    "\n",
    "<div id=\"exemplo2\"></div>\n",
    "\n",
    "# Exemplo 2: Conteúdo de latas de regrigerante\n",
    "\n",
    "As latas de certa marca de refrigerante apresentam em seu rótulo o volume de 350 ml. O fabricante deseja testar se o conteúdo médio das latas é igual a 350 ml, como anunciado no rótulo. Isto equivale a verificar se a máquina está regulada para colocar 350 ml, ou não, nas latas. \n",
    "\n",
    "Para averiguar a afirmação do fabricante, foi coletada uma amostra de 36 latas do refrigerante em pontos de comercialização e mediu-se o conteúdo destas latas. Os resultados obtidos na amostra foram: $\\overline{x} = 347~\\text{ml}$ e $s = 10,5~\\text{ml}$\n",
    "\n",
    "Será que as latas contêm 350 ml de líquido com 95% de confiança?"
   ]
  },
  {
   "cell_type": "markdown",
   "metadata": {},
   "source": [
    "## Resposta:"
   ]
  },
  {
   "cell_type": "markdown",
   "metadata": {},
   "source": [
    "### Definição da variável de interesse\n",
    "\n",
    " * $X$: quantidade de refrigerante dentro de uma lata.\n",
    "\n",
    " * Aqui, $E(X)=\\mu \\mbox{ e } Var(X)=\\sigma^2$, \n",
    " sendo ambos desconhecidos pelo contexto do problema!\n",
    "\n",
    "### Hipóteses em termos do problema e em termos estatísticos\n",
    "\n",
    " * $H_0:$ Máquina está regulada $\\Rightarrow H_0: \\mu=350$\n",
    "\n",
    " * $H_1:$ Máquina não está regulada $\\Rightarrow H_1: \\mu\\neq350$\n"
   ]
  },
  {
   "cell_type": "markdown",
   "metadata": {},
   "source": [
    "### Inicializando com as estimativas a partir do enunciado:"
   ]
  },
  {
   "cell_type": "code",
   "execution_count": 61,
   "metadata": {
    "scrolled": true
   },
   "outputs": [
    {
     "name": "stdout",
     "output_type": "stream",
     "text": [
      "Tamanho da amostral: n=36 \n",
      "Média amostral observada (estimativa para mu): xbarra=347.00000 \n",
      "Desvio padrão amostral (estimativa de sigma): s=10.50000\n"
     ]
    }
   ],
   "source": [
    "# Conjunto de Dados\n",
    "n = 36                                                                                                                                                                                                                                                                                                                                                                                                                                                                                                                                                                                                                             \n",
    "xbarra = 347\n",
    "s = 10.5\n",
    "\n",
    "print(f'Tamanho da amostral: n={n:.0f} \\n'\n",
    "      f'Média amostral observada (estimativa para mu): xbarra={xbarra:.5f} \\n'\n",
    "      f'Desvio padrão amostral (estimativa de sigma): s={s:.5f}')"
   ]
  },
  {
   "cell_type": "code",
   "execution_count": 62,
   "metadata": {},
   "outputs": [],
   "source": [
    "# Valores de acordo com enunciado\n",
    "𝛼 = 0.05 #nível de significância fixado para o teste\n",
    "μ0 = 350 #sob a hipótese nula"
   ]
  },
  {
   "cell_type": "markdown",
   "metadata": {},
   "source": [
    "### Decisão via Região Crítica: BICAUDAL"
   ]
  },
  {
   "cell_type": "code",
   "execution_count": 63,
   "metadata": {},
   "outputs": [
    {
     "name": "stdout",
     "output_type": "stream",
     "text": [
      "t_obs = -1.71429 \n",
      "t_c = 2.03011 e -t_c = 2.03011 \n",
      "\n",
      "Regra geral: Rejeitamos a hipótese nula H0 se t_obs pertencer a Região Crítica (RC)!! \n",
      "RC=t_obs < -2.03011 ou t_obs > 2.03011 \n",
      "\n",
      "Conclusão: Como t_obs= -1.71429 NÃO pertence à RC, \n",
      "    então não há evidências de que máquina esteja desregulada, com 5% de significância!!\n"
     ]
    }
   ],
   "source": [
    "#Decisão Via Região Crítica: BICAUDAL\n",
    "\n",
    "t_obs = (xbarra-μ0)/(s/np.sqrt(n))\n",
    "\n",
    "t_c = stats.t.ppf(1-𝛼/2, df=n-1) #valor crítico na cauda a direita (bicaudal)\n",
    "\n",
    "print(f't_obs = {t_obs:.5f} \\n'\n",
    "      f't_c = {t_c:.5f} e -t_c = {t_c:.5f} \\n\\n'\n",
    "      f'Regra geral: Rejeitamos a hipótese nula H0 se t_obs pertencer a Região Crítica (RC)!! \\n'\n",
    "      f'RC=t_obs < {-t_c:.5f} ou t_obs > {t_c:.5f} \\n\\n'\n",
    "      f'Conclusão: Como t_obs= {t_obs:.5f} NÃO pertence à RC, \\n'\n",
    "      f'    então não há evidências de que máquina esteja desregulada, com {𝛼*100:.0f}% de significância!!')\n",
    "\n"
   ]
  },
  {
   "cell_type": "markdown",
   "metadata": {},
   "source": [
    "### Decisão via Valor-p: BICAUDAL"
   ]
  },
  {
   "cell_type": "code",
   "execution_count": 64,
   "metadata": {
    "scrolled": true
   },
   "outputs": [
    {
     "name": "stdout",
     "output_type": "stream",
     "text": [
      "𝛼 = 0.05000 \n",
      "valor-p = 0.09532 \n",
      "\n",
      "Regra geral: Rejeitamos a hipótese nula H0 se valor-p < 𝛼!! \n",
      "\n",
      "Conclusão: Conclusão: Como nos resultados acima vemos que valor-p = 0.09532 > 𝛼, \n",
      "    então NÃO há evidências de que máquina esteja desregulada, com 5% de significância!!\n"
     ]
    }
   ],
   "source": [
    "#Decisão Via Valor-p: BICAUDAL\n",
    "\n",
    "t_ob = (xbarra-μ0)/(s/np.sqrt(n))\n",
    "\n",
    "valor_p = 2*stats.t.cdf(t_obs, df=n-1)  #já que média amostral xbarra é menor do que μ0\n",
    "\n",
    "print(f'𝛼 = {𝛼:.5f} \\n'\n",
    "      f'valor-p = {valor_p:.5f} \\n\\n'\n",
    "      f'Regra geral: Rejeitamos a hipótese nula H0 se valor-p < 𝛼!! \\n\\n'\n",
    "      f'Conclusão: Conclusão: Como nos resultados acima vemos que valor-p = {valor_p:.5f} > 𝛼, \\n' \n",
    "      f'    então NÃO há evidências de que máquina esteja desregulada, com {𝛼*100:.0f}% de significância!!')\n",
    "\n"
   ]
  },
  {
   "cell_type": "markdown",
   "metadata": {},
   "source": [
    "[Voltar ao índice](#indice)"
   ]
  },
  {
   "cell_type": "markdown",
   "metadata": {},
   "source": [
    "___\n",
    "\n",
    "<div id=\"base\"></div>\n",
    "\n",
    "# Exercício: Precipitação Pluviométrica\n",
    "\n",
    "Montgomery – Adaptado do Exercício 9-34\n",
    "\n",
    "Semear nuvens tem sido estudado durante muitas décadas como um procedimento de mudança do tempo (veja referência da pesquisa no livro). Algumas nuvens foram selecionadas aleatoriamente e semeadas com nitrato de prata. A precipitação pluviométrica, em acre-pé, foi medida e registrada no arquivo `precipitacao.csv`.\n",
    "\n",
    "Suspeita-se que a precipitação média das nuvens semeadas excede 25 acres-pés."
   ]
  },
  {
   "cell_type": "code",
   "execution_count": 65,
   "metadata": {},
   "outputs": [
    {
     "data": {
      "text/html": [
       "<div>\n",
       "<style scoped>\n",
       "    .dataframe tbody tr th:only-of-type {\n",
       "        vertical-align: middle;\n",
       "    }\n",
       "\n",
       "    .dataframe tbody tr th {\n",
       "        vertical-align: top;\n",
       "    }\n",
       "\n",
       "    .dataframe thead th {\n",
       "        text-align: right;\n",
       "    }\n",
       "</style>\n",
       "<table border=\"1\" class=\"dataframe\">\n",
       "  <thead>\n",
       "    <tr style=\"text-align: right;\">\n",
       "      <th></th>\n",
       "      <th>precipitacao</th>\n",
       "    </tr>\n",
       "  </thead>\n",
       "  <tbody>\n",
       "    <tr>\n",
       "      <th>0</th>\n",
       "      <td>18.0</td>\n",
       "    </tr>\n",
       "    <tr>\n",
       "      <th>1</th>\n",
       "      <td>30.7</td>\n",
       "    </tr>\n",
       "    <tr>\n",
       "      <th>2</th>\n",
       "      <td>19.8</td>\n",
       "    </tr>\n",
       "    <tr>\n",
       "      <th>3</th>\n",
       "      <td>27.1</td>\n",
       "    </tr>\n",
       "    <tr>\n",
       "      <th>4</th>\n",
       "      <td>22.3</td>\n",
       "    </tr>\n",
       "  </tbody>\n",
       "</table>\n",
       "</div>"
      ],
      "text/plain": [
       "   precipitacao\n",
       "0          18.0\n",
       "1          30.7\n",
       "2          19.8\n",
       "3          27.1\n",
       "4          22.3"
      ]
     },
     "execution_count": 65,
     "metadata": {},
     "output_type": "execute_result"
    }
   ],
   "source": [
    "# Carregando os dados\n",
    "dados = pd.read_csv('precipitacao.csv', header=None)\n",
    "dados.columns = ['precipitacao']\n",
    "precipitacao = dados['precipitacao']\n",
    "\n",
    "dados.head()"
   ]
  },
  {
   "cell_type": "markdown",
   "metadata": {},
   "source": [
    "___\n",
    "<div id=\"a\"></div>\n",
    "\n",
    "### (a)\n",
    "\n",
    "Formule as hipóteses em termos do problema e em termos do parâmetro."
   ]
  },
  {
   "cell_type": "code",
   "execution_count": 66,
   "metadata": {},
   "outputs": [],
   "source": [
    "# H0: media de precipitação <= 25 acres-pés\n",
    "# H1: media de precipitação > 25 acres-pés\n"
   ]
  },
  {
   "cell_type": "markdown",
   "metadata": {},
   "source": [
    "<div id=\"b\"></div>\n",
    "\n",
    "### (b)\n",
    "\n",
    "Interprete os erros do tipo I e II relacionados ao teste acima, em termos do problema em questão. "
   ]
  },
  {
   "cell_type": "code",
   "execution_count": 67,
   "metadata": {},
   "outputs": [],
   "source": [
    "# H0 pode ser ver"
   ]
  },
  {
   "cell_type": "markdown",
   "metadata": {},
   "source": [
    "<div id=\"c\"></div>\n",
    "\n",
    "### (c)\n",
    "\n",
    "Verifique se a afirmação procede, considerando nível de significância de 1%. Tome a decisão via região crítica e valor-p.\n",
    "\n",
    "*Valores de referência para a resposta: t_obs=0.9673747735077124, RC={t_obs > 2.539483190622288} e Valor-p=0.1727550662376527*"
   ]
  },
  {
   "cell_type": "code",
   "execution_count": 88,
   "metadata": {},
   "outputs": [
    {
     "data": {
      "text/plain": [
       "0.9673747735077124"
      ]
     },
     "execution_count": 88,
     "metadata": {},
     "output_type": "execute_result"
    }
   ],
   "source": [
    "s = float(dados.std())\n",
    "med = dados.mean()\n",
    "n = len(dados)\n",
    "t_obs"
   ]
  },
  {
   "cell_type": "code",
   "execution_count": 96,
   "metadata": {},
   "outputs": [],
   "source": [
    "t_obs = float((med-25)/(s/(n)**(1/2)))\n",
    "\n",
    "t_c = stats.t.ppf(0.99, df=n-1)\n",
    "𝛼 = 0.01\n",
    "\n",
    "# print(f't_obs = {t_obs:.5f} \\n'\n",
    "#       f't_c = {t_c:.5f} e -t_c = {-t_c:.5f} \\n\\n'\n",
    "#       f'Regra geral: Rejeitamos a hipótese nula H0 se t_obs pertencer a Região Crítica (RC)!! \\n'\n",
    "#       f'RC=t_obs < {-t_c:.5f} ou t_obs > {t_c:.5f} \\n\\n'\n",
    "#       f'Conclusão: Como t_obs= {t_obs:.5f} NÃO pertence à RC, \\n'\n",
    "#       f'    então não há evidências de que máquina esteja desregulada, com {𝛼*100:.0f}% de significância!!')"
   ]
  },
  {
   "cell_type": "markdown",
   "metadata": {},
   "source": [
    "<div id=\"d\"></div>\n",
    "\n",
    "### (d)\n",
    "\n",
    "Verifique se a precipitação é normalmente distribuída. Lembre-se que só podemos realizar o teste do [item (c)](#c) se a precipitação seguir uma distribuição normal. **Dica**: use `probplot`."
   ]
  },
  {
   "cell_type": "code",
   "execution_count": 100,
   "metadata": {},
   "outputs": [
    {
     "data": {
      "image/png": "[encoded data removed]",
      "text/plain": [
       "<Figure size 432x288 with 1 Axes>"
      ]
     },
     "metadata": {
      "needs_background": "light"
     },
     "output_type": "display_data"
    }
   ],
   "source": [
    "ldados = list(dados)\n",
    "stats.probplot(dados.precipitacao, dist='norm', plot=plt);"
   ]
  },
  {
   "cell_type": "markdown",
   "metadata": {},
   "source": [
    "[Voltar ao índice](#indice)"
   ]
  },
  {
   "cell_type": "markdown",
   "metadata": {},
   "source": [
    "___\n",
    "<div id=\"estimando-n\"></div>\n",
    "\n",
    "# Estimando o tamanho da amostra\n",
    "\n",
    "Vamos aprender a estimar um tamanho da amostra com limite para o erro máximo da amostra com probabilidade $\\gamma$. Lembrando que $\\gamma$ é o complemento do nível de significância, ou seja, $\\gamma = 1 - \\alpha$.\n",
    "\n",
    "Vamos lembrar da expressão que calcula o tamanho da amostra:\n",
    "\n",
    "$$n = \\left(\\frac{z\\sigma}{\\varepsilon} \\right)^2$$\n"
   ]
  },
  {
   "cell_type": "markdown",
   "metadata": {},
   "source": [
    "___\n",
    "<div id=\"calc_n\"></div>\n",
    "\n",
    "## EXERCÍCIO: Cálculo de *n*:\n",
    "\n",
    "Uma fábrica de mantas de chumbo para proteção em radiografias precisa garantir que suas mantas têm uma certa espessura. Sabe-se que o desvio padrão populacional é de $0.6mm$.\n",
    "\n",
    "Qual o tamanho da amostra é preciso ter para garantir que a média amostral $\\overline{x}$ esteja a uma distância máxima de $0.2mm$ da média $\\mu$? Considere 1% de significância.\n",
    "\n",
    "*Valores de referência para a resposta: z = 2.5758293035489004 , n = 60*"
   ]
  },
  {
   "cell_type": "code",
   "execution_count": 108,
   "metadata": {},
   "outputs": [
    {
     "data": {
      "text/plain": [
       "2.5758293035489004"
      ]
     },
     "execution_count": 108,
     "metadata": {},
     "output_type": "execute_result"
    }
   ],
   "source": [
    "sig = 0.6\n",
    "z = stats.norm.ppf(0.995)\n",
    "z"
   ]
  },
  {
   "cell_type": "code",
   "execution_count": 110,
   "metadata": {},
   "outputs": [
    {
     "data": {
      "text/plain": [
       "60"
      ]
     },
     "execution_count": 110,
     "metadata": {},
     "output_type": "execute_result"
    }
   ],
   "source": [
    "n = (z*sig/0.2)**2\n",
    "int(n+1)"
   ]
  },
  {
   "cell_type": "markdown",
   "metadata": {},
   "source": [
    "[Voltar ao índice](#indice)"
   ]
  }
 ],
 "metadata": {
  "hide_input": false,
  "interpreter": {
   "hash": "aea149784bd30735ce6bf75b9a5314843328adf2083b944f20623ef50c2ca00d"
  },
  "kernelspec": {
   "display_name": "Python 3.8.8 ('base')",
   "language": "python",
   "name": "python3"
  },
  "language_info": {
   "codemirror_mode": {
    "name": "ipython",
    "version": 3
   },
   "file_extension": ".py",
   "mimetype": "text/x-python",
   "name": "python",
   "nbconvert_exporter": "python",
   "pygments_lexer": "ipython3",
   "version": "3.8.8"
  }
 },
 "nbformat": 4,
 "nbformat_minor": 2
}
