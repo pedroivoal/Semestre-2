{
 "cells": [
  {
   "cell_type": "markdown",
   "metadata": {},
   "source": [
    "___\n",
    "# Atividade: Experimento dos Resistores\n",
    "___\n",
    "## Aula 21"
   ]
  },
  {
   "cell_type": "code",
   "execution_count": 1,
   "metadata": {},
   "outputs": [],
   "source": [
    "%matplotlib inline\n",
    "import matplotlib.pyplot as plt\n",
    "import pandas as pd\n",
    "import numpy as np\n",
    "from scipy import stats\n",
    "\n",
    "from math import sqrt"
   ]
  },
  {
   "cell_type": "markdown",
   "metadata": {},
   "source": [
    "___\n",
    "<div id=\"resistores\"></div>\n",
    "\n",
    "# Comprar ou não comprar um lote de resistores?\n",
    "\n",
    "Sua empresa está desenvolvendo um produto e o seu departamento ficou responsável por indicar um fabricante de resistores para ser utilizado nesse projeto.\n",
    "\n",
    "Serão comprados muitos resistores e ficaria inviável medi-los individualmente para garantir um mínimo de qualidade ao seu produto.\n",
    "\n",
    "Para auxiliar na sua a tomada de decisão sobre a compra ou não de um lote de resistores, o fabricante enviou uma pequena amostra aleatória de $n$ unidades. Assim, você deve utilizar essa amostra para tomar uma decisão sobre o lote todo (contexto populacional).\n",
    "\n",
    "Considere aqui que o desvio padrão populacional seja conhecido e valha $\\sigma=25 k\\Omega$. \n",
    "\n",
    "Ainda, assuma que não está sendo questionada a qualidade do fabricante decorrente à variabilidade das resistências.\n",
    "\n",
    "\n",
    "**Responda:**"
   ]
  },
  {
   "cell_type": "markdown",
   "metadata": {},
   "source": [
    "**a)** Você receberá um envelope com a amostra de resistores. Faça:\n",
    "\n",
    " * mensure a resistência de cada resistor;\n",
    " * guarde esses valores em uma lista; e\n",
    " * calcule a resistência média amostral e o tamanho da amostra.\n",
    " \n",
    "Trabalhe em dupla neste item."
   ]
  },
  {
   "cell_type": "code",
   "execution_count": 2,
   "metadata": {},
   "outputs": [],
   "source": [
    "sig = 25000"
   ]
  },
  {
   "cell_type": "code",
   "execution_count": 3,
   "metadata": {},
   "outputs": [
    {
     "data": {
      "text/plain": [
       "1048000.0"
      ]
     },
     "execution_count": 3,
     "metadata": {},
     "output_type": "execute_result"
    }
   ],
   "source": [
    "amostra = np.array([1.046,1.052,1.047,1.064,1.055,1.035,1.042,1.080,1.084,1.031,1.039,1.030,1.019])*(10**6)\n",
    "mu = amostra.mean()\n",
    "mu"
   ]
  },
  {
   "cell_type": "markdown",
   "metadata": {},
   "source": [
    "**b)** Considerando o que foi feito no item anterior, descreva:\n",
    "  * Variável de interesse $X$ em termos do problema; e\n",
    "  * Parâmetro de interesse (valor populacional) para ter motivado o cálculo da média amostral."
   ]
  },
  {
   "cell_type": "code",
   "execution_count": 4,
   "metadata": {},
   "outputs": [],
   "source": [
    "# X é o universo de resistencia produzidas\n",
    "# Parâmetro de interesse é a média de X"
   ]
  },
  {
   "cell_type": "markdown",
   "metadata": {},
   "source": [
    "**c)** Seja $\\overline{X}$ a média amostral considerando uma amostra de $n$ resistores selecionados aleatoriamente. Qual é a distribuição de probabilidades de $\\overline{X}$ (qual distribuição e quais os seus respectivos parâmetros)? Aqui foi feito uso do TLC? Justifique porquê."
   ]
  },
  {
   "cell_type": "code",
   "execution_count": 5,
   "metadata": {},
   "outputs": [
    {
     "name": "stdout",
     "output_type": "stream",
     "text": [
      "1048000.0\n",
      "0.018368032430955052\n"
     ]
    }
   ],
   "source": [
    "# A distribuição de X(barra) é normal de acordo com o TLC.\n",
    "med = amostra.mean()\n",
    "DP = amostra.var()**(1/2)\n",
    "print(med)\n",
    "print(DP/1e6)"
   ]
  },
  {
   "cell_type": "markdown",
   "metadata": {},
   "source": [
    "**d)** Obtenha a margem de erro considerando um coeficiente de confiança igual a $95\\%$.\n",
    "\n",
    "**Dica:** Aqui será necessário fazer uso da Normal Padrão, porém padronização a média amostral, ou seja,\n",
    "$$Z = \\frac{\\overline{X}-\\mu}{\\sigma/\\sqrt{n}} \\sim N(0; 1)$$"
   ]
  },
  {
   "cell_type": "code",
   "execution_count": 6,
   "metadata": {},
   "outputs": [
    {
     "data": {
      "text/plain": [
       "13589.905085234373"
      ]
     },
     "execution_count": 6,
     "metadata": {},
     "output_type": "execute_result"
    }
   ],
   "source": [
    "z = stats.norm.ppf(0.975)\n",
    "\n",
    "me = z*sig/13**(1/2)\n",
    "me"
   ]
  },
  {
   "cell_type": "markdown",
   "metadata": {},
   "source": [
    "**e)** Qual deveria ser o tamanho da amostra para se ter uma margem de erro de $3 k\\Omega$, com coeficiente de confiança igual a $95\\%$."
   ]
  },
  {
   "cell_type": "code",
   "execution_count": 7,
   "metadata": {},
   "outputs": [
    {
     "data": {
      "text/plain": [
       "266.7679736593142"
      ]
     },
     "execution_count": 7,
     "metadata": {},
     "output_type": "execute_result"
    }
   ],
   "source": [
    "n = (z*sig/3000)**2\n",
    "n"
   ]
  },
  {
   "cell_type": "markdown",
   "metadata": {},
   "source": [
    "**f)** Agora, considerando a estimativa para a média populacional obtida no item (a), você compraria ou não o lote?\n",
    "Faça uma tomada de decisão baseada no cálculo de uma probabilidade. *Dica:* será necessário fazer alguma hipótese sobre o lote do fabricante. "
   ]
  },
  {
   "cell_type": "code",
   "execution_count": 8,
   "metadata": {},
   "outputs": [
    {
     "data": {
      "image/png": "[encoded data removed]",
      "text/plain": [
       "<Figure size 432x288 with 1 Axes>"
      ]
     },
     "metadata": {
      "needs_background": "light"
     },
     "output_type": "display_data"
    }
   ],
   "source": [
    "m = 1000000\n",
    "sig = (25000**2/13)**(1/2)\n",
    "x = np.linspace(935000, 1065000)\n",
    "fx = stats.norm.pdf(x, m, sig)\n",
    "\n",
    "plt.plot(x, fx);\n",
    "plt.plot(mu, 1e-7, 'o')\n",
    "plt.show()\n"
   ]
  },
  {
   "cell_type": "code",
   "execution_count": 9,
   "metadata": {},
   "outputs": [],
   "source": [
    "# Não compraria, pois a média achada era puco povável de ocorrer com uma amostra de n=13"
   ]
  }
 ],
 "metadata": {
  "hide_input": false,
  "kernelspec": {
   "display_name": "Python 3",
   "language": "python",
   "name": "python3"
  },
  "language_info": {
   "codemirror_mode": {
    "name": "ipython",
    "version": 3
   },
   "file_extension": ".py",
   "mimetype": "text/x-python",
   "name": "python",
   "nbconvert_exporter": "python",
   "pygments_lexer": "ipython3",
   "version": "3.8.8"
  }
 },
 "nbformat": 4,
 "nbformat_minor": 2
}
