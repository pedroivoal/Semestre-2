{
 "cells": [
  {
   "cell_type": "markdown",
   "metadata": {},
   "source": [
    "___\n",
    "# Exemplo: Teste de hipóteses\n",
    "\n",
    "___\n",
    "## Aula 22\n"
   ]
  },
  {
   "cell_type": "code",
   "execution_count": null,
   "metadata": {},
   "outputs": [],
   "source": [
    "from scipy import stats\n",
    "from math import sqrt"
   ]
  },
  {
   "cell_type": "markdown",
   "metadata": {},
   "source": [
    "___\n",
    "## Problema - Aulas remotas\n",
    "\n",
    "Nas épocas de aulas presenciais, a distribuição de probabilidades das notas em determinada prova historicamente se comportava como uma normal com média igual a 6 e desvio padrão igual a 0,8. \n",
    "\n",
    "Devido ao novo formato de alunas remotas, alguns especialistas desconfiam que a nota média nessa prova tenha aumentado. Ainda, segundo esses especialistas, não existem razões para acreditar em alterações no valor do desvio padrão, na distribuição de probabilidades da variável de interesse e nem que a média tenha diminuído.\n",
    "\n",
    "Como verificar se os especialistas estão certos a partir de uma amostra de 36 alunos?\n"
   ]
  },
  {
   "cell_type": "markdown",
   "metadata": {},
   "source": [
    "**Faça:**\n",
    "\n",
    "Descreva a variável X, o parâmetro de interesse, as hipóteses e a distribuição de Xbarra sob H0:"
   ]
  },
  {
   "cell_type": "code",
   "execution_count": null,
   "metadata": {},
   "outputs": [],
   "source": [
    "# Escreva suas hipóteses aqui"
   ]
  },
  {
   "cell_type": "code",
   "execution_count": null,
   "metadata": {},
   "outputs": [],
   "source": []
  },
  {
   "cell_type": "code",
   "execution_count": null,
   "metadata": {},
   "outputs": [],
   "source": []
  },
  {
   "cell_type": "markdown",
   "metadata": {},
   "source": [
    "**Continuação...**\n",
    "\n",
    "Supondo 𝐻_0 verdadeira, ou seja, 𝜇=6 e selecionando uma amostra aleatória de 𝑛=36 provas.\n",
    "Encontre 𝑐 tal que 𝛼 seja igual a 5%."
   ]
  },
  {
   "cell_type": "code",
   "execution_count": null,
   "metadata": {},
   "outputs": [],
   "source": [
    "# Escreva seu código aqui"
   ]
  },
  {
   "cell_type": "code",
   "execution_count": null,
   "metadata": {},
   "outputs": [],
   "source": []
  },
  {
   "cell_type": "code",
   "execution_count": null,
   "metadata": {},
   "outputs": [],
   "source": []
  },
  {
   "cell_type": "code",
   "execution_count": null,
   "metadata": {},
   "outputs": [],
   "source": []
  },
  {
   "cell_type": "markdown",
   "metadata": {},
   "source": [
    "**Continuação...**\n",
    "\n",
    "Fato: Uma amostra aleatória de 𝑛=36 provas foi selecionada no momento com as aulas remotas e foi observada uma média amostral igual a 6,5 (**estimativa**). Qual sua conclusão com relação ao problema?\n"
   ]
  },
  {
   "cell_type": "code",
   "execution_count": null,
   "metadata": {},
   "outputs": [],
   "source": [
    "# Escreva seu código aqui"
   ]
  },
  {
   "cell_type": "code",
   "execution_count": null,
   "metadata": {},
   "outputs": [],
   "source": []
  },
  {
   "cell_type": "code",
   "execution_count": null,
   "metadata": {},
   "outputs": [],
   "source": []
  },
  {
   "cell_type": "code",
   "execution_count": null,
   "metadata": {},
   "outputs": [],
   "source": []
  }
 ],
 "metadata": {
  "kernelspec": {
   "display_name": "Python 3",
   "language": "python",
   "name": "python3"
  },
  "language_info": {
   "codemirror_mode": {
    "name": "ipython",
    "version": 3
   },
   "file_extension": ".py",
   "mimetype": "text/x-python",
   "name": "python",
   "nbconvert_exporter": "python",
   "pygments_lexer": "ipython3",
   "version": "3.7.4"
  }
 },
 "nbformat": 4,
 "nbformat_minor": 2
}
