{
 "cells": [
  {
   "cell_type": "markdown",
   "metadata": {},
   "source": [
    "___\n",
    "# Atividade: Exploratória para Manipular um DataFrame\n",
    "___\n",
    "\n",
    "## Aula 01"
   ]
  },
  {
   "cell_type": "markdown",
   "metadata": {},
   "source": [
    "<div id=\"indice\"></div>\n",
    "\n",
    "## Índice\n",
    "\n",
    "1. [Introdução](#introducao)\n",
    "    - [Abrindo um arquivo e visualizando seu conteúdo](#abrindo-arquivo)\n",
    "    - [Visualizando primeiras linhas de uma base de dados](#head)\n",
    "    - [Visualizando últimas linhas de uma base de dados](#tail)\n",
    "    - [Hands on: Remover linhas ou colunas de uma base de dados](#drop)\n"
   ]
  },
  {
   "cell_type": "markdown",
   "metadata": {},
   "source": [
    "<div id=\"introducao\"></div>\n",
    "\n",
    "___\n",
    "\n",
    "## 1. Introdução\n",
    "\n",
    "A biblioteca [**pandas**](https://pandas.pydata.org/docs/user_guide/index.html) é um conjunto de funções para o Python com intuito de trabalhar com Data Science. Essa biblioteca permite, além de abrir diversos tipos de arquivos, trabalhar também com o ferramental descritivo para responder perguntas sobre seus dados."
   ]
  },
  {
   "cell_type": "code",
   "execution_count": 15,
   "metadata": {},
   "outputs": [],
   "source": [
    "# Importando as bibliotecas necessárias para esta atividade\n",
    "import pandas as pd"
   ]
  },
  {
   "cell_type": "markdown",
   "metadata": {},
   "source": [
    "<div id=\"abrindo-arquivo\"></div>\n",
    "\n",
    "___\n",
    "\n",
    "### Abrindo um arquivo e visualizando seu conteúdo:\n",
    "\n",
    "Vamos começar abrindo um arquivo no formato Excel. \n",
    "\n",
    "Mas vamos verificar ANTES se o arquivo `WorldBank.xlsx` está na mesma pasta que salvou este arquivo notebook (pasta de trabalho). O comando a seguir importa a biblioteca [**os**](https://docs.python.org/pt-br/3/library/os.html) e mostra a pasta de trabalho!"
   ]
  },
  {
   "cell_type": "code",
   "execution_count": 16,
   "metadata": {},
   "outputs": [],
   "source": [
    "# Importando biblioteca para Sistema Operacional\n",
    "import os"
   ]
  },
  {
   "cell_type": "code",
   "execution_count": 17,
   "metadata": {
    "scrolled": false
   },
   "outputs": [
    {
     "name": "stdout",
     "output_type": "stream",
     "text": [
      "Esperamos trabalhar no diretório: \n",
      "c:\\Users\\pedro\\OneDrive\\Documentos\\GitHub\\CD22-1\\aula00\n",
      "\n"
     ]
    }
   ],
   "source": [
    "print(f'Esperamos trabalhar no diretório: \\n{os.getcwd()}\\n')"
   ]
  },
  {
   "cell_type": "code",
   "execution_count": 18,
   "metadata": {},
   "outputs": [
    {
     "name": "stdout",
     "output_type": "stream",
     "text": [
      "Parece que o arquivo WorldBank.xlsx está na mesma pasta do notebook, yay!\n"
     ]
    }
   ],
   "source": [
    "filename = 'WorldBank.xlsx'\n",
    "\n",
    "if filename in os.listdir():\n",
    "    print(f'Parece que o arquivo {filename} está na mesma pasta do notebook, yay!')\n",
    "    \n",
    "else:\n",
    "    print(f'Não encontrei o arquivo {filename}')"
   ]
  },
  {
   "cell_type": "markdown",
   "metadata": {},
   "source": [
    "...\n",
    "\n",
    "Os dados contem informações sobre países disponíveis em um dos mais conhecidos databases da Internet: [World Bank](https://data.worldbank.org/).\n",
    "\n",
    "Primeiramente, abra o arquivo e armazene em uma variável!\n",
    "\n",
    "<div id=\"read_excel\"></div>"
   ]
  },
  {
   "cell_type": "code",
   "execution_count": 19,
   "metadata": {},
   "outputs": [],
   "source": [
    "dados = pd.read_excel('WorldBank.xlsx')\n",
    "\n",
    "# Se esse comando não funcionar, pode ser que você não tenha instalado a \n",
    "# biblioteca 'xlrd', leia a mensagem de erro até o fim."
   ]
  },
  {
   "cell_type": "markdown",
   "metadata": {},
   "source": [
    "Vamos ver quais informações estão disponíveis neste arquivo:"
   ]
  },
  {
   "cell_type": "code",
   "execution_count": 20,
   "metadata": {},
   "outputs": [
    {
     "data": {
      "text/plain": [
       "pandas.core.frame.DataFrame"
      ]
     },
     "execution_count": 20,
     "metadata": {},
     "output_type": "execute_result"
    }
   ],
   "source": [
    "type(dados)"
   ]
  },
  {
   "cell_type": "code",
   "execution_count": 21,
   "metadata": {},
   "outputs": [
    {
     "data": {
      "text/plain": [
       "(168, 6)"
      ]
     },
     "execution_count": 21,
     "metadata": {},
     "output_type": "execute_result"
    }
   ],
   "source": [
    "dados.shape"
   ]
  },
  {
   "cell_type": "code",
   "execution_count": 22,
   "metadata": {
    "scrolled": true
   },
   "outputs": [
    {
     "data": {
      "text/plain": [
       "Country        object\n",
       "Population      int64\n",
       "GDPcapita     float64\n",
       "surface         int64\n",
       "region         object\n",
       "landlocked      int64\n",
       "dtype: object"
      ]
     },
     "execution_count": 22,
     "metadata": {},
     "output_type": "execute_result"
    }
   ],
   "source": [
    "dados.dtypes"
   ]
  },
  {
   "cell_type": "markdown",
   "metadata": {},
   "source": [
    "...\n",
    "\n",
    "Agora `dados` é uma variável do tipo `DataFrame`, o tipo padrão usado no pandas para representar uma tabela. Podemos ver em **negrito** à esquerda o índice de cada linha e acima os nomes das colunas. Depois de imprimir a tabela o pandas também mostra a quantidade de linhas (168) e colunas (6) disponíveis.\n",
    "\n",
    "Antes de prosseguir, vamos garantir que sabemos o que cada uma das colunas significa:\n",
    "\n",
    "- **Country**: nome do país;\n",
    "- **Population**: população;\n",
    "- **GDPcapita**: PIB per capita;\n",
    "- **surface**: área total em $km^2$;\n",
    "- **region**: região;\n",
    "- **landlocked**: sem litoral (0=com litoral; 1=sem litoral).\n",
    "\n",
    "Voltando ao nosso `DataFrame`, você notou que ele não imprimiu todas as linhas? Isso acontece porque o conjunto de dados pode ser **muito** grande. No nosso caso só queríamos ter uma ideia de quais dados estão disponíveis, então não precisávamos ver todas as linhas. Talvez seria interessante ver até menos do que isso."
   ]
  },
  {
   "cell_type": "markdown",
   "metadata": {},
   "source": [
    "[Voltar ao Índice](#indice)"
   ]
  },
  {
   "cell_type": "markdown",
   "metadata": {},
   "source": [
    "<div id=\"head\"></div>\n",
    "\n",
    "### Visualizando primeiras linhas de uma base de dados\n",
    "\n",
    "Para ver somente as primeiras linhas podemos usar o comando `.head()`:"
   ]
  },
  {
   "cell_type": "code",
   "execution_count": 23,
   "metadata": {
    "scrolled": false
   },
   "outputs": [
    {
     "data": {
      "text/html": [
       "<div>\n",
       "<style scoped>\n",
       "    .dataframe tbody tr th:only-of-type {\n",
       "        vertical-align: middle;\n",
       "    }\n",
       "\n",
       "    .dataframe tbody tr th {\n",
       "        vertical-align: top;\n",
       "    }\n",
       "\n",
       "    .dataframe thead th {\n",
       "        text-align: right;\n",
       "    }\n",
       "</style>\n",
       "<table border=\"1\" class=\"dataframe\">\n",
       "  <thead>\n",
       "    <tr style=\"text-align: right;\">\n",
       "      <th></th>\n",
       "      <th>Country</th>\n",
       "      <th>Population</th>\n",
       "      <th>GDPcapita</th>\n",
       "      <th>surface</th>\n",
       "      <th>region</th>\n",
       "      <th>landlocked</th>\n",
       "    </tr>\n",
       "  </thead>\n",
       "  <tbody>\n",
       "    <tr>\n",
       "      <th>0</th>\n",
       "      <td>Albania</td>\n",
       "      <td>2901883</td>\n",
       "      <td>1915.424459</td>\n",
       "      <td>28750</td>\n",
       "      <td>europe_east</td>\n",
       "      <td>0</td>\n",
       "    </tr>\n",
       "    <tr>\n",
       "      <th>1</th>\n",
       "      <td>Algeria</td>\n",
       "      <td>36036159</td>\n",
       "      <td>2231.980246</td>\n",
       "      <td>2381740</td>\n",
       "      <td>africa_north</td>\n",
       "      <td>0</td>\n",
       "    </tr>\n",
       "    <tr>\n",
       "      <th>2</th>\n",
       "      <td>Angola</td>\n",
       "      <td>21219954</td>\n",
       "      <td>623.245275</td>\n",
       "      <td>1246700</td>\n",
       "      <td>africa_sub_saharan</td>\n",
       "      <td>0</td>\n",
       "    </tr>\n",
       "    <tr>\n",
       "      <th>3</th>\n",
       "      <td>Antigua and Barbuda</td>\n",
       "      <td>87233</td>\n",
       "      <td>10614.794315</td>\n",
       "      <td>440</td>\n",
       "      <td>america_north</td>\n",
       "      <td>0</td>\n",
       "    </tr>\n",
       "    <tr>\n",
       "      <th>4</th>\n",
       "      <td>Argentina</td>\n",
       "      <td>41222875</td>\n",
       "      <td>10749.319224</td>\n",
       "      <td>2780400</td>\n",
       "      <td>america_south</td>\n",
       "      <td>0</td>\n",
       "    </tr>\n",
       "  </tbody>\n",
       "</table>\n",
       "</div>"
      ],
      "text/plain": [
       "               Country  Population     GDPcapita  surface              region  \\\n",
       "0              Albania     2901883   1915.424459    28750         europe_east   \n",
       "1              Algeria    36036159   2231.980246  2381740        africa_north   \n",
       "2               Angola    21219954    623.245275  1246700  africa_sub_saharan   \n",
       "3  Antigua and Barbuda       87233  10614.794315      440       america_north   \n",
       "4            Argentina    41222875  10749.319224  2780400       america_south   \n",
       "\n",
       "   landlocked  \n",
       "0           0  \n",
       "1           0  \n",
       "2           0  \n",
       "3           0  \n",
       "4           0  "
      ]
     },
     "execution_count": 23,
     "metadata": {},
     "output_type": "execute_result"
    }
   ],
   "source": [
    "dados.head()"
   ]
  },
  {
   "cell_type": "markdown",
   "metadata": {},
   "source": [
    "Você pode especificar outra quantidade de linhas passando um número inteiro como argumento:"
   ]
  },
  {
   "cell_type": "code",
   "execution_count": 24,
   "metadata": {
    "scrolled": false
   },
   "outputs": [
    {
     "data": {
      "text/html": [
       "<div>\n",
       "<style scoped>\n",
       "    .dataframe tbody tr th:only-of-type {\n",
       "        vertical-align: middle;\n",
       "    }\n",
       "\n",
       "    .dataframe tbody tr th {\n",
       "        vertical-align: top;\n",
       "    }\n",
       "\n",
       "    .dataframe thead th {\n",
       "        text-align: right;\n",
       "    }\n",
       "</style>\n",
       "<table border=\"1\" class=\"dataframe\">\n",
       "  <thead>\n",
       "    <tr style=\"text-align: right;\">\n",
       "      <th></th>\n",
       "      <th>Country</th>\n",
       "      <th>Population</th>\n",
       "      <th>GDPcapita</th>\n",
       "      <th>surface</th>\n",
       "      <th>region</th>\n",
       "      <th>landlocked</th>\n",
       "    </tr>\n",
       "  </thead>\n",
       "  <tbody>\n",
       "    <tr>\n",
       "      <th>0</th>\n",
       "      <td>Albania</td>\n",
       "      <td>2901883</td>\n",
       "      <td>1915.424459</td>\n",
       "      <td>28750</td>\n",
       "      <td>europe_east</td>\n",
       "      <td>0</td>\n",
       "    </tr>\n",
       "    <tr>\n",
       "      <th>1</th>\n",
       "      <td>Algeria</td>\n",
       "      <td>36036159</td>\n",
       "      <td>2231.980246</td>\n",
       "      <td>2381740</td>\n",
       "      <td>africa_north</td>\n",
       "      <td>0</td>\n",
       "    </tr>\n",
       "    <tr>\n",
       "      <th>2</th>\n",
       "      <td>Angola</td>\n",
       "      <td>21219954</td>\n",
       "      <td>623.245275</td>\n",
       "      <td>1246700</td>\n",
       "      <td>africa_sub_saharan</td>\n",
       "      <td>0</td>\n",
       "    </tr>\n",
       "    <tr>\n",
       "      <th>3</th>\n",
       "      <td>Antigua and Barbuda</td>\n",
       "      <td>87233</td>\n",
       "      <td>10614.794315</td>\n",
       "      <td>440</td>\n",
       "      <td>america_north</td>\n",
       "      <td>0</td>\n",
       "    </tr>\n",
       "    <tr>\n",
       "      <th>4</th>\n",
       "      <td>Argentina</td>\n",
       "      <td>41222875</td>\n",
       "      <td>10749.319224</td>\n",
       "      <td>2780400</td>\n",
       "      <td>america_south</td>\n",
       "      <td>0</td>\n",
       "    </tr>\n",
       "    <tr>\n",
       "      <th>5</th>\n",
       "      <td>Armenia</td>\n",
       "      <td>2963496</td>\n",
       "      <td>1326.710864</td>\n",
       "      <td>29740</td>\n",
       "      <td>europe_east</td>\n",
       "      <td>1</td>\n",
       "    </tr>\n",
       "    <tr>\n",
       "      <th>6</th>\n",
       "      <td>Australia</td>\n",
       "      <td>22162863</td>\n",
       "      <td>25190.839860</td>\n",
       "      <td>7741220</td>\n",
       "      <td>east_asia_pacific</td>\n",
       "      <td>0</td>\n",
       "    </tr>\n",
       "    <tr>\n",
       "      <th>7</th>\n",
       "      <td>Austria</td>\n",
       "      <td>8391986</td>\n",
       "      <td>26642.993858</td>\n",
       "      <td>83870</td>\n",
       "      <td>europe_west</td>\n",
       "      <td>1</td>\n",
       "    </tr>\n",
       "    <tr>\n",
       "      <th>8</th>\n",
       "      <td>Azerbaijan</td>\n",
       "      <td>9099893</td>\n",
       "      <td>2344.810935</td>\n",
       "      <td>86600</td>\n",
       "      <td>europe_east</td>\n",
       "      <td>1</td>\n",
       "    </tr>\n",
       "    <tr>\n",
       "      <th>9</th>\n",
       "      <td>Bahamas</td>\n",
       "      <td>360830</td>\n",
       "      <td>19395.152312</td>\n",
       "      <td>13880</td>\n",
       "      <td>america_north</td>\n",
       "      <td>0</td>\n",
       "    </tr>\n",
       "  </tbody>\n",
       "</table>\n",
       "</div>"
      ],
      "text/plain": [
       "               Country  Population     GDPcapita  surface              region  \\\n",
       "0              Albania     2901883   1915.424459    28750         europe_east   \n",
       "1              Algeria    36036159   2231.980246  2381740        africa_north   \n",
       "2               Angola    21219954    623.245275  1246700  africa_sub_saharan   \n",
       "3  Antigua and Barbuda       87233  10614.794315      440       america_north   \n",
       "4            Argentina    41222875  10749.319224  2780400       america_south   \n",
       "5              Armenia     2963496   1326.710864    29740         europe_east   \n",
       "6            Australia    22162863  25190.839860  7741220   east_asia_pacific   \n",
       "7              Austria     8391986  26642.993858    83870         europe_west   \n",
       "8           Azerbaijan     9099893   2344.810935    86600         europe_east   \n",
       "9              Bahamas      360830  19395.152312    13880       america_north   \n",
       "\n",
       "   landlocked  \n",
       "0           0  \n",
       "1           0  \n",
       "2           0  \n",
       "3           0  \n",
       "4           0  \n",
       "5           1  \n",
       "6           0  \n",
       "7           1  \n",
       "8           1  \n",
       "9           0  "
      ]
     },
     "execution_count": 24,
     "metadata": {},
     "output_type": "execute_result"
    }
   ],
   "source": [
    "dados.head(10)"
   ]
  },
  {
   "cell_type": "markdown",
   "metadata": {},
   "source": [
    "[Voltar ao Índice](#indice)"
   ]
  },
  {
   "cell_type": "markdown",
   "metadata": {},
   "source": [
    "<div id=\"tail\"></div>\n",
    "\n",
    "### Visualizando últimas linhas de uma base de dados\n",
    "\n",
    "Se preferir, podemos ver as últimas linhas com o comando `.tail()`, que também pode receber a quantidade de linhas como argumento:\n",
    "\n"
   ]
  },
  {
   "cell_type": "code",
   "execution_count": 25,
   "metadata": {
    "scrolled": false
   },
   "outputs": [
    {
     "data": {
      "text/html": [
       "<div>\n",
       "<style scoped>\n",
       "    .dataframe tbody tr th:only-of-type {\n",
       "        vertical-align: middle;\n",
       "    }\n",
       "\n",
       "    .dataframe tbody tr th {\n",
       "        vertical-align: top;\n",
       "    }\n",
       "\n",
       "    .dataframe thead th {\n",
       "        text-align: right;\n",
       "    }\n",
       "</style>\n",
       "<table border=\"1\" class=\"dataframe\">\n",
       "  <thead>\n",
       "    <tr style=\"text-align: right;\">\n",
       "      <th></th>\n",
       "      <th>Country</th>\n",
       "      <th>Population</th>\n",
       "      <th>GDPcapita</th>\n",
       "      <th>surface</th>\n",
       "      <th>region</th>\n",
       "      <th>landlocked</th>\n",
       "    </tr>\n",
       "  </thead>\n",
       "  <tbody>\n",
       "    <tr>\n",
       "      <th>165</th>\n",
       "      <td>Vietnam</td>\n",
       "      <td>88357775</td>\n",
       "      <td>722.810053</td>\n",
       "      <td>331050</td>\n",
       "      <td>east_asia_pacific</td>\n",
       "      <td>0</td>\n",
       "    </tr>\n",
       "    <tr>\n",
       "      <th>166</th>\n",
       "      <td>Zambia</td>\n",
       "      <td>13917439</td>\n",
       "      <td>434.659804</td>\n",
       "      <td>752610</td>\n",
       "      <td>africa_sub_saharan</td>\n",
       "      <td>1</td>\n",
       "    </tr>\n",
       "    <tr>\n",
       "      <th>167</th>\n",
       "      <td>Zimbabwe</td>\n",
       "      <td>13973897</td>\n",
       "      <td>322.556928</td>\n",
       "      <td>390760</td>\n",
       "      <td>africa_sub_saharan</td>\n",
       "      <td>1</td>\n",
       "    </tr>\n",
       "  </tbody>\n",
       "</table>\n",
       "</div>"
      ],
      "text/plain": [
       "      Country  Population   GDPcapita  surface              region  landlocked\n",
       "165   Vietnam    88357775  722.810053   331050   east_asia_pacific           0\n",
       "166    Zambia    13917439  434.659804   752610  africa_sub_saharan           1\n",
       "167  Zimbabwe    13973897  322.556928   390760  africa_sub_saharan           1"
      ]
     },
     "execution_count": 25,
     "metadata": {},
     "output_type": "execute_result"
    }
   ],
   "source": [
    "dados.tail(3)"
   ]
  },
  {
   "cell_type": "markdown",
   "metadata": {},
   "source": [
    "[Voltar ao Índice](#indice)"
   ]
  },
  {
   "cell_type": "markdown",
   "metadata": {},
   "source": [
    "<div id=\"drop\"></div>\n",
    "\n",
    "### Hands on: Remover linhas ou colunas de uma base de dados\n",
    "\n",
    "Suponha os seguintes objetivos:\n",
    " * Construir uma nova base de dados sem as colunas `Country` e `surface` da base original `dados`.\n",
    " * Construir uma nova base de dados sem as linhas 1, 4 e 6 da base original `dados`.\n",
    "\n",
    "Encontre como fazer isso."
   ]
  },
  {
   "cell_type": "code",
   "execution_count": 26,
   "metadata": {},
   "outputs": [
    {
     "data": {
      "text/html": [
       "<div>\n",
       "<style scoped>\n",
       "    .dataframe tbody tr th:only-of-type {\n",
       "        vertical-align: middle;\n",
       "    }\n",
       "\n",
       "    .dataframe tbody tr th {\n",
       "        vertical-align: top;\n",
       "    }\n",
       "\n",
       "    .dataframe thead th {\n",
       "        text-align: right;\n",
       "    }\n",
       "</style>\n",
       "<table border=\"1\" class=\"dataframe\">\n",
       "  <thead>\n",
       "    <tr style=\"text-align: right;\">\n",
       "      <th></th>\n",
       "      <th>Population</th>\n",
       "      <th>GDPcapita</th>\n",
       "      <th>region</th>\n",
       "      <th>landlocked</th>\n",
       "    </tr>\n",
       "  </thead>\n",
       "  <tbody>\n",
       "    <tr>\n",
       "      <th>0</th>\n",
       "      <td>2901883</td>\n",
       "      <td>1915.424459</td>\n",
       "      <td>europe_east</td>\n",
       "      <td>0</td>\n",
       "    </tr>\n",
       "    <tr>\n",
       "      <th>1</th>\n",
       "      <td>36036159</td>\n",
       "      <td>2231.980246</td>\n",
       "      <td>africa_north</td>\n",
       "      <td>0</td>\n",
       "    </tr>\n",
       "    <tr>\n",
       "      <th>2</th>\n",
       "      <td>21219954</td>\n",
       "      <td>623.245275</td>\n",
       "      <td>africa_sub_saharan</td>\n",
       "      <td>0</td>\n",
       "    </tr>\n",
       "  </tbody>\n",
       "</table>\n",
       "</div>"
      ],
      "text/plain": [
       "   Population    GDPcapita              region  landlocked\n",
       "0     2901883  1915.424459         europe_east           0\n",
       "1    36036159  2231.980246        africa_north           0\n",
       "2    21219954   623.245275  africa_sub_saharan           0"
      ]
     },
     "execution_count": 26,
     "metadata": {},
     "output_type": "execute_result"
    }
   ],
   "source": [
    "# Coloque seu código aqui...\n",
    "dados1 = dados.drop(columns=['Country', 'surface'])\n",
    "dados1.head(3)"
   ]
  },
  {
   "cell_type": "code",
   "execution_count": 27,
   "metadata": {},
   "outputs": [
    {
     "data": {
      "text/html": [
       "<div>\n",
       "<style scoped>\n",
       "    .dataframe tbody tr th:only-of-type {\n",
       "        vertical-align: middle;\n",
       "    }\n",
       "\n",
       "    .dataframe tbody tr th {\n",
       "        vertical-align: top;\n",
       "    }\n",
       "\n",
       "    .dataframe thead th {\n",
       "        text-align: right;\n",
       "    }\n",
       "</style>\n",
       "<table border=\"1\" class=\"dataframe\">\n",
       "  <thead>\n",
       "    <tr style=\"text-align: right;\">\n",
       "      <th></th>\n",
       "      <th>Country</th>\n",
       "      <th>Population</th>\n",
       "      <th>GDPcapita</th>\n",
       "      <th>surface</th>\n",
       "      <th>region</th>\n",
       "      <th>landlocked</th>\n",
       "    </tr>\n",
       "  </thead>\n",
       "  <tbody>\n",
       "    <tr>\n",
       "      <th>0</th>\n",
       "      <td>Albania</td>\n",
       "      <td>2901883</td>\n",
       "      <td>1915.424459</td>\n",
       "      <td>28750</td>\n",
       "      <td>europe_east</td>\n",
       "      <td>0</td>\n",
       "    </tr>\n",
       "    <tr>\n",
       "      <th>2</th>\n",
       "      <td>Angola</td>\n",
       "      <td>21219954</td>\n",
       "      <td>623.245275</td>\n",
       "      <td>1246700</td>\n",
       "      <td>africa_sub_saharan</td>\n",
       "      <td>0</td>\n",
       "    </tr>\n",
       "    <tr>\n",
       "      <th>3</th>\n",
       "      <td>Antigua and Barbuda</td>\n",
       "      <td>87233</td>\n",
       "      <td>10614.794315</td>\n",
       "      <td>440</td>\n",
       "      <td>america_north</td>\n",
       "      <td>0</td>\n",
       "    </tr>\n",
       "    <tr>\n",
       "      <th>5</th>\n",
       "      <td>Armenia</td>\n",
       "      <td>2963496</td>\n",
       "      <td>1326.710864</td>\n",
       "      <td>29740</td>\n",
       "      <td>europe_east</td>\n",
       "      <td>1</td>\n",
       "    </tr>\n",
       "    <tr>\n",
       "      <th>7</th>\n",
       "      <td>Austria</td>\n",
       "      <td>8391986</td>\n",
       "      <td>26642.993858</td>\n",
       "      <td>83870</td>\n",
       "      <td>europe_west</td>\n",
       "      <td>1</td>\n",
       "    </tr>\n",
       "  </tbody>\n",
       "</table>\n",
       "</div>"
      ],
      "text/plain": [
       "               Country  Population     GDPcapita  surface              region  \\\n",
       "0              Albania     2901883   1915.424459    28750         europe_east   \n",
       "2               Angola    21219954    623.245275  1246700  africa_sub_saharan   \n",
       "3  Antigua and Barbuda       87233  10614.794315      440       america_north   \n",
       "5              Armenia     2963496   1326.710864    29740         europe_east   \n",
       "7              Austria     8391986  26642.993858    83870         europe_west   \n",
       "\n",
       "   landlocked  \n",
       "0           0  \n",
       "2           0  \n",
       "3           0  \n",
       "5           1  \n",
       "7           1  "
      ]
     },
     "execution_count": 27,
     "metadata": {},
     "output_type": "execute_result"
    }
   ],
   "source": [
    "dados2 = dados.drop([1, 4, 6])\n",
    "dados2.head(5)"
   ]
  }
 ],
 "metadata": {
  "kernelspec": {
   "display_name": "Python 3",
   "language": "python",
   "name": "python3"
  },
  "language_info": {
   "codemirror_mode": {
    "name": "ipython",
    "version": 3
   },
   "file_extension": ".py",
   "mimetype": "text/x-python",
   "name": "python",
   "nbconvert_exporter": "python",
   "pygments_lexer": "ipython3",
   "version": "3.8.8"
  }
 },
 "nbformat": 4,
 "nbformat_minor": 4
}
