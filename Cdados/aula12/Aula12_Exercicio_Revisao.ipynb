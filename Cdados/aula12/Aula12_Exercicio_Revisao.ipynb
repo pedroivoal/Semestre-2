{
 "cells": [
  {
   "cell_type": "markdown",
   "metadata": {},
   "source": [
    "___\n",
    "# Exercício: Revisão de alguns tópicos Pré Avaliação 2\n",
    "___\n",
    "\n",
    "## Aula 12"
   ]
  },
  {
   "cell_type": "markdown",
   "metadata": {},
   "source": [
    "___\n",
    "Carregando algumas bibliotecas:"
   ]
  },
  {
   "cell_type": "code",
   "execution_count": null,
   "metadata": {},
   "outputs": [],
   "source": [
    "%matplotlib inline\n",
    "import math\n",
    "import os\n",
    "\n",
    "import matplotlib.pyplot as plt\n",
    "import numpy as np\n",
    "from numpy import arange\n",
    "import pandas as pd\n",
    "\n",
    "from scipy import stats #importa apenas as funções de estatísticas da biblioteca SciPy.\n",
    "\n",
    "from IPython.display import display  # Para ter melhor print."
   ]
  },
  {
   "cell_type": "markdown",
   "metadata": {},
   "source": [
    "___\n",
    "<div id=\"indice\"></div>\n",
    "\n",
    "## Índice\n",
    "\n",
    "- [PERFOMANCE DE ESTUDANTES EM EXAMES](#students)\n",
    "    - [Base de dados e Dicionário das variáveis](#dados)\n",
    "    - [Leitura e Preparo da base de dados](#preparo)\n",
    "    - [EXERCÍCIO 1](#ex1) \n",
    "        - [item (a)](#ex1a)\n",
    "        - [item (b)](#ex1b) \n",
    "        - [item (c)](#ex1c) \n",
    "\n",
    "<br>\n",
    "\n",
    "- [EXERCÍCIO 2](#ex2) \n",
    "    - [item (a)](#ex2a)\n",
    "    - [item (b)](#ex2b) \n",
    "    - [item (c)](#ex2c) \n",
    "\n",
    "<br>\n",
    "\n",
    "- [EXERCÍCIO 3](#ex3) \n",
    "    - [item (a)](#ex3a)\n",
    "    - [item (b)](#ex3b) \n",
    "    - [item (c)](#ex3c) "
   ]
  },
  {
   "cell_type": "markdown",
   "metadata": {},
   "source": [
    "___\n",
    "<div id=\"students\"></div>\n",
    "\n",
    "### PERFORMANCE DE ESTUDANTES EM EXAMES\n",
    "\n",
    "<div id=\"dados\"></div>\n",
    "\n",
    "### Base de dados e Dicionário das variáveis:\n",
    "\n",
    "A base de dados foi extraída da plataforma [Kaggle](https://www.kaggle.com/spscientist/students-performance-in-exams) intitulado “Students Performance in Exams”, cujo objetivo principal é verificar a performance do estudante considerando seu *background*. Ainda, para essa avaliação, a base de dados original passou por algumas transformações, como acréscimo de novas variáveis.\n",
    "\n",
    "Essa base de dados possui informação de $1.000$ estudantes.\n",
    "\n",
    "As variáveis apresentadas na base de dados `StudentsPerformance.csv` são:\n",
    " * `gender`: categozido em ['female', 'male'];\n",
    " * `race/ethnicity`: categorizado em ['group A', 'group B', 'group C', 'group D', 'group E'];\n",
    " * `parental level of education`: categorizado em ['some high school', 'high school', 'some college', 'associate's degree', 'bachelor's degree', 'master's degree'], respeitando essa ordem natural;\n",
    " * `lunch`: categorizado em ['free/reduced', 'standard'];\n",
    " * `test preparation course`: categorizado em ['completed', 'none'];\n",
    " * `math score`: nota obtida em matemática, com valor de $0$ a $100$;\n",
    " * `reading score`: nota obtida em leitura, com valor de $0$ a $100$; e\n",
    " * `writing score`: nota obtida em escrita, com valor de $0$ a $100$.\n",
    " \n",
    "<br> \n",
    "\n",
    "Ainda, foram criadas as seguintes variáveis a partir das notas em cada prova:\n",
    " * `Xm`: se a nota de matemática for >= 80, vale 1; caso contrário, vale 0;\n",
    " * `Xr`: se a nota de leitura for >= 80, vale 1; caso contrário, vale 0;\n",
    " * `Xw`: se a nota de escrita for >= 80, vale 1; caso contrário, vale 0;\n",
    " * `Performance`: é definida pela soma de Xm, Xr e Xw. Assim, por exemplo, se `Perfomance` para um estudante for igual a 2, então esse estudante teve score >= 80 nas duas dessas três provas; e de forma análoga para demais caso.\n",
    " \n",
    "Essas variáveis serão criadas rodando alguns códigos a seguir:"
   ]
  },
  {
   "cell_type": "markdown",
   "metadata": {},
   "source": [
    "<div id=\"preparo\"></div>\n",
    "\n",
    "### Leitura e Preparo da base de dados\n",
    "\n",
    "**IMPORTANTE:** Por favor, rodem todos os comandos a seguir antes de chegarno enunciado do Exercício 1."
   ]
  },
  {
   "cell_type": "code",
   "execution_count": null,
   "metadata": {},
   "outputs": [],
   "source": [
    "print(\"Esperamos trabalhar no diretório\")\n",
    "print(os.getcwd())"
   ]
  },
  {
   "cell_type": "code",
   "execution_count": null,
   "metadata": {},
   "outputs": [],
   "source": [
    "filename = 'StudentsPerformance.csv'\n",
    "\n",
    "if filename in os.listdir():\n",
    "    print(f'Parece que o arquivo {filename} está na mesma pasta do notebook da avaliação, yay!\\n')\n",
    "    \n",
    "else:\n",
    "    print(f'Não encontrei o arquivo {filename}.\\n'\n",
    "          f'O notebook e os arquivos de dados desta avaliação devem ser salvos dentro da mesma pasta no seu computador.\\n')"
   ]
  },
  {
   "cell_type": "code",
   "execution_count": null,
   "metadata": {
    "scrolled": true
   },
   "outputs": [],
   "source": [
    "# Carregando os dados\n",
    "dados = pd.read_csv('StudentsPerformance.csv')"
   ]
  },
  {
   "cell_type": "code",
   "execution_count": null,
   "metadata": {},
   "outputs": [],
   "source": [
    "# Transforma as cinco primeiras colunas da base de dados como categóricas\n",
    "dados.iloc[:,0:5]=dados.iloc[:,0:5].astype('category')\n",
    "\n",
    "# Faz apenas essa ser ordinal respeitando a ordem das categorias definidas em categories\n",
    "dados['parental level of education'] = pd.Categorical(dados['parental level of education'], \n",
    "                                                      categories=['some high school', 'high school',\n",
    "                                                                  'some college',\n",
    "                                                                  \"associate's degree\",\"bachelor's degree\",\"master's degree\"],\n",
    "                                                      ordered=True)\n",
    "\n",
    "# Visualização das categorias dessas variáveis\n",
    "(lambda mostra_categorias: list(map(lambda x: dados.iloc[:,x].cat.categories,\n",
    "                                    mostra_categorias)))([0,1,2,3,4])"
   ]
  },
  {
   "cell_type": "code",
   "execution_count": null,
   "metadata": {},
   "outputs": [],
   "source": [
    "# Quantifica como 1, se notas >= 80; caso contrário, como 0\n",
    "umzero = lambda x: 1 if x >= 80 else 0\n",
    "dados['Xm'] = dados['math score'].apply(umzero)\n",
    "dados['Xr'] = dados['reading score'].apply(umzero)\n",
    "dados['Xw'] = dados['writing score'].apply(umzero)"
   ]
  },
  {
   "cell_type": "code",
   "execution_count": null,
   "metadata": {},
   "outputs": [],
   "source": [
    "# Performance: número de provas com score >= 80 entre as 3 provas avaliadas\n",
    "dados['Performance'] = dados.iloc[:,8:11].sum(axis=1)"
   ]
  },
  {
   "cell_type": "code",
   "execution_count": null,
   "metadata": {
    "scrolled": true
   },
   "outputs": [],
   "source": [
    "# Conteúdo das 5 primeiras linhas da base de dados\n",
    "dados.head()"
   ]
  },
  {
   "cell_type": "code",
   "execution_count": null,
   "metadata": {
    "scrolled": true
   },
   "outputs": [],
   "source": [
    "dados.dtypes"
   ]
  },
  {
   "cell_type": "markdown",
   "metadata": {},
   "source": [
    "[Voltar ao Índice](#indice) "
   ]
  },
  {
   "cell_type": "markdown",
   "metadata": {},
   "source": [
    "___\n",
    "<div id=\"ex1\"></div>\n",
    "\n",
    "### EXERCÍCIO 1:\n",
    "\n",
    "Num contexto teórico, seja **`Y` o número de provas que um aluno obteve score maior ou igual a 80 entre as 3 provas avaliadas**. Já na base de dados, os resultados empíricos dessa contagem estão na coluna `Performance`, a qual foi construída somando as colunas `Xm`, `Xr` e `Xw`.\n",
    "\n",
    "Assuma que essa variável **`Y` possa ser ajustada pelo modelo binomial com parâmetros $n=3$ e $p=0.21$**, sendo $n$ igual ao total de provas que cada aluno é submetido; e $p$ a probabilidade de um aluno ter score pelo menos 80 em uma prova qualquer.\n",
    "\n",
    "**Responda:**"
   ]
  },
  {
   "cell_type": "markdown",
   "metadata": {},
   "source": [
    "<div id=\"ex1a\"></div>\n",
    "\n",
    "**(a)** \n",
    "Como discutido em sala, uma das suposições da Binomial é ter independência entre as tentativas, ou seja, aqui seria independência entre as notas obtidas por cada aluno.\n",
    "\n",
    "Verifique, por meio de **medidas numéricas** adequada, se essas notas obtidas nas três provas podem ser consideradas independentes entre si. **Interprete os resultados**."
   ]
  },
  {
   "cell_type": "code",
   "execution_count": null,
   "metadata": {},
   "outputs": [],
   "source": [
    "# ESCREVA SUA RESPOSTA AQUI"
   ]
  },
  {
   "cell_type": "code",
   "execution_count": null,
   "metadata": {},
   "outputs": [],
   "source": []
  },
  {
   "cell_type": "markdown",
   "metadata": {},
   "source": [
    "**Independente da sua resposta anterior, considere que a distribuição binomial seja adequada para modelar a variável de interesse nos próximos itens deste exercício!**\n",
    "\n",
    "<div id=\"ex1b\"></div>\n",
    "\n",
    "**(b)** \n",
    "Num contexto teórico, seja **`Y` o número de provas que um aluno obteve score maior ou igual a 80 entre as 3 provas avaliadas**. Assuma que **`Y` segue um binomial com parâmetros $n=3$ e $p=0.21$**, sendo $n$ igual ao total de provas que cada aluno é submetido; e $p$ a probabilidade de um aluno ter score pelo menos 80 em uma prova qualquer.\n",
    "\n",
    "Na base de dados, os resultados empíricos dessa contagem estão na coluna **`Performance`**.\n",
    "\n",
    "Faça:\n",
    " * Considerando o modelo teórico, calcule a probabilidade de cada valor que essa variável `Y` pode assumir. Mostre cada uma dessas probabilidades teóricas.\n",
    " * Considerando a base de dados, calcule as frequências relativas que cada valor da variável `Performance` pode assumir. Mostre cada uma dessas frequências relativas.\n",
    " * Comparando esses resultados (não precisa fazer gráfico), você acha esse modelo adequado aos dados? Justifique. \n",
    " "
   ]
  },
  {
   "cell_type": "code",
   "execution_count": null,
   "metadata": {},
   "outputs": [],
   "source": [
    "# ESCREVA SUA RESPOSTA AQUI"
   ]
  },
  {
   "cell_type": "code",
   "execution_count": null,
   "metadata": {},
   "outputs": [],
   "source": []
  },
  {
   "cell_type": "markdown",
   "metadata": {},
   "source": [
    "<div id=\"ex1c\"></div>\n",
    "\n",
    "**(c)** \n",
    "No modelo teórico Binomial, o parâmetro $p$ é definido pela probabilidade de um aluno ter score pelo menos 80 em uma prova qualquer.\n",
    "\n",
    "Com base no conjunto de dados, estime esse parâmetro $p$. "
   ]
  },
  {
   "cell_type": "code",
   "execution_count": null,
   "metadata": {},
   "outputs": [],
   "source": [
    "# ESCREVA SUA RESPOSTA AQUI"
   ]
  },
  {
   "cell_type": "code",
   "execution_count": null,
   "metadata": {},
   "outputs": [],
   "source": []
  },
  {
   "cell_type": "markdown",
   "metadata": {},
   "source": [
    "[Respostas](#resp)\n",
    "\n",
    "[Voltar ao Índice](#indice) "
   ]
  },
  {
   "cell_type": "markdown",
   "metadata": {},
   "source": [
    "___\n",
    "<div id=\"ex2\"></div>\n",
    "\n",
    "### EXERCÍCIO 2:\n",
    "\n",
    "O teste CAPTCHA é um teste simples para provar que um acesso remoto está sendo feito por um ser humano e não por *bot* tentando invadir uma conta protegida por senha. Assim, quando um teste não é resolvido, considera-se que houve uma tentativa de invasão por *bot*.\n",
    "\n",
    "Uma empresa tem uma **taxa de $500$ testes CAPTCHA não resolvidos diariamente**, ou seja, $500$ tentativas de invasão por *bot*, em média, diariamente.\n",
    "\n",
    "Essa empresa considera sofrer **ataque de** ***bots*** quando **pelo menos** $540$ testes CAPTCHA não são resolvidos em um dia, ou seja, quando a quantidade de testes CAPTCHA não resolvidos em um dia valem $\\geq 540$.\n",
    "\n",
    "<br>\n",
    "\n",
    "**Responda:**"
   ]
  },
  {
   "cell_type": "markdown",
   "metadata": {},
   "source": [
    "<div id=\"ex2a\"></div>\n",
    "\n",
    "**(a)** \n",
    "Qual é a **probabilidade** dessa empresa sofrer um  **ataque de** ***bots*** em dia qualquer?"
   ]
  },
  {
   "cell_type": "code",
   "execution_count": null,
   "metadata": {},
   "outputs": [],
   "source": [
    "# ESCREVA SUA RESPOSTA AQUI"
   ]
  },
  {
   "cell_type": "code",
   "execution_count": null,
   "metadata": {},
   "outputs": [],
   "source": []
  },
  {
   "cell_type": "markdown",
   "metadata": {},
   "source": [
    "<div id=\"ex2b\"></div>\n",
    "\n",
    "**(b)** \n",
    "Em um dia com mais de $500$ testes CAPTCHA não resolvidos, qual é a **probabilidade** da empresa **não** ter sofrido um  **ataque de** ***bots*** nesse mesmo dia?"
   ]
  },
  {
   "cell_type": "code",
   "execution_count": null,
   "metadata": {},
   "outputs": [],
   "source": [
    "# ESCREVA SUA RESPOSTA AQUI"
   ]
  },
  {
   "cell_type": "code",
   "execution_count": null,
   "metadata": {},
   "outputs": [],
   "source": []
  },
  {
   "cell_type": "markdown",
   "metadata": {},
   "source": [
    "[Respostas](#resp)\n",
    "\n",
    "[Voltar ao Índice](#indice) "
   ]
  },
  {
   "cell_type": "markdown",
   "metadata": {},
   "source": [
    "___\n",
    "<div id=\"ex3\"></div>\n",
    "\n",
    "### EXERCÍCIO 3:\n",
    "\n",
    "No artigo de [Moro et al (2014)](https://www.researchgate.net/publication/260805594_A_Data-Driven_Approach_to_Predict_the_Success_of_Bank_Telemarketing), o intuito é prever o sucesso de vendas do telemarketing na venda de um produto bancário, considerando clientes de um banco português abordados entre 2008 e 2013.\n",
    "\n",
    "Para cada cliente, foram mensurados o tempo de duração do contato telefônico (em segundos) e a venda ou não do produto bancário oferecido.\n",
    "\n",
    "Os resultados foram que:\n",
    "  * $88,5\\%$ dos clientes abordados não aderiram ao produto bancário;\n",
    "  * dos clientes que não aderiram ao produto bancário, $77,3\\%$ deles conversaram no máximo 5 minutos no telefone; e\n",
    "  * dos clientes que conversaram no máximo 5 minutos no telefone, $94,9\\%$ deles não aderiram ao produto bancário."
   ]
  },
  {
   "cell_type": "markdown",
   "metadata": {},
   "source": [
    "<div id=\"ex3a\"></div>\n",
    "\n",
    "**(a)** \n",
    "Nesse contexto, calcule a probabilidade de um cliente qualquer conversar no máximo 5 minutos no telefone ao receber um contato telefônico para venda desse produto bancário. "
   ]
  },
  {
   "cell_type": "code",
   "execution_count": null,
   "metadata": {},
   "outputs": [],
   "source": [
    "# ESCREVA SUA RESPOSTA AQUI"
   ]
  },
  {
   "cell_type": "code",
   "execution_count": null,
   "metadata": {},
   "outputs": [],
   "source": []
  },
  {
   "cell_type": "markdown",
   "metadata": {},
   "source": [
    "<div id=\"ex3b\"></div>\n",
    "\n",
    "**(b)** \n",
    "Se um cliente conversar mais do que 5 minutos, qual a probabilidade desse cliente aderir ao produto bancário?"
   ]
  },
  {
   "cell_type": "code",
   "execution_count": null,
   "metadata": {},
   "outputs": [],
   "source": [
    "# ESCREVA SUA RESPOSTA AQUI"
   ]
  },
  {
   "cell_type": "code",
   "execution_count": null,
   "metadata": {},
   "outputs": [],
   "source": []
  },
  {
   "cell_type": "markdown",
   "metadata": {},
   "source": [
    "<div id=\"ex3c\"></div>\n",
    "\n",
    "**(c)** Afirmativa: \"Considerando os clientes abordados entre 2008 e 2013, o sucesso da venda do produto bancário oferecido ao cliente depende do tempo de duração do contato telefônico\".\n",
    "\n",
    "Responda se \"Concorda\" ou \"Discorda\" da afirmação **justificando**, adequadamente, com uso de **valores numéricos de probabilidade** desta questão. Caso contrário, a resposta será considerada inválida."
   ]
  },
  {
   "cell_type": "code",
   "execution_count": null,
   "metadata": {},
   "outputs": [],
   "source": [
    "# ESCREVA SUA RESPOSTA AQUI"
   ]
  },
  {
   "cell_type": "code",
   "execution_count": null,
   "metadata": {},
   "outputs": [],
   "source": []
  },
  {
   "cell_type": "markdown",
   "metadata": {},
   "source": [
    "[Respostas](#resp) \n",
    "\n",
    "[Voltar ao Índice](#indice) "
   ]
  },
  {
   "cell_type": "markdown",
   "metadata": {},
   "source": [
    "___\n",
    "<div id=\"resp\"></div>\n",
    "\n",
    "### Algumas respostas:\n",
    "\n",
    "**EXERCÍCIO 1:**\n",
    "\n",
    " * (a) Discuta usando correlações adequadas\n",
    " * (b) Distribuição de probabilidades da variável aleatória Y:\n",
    "     * P(Y=0) = 0.4930\n",
    "     * P(Y=1) = 0.3932\n",
    "     * P(Y=2) = 0.1045\n",
    "     * P(Y=3) = 0.0093\n",
    " * (b) Frequências relativas da variável Performance:\n",
    "     * 0 $\\quad$ 0.673\n",
    "     * 1 $\\quad$ 0.098\n",
    "     * 2 $\\quad$ 0.108\n",
    "     * 3 $\\quad$ 0.121\n",
    " * (c) Baseando na média da Binomial => E(Y) = np, então p = E(Y)/n. Considerando os dados, p_estimado = (média de Performance)/3 = 0.2256667\n",
    "     \n",
    "**EXERCÍCIO 2:**\n",
    "\n",
    " * (a) 0.03994463749032684\n",
    " * (b) 0.9181644930751003\n",
    "     \n",
    "     \n",
    "**EXERCÍCIO 3:**\n",
    "\n",
    " * (a) 0.7208693361433088\n",
    " * (b) 0.2802833009305572\n",
    " * (c) \"Concorda. Uma possível resposta com olhar de corcondância: A probabilidade de um cliente aderir ao produto é de 12%, entretanto se a ligação dura mais de 5 min, essa probabilidade de adesão aumenta para 28%.\""
   ]
  },
  {
   "cell_type": "code",
   "execution_count": null,
   "metadata": {},
   "outputs": [],
   "source": []
  }
 ],
 "metadata": {
  "hide_input": false,
  "kernelspec": {
   "display_name": "Python 3",
   "language": "python",
   "name": "python3"
  },
  "language_info": {
   "codemirror_mode": {
    "name": "ipython",
    "version": 3
   },
   "file_extension": ".py",
   "mimetype": "text/x-python",
   "name": "python",
   "nbconvert_exporter": "python",
   "pygments_lexer": "ipython3",
   "version": "3.8.8"
  }
 },
 "nbformat": 4,
 "nbformat_minor": 4
}
