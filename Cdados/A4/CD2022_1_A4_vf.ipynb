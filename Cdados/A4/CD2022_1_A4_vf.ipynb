{
 "cells": [
  {
   "cell_type": "markdown",
   "metadata": {},
   "source": [
    "# A4 - Avaliação de Ciência dos dados \n",
    "\n",
    "## 2022 - 1º. semestre \n",
    "\n",
    "___\n"
   ]
  },
  {
   "cell_type": "markdown",
   "metadata": {},
   "source": [
    "# NOME: Pedro Ivo Amaral Lima"
   ]
  },
  {
   "cell_type": "markdown",
   "metadata": {},
   "source": [
    "___\n",
    "## Instruções\n",
    "\n",
    "**Leia atentamente as instruções desta avaliação. Essas devem ser seguidas rigorosamente!**\n",
    "\n",
    "**Prezado(a) Aluno(a),**\n",
    "\n",
    "Dia da prova **dia 14/06** das 13h30 às 15h50.\n",
    "\n",
    "Esta avaliação terá as seguintes etapas:\n",
    "\n",
    "**13h30 às 13h40**\n",
    "       \n",
    " * **(10 minutos) - PROCTORIO:** Entre no Blackboard e inicie o teste em `Conteúdos/Avaliações/Avaliação (A4)/A4 (Proctorio e Arquivos)`. Caso não ative esse teste em até 10 minutos do início da prova (ou seja, até às 13h40), não terá mais direito de entregar essa prova, obtendo falta na mesma.\n",
    "\n",
    "\n",
    "**13h40 às 15h40**  \n",
    "\n",
    " * **(120 minutos) - Desenvolvimento da prova:** Concentre-se em resolver o notebook.\n",
    " * ATENÇÃO: administre esse tempo da maneira que julgar mais adequada para você. **NÃO utilize o cronômetro do Proctorio como referência, mas sim o tempo 120 minutos de prova para realização da prova.**\n",
    "\n",
    "\n",
    "**15h40 às 15h50**  \n",
    " * **(10 minutos) - Entrega via Blackboard - Notebook:** O arquivo `.ipynb` deve ser entregue em `Conteúdos/Avaliações/Avaliação (A4)/Entrega da prova`. \n",
    " * ATENÇÃO: **finalize o proctorio APENAS após anexar a avaliação no Blackboard.**\n",
    "\n",
    "\n",
    "<br>\n",
    "\n",
    "Leia atentamente as instruções a seguir e as questões da prova antes de começar a resolvê-la."
   ]
  },
  {
   "cell_type": "markdown",
   "metadata": {},
   "source": [
    "#### Avisos GERAIS: \n",
    "\n",
    "1. Identifique-se no cabeçalho deste arquivo. Essa prova é INDIVIDUAL.\n",
    "1. Você terá 120 minutos a partir do início oficial da prova para concluir esta avaliação, administre bem o seu tempo. Leia atentamente as instruções a seguir e as questões da prova antes de começar a resolvê-la. \n",
    "\n",
    "1. Esta avaliação:\n",
    "  * **PERMITE consulta de material do Blackboard e material on-line (usar navegador para pesquisas no Google, por exemplo)**. \n",
    "  * **NÃO PERMITE consulta de caderno ou qualquer outro material físico.**\n",
    "  * **NÃO PERMITE consulta a colegas (presencial ou remotamente), ou seja, não é permitido ter alguém ao seu lado assim como não é permitido conversar pelo WhatsApp, enviar e-mail ou qualquer outro formato em que converse com outra pessoa**. \n",
    "  * **PERMITE UTILIZAR APENAS UM COMPUTADOR NO QUAL ESTARÁ REALIZANDO A PROVA.**\n",
    "  * **NÃO PERMITE utilizar CELULAR, TABLET, SEGUNDO COMPUTADOR (ou NOTEBOOK) ou qualquer outro aparelho eletrônico no momento da prova.**\n",
    "  * **O desrespeito as essas regras constituirá violação ao Código de Ética e de Conduta e acarretará sanções nele previstas. Faça o seu trabalho de maneira ética!** \n",
    "\n",
    "1. Sua prova utilizará o sistema de Proctoring.  Para instalar a extensão, acesse o site https://getproctorio.com/ pelo Google Chrome e siga os passos indicados. Caso tenha dúvidas ou dificuldades, avise seu professor pelo chat e entre em contato com o Help Desk por meio de abertura de chamado ou pelo telefone (11) 4504-2550.\n",
    "Para realizar a prova será necessário:\n",
    "  *\tUm desktop ou um notebook com qualquer sistema operacional (dispositivos móveis não serão aceitos)\n",
    "  *\tNavegador Google Chrome (o sistema funciona somente nele)\n",
    "  *\tExtensão da plataforma instalada (sem ela o sistema não funcionará)\n",
    "\n",
    "1. **É proibido o uso de fones de ouvido durante toda a prova. Não leia as questões em voz alta. Não ouvir música.**\n",
    "1. **ENTREGA DO ARQUIVO**: Antes de sair da prova, garanta que entregou a prova no link indicado. Verifique se o arquivo das questões resolvidas teve seu upload concluído e que fechou o teste ao final. Você é o responsável pela entrega adequada de todas as questões de sua prova. Avaliações entregues fora do prazo não serão aceitas para correção.\n",
    "1. Caso precise se ausentar da prova para ir ao banheiro, comunique o(a) professor(a). Lembre-se de ser rápido e retornar prontamente à prova."
   ]
  },
  {
   "cell_type": "markdown",
   "metadata": {},
   "source": [
    "#### Avisos sobre desenvolvimento da prova:\n",
    "\n",
    "1. Esta Avaliação consiste em responder um arquivo Jupyter que será anexado ao Blackboard ao final da prova.\n",
    "1. Leia atentamente as **Precauções de segurança** abaixo para evitar ter sua prova anulada.\n",
    "1. Você não pode compartilhar material com seus colegas durante a prova.\n",
    "1. Em caso de dúvida sobre alguma questão desta avaliação, redija um texto em uma nova célula deste Jupyter notebook explicitando-a para que o professor avalie a pertinência durante a correção.  \n",
    "1. Leia atentamente cada questão e responda o que for pedido. Erros conceituais serão penalizados, mesmo que o conceito não se relacione com o que foi pedido na questão.\n",
    "1. Caso em algum item você necessite do resultado de um item anterior que você não conseguiu fazer, admita um valor razoável para esse resultado e faça o item normalmente. Indique na questão, caso isso aconteça.\n",
    "1. Todos os resultados devem ser justificados. Números que apareçam sem uma explicação de como foram encontrados serão ignorados na correção.\n",
    "1. **A qualidade do código na resolução em cada item também será levada em consideração, ou seja, códigos complicados para soluções que podem ser simples serão penalizados.**\n",
    "1. Esta avaliação requer **entrega via Blackboard**. **Não serão consideradas entregas por outros meios** (ex: e-mail, MS Teams, etc.)."
   ]
  },
  {
   "cell_type": "markdown",
   "metadata": {},
   "source": [
    "#### Precauções de segurança:\n",
    "\n",
    "1.\tTodas as precauções abaixo podem ser resumidas da seguinte forma: consulte o material que quiser desde que não seja nenhuma pessoa ou material físico. E não compartilhe informações com ninguém durante a prova. \n",
    "2.\tVocê não pode enviar nenhum tipo de mensagem durante a prova para qualquer pessoa dentro ou fora dela, com exceção do(a) professor(a). Por exemplo: e-mail, Skype, mensagens do Facebook, mensagens do WhatsApp, mensagens via Twitter, etc\n",
    "3.\tVocê não pode compartilhar nenhum tipo de informação em nenhum site, incluindo Pastebin, Codeshare, wikis, etc\n",
    "4.\tVocê não pode perguntar questões da prova no StackOverflow, StackExchange, MathExchange, etc. \n",
    "5.\tVocê pode procurar/tirar dúvida no Google.\n",
    "6.\tVocê pode consultar qualquer arquivo no seu computador.\n",
    "7.  Você pode usar folha de sulfite da sala solicitando ao professor. Escreva seu nome na mesma com letras grandes.\n",
    "8.\tQualquer transgressão das normas acima pode zerar a nota da prova e implicar em infração ao código de ética do Insper."
   ]
  },
  {
   "cell_type": "markdown",
   "metadata": {},
   "source": [
    "___\n",
    "<div id=\"indice\"></div>\n",
    "\n",
    "## Índice\n",
    "\n",
    "- [DEFINIÇÃO DE RETORNO](#retorno) **Contexto para as Perguntas 1 e 2**\n",
    "\n",
    "<br>\n",
    "\n",
    "- [FUNDOS DE INVESTIMENTO](#fundos)\n",
    "\n",
    "  [PERGUNTA 1](#p1) **[2,50 pontos]**\n",
    "    - [item (a)](#p1a)\n",
    "    - [item (b)](#p1b)\n",
    "    - [item (c)](#p1c)\n",
    "    - [item (d)](#p1d)\n",
    "\n",
    "    \n",
    "<br>\n",
    "\n",
    "- [BANCO DO BRASIL](#bb)\n",
    "    - [Base de dados](#df)\n",
    "    \n",
    "  [PERGUNTA 2](#p2) **[3,00 pontos]**\n",
    "    - [item (a)](#p2a)\n",
    "    - [item (b)](#p2b)\n",
    "    - [item (c)](#p2c)\n",
    "    - [item (d)](#p2d)\n",
    "\n",
    "<br>\n",
    "\n",
    "- [PROCESSO SELETIVO](#seletivo)\n",
    "\n",
    "  [PERGUNTA 3](#p3) **[4,50 pontos]**\n",
    "    - [item (a)](#p3a)\n",
    "    - [item (b)](#p3b)\n",
    "    - [item (c)](#p3c)\n",
    "    - [item (d)](#p3d)\n",
    "    - [item (e)](#p3e)\n",
    "    - [item (f)](#p3f)\n",
    "    - [item (g)](#p3g)\n"
   ]
  },
  {
   "cell_type": "code",
   "execution_count": 1,
   "metadata": {},
   "outputs": [],
   "source": [
    "# %matplotlib inline\n",
    "import os\n",
    "\n",
    "import math\n",
    "from math import sqrt\n",
    "\n",
    "import matplotlib.pyplot as plt\n",
    "import numpy as np\n",
    "from numpy import arange\n",
    "import pandas as pd\n",
    "\n",
    "from IPython.display import display  # Para ter melhor print.\n",
    "\n",
    "import scipy.stats as stats\n",
    "from scipy.stats import t, norm, probplot\n",
    "\n",
    "import statsmodels.api as sm"
   ]
  },
  {
   "cell_type": "markdown",
   "metadata": {},
   "source": [
    "___\n",
    "<div id=\"retorno\"></div>\n",
    "\n",
    "### DEFINIÇÃO DE RETORNO\n",
    "\n",
    "<img src=\"figuras/mercado_financeiro.jpg\" style=\"width: 500px;\"/>\n",
    "\n",
    "\"O retorno no mercado financeiro diz respeito a quanto você espera ter de retorno no investimento que realizou. No Brasil, o retorno pode ser mensurado com base na variação do índice BOVESPA que, por sua vez, mede a carteira de ações negociadas na B3 – Bolsa de Valores Brasileira.\" Fonte: [aqui](https://www.remessaonline.com.br/blog/riscos-ao-investir/)\n",
    "\n",
    "O **valor do retorno de uma ação ou carteira** indica o quanto seu dinheiro variou \"hoje\" comparado ao preço de \"ontem\".\n",
    "Assim, entenda que:\n",
    " * se o retorno de uma ação, em um determinado dia, vale **+0,001** significa que o dinheiro aplicado **aumentou em 0,1%** comparado ao dia anterior; e\n",
    " * se o retorno de uma ação, em um determinado dia, vale **-0,001** significa que o dinheiro aplicado **diminuiu em 0,1%** comparado ao dia anterior. \n",
    " \n",
    "Ainda, uma **medida de risco do investimento** em uma ação ou carteira, usualmente, é dada pelo **desvio padrão dos retornos**.\n",
    "\n",
    "O texto acima pode ser útil para ajudar na compreensão da [Pergunta 1](#p1) e da [Pergunta 2](#p2)."
   ]
  },
  {
   "cell_type": "markdown",
   "metadata": {},
   "source": [
    "___\n",
    "<div id=\"fundos\"></div>\n",
    "\n",
    "## Fundos de Investimentos\n",
    "<img src=\"figuras/fundos_investimentos.jpg\" style=\"width: 500px;\"/>\n",
    "\n",
    "Fonte: extraído da internet"
   ]
  },
  {
   "cell_type": "markdown",
   "metadata": {},
   "source": [
    "___\n",
    "<div id=\"p1\"></div>\n",
    "\n",
    "### PERGUNTA 1 (2,50 pontos)\n",
    "\n",
    "Entre os diversos fundos de investimento financeiro que um determinado banco brasileiro oferece, quatro são de grande procura por investidores. Segue abaixo, informações sobre os possíveis retornos diários.\n",
    "\n",
    " * **Fundo de investimento X**: Os retornos diários seguem uma **distribuição normal** com média **-0,00135** e desvio padrão igual a **0,02210**. \n",
    "   \n",
    "<p>\n",
    "    \n",
    " * **Fundo de investimento Y**: Os retornos diários seguem uma **distribuição normal** com média **0,00035** e desvio padrão igual a **0,02665**. \n",
    "   \n",
    "<p>\n",
    "\n",
    " * **Fundo de investimento W**: Os retornos diários seguem uma **distribuição normal** com média **0,00125** e desvio padrão igual a **0,01625**. \n",
    "   \n",
    "<p>\n",
    "\n",
    " * **Fundo de investimento U**: Os retornos diários seguem uma **distribuição uniforme** entre os intervalos **-0,0900** e **0,0700**.\n",
    "   \n",
    "<p>\n",
    " \n",
    "Todas essas variáveis são independentes entre si, com exceção das variáveis Y e W. O coeficiente de correlação entre Y e W é 0,65.\n"
   ]
  },
  {
   "cell_type": "markdown",
   "metadata": {},
   "source": [
    "**ATENÇÃO:** A célula abaixo contém os numéros citados no enunciado acima. Caso facilite, remova o # e use essas informações numéricas de maneira adequada para resolver os itens a seguir."
   ]
  },
  {
   "cell_type": "code",
   "execution_count": 2,
   "metadata": {},
   "outputs": [],
   "source": [
    "# Enunciado\n",
    "# X ~ Normal\n",
    "muX = -0.00135\n",
    "sigX = 0.02210\n",
    "\n",
    "# Y ~ Normal\n",
    "muY = 0.00035\n",
    "sigY = 0.02665\n",
    "\n",
    "# W ~ Normal\n",
    "muW = 0.00125\n",
    "sigW = 0.01625\n",
    "\n",
    "# U ~ Uniforme\n",
    "muU = -0.09\n",
    "sigU = 0.07\n",
    "\n",
    "# Correlação entre Y e W\n",
    "covYW = 0.65"
   ]
  },
  {
   "cell_type": "markdown",
   "metadata": {},
   "source": [
    "**Responda:**"
   ]
  },
  {
   "cell_type": "markdown",
   "metadata": {},
   "source": [
    "<div id=\"p1a\"></div>\n",
    "\n",
    "**a) (0,50 ponto)** \n",
    "Se, em um determinado dia, o retorno do fundo de investimento **X** for positivo, qual a probabilidade de que esse valor seja abaixo de 0,03?"
   ]
  },
  {
   "cell_type": "code",
   "execution_count": 3,
   "metadata": {},
   "outputs": [
    {
     "data": {
      "text/plain": [
       "1.0"
      ]
     },
     "execution_count": 3,
     "metadata": {},
     "output_type": "execute_result"
    }
   ],
   "source": [
    "\n",
    "Pp = 1-stats.norm.cdf(0, muX, sigX)\n",
    "intc = stats.norm.cdf(0.3, muX, sigX) - stats.norm.cdf(0, muX, sigX)\n",
    "\n",
    "Pp/intc"
   ]
  },
  {
   "cell_type": "markdown",
   "metadata": {},
   "source": [
    "<div id=\"p1b\"></div>\n",
    "\n",
    "**b) (0,50 ponto)** \n",
    "Qual a probabilidade dos fundos de investimento **X** e **Y** terem retornos positivos em um mesmo dia?"
   ]
  },
  {
   "cell_type": "code",
   "execution_count": 4,
   "metadata": {},
   "outputs": [
    {
     "data": {
      "text/plain": [
       "0.2403147060161092"
      ]
     },
     "execution_count": 4,
     "metadata": {},
     "output_type": "execute_result"
    }
   ],
   "source": [
    "\n",
    "PXp = 1-stats.norm.cdf(0, muX, sigX)\n",
    "PYp = 1-stats.norm.cdf(0, muY, sigY)\n",
    "\n",
    "# print(PXp)\n",
    "# print(PYp)\n",
    "\n",
    "# Dado que são independentes\n",
    "PXp*PYp"
   ]
  },
  {
   "cell_type": "markdown",
   "metadata": {},
   "source": [
    "<div id=\"p1c\"></div>\n",
    "\n",
    "**c) (0,75 ponto)** \n",
    "Paul e Emma são dois clientes desse banco de investimento e cada um resolve montar uma carteira de investimento. \n",
    "Paul irá aplicar 30% de seu dinheiro em **Y** e 70% do seu dinheiro em **W**.\n",
    "Já Emma irá aplicar 80% de seu dinheiro em **W** e 20% do seu dinheiro em **U**.\n",
    "\n",
    "Desse modo, a carteira de cada um desses dois clientes será dada por:\n",
    " * **Carteira de Paul**: retorno diário na aplicação total é dado por **0,30 * Y + 0,70 * W**\n",
    " * **Carteira de Emma**: retorno diário na aplicação total é dado por **0,80 * W + 0,20 * U**\n",
    " \n",
    "Verifique qual a carteira que possui maior risco (releia o [Definição de retorno](#retorno) caso haja dúvida). \n",
    "Justifique numericamente sua escolha."
   ]
  },
  {
   "cell_type": "code",
   "execution_count": 5,
   "metadata": {},
   "outputs": [
    {
     "name": "stdout",
     "output_type": "stream",
     "text": [
      "0.5226789747541027\n",
      "0.0191049731745428\n"
     ]
    }
   ],
   "source": [
    "Var_carteira_Paul = (0.3*sigY)**2 + (0.7*sigW)**2 + 2*0.3*0.7*covYW\n",
    "DP_carteira_Paul = np.sqrt(Var_carteira_Paul)\n",
    "\n",
    "Var_carteira_Emma = (0.8*sigW)**2 + (0.2*sigU)**2\n",
    "DP_carteira_Emma = np.sqrt(Var_carteira_Emma)\n",
    "\n",
    "print(DP_carteira_Paul)\n",
    "print(DP_carteira_Emma)\n",
    "\n",
    "# carteira de Paul é mais arriscada"
   ]
  },
  {
   "cell_type": "markdown",
   "metadata": {},
   "source": [
    "<div id=\"p1d\"></div>\n",
    "\n",
    "**d) (0,75 ponto)** **Simulação -** Faça cada uma das etapas a seguir: \n",
    "  * Simular 1000 valores de retornos diários do fundo de investimento **W**\n",
    "  * Simular 1000 valores de retornos diários do fundo de investimento **U**\n",
    "  * A cada linha, calcular o retorno da carteira de Emma, ou seja, calcular o valor do retorno dado por:  **0,80 * W + 0,20 * U**\n",
    "  \n",
    "Considerando os valores dos retornos da carteira de Emma, qual o retorno médio e respectivo desvio padrão?  \n",
    "Você aplicaria seu dinheiro na carteira formada por Emma? Justifique seu \"Sim\" ou seu \"Não\"."
   ]
  },
  {
   "cell_type": "code",
   "execution_count": null,
   "metadata": {},
   "outputs": [],
   "source": []
  },
  {
   "cell_type": "markdown",
   "metadata": {},
   "source": [
    "[Volta ao Índice](#indice)"
   ]
  },
  {
   "cell_type": "markdown",
   "metadata": {},
   "source": [
    "___\n",
    "<div id=\"bb\"></div>\n",
    "\n",
    "## Ações do Banco do Brasil\n",
    "<img src=\"figuras/acoesBB.jpg\" style=\"width: 500px;\"/>\n",
    "\n",
    "Fonte: extraído da internet"
   ]
  },
  {
   "cell_type": "markdown",
   "metadata": {},
   "source": [
    "___\n",
    "<div id=\"df\"></div>\n",
    "\n",
    "**BASE DE DADOS**\n",
    "\n",
    "Para a Pergunta [2](#p2), vamos utilizar a seguinte base de dados:"
   ]
  },
  {
   "cell_type": "code",
   "execution_count": 6,
   "metadata": {},
   "outputs": [
    {
     "name": "stdout",
     "output_type": "stream",
     "text": [
      "Esperamos trabalhar no diretório\n",
      "c:\\Users\\pedro\\OneDrive\\Documentos\\GitHub\\Semestre-2\\Cdados\\A4\n"
     ]
    }
   ],
   "source": [
    "print(\"Esperamos trabalhar no diretório\")\n",
    "print(os.getcwd())"
   ]
  },
  {
   "cell_type": "code",
   "execution_count": 7,
   "metadata": {},
   "outputs": [
    {
     "name": "stdout",
     "output_type": "stream",
     "text": [
      "Parece que o arquivo retornos.xlsx está na mesma pasta do notebook da avaliação, yay!\n",
      "\n"
     ]
    }
   ],
   "source": [
    "filename = 'retornos.xlsx'\n",
    "\n",
    "if filename in os.listdir():\n",
    "    print(f'Parece que o arquivo {filename} está na mesma pasta do notebook da avaliação, yay!\\n')\n",
    "    \n",
    "else:\n",
    "    print(f'Não encontrei o arquivo {filename}.\\n'\n",
    "          f'O notebook e os arquivos de dados desta avaliação devem ser salvos dentro da mesma pasta no seu computador.\\n')"
   ]
  },
  {
   "cell_type": "code",
   "execution_count": 8,
   "metadata": {},
   "outputs": [],
   "source": [
    "# Carregando os dados e guardando em um dataframe nomeado df\n",
    "retornos = pd.read_excel(filename)"
   ]
  },
  {
   "cell_type": "code",
   "execution_count": 9,
   "metadata": {},
   "outputs": [
    {
     "data": {
      "text/html": [
       "<div>\n",
       "<style scoped>\n",
       "    .dataframe tbody tr th:only-of-type {\n",
       "        vertical-align: middle;\n",
       "    }\n",
       "\n",
       "    .dataframe tbody tr th {\n",
       "        vertical-align: top;\n",
       "    }\n",
       "\n",
       "    .dataframe thead th {\n",
       "        text-align: right;\n",
       "    }\n",
       "</style>\n",
       "<table border=\"1\" class=\"dataframe\">\n",
       "  <thead>\n",
       "    <tr style=\"text-align: right;\">\n",
       "      <th></th>\n",
       "      <th>dia</th>\n",
       "      <th>BBAS3</th>\n",
       "    </tr>\n",
       "  </thead>\n",
       "  <tbody>\n",
       "    <tr>\n",
       "      <th>0</th>\n",
       "      <td>2022-03-07</td>\n",
       "      <td>-0.043715</td>\n",
       "    </tr>\n",
       "    <tr>\n",
       "      <th>1</th>\n",
       "      <td>2022-05-05</td>\n",
       "      <td>-0.026325</td>\n",
       "    </tr>\n",
       "    <tr>\n",
       "      <th>2</th>\n",
       "      <td>2022-01-03</td>\n",
       "      <td>-0.001040</td>\n",
       "    </tr>\n",
       "    <tr>\n",
       "      <th>3</th>\n",
       "      <td>2022-01-05</td>\n",
       "      <td>-0.016778</td>\n",
       "    </tr>\n",
       "    <tr>\n",
       "      <th>4</th>\n",
       "      <td>2022-04-05</td>\n",
       "      <td>-0.026841</td>\n",
       "    </tr>\n",
       "  </tbody>\n",
       "</table>\n",
       "</div>"
      ],
      "text/plain": [
       "          dia     BBAS3\n",
       "0  2022-03-07 -0.043715\n",
       "1  2022-05-05 -0.026325\n",
       "2  2022-01-03 -0.001040\n",
       "3  2022-01-05 -0.016778\n",
       "4  2022-04-05 -0.026841"
      ]
     },
     "execution_count": 9,
     "metadata": {},
     "output_type": "execute_result"
    }
   ],
   "source": [
    "# Visualizando as primeiras linhas do dataframe\n",
    "retornos.head()"
   ]
  },
  {
   "cell_type": "markdown",
   "metadata": {},
   "source": [
    "___\n",
    "<div id=\"p2\"></div>\n",
    "\n",
    "### PERGUNTA 2  (2,50 pontos)\n",
    "\n",
    "Um investidor está com dúvidas se deve investir seu dinheiro nas ações do Banco do Brasil, já que procura um investimento que traga um retorno médio diário maior do que zero para sua aplicação.\n",
    "\n",
    "A coluna `BBAS3` do *dataframe* `retornos` traz os retornos do Banco do Brasil mensurados de janeiro a maio deste ano.\n",
    "Use esses dados como uma amostra para verificar se esse investidor deve aplicar seu dinheiro nas ações do Banco do Brasil.\n",
    "\n",
    "Assim, conduza um teste de hipóteses adequado, deixando bem claro todos os passos da construção. \n",
    "\n",
    "**Responda:**"
   ]
  },
  {
   "cell_type": "markdown",
   "metadata": {},
   "source": [
    "<div id=\"p2a\"></div>\n",
    "\n",
    "**a) (0,50 ponto)** Escreva as hipóteses nula e alternativa em termos do problema e em termos do parâmetro média populacional.\n"
   ]
  },
  {
   "cell_type": "raw",
   "metadata": {},
   "source": [
    "h0 = retorno médio diário do Banco do Brasil é menor ou igual à zero\n",
    "h1 = retorno médio diário do Banco do Brasil é maior que zero"
   ]
  },
  {
   "cell_type": "markdown",
   "metadata": {},
   "source": [
    "<div id=\"p2b\"></div>\n",
    "\n",
    "**b) (1,00 ponto)** Construa a Região Crítica do teste de hipóteses assumindo $\\alpha =0.05$ e faça uma conclusão em termos do problema."
   ]
  },
  {
   "cell_type": "code",
   "execution_count": 41,
   "metadata": {},
   "outputs": [
    {
     "name": "stdout",
     "output_type": "stream",
     "text": [
      "0.028607293122387495\n"
     ]
    },
    {
     "data": {
      "text/plain": [
       "0.050000000000000044"
      ]
     },
     "execution_count": 41,
     "metadata": {},
     "output_type": "execute_result"
    }
   ],
   "source": [
    "med = retornos.BBAS3.mean()\n",
    "sig = retornos.BBAS3.std()\n",
    "\n",
    "xc = stats.norm.ppf(0.95, 0, sig)\n",
    "print(xc)\n",
    "Rc = 1 - stats.norm.cdf(0.028607293122387495, 0, sig)\n",
    "Rc"
   ]
  },
  {
   "cell_type": "markdown",
   "metadata": {},
   "source": [
    "<div id=\"p2c\"></div>\n",
    "\n",
    "**c) (1,00 ponto)** Calcule o valor_p e faça novamente uma conclusão em termos do problema. "
   ]
  },
  {
   "cell_type": "code",
   "execution_count": 44,
   "metadata": {},
   "outputs": [
    {
     "name": "stdout",
     "output_type": "stream",
     "text": [
      "0.0016243020569009867\n"
     ]
    },
    {
     "data": {
      "text/plain": [
       "0.4627954229577209"
      ]
     },
     "execution_count": 44,
     "metadata": {},
     "output_type": "execute_result"
    }
   ],
   "source": [
    "# x = stats.norm.ppf(0.95, med, sig)\n",
    "valor_p = 1 - stats.norm.cdf(med, 0, sig)\n",
    "print(med)\n",
    "valor_p\n",
    "\n",
    "# como valor_p é maior que Rc rejetamos a falsidade de h0. "
   ]
  },
  {
   "cell_type": "markdown",
   "metadata": {},
   "source": [
    "<div id=\"p2d\"></div>\n",
    "\n",
    "**d) (0,50 ponto)** Para realizar o teste de hipóteses acima, são necessárias as suposições de **normalidade** da variável de interesse e de **amostra aleatória** para que as conclusões acima sejam confiáveis.\n",
    "\n",
    " * Faça um gráfico adequado para verificar se a suposição de normalidade da variável resposta está satisfeita. Interprete o gráfico.\n",
    " * A amostra contida no *dataframe* `retornos` satisfaz a suposição de **amostra aleatória** necessária para o teste? Por quê?"
   ]
  },
  {
   "cell_type": "code",
   "execution_count": 46,
   "metadata": {},
   "outputs": [
    {
     "data": {
      "image/png": "[encoded data removed]",
      "text/plain": [
       "<Figure size 432x288 with 1 Axes>"
      ]
     },
     "metadata": {
      "needs_background": "light"
     },
     "output_type": "display_data"
    }
   ],
   "source": [
    "ldados = list(retornos)\n",
    "stats.probplot(retornos.BBAS3, dist='norm', plot=plt);\n",
    "\n",
    "# como os percentis do DataFrame estão próximos dos percentis teóricos podemos consiferar que a base de dados "
   ]
  },
  {
   "cell_type": "raw",
   "metadata": {},
   "source": [
    "Sim, pois possui os dados reais obtidos de maneira regular"
   ]
  },
  {
   "cell_type": "markdown",
   "metadata": {},
   "source": [
    "[Volta ao Índice](#indice)"
   ]
  },
  {
   "cell_type": "markdown",
   "metadata": {},
   "source": [
    "___\n",
    "<div id=\"seletivo\"></div>\n",
    "\n",
    "## Processo Seletivo\n",
    "\n",
    "<img src=\"figuras/entrevista_emprego.jpg\"  style=\"width: 500px;\"/>\n",
    "Fonte: extraído da internet"
   ]
  },
  {
   "cell_type": "markdown",
   "metadata": {},
   "source": [
    "<div id=\"p3\"></div>\n",
    "\n",
    "### PERGUNTA 3  (4,50 pontos)\n",
    "\n",
    "Uma dificuldade das empresas é selecionar candidatos adequados para as vagas. Uma empresa deseja entender quais são os fatores associados ao desempenho de um candidato selecionado para determinado cargo ou vaga. Para isto, construiu uma base de dados com informações de $6.000$ candidatos que foram selecionados, contendo as seguintes variáveis:\n",
    "\n",
    "- `VAGA`: um inteiro que identifica a vaga\n",
    "- `ID`: um inteiro que identifica o candidato\n",
    "- `IDADE`: idade do candidato\n",
    "- `MBA`: $0$ se não tem MBA, $1$ se tem\n",
    "- `PHD`: $0$ se não tem doutorado, $1$ se tem\n",
    "- `CLOUD_CERT`: $0$ se não tem certificação para tecnologias nuvem, $1$ se tem\n",
    "- `SGBD_CERT`: $0$ se não tem certificação para sistemas de bancos de dados, $1$ se tem\n",
    "- `HORAS_ESTUDO`: horas semanais dedicadas a estudo\n",
    "- `QT_FILHOS`: quantidade de filhos\n",
    "- `CNH`: $0$ se não tem carteira de motorista, $1$ se tem\n",
    "- `ANOS_EXP`: anos de experiência na área de atuação\n",
    "- `SCORE`: pontuação em teste de desempenho após um ano na vaga/cargo"
   ]
  },
  {
   "cell_type": "markdown",
   "metadata": {},
   "source": [
    "Então, você decidiu utilizar modelos de regressão linear para:\n",
    "- Entender quais variáveis influenciam o desempenho do candidato (`SCORE`)\n",
    "- Prever qual seria o `SCORE` de um candidato com base em suas informações\n",
    "\n",
    "Para ter acesso aos dados, faça a leitura do arquivo `empregos.xlsx` em um Pandas DataFrame. Além disso, aconselhamos fazer a exibição do cabeçalho do DataFrame."
   ]
  },
  {
   "cell_type": "code",
   "execution_count": 47,
   "metadata": {},
   "outputs": [],
   "source": [
    "empregos = pd.read_excel('empregos.xlsx')"
   ]
  },
  {
   "cell_type": "markdown",
   "metadata": {},
   "source": [
    "<div id=\"p3atencao\"></div>\n",
    "\n",
    "### Atenção!\n",
    "\n",
    "A base de dados contém informações de três `VAGA` diferentes. Porém, você foi alocado para analisar apenas uma delas!\n",
    "\n",
    "Antes de começar, rode a célula abaixo e informe seu **usuário insper** (até antes da arroba) para descobrir em qual `VAGA` você deve focar sua análise!\n",
    "\n",
    "Exemplo: se o seu email insper for `jose5@al.insper.edu.br`, informe no campo abaixo `jose5` como seu usuário"
   ]
  },
  {
   "cell_type": "code",
   "execution_count": 48,
   "metadata": {
    "scrolled": true
   },
   "outputs": [
    {
     "name": "stdout",
     "output_type": "stream",
     "text": [
      "\n",
      "Você deve trabalhar com a VAGA 2\n"
     ]
    }
   ],
   "source": [
    "# Não altere nada nesta célula, passível de desconto\n",
    "usuario = input('Informe seu usuário Insper (até antes da arroba, mas sem arroba): ').strip()\n",
    "\n",
    "vaga = 0\n",
    "for c in usuario:\n",
    "    vaga += ord(c)\n",
    "vaga %= 3\n",
    "\n",
    "print(f'\\nVocê deve trabalhar com a VAGA {vaga}')"
   ]
  },
  {
   "cell_type": "markdown",
   "metadata": {},
   "source": [
    "**Responda:**"
   ]
  },
  {
   "cell_type": "markdown",
   "metadata": {},
   "source": [
    "<div id=\"p3a\"></div>\n",
    "\n",
    "**a) (0,25 ponto)** Crie um novo DataFrame chamado `df_vaga`, contendo apenas os dados da `VAGA` em que você deve focar suas análises (indicada na [célula anterior](#p3atencao))"
   ]
  },
  {
   "cell_type": "code",
   "execution_count": 68,
   "metadata": {},
   "outputs": [],
   "source": [
    "vaga2 = empregos.VAGA == 2\n",
    "\n",
    "df_vaga2 = empregos.loc[vaga2, :]\n",
    "df_vaga2.to_csv('df_vaga.csv')"
   ]
  },
  {
   "cell_type": "code",
   "execution_count": 69,
   "metadata": {},
   "outputs": [],
   "source": [
    "df_vaga = pd.read_csv('df_vaga.csv')"
   ]
  },
  {
   "cell_type": "markdown",
   "metadata": {},
   "source": [
    "<div id=\"p3b\"></div>\n",
    "\n",
    "**b) (0,50 ponto)** Antes de criar um modelo de regressão, vamos pensar em quais variáveis faz sentido utilizarmos no modelo.\n",
    "\n",
    "Com base apenas na descrição do problema e das variáveis (informada no início da [QUESTÃO 3](#p3)) e considerando o filtro realizado no [item anterior](#p3a), escreva um texto que responda detalhadamente a seguinte questão:\n",
    "\n",
    "\"***Faz sentido adicionar todas as colunas da base de dados como explicativas (features) no modelo de regressão? Em caso negativo, informe quais variáveis não estariam entre as explicativas (features) e explique o motivo.***\""
   ]
  },
  {
   "cell_type": "markdown",
   "metadata": {},
   "source": [
    "**R:** Dê dois cliques e edite sua resposta aqui!"
   ]
  },
  {
   "cell_type": "raw",
   "metadata": {},
   "source": [
    "Não faz, retirariamos as variáveis com baixa correlação com o score dos candidatos, pois nesse caso elas em nada ajudariam e poderiam até mesmo gerar ruido em nossa previssão."
   ]
  },
  {
   "cell_type": "markdown",
   "metadata": {},
   "source": [
    "<div id=\"p3c\"></div>\n",
    "\n",
    "**c) (0,50 ponto)** Com base na descrição do problema e nas variáveis informadas no [item anterior](#p3b), separe `df_vaga` em variáveis explicativas (features) e variável resposta (target). Então, crie um primeiro modelo de regressão múltipla e exiba seus resultados (resumo, sumário)."
   ]
  },
  {
   "cell_type": "code",
   "execution_count": 73,
   "metadata": {},
   "outputs": [],
   "source": [
    "def regress(Y,X):\n",
    "    X_cp = sm.add_constant(X)\n",
    "    model = sm.OLS(Y,X_cp)\n",
    "    results = model.fit()\n",
    "    \n",
    "    return results"
   ]
  },
  {
   "cell_type": "code",
   "execution_count": 101,
   "metadata": {},
   "outputs": [
    {
     "data": {
      "text/html": [
       "<table class=\"simpletable\">\n",
       "<caption>OLS Regression Results</caption>\n",
       "<tr>\n",
       "  <th>Dep. Variable:</th>          <td>SCORE</td>      <th>  R-squared:         </th> <td>   0.810</td> \n",
       "</tr>\n",
       "<tr>\n",
       "  <th>Model:</th>                   <td>OLS</td>       <th>  Adj. R-squared:    </th> <td>   0.809</td> \n",
       "</tr>\n",
       "<tr>\n",
       "  <th>Method:</th>             <td>Least Squares</td>  <th>  F-statistic:       </th> <td>   927.9</td> \n",
       "</tr>\n",
       "<tr>\n",
       "  <th>Date:</th>             <td>Tue, 14 Jun 2022</td> <th>  Prob (F-statistic):</th>  <td>  0.00</td>  \n",
       "</tr>\n",
       "<tr>\n",
       "  <th>Time:</th>                 <td>15:51:37</td>     <th>  Log-Likelihood:    </th> <td> -5912.5</td> \n",
       "</tr>\n",
       "<tr>\n",
       "  <th>No. Observations:</th>      <td>  1968</td>      <th>  AIC:               </th> <td>1.185e+04</td>\n",
       "</tr>\n",
       "<tr>\n",
       "  <th>Df Residuals:</th>          <td>  1958</td>      <th>  BIC:               </th> <td>1.190e+04</td>\n",
       "</tr>\n",
       "<tr>\n",
       "  <th>Df Model:</th>              <td>     9</td>      <th>                     </th>     <td> </td>    \n",
       "</tr>\n",
       "<tr>\n",
       "  <th>Covariance Type:</th>      <td>nonrobust</td>    <th>                     </th>     <td> </td>    \n",
       "</tr>\n",
       "</table>\n",
       "<table class=\"simpletable\">\n",
       "<tr>\n",
       "        <td></td>          <th>coef</th>     <th>std err</th>      <th>t</th>      <th>P>|t|</th>  <th>[0.025</th>    <th>0.975]</th>  \n",
       "</tr>\n",
       "<tr>\n",
       "  <th>const</th>        <td>    3.1718</td> <td>    0.112</td> <td>   28.240</td> <td> 0.000</td> <td>    2.952</td> <td>    3.392</td>\n",
       "</tr>\n",
       "<tr>\n",
       "  <th>ID</th>           <td>   -0.0001</td> <td>  6.4e-05</td> <td>   -1.657</td> <td> 0.098</td> <td>   -0.000</td> <td> 1.94e-05</td>\n",
       "</tr>\n",
       "<tr>\n",
       "  <th>IDADE</th>        <td>   -0.4321</td> <td>    0.141</td> <td>   -3.064</td> <td> 0.002</td> <td>   -0.709</td> <td>   -0.155</td>\n",
       "</tr>\n",
       "<tr>\n",
       "  <th>MBA</th>          <td>   12.3034</td> <td>    0.221</td> <td>   55.735</td> <td> 0.000</td> <td>   11.870</td> <td>   12.736</td>\n",
       "</tr>\n",
       "<tr>\n",
       "  <th>PHD</th>          <td>   -0.4477</td> <td>    0.221</td> <td>   -2.027</td> <td> 0.043</td> <td>   -0.881</td> <td>   -0.015</td>\n",
       "</tr>\n",
       "<tr>\n",
       "  <th>CLOUD_CERT</th>   <td>    0.1497</td> <td>    0.221</td> <td>    0.677</td> <td> 0.498</td> <td>   -0.284</td> <td>    0.583</td>\n",
       "</tr>\n",
       "<tr>\n",
       "  <th>SGBD_CERT</th>    <td>   -0.0489</td> <td>    0.221</td> <td>   -0.221</td> <td> 0.825</td> <td>   -0.482</td> <td>    0.385</td>\n",
       "</tr>\n",
       "<tr>\n",
       "  <th>HORAS_ESTUDO</th> <td>   -0.0854</td> <td>    0.075</td> <td>   -1.141</td> <td> 0.254</td> <td>   -0.232</td> <td>    0.061</td>\n",
       "</tr>\n",
       "<tr>\n",
       "  <th>QT_FILHOS</th>    <td>   -0.9941</td> <td>    0.110</td> <td>   -9.040</td> <td> 0.000</td> <td>   -1.210</td> <td>   -0.778</td>\n",
       "</tr>\n",
       "<tr>\n",
       "  <th>CNH</th>          <td>    0.2790</td> <td>    0.221</td> <td>    1.262</td> <td> 0.207</td> <td>   -0.155</td> <td>    0.712</td>\n",
       "</tr>\n",
       "<tr>\n",
       "  <th>ANOS_EXP</th>     <td>   11.9419</td> <td>    0.389</td> <td>   30.685</td> <td> 0.000</td> <td>   11.179</td> <td>   12.705</td>\n",
       "</tr>\n",
       "</table>\n",
       "<table class=\"simpletable\">\n",
       "<tr>\n",
       "  <th>Omnibus:</th>       <td> 5.730</td> <th>  Durbin-Watson:     </th> <td>   1.950</td>\n",
       "</tr>\n",
       "<tr>\n",
       "  <th>Prob(Omnibus):</th> <td> 0.057</td> <th>  Jarque-Bera (JB):  </th> <td>   4.701</td>\n",
       "</tr>\n",
       "<tr>\n",
       "  <th>Skew:</th>          <td> 0.010</td> <th>  Prob(JB):          </th> <td>  0.0953</td>\n",
       "</tr>\n",
       "<tr>\n",
       "  <th>Kurtosis:</th>      <td> 2.761</td> <th>  Cond. No.          </th> <td>4.46e+17</td>\n",
       "</tr>\n",
       "</table><br/><br/>Notes:<br/>[1] Standard Errors assume that the covariance matrix of the errors is correctly specified.<br/>[2] The smallest eigenvalue is 1.16e-25. This might indicate that there are<br/>strong multicollinearity problems or that the design matrix is singular."
      ],
      "text/plain": [
       "<class 'statsmodels.iolib.summary.Summary'>\n",
       "\"\"\"\n",
       "                            OLS Regression Results                            \n",
       "==============================================================================\n",
       "Dep. Variable:                  SCORE   R-squared:                       0.810\n",
       "Model:                            OLS   Adj. R-squared:                  0.809\n",
       "Method:                 Least Squares   F-statistic:                     927.9\n",
       "Date:                Tue, 14 Jun 2022   Prob (F-statistic):               0.00\n",
       "Time:                        15:51:37   Log-Likelihood:                -5912.5\n",
       "No. Observations:                1968   AIC:                         1.185e+04\n",
       "Df Residuals:                    1958   BIC:                         1.190e+04\n",
       "Df Model:                           9                                         \n",
       "Covariance Type:            nonrobust                                         \n",
       "================================================================================\n",
       "                   coef    std err          t      P>|t|      [0.025      0.975]\n",
       "--------------------------------------------------------------------------------\n",
       "const            3.1718      0.112     28.240      0.000       2.952       3.392\n",
       "ID              -0.0001    6.4e-05     -1.657      0.098      -0.000    1.94e-05\n",
       "IDADE           -0.4321      0.141     -3.064      0.002      -0.709      -0.155\n",
       "MBA             12.3034      0.221     55.735      0.000      11.870      12.736\n",
       "PHD             -0.4477      0.221     -2.027      0.043      -0.881      -0.015\n",
       "CLOUD_CERT       0.1497      0.221      0.677      0.498      -0.284       0.583\n",
       "SGBD_CERT       -0.0489      0.221     -0.221      0.825      -0.482       0.385\n",
       "HORAS_ESTUDO    -0.0854      0.075     -1.141      0.254      -0.232       0.061\n",
       "QT_FILHOS       -0.9941      0.110     -9.040      0.000      -1.210      -0.778\n",
       "CNH              0.2790      0.221      1.262      0.207      -0.155       0.712\n",
       "ANOS_EXP        11.9419      0.389     30.685      0.000      11.179      12.705\n",
       "==============================================================================\n",
       "Omnibus:                        5.730   Durbin-Watson:                   1.950\n",
       "Prob(Omnibus):                  0.057   Jarque-Bera (JB):                4.701\n",
       "Skew:                           0.010   Prob(JB):                       0.0953\n",
       "Kurtosis:                       2.761   Cond. No.                     4.46e+17\n",
       "==============================================================================\n",
       "\n",
       "Notes:\n",
       "[1] Standard Errors assume that the covariance matrix of the errors is correctly specified.\n",
       "[2] The smallest eigenvalue is 1.16e-25. This might indicate that there are\n",
       "strong multicollinearity problems or that the design matrix is singular.\n",
       "\"\"\""
      ]
     },
     "execution_count": 101,
     "metadata": {},
     "output_type": "execute_result"
    }
   ],
   "source": [
    "Y = df_vaga.SCORE\n",
    "X = df_vaga[['ID', 'IDADE', 'MBA', 'PHD', 'CLOUD_CERT', 'SGBD_CERT', 'HORAS_ESTUDO', 'QT_FILHOS', 'CNH', 'ANOS_EXP']]\n",
    "\n",
    "results = regress(Y,X)\n",
    "results.summary()"
   ]
  },
  {
   "cell_type": "markdown",
   "metadata": {},
   "source": [
    "<div id=\"p3d\"></div>\n",
    "\n",
    "**d) (0,50 ponto)** Com base no sumário da primeira versão de modelo de regressão (criado no [item c](#p3c) desta questão), analise a seguinte afirmação:\n",
    "\n",
    "\"***A variável `PHD` é útil para prever o `SCORE` de um candidato***\"\n",
    "\n",
    "Informe se é verdadeira ou falsa e escreva um texto detalhando sua decisão (com suas palavras)."
   ]
  },
  {
   "cell_type": "raw",
   "metadata": {},
   "source": [
    "baseado no valor_p(0.043) dessa vaiável impependente eu diria que não pois há outras variáveis com valor_p menor que 0.001. Contudo esse valor pode ser drasticamente reduzido ao longo da regressão"
   ]
  },
  {
   "cell_type": "markdown",
   "metadata": {},
   "source": [
    "<div id=\"p3e\"></div>\n",
    "\n",
    "**e) (1,00 ponto)** Todas as variáveis são importantes para prever o `SCORE`? Escreva um texto explicando qual seria um processo adequado para tomada de decisão de quais variáveis remover do modelo.\n",
    "\n",
    "Em seguida, faça o passo a passo do processo. Adicione comentários explicando o que fez."
   ]
  },
  {
   "cell_type": "raw",
   "metadata": {},
   "source": [
    "As variáveis com valor_p maior que 0.001 deveriam ser retiradas uma a uma da com maior valor_p para a menor. Mas toda vez que retirarmos uma variável devemos recalcular os valores p de todas que ficaram. "
   ]
  },
  {
   "cell_type": "code",
   "execution_count": 96,
   "metadata": {},
   "outputs": [
    {
     "data": {
      "text/plain": [
       "const        3.607519e-05\n",
       "MBA          0.000000e+00\n",
       "QT_FILHOS    2.716589e-19\n",
       "ANOS_EXP     0.000000e+00\n",
       "dtype: float64"
      ]
     },
     "execution_count": 96,
     "metadata": {},
     "output_type": "execute_result"
    }
   ],
   "source": [
    "Y = df_vaga.SCORE\n",
    "X = df_vaga[['ID', 'IDADE', 'MBA', 'PHD', 'CLOUD_CERT', 'SGBD_CERT', 'HORAS_ESTUDO', 'QT_FILHOS', 'CNH', 'ANOS_EXP']]\n",
    "results = regress(Y,X)\n",
    "results.pvalues\n",
    "# maior pvalue era SGBD_CERT. Retirei essa variavel e refiz os calculos\n",
    "\n",
    "X = X.drop('SGBD_CERT',\n",
    " axis=1)\n",
    "results = regress(Y,X)\n",
    "results.pvalues\n",
    "# maior pvalue era CLOUD_CERT. Retirei essa variavel e refiz os calculos\n",
    "\n",
    "X = X.drop('CLOUD_CERT', axis=1)\n",
    "results = regress(Y,X)\n",
    "results.pvalues\n",
    "# maior pvalue era HORAS_ESTUDO. Retirei essa variavel e refiz os calculos\n",
    "\n",
    "X = X.drop('HORAS_ESTUDO', axis=1)\n",
    "results = regress(Y,X)\n",
    "results.pvalues\n",
    "# maior pvalue era CNH. Retirei essa variavel e refiz os calculos\n",
    "\n",
    "X = X.drop('CNH', axis=1)\n",
    "results = regress(Y,X)\n",
    "results.pvalues\n",
    "# maior pvalue era PHD. Retirei essa variavel e refiz os calculos\n",
    "\n",
    "X = X.drop('PHD', axis=1)\n",
    "results = regress(Y,X)\n",
    "results.pvalues\n",
    "# maior pvalue era ID. Retirei essa variavel e refiz os calculos\n",
    "\n",
    "X = X.drop('ID', axis=1)\n",
    "results = regress(Y,X)\n",
    "results.pvalues\n",
    "# maior pvalue era IDADE. Retirei essa variavel e refiz os calculos\n",
    "\n",
    "X = X.drop('IDADE', axis=1)\n",
    "results = regress(Y,X)\n",
    "results.pvalues\n",
    "# cheguei nas minhas variaveis independentes finais\n"
   ]
  },
  {
   "cell_type": "markdown",
   "metadata": {},
   "source": [
    "<div id=\"p3f\"></div>\n",
    "\n",
    "**f) (0,75 ponto)** Escreva um texto detalhado que explique/interprete com suas palavras o significado do coeficiente da variável `IDADE` na versão final do seu modelo de regressão múltipla ([item e](#p3e))."
   ]
  },
  {
   "cell_type": "raw",
   "metadata": {},
   "source": [
    "Usarei o primeiro modelo sem a coluna ID\n",
    "\n",
    "como o coeficiente idade é negativo, chegamos ao infeliz entendimento de que quanto mais velho é o candidato menor é seu score"
   ]
  },
  {
   "cell_type": "markdown",
   "metadata": {},
   "source": [
    "<div id=\"p3g\"></div>\n",
    "\n",
    "**g) (1,00 ponto)** Analise, na versão final do seu modelo ([item e](#p3e)), se as suposições do modelo de regressão linear são válidas. Utilize recursos gráficos adequados e escreva um texto detalhando sua resposta."
   ]
  },
  {
   "cell_type": "raw",
   "metadata": {},
   "source": []
  },
  {
   "cell_type": "code",
   "execution_count": 102,
   "metadata": {},
   "outputs": [
    {
     "ename": "TypeError",
     "evalue": "add_constant() got an unexpected keyword argument 'axis'",
     "output_type": "error",
     "traceback": [
      "\u001b[1;31m---------------------------------------------------------------------------\u001b[0m",
      "\u001b[1;31mTypeError\u001b[0m                                 Traceback (most recent call last)",
      "\u001b[1;32mc:\\Users\\pedro\\OneDrive\\Documentos\\GitHub\\Semestre-2\\Cdados\\A4\\CD2022_1_A4_vf.ipynb Cell 66'\u001b[0m in \u001b[0;36m<cell line: 1>\u001b[1;34m()\u001b[0m\n\u001b[1;32m----> <a href='vscode-notebook-cell:/c%3A/Users/pedro/OneDrive/Documentos/GitHub/Semestre-2/Cdados/A4/CD2022_1_A4_vf.ipynb#ch0000067?line=0'>1</a>\u001b[0m y_predcti \u001b[39m=\u001b[39m results\u001b[39m.\u001b[39mpredict(sm\u001b[39m.\u001b[39;49madd_constant(X, axis\u001b[39m=\u001b[39;49m\u001b[39m1\u001b[39;49m))\n\u001b[0;32m      <a href='vscode-notebook-cell:/c%3A/Users/pedro/OneDrive/Documentos/GitHub/Semestre-2/Cdados/A4/CD2022_1_A4_vf.ipynb#ch0000067?line=2'>3</a>\u001b[0m plt\u001b[39m.\u001b[39mscatter(X[\u001b[39m'\u001b[39m\u001b[39mMBA\u001b[39m\u001b[39m'\u001b[39m], Y\u001b[39m.\u001b[39mSCORE)\n\u001b[0;32m      <a href='vscode-notebook-cell:/c%3A/Users/pedro/OneDrive/Documentos/GitHub/Semestre-2/Cdados/A4/CD2022_1_A4_vf.ipynb#ch0000067?line=3'>4</a>\u001b[0m \u001b[39m# plt.plot(X.MBA ,y_predcti)\u001b[39;00m\n",
      "\u001b[1;31mTypeError\u001b[0m: add_constant() got an unexpected keyword argument 'axis'"
     ]
    }
   ],
   "source": [
    "y_predcti = results.predict(sm.add_constant(X, axis=1))\n",
    "\n",
    "plt.scatter(X['MBA'], Y.SCORE)\n",
    "# plt.plot(X.MBA ,y_predcti)\n",
    "plt.show()"
   ]
  },
  {
   "cell_type": "markdown",
   "metadata": {},
   "source": [
    "[Volta ao Índice](#indice)"
   ]
  }
 ],
 "metadata": {
  "kernelspec": {
   "display_name": "Python 3.9.12 ('base')",
   "language": "python",
   "name": "python3"
  },
  "language_info": {
   "codemirror_mode": {
    "name": "ipython",
    "version": 3
   },
   "file_extension": ".py",
   "mimetype": "text/x-python",
   "name": "python",
   "nbconvert_exporter": "python",
   "pygments_lexer": "ipython3",
   "version": "3.9.12"
  },
  "vscode": {
   "interpreter": {
    "hash": "ad2bdc8ecc057115af97d19610ffacc2b4e99fae6737bb82f5d7fb13d2f2c186"
   }
  }
 },
 "nbformat": 4,
 "nbformat_minor": 4
}
