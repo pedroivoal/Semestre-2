{
 "cells": [
  {
   "cell_type": "markdown",
   "metadata": {},
   "source": [
    "___\n",
    "# Atividade: Análise Exploratória - Duas variáveis quantitativas\n",
    "___\n",
    "\n",
    "## Aula 04"
   ]
  },
  {
   "cell_type": "markdown",
   "metadata": {},
   "source": [
    "<div id=\"indice\"></div>\n",
    "\n",
    "## Índice\n",
    "\n",
    "- [Mundo](#mundo)\n",
    "- [Gráfico de Dispersão](#grafico-dispersao)\n",
    "    - [Exercício 1](#ex1)\n",
    "    - [Exercício 2](#ex2)\n",
    "    - [Exercício 3](#ex3)\n",
    "- [Coeficiênte de Covariância](#covariancia)\n",
    "    - [Exercício 4](#ex4)\n",
    "    - [Exercício 5](#ex5)\n",
    "    - [Exercício 6](#ex6)\n",
    "- [Coeficiente de Correlação Linear](#correlacao)\n",
    "    - [Exercício 7](#ex7)\n",
    "    - [Exercício 8](#ex8)\n",
    "    - [Exercício 9 (opcional)](#ex9)\n",
    "- [Lista de comandos utilizados neste notebook](#comandos)\n",
    "\n",
    "___"
   ]
  },
  {
   "cell_type": "markdown",
   "metadata": {},
   "source": [
    "<div id=\"mundo\"></div>\n",
    "\n",
    "___\n",
    "## <font color='blue'>Mundo</font>\n",
    "\n",
    "A análise bidimensional tem como objetivo encontrar associação ou relação entre as variáveis quantitativas. Essas relações podem ser identificadas através de gráficos ou medidas numéricas. Entende-se por associação a mudança de opinião sobre o comportamento de uma variável na presença de informação sobre a segunda variável.\n",
    "\n",
    "Inicialmente, a base de dados `Mundo.xlsx` será explorada com intuito de entender a associação entre algumas de suas variáveis quantitativas. Esse conjunto de dados contém alguns indicadores socioeconômicos referentes ao ano de 2008 para 85 países, os quais são:  \n",
    "\n",
    "- `X1`: população em milhares de habitantes  \n",
    "- `X2`: densidade populacional  \n",
    "- `X3`: % de população urbana  \n",
    "- `X4`: expectativa de vida feminina  \n",
    "- `X5`: expectativa de vida masculina  \n",
    "- `X6`: crescimento populacional  \n",
    "- `X7`: mortalidade infantil  \n",
    "- `X8`: PIB per capita  \n",
    "- `X9`: % de mulheres alfabetizadas  \n",
    "- `X10`: população em 100.000 habitantes  \n",
    "\n",
    "Neste estudo queremos explorar possíveis associações entre as variáveis da nossa base de dados."
   ]
  },
  {
   "cell_type": "code",
   "execution_count": 1,
   "metadata": {},
   "outputs": [
    {
     "name": "stdout",
     "output_type": "stream",
     "text": [
      "Esperamos trabalhar no diretório\n",
      "c:\\Users\\pedro\\OneDrive\\Documentos\\GitHub\\Semestre-2\\Cdados\\aula04\n"
     ]
    }
   ],
   "source": [
    "%matplotlib inline\n",
    "# A linha acima é necessária para visualizar os gráficos no jupyter notebook\n",
    "\n",
    "import os\n",
    "import pandas as pd\n",
    "# Módulo com funções matemáticas para arrays multidimensionais (matrizes)\n",
    "import numpy as np\n",
    "# Módulo com funções de geração de gráficos\n",
    "import matplotlib.pyplot as plt\n",
    "\n",
    "print('Esperamos trabalhar no diretório')\n",
    "print(os.getcwd())"
   ]
  },
  {
   "cell_type": "code",
   "execution_count": 2,
   "metadata": {},
   "outputs": [
    {
     "data": {
      "text/html": [
       "<div>\n",
       "<style scoped>\n",
       "    .dataframe tbody tr th:only-of-type {\n",
       "        vertical-align: middle;\n",
       "    }\n",
       "\n",
       "    .dataframe tbody tr th {\n",
       "        vertical-align: top;\n",
       "    }\n",
       "\n",
       "    .dataframe thead th {\n",
       "        text-align: right;\n",
       "    }\n",
       "</style>\n",
       "<table border=\"1\" class=\"dataframe\">\n",
       "  <thead>\n",
       "    <tr style=\"text-align: right;\">\n",
       "      <th></th>\n",
       "      <th>i</th>\n",
       "      <th>X1</th>\n",
       "      <th>X2</th>\n",
       "      <th>X3</th>\n",
       "      <th>X4</th>\n",
       "      <th>X5</th>\n",
       "      <th>X6</th>\n",
       "      <th>X7</th>\n",
       "      <th>X8</th>\n",
       "      <th>X9</th>\n",
       "      <th>X10</th>\n",
       "      <th>Unnamed: 11</th>\n",
       "    </tr>\n",
       "  </thead>\n",
       "  <tbody>\n",
       "    <tr>\n",
       "      <th>0</th>\n",
       "      <td>1</td>\n",
       "      <td>20500</td>\n",
       "      <td>25.0</td>\n",
       "      <td>18</td>\n",
       "      <td>44</td>\n",
       "      <td>45</td>\n",
       "      <td>2.80</td>\n",
       "      <td>168.0</td>\n",
       "      <td>205</td>\n",
       "      <td>14</td>\n",
       "      <td>0.205</td>\n",
       "      <td>NaN</td>\n",
       "    </tr>\n",
       "    <tr>\n",
       "      <th>1</th>\n",
       "      <td>2</td>\n",
       "      <td>33900</td>\n",
       "      <td>12.0</td>\n",
       "      <td>86</td>\n",
       "      <td>75</td>\n",
       "      <td>68</td>\n",
       "      <td>1.30</td>\n",
       "      <td>25.6</td>\n",
       "      <td>3408</td>\n",
       "      <td>95</td>\n",
       "      <td>0.339</td>\n",
       "      <td>NaN</td>\n",
       "    </tr>\n",
       "    <tr>\n",
       "      <th>2</th>\n",
       "      <td>3</td>\n",
       "      <td>3700</td>\n",
       "      <td>126.0</td>\n",
       "      <td>68</td>\n",
       "      <td>75</td>\n",
       "      <td>68</td>\n",
       "      <td>1.40</td>\n",
       "      <td>27.0</td>\n",
       "      <td>5000</td>\n",
       "      <td>100</td>\n",
       "      <td>0.037</td>\n",
       "      <td>NaN</td>\n",
       "    </tr>\n",
       "    <tr>\n",
       "      <th>3</th>\n",
       "      <td>4</td>\n",
       "      <td>17800</td>\n",
       "      <td>2.3</td>\n",
       "      <td>85</td>\n",
       "      <td>80</td>\n",
       "      <td>74</td>\n",
       "      <td>1.38</td>\n",
       "      <td>7.3</td>\n",
       "      <td>16848</td>\n",
       "      <td>100</td>\n",
       "      <td>0.178</td>\n",
       "      <td>NaN</td>\n",
       "    </tr>\n",
       "    <tr>\n",
       "      <th>4</th>\n",
       "      <td>5</td>\n",
       "      <td>7400</td>\n",
       "      <td>86.0</td>\n",
       "      <td>54</td>\n",
       "      <td>75</td>\n",
       "      <td>67</td>\n",
       "      <td>1.40</td>\n",
       "      <td>35.0</td>\n",
       "      <td>3000</td>\n",
       "      <td>100</td>\n",
       "      <td>0.074</td>\n",
       "      <td>NaN</td>\n",
       "    </tr>\n",
       "  </tbody>\n",
       "</table>\n",
       "</div>"
      ],
      "text/plain": [
       "   i     X1     X2  X3  X4  X5    X6     X7     X8   X9    X10  Unnamed: 11\n",
       "0  1  20500   25.0  18  44  45  2.80  168.0    205   14  0.205          NaN\n",
       "1  2  33900   12.0  86  75  68  1.30   25.6   3408   95  0.339          NaN\n",
       "2  3   3700  126.0  68  75  68  1.40   27.0   5000  100  0.037          NaN\n",
       "3  4  17800    2.3  85  80  74  1.38    7.3  16848  100  0.178          NaN\n",
       "4  5   7400   86.0  54  75  67  1.40   35.0   3000  100  0.074          NaN"
      ]
     },
     "execution_count": 2,
     "metadata": {},
     "output_type": "execute_result"
    }
   ],
   "source": [
    "# Carregando os dados\n",
    "mundo = pd.read_excel('Mundo.xlsx')\n",
    "mundo.head(5)"
   ]
  },
  {
   "cell_type": "markdown",
   "metadata": {},
   "source": [
    "[Volta ao Índice](#indice)"
   ]
  },
  {
   "cell_type": "markdown",
   "metadata": {},
   "source": [
    "<div id=\"grafico-dispersao\"></div>\n",
    "\n",
    "## Gráfico de Dispersão\n",
    "\n",
    "Um gráfico de dispersão pode ser utilizado para compreender a relação entre duas variáveis quantitativas. Não necessariamente essa relação implica em causalidade (https://economiadependrive.wordpress.com/2014/09/25/correlacao-nao-implica-em-causalidade/)  e, em alguns casos, pode se tratar de uma relação espúria (http://www.tylervigen.com/spurious-correlations).\n",
    "\n",
    "Vamos construir um gráfico de dispersão entre as variáveis `X3` (eixo das abscissas) e `X4` (eixo das ordenadas). Cada ponto ⧫ desse gráfico representa um país da base de dados com o par de coordenadas nessas duas variáveis quantitativas.\n",
    "\n",
    "Utilizaremos a biblioteca `matplotlib` para construir nossos gráficos. Se tiver curiosidade, um artigo introdutório sobre a biblioteca pode ser encontrado aqui: https://realpython.com/python-matplotlib-guide/\n",
    "\n",
    "<div id=\"plt-scatter\"></div>\n",
    "<div id=\"plt-show\"></div>"
   ]
  },
  {
   "cell_type": "code",
   "execution_count": 3,
   "metadata": {},
   "outputs": [
    {
     "data": {
      "image/png": "[encoded data removed]",
      "text/plain": [
       "<Figure size 432x288 with 1 Axes>"
      ]
     },
     "metadata": {
      "needs_background": "light"
     },
     "output_type": "display_data"
    }
   ],
   "source": [
    "# Lembre-se que mundo.X3 é equivalente a mundo['X3']\n",
    "plt.scatter(mundo.X3, mundo.X4)\n",
    "plt.show()\n"
   ]
  },
  {
   "cell_type": "markdown",
   "metadata": {},
   "source": [
    "O gráfico acima ainda está bastante incompleto. Suponha que você precisa apresentar essas visualizações para outra pessoa. O que está faltando?\n",
    "\n",
    "...\n",
    "\n",
    "É importante que uma visualização seja compreensível sem a necessidade de uma pessoa apresentando. Para chegar nesse ponto com o nosso gráfico faltam algumas coisas básicas: sobre o que esse gráfico trata (título)? O que significam os valores em cada eixo (x e y)?\n",
    "\n",
    "Além disso, é difícil saber se uma região tem mais pontos do que outra se os pontos estão sobrepostos. Vamos mudar a cor dos pontos e adicionar transparência. Assim, se muitos pontos estiverem sobrepostos a região será mais escura. Procure pela documentação da função `scatter` do `matplotlib` para saber outras possíveis modificações.\n",
    "\n",
    "Vamos adicionar essas informações:\n",
    "\n",
    "<div id=\"plt-title\"></div>\n",
    "<div id=\"plt-xlabel\"></div>\n",
    "<div id=\"plt-ylabel\"></div>"
   ]
  },
  {
   "cell_type": "code",
   "execution_count": 4,
   "metadata": {},
   "outputs": [
    {
     "data": {
      "image/png": "[encoded data removed]",
      "text/plain": [
       "<Figure size 432x288 with 1 Axes>"
      ]
     },
     "metadata": {
      "needs_background": "light"
     },
     "output_type": "display_data"
    }
   ],
   "source": [
    "plt.scatter(mundo.X3, mundo.X4, c='red', alpha=0.6)\n",
    "plt.title('X3 versus X4')\n",
    "plt.xlabel('% de população urbana')\n",
    "plt.ylabel('Expectativa de vida Feminina')\n",
    "plt.show()"
   ]
  },
  {
   "cell_type": "markdown",
   "metadata": {},
   "source": [
    "Bem mais claro! Mas o que podemos aprender com esse gráfico de dispersão? "
   ]
  },
  {
   "cell_type": "markdown",
   "metadata": {},
   "source": [
    "### Observação\n",
    "\n",
    "Note que o `DataFrame` do *pandas* também possui um método que gera um gráfico de dispersão (*scatterplot*). Ele é compatível com o `matplotlib`, então pode ser utilizado para substituir o comando `plt.scatter` mantendo o resto do código intacto.\n",
    "\n",
    "<div id=\"df-scatter\"></div>"
   ]
  },
  {
   "cell_type": "code",
   "execution_count": 5,
   "metadata": {
    "scrolled": true
   },
   "outputs": [
    {
     "data": {
      "image/png": "[encoded data removed]",
      "text/plain": [
       "<Figure size 432x288 with 1 Axes>"
      ]
     },
     "metadata": {
      "needs_background": "light"
     },
     "output_type": "display_data"
    }
   ],
   "source": [
    "mundo.plot.scatter(x=\"X3\", y=\"X4\");"
   ]
  },
  {
   "cell_type": "markdown",
   "metadata": {},
   "source": [
    "[Volta ao Índice](#indice)"
   ]
  },
  {
   "cell_type": "markdown",
   "metadata": {},
   "source": [
    "<div id=\"ex1\"></div>\n",
    "\n",
    "### EXERCÍCIO 1:\n",
    "\n",
    "Considerando apenas o gráfico, você espera que exista algum tipo de associação entre as variáveis `X3` e `X4`? Se sim, você espera que essa associação seja positiva ou negativa? Forte ou fraca?"
   ]
  },
  {
   "cell_type": "raw",
   "metadata": {},
   "source": [
    "ESCREVA AQUI SUA RESPOSTA\n",
    "Sim. Essa é uma associação positiva que parece ser média."
   ]
  },
  {
   "cell_type": "markdown",
   "metadata": {},
   "source": [
    "Nessa análise exploratória nós vamos explorar diversas relações entre duas variáveis. Ao criarmos um novo gráfico para cada relação, vamos precisar de bastante espaço. Uma maneira de utilizar o espaço mais eficientemente é desenhar os gráficos lado a lado.\n",
    "\n",
    "Para criar mais do que um gráfico na mesma figura, precisamos inicialmente criar uma `plt.figure`.\n",
    "\n",
    "<div id=\"plt-figure\"></div>\n",
    "<div id=\"plt-subplot\"></div>"
   ]
  },
  {
   "cell_type": "code",
   "execution_count": 6,
   "metadata": {
    "scrolled": false
   },
   "outputs": [
    {
     "data": {
      "image/png": "[encoded data removed]",
      "text/plain": [
       "<Figure size 1080x864 with 2 Axes>"
      ]
     },
     "metadata": {
      "needs_background": "light"
     },
     "output_type": "display_data"
    }
   ],
   "source": [
    "# figsize é a largura e altura da figura em polegadas\n",
    "fig = plt.figure(figsize=(15, 12))\n",
    "\n",
    "# Vamos dividir a figura em partes menores (subplots). \n",
    "# Os dois primeiros argumentos são o número de linhas e o número de colunas de subplots nós desejamos.\n",
    "# O terceiro argumento representa o índice do subplot que vamos ativar para ser desenhado. \n",
    "# Ele começa em 1 no canto superior esquerdo e aumenta para a direita. No nosso exemplo temos 3 linhas e 2 colunas.\n",
    "# Assim, a ordem dos índices será:\n",
    "#\n",
    "# 1 | 2 \n",
    "# 3 | 4\n",
    "# 5 | 6\n",
    "#\n",
    "# Em alguns lugares você vai encontrar a forma alternativa plt.subplot(321). \n",
    "# Procure a documentação do matplotlib subplot para entender o que essa entrada de 3 dígitos significa.\n",
    "plt.subplot(3, 2, 1)\n",
    "\n",
    "# Vamos desenhar um plot simples como exemplo. Lembre-se que quando for implementar a sua versão\n",
    "# é importante adicionar informações como o título e o significado de cada eixo.\n",
    "plt.scatter(mundo.X3, mundo.X4)\n",
    "\n",
    "# Ativando outro subplot...\n",
    "plt.subplot(3, 2, 2)\n",
    "# E desenhando outro gráfico\n",
    "plt.scatter(mundo.X3, mundo.X4)\n",
    "plt.show()"
   ]
  },
  {
   "cell_type": "markdown",
   "metadata": {},
   "source": [
    "[Volta ao Índice](#indice)"
   ]
  },
  {
   "cell_type": "markdown",
   "metadata": {},
   "source": [
    "<div id=\"ex2\"></div>\n",
    "\n",
    "### EXERCÍCIO 2:\n",
    "\n",
    "Na figura acima nós geramos apenas dois gráficos (iguais). Utilize essa abordagem de `subplot`s para construir gráficos de dispersão entre as variáveis `X3` e `X4`, as variáveis `X3` e `X5`, as variáveis `X3` e `X6` e as variáveis `X3` e `X7`. Utilize 2 linhas e 2 colunas e lembre-se de indicar o que cada um dos gráficos representa (título e significado dos eixos)."
   ]
  },
  {
   "cell_type": "code",
   "execution_count": 7,
   "metadata": {},
   "outputs": [
    {
     "data": {
      "image/png": "[encoded data removed]",
      "text/plain": [
       "<Figure size 1080x504 with 4 Axes>"
      ]
     },
     "metadata": {
      "needs_background": "light"
     },
     "output_type": "display_data"
    }
   ],
   "source": [
    "# Coloque seu código aqui\n",
    "\n",
    "fig = plt.figure(figsize=(15,7))\n",
    "\n",
    "plt.subplot(221)\n",
    "plt.scatter(mundo.X3, mundo.X4)\n",
    "plt.title('')\n",
    "plt.xlabel('% de população urbana')\n",
    "plt.ylabel('expectativa de vida feminina')\n",
    "\n",
    "plt.subplot(222)\n",
    "plt.scatter(mundo.X3, mundo.X5)\n",
    "plt.title('')\n",
    "plt.xlabel('% de população urbana')\n",
    "plt.ylabel('expectativa de vida masculina')\n",
    "\n",
    "plt.subplot(223)\n",
    "plt.scatter(mundo.X3, mundo.X6)\n",
    "plt.title('')\n",
    "plt.xlabel('% de população urbana')\n",
    "plt.ylabel('crescimento populacional')\n",
    "\n",
    "plt.subplot(224)\n",
    "plt.scatter(mundo.X3, mundo.X7)\n",
    "plt.title('')\n",
    "plt.xlabel('% de população urbana')\n",
    "plt.ylabel('mortalidade infantil')\n",
    "plt.show()\n"
   ]
  },
  {
   "cell_type": "markdown",
   "metadata": {},
   "source": [
    "[Volta ao Índice](#indice)"
   ]
  },
  {
   "cell_type": "markdown",
   "metadata": {},
   "source": [
    "<div id=\"ex3\"></div>\n",
    "\n",
    "### EXERCÍCIO 3:\n",
    "\n",
    "Para cada um dos três novos gráficos, descreva a relação entre as variáveis (associação positiva/negativa, forte/fraca)."
   ]
  },
  {
   "cell_type": "raw",
   "metadata": {},
   "source": [
    "ESCREVA AQUI SUA RESPOSTA\n",
    "X3 e X4 tem uma relação média positiva\n",
    "X3 e X5 tem uma relação média positiva\n",
    "X3 e X6 tem uma relação fraca negativa\n",
    "X3 e X7 tem uma relação média negativa\n",
    "\n"
   ]
  },
  {
   "cell_type": "markdown",
   "metadata": {},
   "source": [
    "[Volta ao Índice](#indice)"
   ]
  },
  {
   "cell_type": "markdown",
   "metadata": {},
   "source": [
    "<div id=\"covariancia\"></div>\n",
    "\n",
    "## Coeficiente de Covariância\n",
    "\n",
    "O gráfico de dispersão é uma ferramenta descritiva simples, porém útil para examinar uma possível relação entre variáveis quantitativas. A literatura estatística apresenta uma medida, nomeada de covariância, cujo sinal pode ser um indicativo do tipo de associação linear: positiva, se maior que zero; negativa, se menor que zero; e ausente de associação linear, se igual a zero. \n",
    "\n",
    "$$\\mathrm{Cov}(X, Y) = \\frac{1}{n} \\sum^n_{i=1}(x_i - \\overline{x})(y_i - \\overline{y}) \\quad\\quad\\quad\\quad (1)$$\n",
    "\n",
    "A biblioteca `pandas` já possui a função `.cov` em um `pd.Series` (coluna do `DataFrame`) para o cálculo da covariância:\n",
    "\n",
    "<div id=\"cov\"></div>"
   ]
  },
  {
   "cell_type": "code",
   "execution_count": 8,
   "metadata": {},
   "outputs": [
    {
     "data": {
      "text/plain": [
       "194.34985994397758"
      ]
     },
     "execution_count": 8,
     "metadata": {},
     "output_type": "execute_result"
    }
   ],
   "source": [
    "mundo.X3.cov(mundo.X4)"
   ]
  },
  {
   "cell_type": "markdown",
   "metadata": {},
   "source": [
    "<div id=\"ex4\"></div>\n",
    "\n",
    "### EXERCÍCIO 4:\n",
    "\n",
    "Considere o código a seguir. O resultado deveria ser o mesmo? Justifique. \n",
    "*Dica: olhe para a fórmula da covariância.*"
   ]
  },
  {
   "cell_type": "code",
   "execution_count": 9,
   "metadata": {},
   "outputs": [
    {
     "name": "stdout",
     "output_type": "stream",
     "text": [
      "194.3499 = 194.3499?\n"
     ]
    }
   ],
   "source": [
    "cov_X3_X4 = mundo.X3.cov(mundo.X4)\n",
    "cov_X4_X3 = mundo.X4.cov(mundo.X3)\n",
    "print(f'{cov_X3_X4:.4f} = {cov_X4_X3:.4f}?')"
   ]
  },
  {
   "cell_type": "raw",
   "metadata": {},
   "source": [
    "ESCREVA AQUI SUA RESPOSTA\n",
    "Sim, pois a covariancia entre A e B e mesma entre B e A"
   ]
  },
  {
   "cell_type": "markdown",
   "metadata": {},
   "source": [
    "<div id=\"ex5\"></div>\n",
    "\n",
    "### EXERCÍCIO 5:\n",
    "\n",
    "Calcule a covariância para cada par de variáveis utilizadas nos gráficos acima."
   ]
  },
  {
   "cell_type": "code",
   "execution_count": 10,
   "metadata": {},
   "outputs": [
    {
     "name": "stdout",
     "output_type": "stream",
     "text": [
      "cov_X3_X4 = 194.34985994397758\n",
      "cov_X3_X5 = 166.23011204481793\n",
      "cov_X3_X6 = -6.846322128851538\n",
      "cov_X3_X7 = -671.6780084033612\n"
     ]
    }
   ],
   "source": [
    "# Coloque seu código aqui\n",
    "cov_X3_X4 = mundo.X3.cov(mundo.X4)\n",
    "cov_X3_X5 = mundo.X3.cov(mundo.X5)\n",
    "cov_X3_X6 = mundo.X3.cov(mundo.X6)\n",
    "cov_X3_X7 = mundo.X3.cov(mundo.X7)\n",
    "\n",
    "print(f'cov_X3_X4 = {cov_X3_X4}')\n",
    "print(f'cov_X3_X5 = {cov_X3_X5}')\n",
    "print(f'cov_X3_X6 = {cov_X3_X6}')\n",
    "print(f'cov_X3_X7 = {cov_X3_X7}')\n"
   ]
  },
  {
   "cell_type": "markdown",
   "metadata": {},
   "source": [
    "<div id=\"ex6\"></div>\n",
    "\n",
    "### EXERCÍCIO 6:\n",
    "\n",
    "Contraste as suas interpretações gráficas (exercícios [1](#ex1) e [3](#ex3)) e os resultados das covariâncias (exercício [5](#ex5)). Como essa medida traduz o sinal da associação entre as variáveis quantitativas?"
   ]
  },
  {
   "cell_type": "raw",
   "metadata": {},
   "source": [
    "ESCREVA AQUI SUA RESPOSTA\n",
    "Não sei"
   ]
  },
  {
   "cell_type": "markdown",
   "metadata": {},
   "source": [
    "[Volta ao Índice](#indice)"
   ]
  },
  {
   "cell_type": "markdown",
   "metadata": {},
   "source": [
    "<div id=\"correlacao\"></div>\n",
    "\n",
    "## Coeficiente de Correlação Linear\n",
    "\n",
    "Ignorando-se o sinal, a covariância de `X3` e `X7` é mais do que o dobro da covariância de `X3` e `X4`. Entretanto, considerando os respectivos gráficos, as relações não parecem muito mais fortes no primeiro caso do que no segundo. Existe aqui um perigo de se comparar valores que, na verdade, não são comparáveis. O coeficiente de correlação linear garante que os valores estarão sempre entre -1 e 1:\n",
    "\n",
    "$$\\mathrm{Corr}(X, Y) = \\frac{\\mathrm{Cov}(X, Y)}{\\mathrm{DP}(X)\\mathrm{DP}(Y)}$$\n",
    "\n",
    "De maneira análoga à covariância, a biblioteca `pandas` também possui a função `.corr` em um `pd.Series` (coluna do `DataFrame`) para o cálculo da correlação.\n",
    "\n",
    "<div id=\"corr\"></div>"
   ]
  },
  {
   "cell_type": "markdown",
   "metadata": {},
   "source": [
    "<div id=\"ex7\"></div>\n",
    "\n",
    "### EXERCÍCIO 7:\n",
    "\n",
    "Calcule o coeficiente de correlação linear para cada par de variáveis utilizadas nos gráficos acima."
   ]
  },
  {
   "cell_type": "code",
   "execution_count": 11,
   "metadata": {},
   "outputs": [
    {
     "name": "stdout",
     "output_type": "stream",
     "text": [
      "corr_X3_X4 = 0.7477732846051044\n",
      "corr_X3_X5 = 0.7297231162755045\n",
      "corr_X3_X6 = -0.25355939333997657\n",
      "corr_X3_X7 = -0.7237702331470605\n"
     ]
    }
   ],
   "source": [
    "# Coloque seu código aqui\n",
    "corr_X3_X4 = mundo.X3.corr(mundo.X4)\n",
    "corr_X3_X5 = mundo.X3.corr(mundo.X5)\n",
    "corr_X3_X6 = mundo.X3.corr(mundo.X6)\n",
    "corr_X3_X7 = mundo.X3.corr(mundo.X7)\n",
    "\n",
    "print(f'corr_X3_X4 = {corr_X3_X4}')\n",
    "print(f'corr_X3_X5 = {corr_X3_X5}')\n",
    "print(f'corr_X3_X6 = {corr_X3_X6}')\n",
    "print(f'corr_X3_X7 = {corr_X3_X7}')\n"
   ]
  },
  {
   "cell_type": "markdown",
   "metadata": {},
   "source": [
    "<div id=\"ex8\"></div>\n",
    "\n",
    "### EXERCÍCIO 8:\n",
    "\n",
    "Contraste as suas interpretações gráficas (exercícios [1](#ex1) e [3](#ex3)) e os resultados das correlações (exercício [7](#ex7)). Como essa medida traduz a intensidade e o sinal da associação entre as variáveis quantitativas? O que aconteceu com a suspeita (como já comentado, baseada em uma interpretação incorreta da covariância) de que a relação entre `X3` e `X7` é duas vezes mais forte do que a relação entre `X3` e `X4`?"
   ]
  },
  {
   "cell_type": "raw",
   "metadata": {},
   "source": [
    "ESCREVA AQUI SUA RESPOSTA\n",
    "\n",
    "esse novo cálculo mostra que a correlação entre X3 com X4, X5 e X7 é quase a mesma."
   ]
  },
  {
   "cell_type": "markdown",
   "metadata": {},
   "source": [
    "<div id=\"ex9\"></div>\n",
    "\n",
    "### EXERCÍCIO 9 (opcional):\n",
    "\n",
    "Jogue o jogo [guess the correlation](http://guessthecorrelation.com/). Até onde você consegue chegar?"
   ]
  },
  {
   "cell_type": "markdown",
   "metadata": {},
   "source": [
    "[Volta ao Índice](#indice)"
   ]
  },
  {
   "cell_type": "markdown",
   "metadata": {},
   "source": [
    "<div id=\"comandos\"></div>\n",
    "\n",
    "___\n",
    "\n",
    "## Lista de comandos utilizados neste notebook\n",
    "\n",
    "Os seguintes comandos foram utilizados neste jupyter notebook. Para facilitar sua consulta, escreva um resumo do que cada um deles faz:\n",
    "\n",
    "### Associação\n",
    "- [`.cov` (em um `pd.Series`)](#cov): ESCREVA AQUI O RESUMO\n",
    "- [`.corr` (em um `pd.Series`)](#corr): ESCREVA AQUI O RESUMO\n",
    "\n",
    "### Gráfico\n",
    "- [`plt.scatter`](#plt-scatter): ESCREVA AQUI O RESUMO\n",
    "- [`.plot.scatter` (em um `pd.DataFrame`)](#df-scatter): ESCREVA AQUI O RESUMO\n",
    "- [`plt.figure`](#plt-figure): ESCREVA AQUI O RESUMO\n",
    "- [`plt.subplot`](#plt-subplot): ESCREVA AQUI O RESUMO\n",
    "- [`plt.title`](#plt-title): ESCREVA AQUI O RESUMO\n",
    "- [`plt.xlabel`](#plt-xlabel): ESCREVA AQUI O RESUMO\n",
    "- [`plt.ylabel`](#plt-ylabel): ESCREVA AQUI O RESUMO\n",
    "- [`plt.show`](#plt-show): ESCREVA AQUI O RESUMO\n"
   ]
  }
 ],
 "metadata": {
  "anaconda-cloud": {},
  "kernelspec": {
   "display_name": "Python 3",
   "language": "python",
   "name": "python3"
  },
  "language_info": {
   "codemirror_mode": {
    "name": "ipython",
    "version": 3
   },
   "file_extension": ".py",
   "mimetype": "text/x-python",
   "name": "python",
   "nbconvert_exporter": "python",
   "pygments_lexer": "ipython3",
   "version": "3.8.8"
  }
 },
 "nbformat": 4,
 "nbformat_minor": 4
}
