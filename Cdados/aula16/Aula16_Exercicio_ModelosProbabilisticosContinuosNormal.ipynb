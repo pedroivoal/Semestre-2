{
 "cells": [
  {
   "cell_type": "markdown",
   "metadata": {},
   "source": [
    "___\n",
    "# Exercício: Modelos probabilísticos contínuos\n",
    "___\n",
    "\n",
    "## Aula 16"
   ]
  },
  {
   "cell_type": "markdown",
   "metadata": {},
   "source": [
    "___\n",
    "<div id=\"indice\"></div>\n",
    "\n",
    "## Índice\n",
    "\n",
    "  - [Exercício 1](#ex1)\n",
    "  - [Exercício 2](#ex2)\n",
    "  - [Exercício 3](#ex3)\n",
    "  - [Exercício 4](#ex4)\n",
    "  - [Exercício 5](#ex5) **- APS7 disponível no Blackboard**\n",
    "___"
   ]
  },
  {
   "cell_type": "code",
   "execution_count": 2,
   "metadata": {},
   "outputs": [],
   "source": [
    "from scipy import stats #importa apenas as funções de estatísticas da biblioteca SciPy.\n",
    "import numpy as np\n",
    "import matplotlib.pyplot as plt"
   ]
  },
  {
   "cell_type": "markdown",
   "metadata": {},
   "source": [
    "<div id=\"ex1\"></div>\n",
    "\n",
    "### EXERCÍCIO 1\n",
    "\n",
    "Para X ~ N(90, 100), calcular:\n",
    "\n",
    "a) $P(X \\leq 115)$\n",
    "\n",
    "b) $P(X \\geq 80 | X < 100)$\n",
    "\n",
    "c) O número $c$ tal que $P(X < c) = 0,975$\n",
    "\n",
    "d) O número $d$ tal que $P(X > d) = 0,95$\n",
    "\n",
    "e) O valor de $e$ tal que $P(90 - e \\leq X \\leq 90 + e) = 0,99$\n",
    "\n",
    "*Respostas esperadas: (a)0.9937903346742238  (b)0.8114265826549397  (c)109.59963984540053 (d)73.55146373048528 (e)25.758293035489004*\n"
   ]
  },
  {
   "cell_type": "code",
   "execution_count": 3,
   "metadata": {},
   "outputs": [],
   "source": [
    "mu = 90\n",
    "sigma = 10"
   ]
  },
  {
   "cell_type": "code",
   "execution_count": 4,
   "metadata": {},
   "outputs": [
    {
     "data": {
      "text/plain": [
       "0.9937903346742238"
      ]
     },
     "execution_count": 4,
     "metadata": {},
     "output_type": "execute_result"
    }
   ],
   "source": [
    "# a)\n",
    "stats.norm.cdf(115, loc=mu, scale=sigma)"
   ]
  },
  {
   "cell_type": "code",
   "execution_count": 5,
   "metadata": {},
   "outputs": [
    {
     "data": {
      "text/plain": [
       "0.8114265826549397"
      ]
     },
     "execution_count": 5,
     "metadata": {},
     "output_type": "execute_result"
    }
   ],
   "source": [
    "# b)\n",
    "P_menor_100 = stats.norm.cdf(100, mu, sigma)\n",
    "\n",
    "P_b = (stats.norm.cdf(100, mu, sigma) - stats.norm.cdf(80, mu, sigma))/P_menor_100\n",
    "P_b"
   ]
  },
  {
   "cell_type": "code",
   "execution_count": 6,
   "metadata": {},
   "outputs": [
    {
     "data": {
      "text/plain": [
       "109.59963984540053"
      ]
     },
     "execution_count": 6,
     "metadata": {},
     "output_type": "execute_result"
    }
   ],
   "source": [
    "# c)\n",
    "stats.norm.ppf(0.975, mu, sigma)"
   ]
  },
  {
   "cell_type": "code",
   "execution_count": 7,
   "metadata": {},
   "outputs": [
    {
     "data": {
      "text/plain": [
       "73.55146373048528"
      ]
     },
     "execution_count": 7,
     "metadata": {},
     "output_type": "execute_result"
    }
   ],
   "source": [
    "# d)\n",
    "stats.norm.ppf(1-0.95, mu, sigma)"
   ]
  },
  {
   "cell_type": "code",
   "execution_count": 8,
   "metadata": {},
   "outputs": [
    {
     "data": {
      "text/plain": [
       "25.758293035489004"
      ]
     },
     "execution_count": 8,
     "metadata": {},
     "output_type": "execute_result"
    }
   ],
   "source": [
    "# e)\n",
    "90 - stats.norm.ppf(0.005, mu, sigma)"
   ]
  },
  {
   "cell_type": "markdown",
   "metadata": {},
   "source": [
    "<div id=\"ex2\"></div>\n",
    "\n",
    "### EXERCÍCIO 2\n",
    "\n",
    "As notas no quiz final de Ciência dos Dados distribuem-se segundo uma variável aleatória normal com média 6,5 e desvio padrão 1,6. O professor deseja dividir a classe em 3 categorias, da seguinte forma: os 30% que tiveram as maiores notas serão aprovados, os 50% com notas intermediárias ficarão de exame e os 20% que tiveram as menores notas serão reprovados. \n",
    "\n",
    "a) Quais os limites de nota entre cada uma das categorias?\n",
    "\n",
    "b) Caso a nota para aprovação (sem ir para exame) fosse igual a 7,0 e uma turma tivesse 50 alunos, quantos desses seriam aprovados sem ir para o exame? \n",
    "\n",
    "*Respostas esperadas: (a)5.153406026283337 e 7.339040820332865    (b)19*"
   ]
  },
  {
   "cell_type": "code",
   "execution_count": 9,
   "metadata": {},
   "outputs": [],
   "source": [
    "mu = 6.5\n",
    "sigma = 1.6"
   ]
  },
  {
   "cell_type": "code",
   "execution_count": 10,
   "metadata": {},
   "outputs": [
    {
     "name": "stdout",
     "output_type": "stream",
     "text": [
      "5.153406026283337\n",
      "7.339040820332865\n"
     ]
    }
   ],
   "source": [
    "# a)\n",
    "print(stats.norm.ppf(0.2, mu, sigma))\n",
    "print(stats.norm.ppf(0.7, mu, sigma))"
   ]
  },
  {
   "cell_type": "code",
   "execution_count": 11,
   "metadata": {},
   "outputs": [
    {
     "data": {
      "text/plain": [
       "19.0"
      ]
     },
     "execution_count": 11,
     "metadata": {},
     "output_type": "execute_result"
    }
   ],
   "source": [
    "# b)\n",
    "P = 1 - stats.norm.cdf(7, mu, sigma)\n",
    "round(50*P, 0)"
   ]
  },
  {
   "cell_type": "markdown",
   "metadata": {},
   "source": [
    "<div id=\"ex3\"></div>\n",
    "\n",
    "### EXERCÍCIO 3\n",
    "\n",
    "Um determinado calçado é vendido em lojas populares e em lojas sofisticadas. De todas as lojas, 70%  são populares e 30%  são sofisticadas. Nas lojas populares seu preço segue uma distribuição normal com média 80 e desvio-padrão 12. Já em lojas sofisticadas, o preço também segue uma distribuição normal de média 160 e desvio-padrão 30. \n",
    "\n",
    "a) Determine maior preço considerando os 25% menores valores na distribuição de preços de uma loja popular.\n",
    "\n",
    "b) Gastou-se mais de $100,00 para comprar o calçado. Qual é a probabilidade da compra ter sido feita numa loja popular?\n",
    "\n",
    "*Respostas esperadas: (a)71.90612299764702    (b)0.10241995600307374*"
   ]
  },
  {
   "cell_type": "code",
   "execution_count": 12,
   "metadata": {},
   "outputs": [],
   "source": [
    "mup = 80\n",
    "sigmap = 12\n",
    "mus = 160\n",
    "sigmas = 30"
   ]
  },
  {
   "cell_type": "code",
   "execution_count": 13,
   "metadata": {},
   "outputs": [
    {
     "data": {
      "text/plain": [
       "71.90612299764702"
      ]
     },
     "execution_count": 13,
     "metadata": {},
     "output_type": "execute_result"
    }
   ],
   "source": [
    "# a)\n",
    "stats.norm.ppf(0.25, mup, sigmap)"
   ]
  },
  {
   "cell_type": "code",
   "execution_count": 14,
   "metadata": {},
   "outputs": [
    {
     "data": {
      "text/plain": [
       "0.10241995600307374"
      ]
     },
     "execution_count": 14,
     "metadata": {},
     "output_type": "execute_result"
    }
   ],
   "source": [
    "# b)\n",
    "P_mais_100_p = 1 - stats.norm.cdf(100, mup, sigmap)\n",
    "P_mais_100_s = 1 - stats.norm.cdf(100, mus, sigmas)\n",
    "\n",
    "0.7*P_mais_100_p/(0.7*P_mais_100_p+0.3*P_mais_100_s)"
   ]
  },
  {
   "cell_type": "markdown",
   "metadata": {},
   "source": [
    "<div id=\"ex4\"></div>\n",
    "\n",
    "### EXERCÍCIO 4\n",
    "\n",
    "Em um processo industrial, o diâmetro de um rolamento é uma parte importante do processo.\n",
    "\n",
    "Sabe-se que a probabilidade de um rolamento ter diâmetro maior do 2,98 cm é de 80%. \n",
    "\n",
    "Sabe-se, também que a probabilidade de que um rolamento tenha diâmetro abaixo de 2,97 cm é de 10%. \n",
    "\n",
    "a) Admitindo que o diâmetro de um rolamento segue uma distribuição normal, determine a média e o desvio-padrão dos diâmetros dos rolamentos que saem da linha de produção.\n",
    "\n",
    "b) Determine a especificação que represente a maior distância da média, para mais ou para menos, contendo 95% dos rolamentos produzidos. \n",
    "\n",
    "*Respostas esperadas: (a) mu=2.9991307844085426 sigma=0.022730871852326348   (b)0.04455169016775473*"
   ]
  },
  {
   "cell_type": "code",
   "execution_count": 27,
   "metadata": {},
   "outputs": [
    {
     "name": "stdout",
     "output_type": "stream",
     "text": [
      "0.8416212335729143\n",
      "1.2815515655446004\n"
     ]
    }
   ],
   "source": [
    "print(stats.norm.ppf(0.8))\n",
    "print(stats.norm.ppf(0.9))\n",
    "\n",
    "e_80 = stats.norm.ppf(0.8)\n",
    "e_90 = stats.norm.ppf(0.9)"
   ]
  },
  {
   "cell_type": "markdown",
   "metadata": {},
   "source": [
    "___\n",
    "<div id=\"ex5\"></div>\n",
    "\n",
    "### EXERCÍCIO 5 - Modelagem do Tempo para resolver uma prova de MatVar\n",
    "\n",
    "Um grupo de alunos de cada uma das três turmas que cursam Ciência dos Dados estava discutindo com intuito de modelar o tempo, em horas, que um aluno irá levar para fazer uma prova de Matemática da Variação. \n",
    "\n",
    "Após cada grupo de alunos chegar a um consenso, foi escolhido um modelo probabilístico contínuo diferente para cada turma A, B e C. Dessa forma, os três modelos foram escolhidos com intuito de descrever o comportamento da variável X: tempo, em horas, que um aluno irá levar para entregar uma prova de Matemática da Variação. Lembrando que um aluno tem até duas horas para fazê-la.\n",
    "\n",
    "Esses três modelos são dados por:\n",
    "\n",
    "> * **Turma A:** $X_A$ segue o seguinte modelo:\n",
    "    $ f(x) = \\left\\{ \\begin{array}[ll]\\\\\n",
    "                +0.4-0.8x & \\rm{se }\\hspace{2mm} 0<x<0.5 \\\\\n",
    "                -0.4+0.8x & \\rm{se }\\hspace{2mm} 0.5\\leq x\\leq2 \\\\\n",
    "                0 & \\rm{caso}\\hspace{2mm}\\rm{contrário} \n",
    "             \\end{array} \\right.$\n",
    "\n",
    "> * **Turma B:** $X_B\\sim Normal(1; 0.3^2)$, ou seja, $\\mu=1$ e $\\sigma=0.3$.\n",
    "\n",
    "> * **Turma C:** $X_C\\sim Uniforme(0; 2)$, ou seja, $a=0$ e $b=2$.\n",
    "\n",
    "\n"
   ]
  },
  {
   "cell_type": "markdown",
   "metadata": {},
   "source": [
    "Admitindo que os alunos façam suas provas de forma independente uns dos outros, responda:\n",
    "\t\n",
    "a) Estudando o comportamento da função densidade de probabilidade de cada modelo probabilístico, qual você entende ser o mais adequado para descrever o comportamento da variável X? E qual você entende ser o menos adequado? Justifique suas respostas após estudar o comportamento das fdp’s escolhidas por cada turma. *Nota: a fdp da turma A tem que ser construída usando a f(x) dada e, as demais, usando a função `pdf` do `scipy.stats`.\n",
    "\n",
    "b) Qual a probabilidade de um aluno da turma B demorar mais do que 1 hora e meia para entregar a prova de Matemática da Variação? E na da turma C? \n",
    "\n",
    "c)\tAtualmente, 34% dos alunos estão na turma A, 34% na B e 32% na C. Qual a probabilidade de um aluno qualquer (ou seja, um aluno de qualquer uma dessas três turmas) demorar mais do que uma hora e meia para entregar a prova final dessa disciplina?\n",
    "\n",
    "d) Qual o menor tempo de entrega da prova dentre os últimos 20% de alunos que entregam na sala da turma B? E na da turma C? Interprete os resultados.\n"
   ]
  },
  {
   "cell_type": "code",
   "execution_count": 15,
   "metadata": {},
   "outputs": [],
   "source": [
    "def modelo_a(x):\n",
    "\n",
    "    if 0<=x and x<0.5:\n",
    "        fx = 0.4-0.8*x\n",
    "    elif 0.5<=x and x<=2:\n",
    "        fx = -0.4+0.8*x\n",
    "    \n",
    "    return fx"
   ]
  },
  {
   "cell_type": "code",
   "execution_count": 16,
   "metadata": {},
   "outputs": [
    {
     "data": {
      "image/png": "[encoded data removed]",
      "text/plain": [
       "<Figure size 432x288 with 1 Axes>"
      ]
     },
     "metadata": {
      "needs_background": "light"
     },
     "output_type": "display_data"
    }
   ],
   "source": [
    "# a)\n",
    "mub = 1\n",
    "sigmab = 0.3\n",
    "\n",
    "x = np.linspace(0, 2, 1000)\n",
    "fax = []\n",
    "for i in x:\n",
    "    fax.append(modelo_a(i))\n",
    "fbx = stats.norm.pdf(x, loc=mub, scale=sigmab)\n",
    "fcx = stats.uniform.pdf(x, loc=0, scale=2)\n",
    "\n",
    "plt.plot(x, fax, label='turma A')\n",
    "plt.plot(x, fbx, label='turma B')\n",
    "plt.plot(x, fcx, label='turma C')\n",
    "plt.legend()\n",
    "plt.grid()\n",
    "plt.show()\n"
   ]
  },
  {
   "cell_type": "code",
   "execution_count": 17,
   "metadata": {},
   "outputs": [],
   "source": [
    "# a)\n",
    "# O mais adequado é o modelo o da turma \"a\" pois diz que o mais provável é do aluno entregar prova no final do tempo.\n",
    "# O menos adequado é o modelo o da turma \"c\" pois diz que a probabilidade de que um aluno entregar a prova é igual\n",
    "# em todo o período."
   ]
  },
  {
   "cell_type": "code",
   "execution_count": 18,
   "metadata": {},
   "outputs": [
    {
     "data": {
      "text/plain": [
       "0.047790352272814696"
      ]
     },
     "execution_count": 18,
     "metadata": {},
     "output_type": "execute_result"
    }
   ],
   "source": [
    "# b)\n",
    "P_mais_15b = 1 - stats.norm.cdf(1.5, mub, sigmab)\n",
    "P_mais_15b"
   ]
  },
  {
   "cell_type": "code",
   "execution_count": 19,
   "metadata": {},
   "outputs": [
    {
     "data": {
      "text/plain": [
       "0.25"
      ]
     },
     "execution_count": 19,
     "metadata": {},
     "output_type": "execute_result"
    }
   ],
   "source": [
    "a = 0\n",
    "b = 2\n",
    "\n",
    "P_mais_15c = 1 - stats.uniform.cdf(1.5, loc=0, scale=2)\n",
    "P_mais_15c"
   ]
  },
  {
   "cell_type": "code",
   "execution_count": 20,
   "metadata": {},
   "outputs": [
    {
     "data": {
      "text/plain": [
       "0.3682487197727571"
      ]
     },
     "execution_count": 20,
     "metadata": {},
     "output_type": "execute_result"
    }
   ],
   "source": [
    "# c)\n",
    "P_a = modelo_a(1.5)\n",
    "P_b = 1 - stats.norm.cdf(1.5, mub, sigmab)\n",
    "P_c = 1 - stats.uniform.cdf(1.5, a, b)\n",
    "\n",
    "P_mias_15 = P_a*0.34 + P_b*0.34 + P_c*0.32\n",
    "P_mias_15\n",
    "# P_a\n",
    "# P_b\n",
    "# P_c"
   ]
  },
  {
   "cell_type": "code",
   "execution_count": 21,
   "metadata": {},
   "outputs": [
    {
     "name": "stdout",
     "output_type": "stream",
     "text": [
      "1.2524863700718742\n",
      "1.6\n"
     ]
    }
   ],
   "source": [
    "# d)\n",
    "print(stats.norm.ppf(0.8, mub, sigmab))\n",
    "print(stats.uniform.ppf(0.8, loc=0, scale=2))"
   ]
  }
 ],
 "metadata": {
  "anaconda-cloud": {},
  "kernelspec": {
   "display_name": "Python 3",
   "language": "python",
   "name": "python3"
  },
  "language_info": {
   "codemirror_mode": {
    "name": "ipython",
    "version": 3
   },
   "file_extension": ".py",
   "mimetype": "text/x-python",
   "name": "python",
   "nbconvert_exporter": "python",
   "pygments_lexer": "ipython3",
   "version": "3.8.8"
  }
 },
 "nbformat": 4,
 "nbformat_minor": 1
}
