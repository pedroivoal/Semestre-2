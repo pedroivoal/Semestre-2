{
 "cells": [
  {
   "cell_type": "code",
   "execution_count": 1,
   "metadata": {},
   "outputs": [],
   "source": [
    "import pandas as pd\n",
    "import matplotlib.pyplot as plt\n",
    "import numpy as np\n",
    "# import plotly.express as px\n",
    "\n",
    "import statsmodels.api as sm\n",
    "\n",
    "from IPython.display import display"
   ]
  },
  {
   "cell_type": "markdown",
   "metadata": {},
   "source": [
    "## Limpeza dos dados"
   ]
  },
  {
   "cell_type": "code",
   "execution_count": 2,
   "metadata": {},
   "outputs": [
    {
     "data": {
      "text/html": [
       "<div>\n",
       "<style scoped>\n",
       "    .dataframe tbody tr th:only-of-type {\n",
       "        vertical-align: middle;\n",
       "    }\n",
       "\n",
       "    .dataframe tbody tr th {\n",
       "        vertical-align: top;\n",
       "    }\n",
       "\n",
       "    .dataframe thead th {\n",
       "        text-align: right;\n",
       "    }\n",
       "</style>\n",
       "<table border=\"1\" class=\"dataframe\">\n",
       "  <thead>\n",
       "    <tr style=\"text-align: right;\">\n",
       "      <th></th>\n",
       "      <th>Price</th>\n",
       "      <th>Condo</th>\n",
       "      <th>Size</th>\n",
       "      <th>Rooms</th>\n",
       "      <th>Toilets</th>\n",
       "      <th>Suites</th>\n",
       "      <th>Parking</th>\n",
       "      <th>Elevator</th>\n",
       "      <th>Furnished</th>\n",
       "      <th>Swimming Pool</th>\n",
       "      <th>New</th>\n",
       "      <th>District</th>\n",
       "      <th>Negotiation Type</th>\n",
       "      <th>Property Type</th>\n",
       "      <th>Latitude</th>\n",
       "      <th>Longitude</th>\n",
       "    </tr>\n",
       "  </thead>\n",
       "  <tbody>\n",
       "    <tr>\n",
       "      <th>0</th>\n",
       "      <td>930</td>\n",
       "      <td>220</td>\n",
       "      <td>47</td>\n",
       "      <td>2</td>\n",
       "      <td>2</td>\n",
       "      <td>1</td>\n",
       "      <td>1</td>\n",
       "      <td>0</td>\n",
       "      <td>0</td>\n",
       "      <td>0</td>\n",
       "      <td>0</td>\n",
       "      <td>Artur Alvim/São Paulo</td>\n",
       "      <td>rent</td>\n",
       "      <td>apartment</td>\n",
       "      <td>-23.543138</td>\n",
       "      <td>-46.479486</td>\n",
       "    </tr>\n",
       "    <tr>\n",
       "      <th>1</th>\n",
       "      <td>1000</td>\n",
       "      <td>148</td>\n",
       "      <td>45</td>\n",
       "      <td>2</td>\n",
       "      <td>2</td>\n",
       "      <td>1</td>\n",
       "      <td>1</td>\n",
       "      <td>0</td>\n",
       "      <td>0</td>\n",
       "      <td>0</td>\n",
       "      <td>0</td>\n",
       "      <td>Artur Alvim/São Paulo</td>\n",
       "      <td>rent</td>\n",
       "      <td>apartment</td>\n",
       "      <td>-23.550239</td>\n",
       "      <td>-46.480718</td>\n",
       "    </tr>\n",
       "    <tr>\n",
       "      <th>2</th>\n",
       "      <td>1000</td>\n",
       "      <td>100</td>\n",
       "      <td>48</td>\n",
       "      <td>2</td>\n",
       "      <td>2</td>\n",
       "      <td>1</td>\n",
       "      <td>1</td>\n",
       "      <td>0</td>\n",
       "      <td>0</td>\n",
       "      <td>0</td>\n",
       "      <td>0</td>\n",
       "      <td>Artur Alvim/São Paulo</td>\n",
       "      <td>rent</td>\n",
       "      <td>apartment</td>\n",
       "      <td>-23.542818</td>\n",
       "      <td>-46.485665</td>\n",
       "    </tr>\n",
       "  </tbody>\n",
       "</table>\n",
       "</div>"
      ],
      "text/plain": [
       "   Price  Condo  Size  Rooms  Toilets  Suites  Parking  Elevator  Furnished  \\\n",
       "0    930    220    47      2        2       1        1         0          0   \n",
       "1   1000    148    45      2        2       1        1         0          0   \n",
       "2   1000    100    48      2        2       1        1         0          0   \n",
       "\n",
       "   Swimming Pool  New               District Negotiation Type Property Type  \\\n",
       "0              0    0  Artur Alvim/São Paulo             rent     apartment   \n",
       "1              0    0  Artur Alvim/São Paulo             rent     apartment   \n",
       "2              0    0  Artur Alvim/São Paulo             rent     apartment   \n",
       "\n",
       "    Latitude  Longitude  \n",
       "0 -23.543138 -46.479486  \n",
       "1 -23.550239 -46.480718  \n",
       "2 -23.542818 -46.485665  "
      ]
     },
     "metadata": {},
     "output_type": "display_data"
    },
    {
     "data": {
      "text/plain": [
       "(13640, 16)"
      ]
     },
     "metadata": {},
     "output_type": "display_data"
    }
   ],
   "source": [
    "df0 = pd.read_csv('sao-paulo-properties-april-2019.csv')\n",
    "display(df0.head(3))\n",
    "display(df0.shape)"
   ]
  },
  {
   "cell_type": "markdown",
   "metadata": {},
   "source": [
    "`conferimos se há valor nulo (nan) no dataframe`"
   ]
  },
  {
   "cell_type": "code",
   "execution_count": 3,
   "metadata": {},
   "outputs": [
    {
     "data": {
      "text/plain": [
       "Price               0\n",
       "Condo               0\n",
       "Size                0\n",
       "Rooms               0\n",
       "Toilets             0\n",
       "Suites              0\n",
       "Parking             0\n",
       "Elevator            0\n",
       "Furnished           0\n",
       "Swimming Pool       0\n",
       "New                 0\n",
       "District            0\n",
       "Negotiation Type    0\n",
       "Property Type       0\n",
       "Latitude            0\n",
       "Longitude           0\n",
       "dtype: int64"
      ]
     },
     "metadata": {},
     "output_type": "display_data"
    }
   ],
   "source": [
    "display(df0.isnull().sum())"
   ]
  },
  {
   "cell_type": "code",
   "execution_count": 4,
   "metadata": {},
   "outputs": [
    {
     "data": {
      "text/plain": [
       "Price                 int64\n",
       "Condo                 int64\n",
       "Size                  int64\n",
       "Rooms                 int64\n",
       "Toilets               int64\n",
       "Suites                int64\n",
       "Parking               int64\n",
       "Elevator              int64\n",
       "Furnished             int64\n",
       "Swimming Pool         int64\n",
       "New                   int64\n",
       "District             object\n",
       "Negotiation Type     object\n",
       "Property Type        object\n",
       "Latitude            float64\n",
       "Longitude           float64\n",
       "dtype: object"
      ]
     },
     "metadata": {},
     "output_type": "display_data"
    }
   ],
   "source": [
    "display(df0.dtypes)"
   ]
  },
  {
   "cell_type": "markdown",
   "metadata": {},
   "source": [
    "`Analisamos quias series tinham valores binários que deveriamos substituir por 'sim' ou 'não', ou valores irrelevantes para a análise por terem valor constante. Assim por uma questão de visivelmente não ser o caso das series ['Price', 'Condo', 'Size', 'District', 'Latitude','Longitude'] já as excluímos dessa análise`"
   ]
  },
  {
   "cell_type": "code",
   "execution_count": 5,
   "metadata": {},
   "outputs": [
    {
     "data": {
      "text/plain": [
       "array([ 2,  1,  3,  4,  5, 10,  6,  7], dtype=int64)"
      ]
     },
     "metadata": {},
     "output_type": "display_data"
    },
    {
     "data": {
      "text/plain": [
       "array([2, 3, 4, 1, 5, 6, 7, 8], dtype=int64)"
      ]
     },
     "metadata": {},
     "output_type": "display_data"
    },
    {
     "data": {
      "text/plain": [
       "array([1, 3, 2, 4, 0, 5, 6], dtype=int64)"
      ]
     },
     "metadata": {},
     "output_type": "display_data"
    },
    {
     "data": {
      "text/plain": [
       "array([1, 2, 3, 4, 5, 6, 8, 9, 0, 7], dtype=int64)"
      ]
     },
     "metadata": {},
     "output_type": "display_data"
    },
    {
     "data": {
      "text/plain": [
       "array([0, 1], dtype=int64)"
      ]
     },
     "metadata": {},
     "output_type": "display_data"
    },
    {
     "data": {
      "text/plain": [
       "array([0, 1], dtype=int64)"
      ]
     },
     "metadata": {},
     "output_type": "display_data"
    },
    {
     "data": {
      "text/plain": [
       "array([0, 1], dtype=int64)"
      ]
     },
     "metadata": {},
     "output_type": "display_data"
    },
    {
     "data": {
      "text/plain": [
       "array([0, 1], dtype=int64)"
      ]
     },
     "metadata": {},
     "output_type": "display_data"
    },
    {
     "data": {
      "text/plain": [
       "array(['rent', 'sale'], dtype=object)"
      ]
     },
     "metadata": {},
     "output_type": "display_data"
    },
    {
     "data": {
      "text/plain": [
       "array(['apartment'], dtype=object)"
      ]
     },
     "metadata": {},
     "output_type": "display_data"
    }
   ],
   "source": [
    "display(df0['Rooms'].unique())\n",
    "display(df0['Toilets'].unique())\n",
    "display(df0['Suites'].unique())\n",
    "display(df0['Parking'].unique())\n",
    "display(df0['Elevator'].unique())\n",
    "display(df0['Furnished'].unique())\n",
    "display(df0['Swimming Pool'].unique())\n",
    "display(df0['New'].unique())\n",
    "display(df0['Negotiation Type'].unique())\n",
    "display(df0['Property Type'].unique())\n"
   ]
  },
  {
   "cell_type": "markdown",
   "metadata": {},
   "source": [
    "`Concluímos que as séries ['Elevator, Furnished, Swimming Pool, New'] podem ser transformadas\n",
    "em categorias. Além disso, consideramos que as séries ['Latitude, Longitude'] podem ser desconsideradas na análise de preços pois a série ['District'] já permite analisar a interferência da região no preço. Ademais, a série ['Property Type'] tem todos os valores iguais e por isso pode ser descartado.`"
   ]
  },
  {
   "cell_type": "markdown",
   "metadata": {},
   "source": [
    "`Verificamos que 52,99 % dos nossos dados eram sobre apartamentos sendo alugados, 47,01 % sobre apartamentos sendo vendidos. Por isso decidimos trabalhar na previsão dos preços de alugueis.`"
   ]
  },
  {
   "cell_type": "code",
   "execution_count": 6,
   "metadata": {},
   "outputs": [
    {
     "name": "stdout",
     "output_type": "stream",
     "text": [
      "rent: 52.99 %\n",
      "sale: 47.01 %\n"
     ]
    },
    {
     "data": {
      "image/png": "[encoded data removed]",
      "text/plain": [
       "<Figure size 432x288 with 1 Axes>"
      ]
     },
     "metadata": {
      "needs_background": "light"
     },
     "output_type": "display_data"
    }
   ],
   "source": [
    "l_values = df0['Negotiation Type'].value_counts()\n",
    "\n",
    "print(f'rent: {l_values[0]/df0.shape[0]*100:.2f} %')\n",
    "print(f'sale: {l_values[1]/df0.shape[0]*100:.2f} %')\n",
    "plt.bar(df0['Negotiation Type'].unique(), l_values)\n",
    "plt.show()\n",
    "\n",
    "# optamos por analizar somente os preços dos aps. alugados pois avisa uma base de dados\n",
    "# um pouco maior"
   ]
  },
  {
   "cell_type": "markdown",
   "metadata": {},
   "source": [
    "`Retiramos as séries consideradas descartáveis e filtramos apenas as linhas selencionando apenas as que tinham apartamentos sendo alugados.`"
   ]
  },
  {
   "cell_type": "code",
   "execution_count": 7,
   "metadata": {},
   "outputs": [],
   "source": [
    "rent = df0['Negotiation Type'] == 'rent'\n",
    "df = df0.loc[rent,['Price', 'Condo', 'Size', 'Rooms', 'Toilets', 'Suites', 'Parking', 'Elevator', 'Furnished', 'Swimming Pool', 'New', 'District']]\n",
    "\n",
    "# df para regressão linear\n",
    "df_rl = df.drop(columns='District', axis=1)"
   ]
  },
  {
   "cell_type": "markdown",
   "metadata": {},
   "source": [
    "`Transformamos as séries binárias e a séries não numéricas em categorias e substituímos os valores 0 e 1 por não e sim respectivamente.`"
   ]
  },
  {
   "cell_type": "code",
   "execution_count": 8,
   "metadata": {},
   "outputs": [],
   "source": [
    "df['District'] = df['District'].astype('category')\n",
    "\n",
    "df['Swimming Pool'] = df['Swimming Pool'].astype('category')\n",
    "df['New'] = df['New'].astype('category')\n",
    "df['Furnished'] = df['Furnished'].astype('category')\n",
    "df['Elevator'] = df['Elevator'].astype('category')"
   ]
  },
  {
   "cell_type": "code",
   "execution_count": 9,
   "metadata": {},
   "outputs": [
    {
     "data": {
      "text/html": [
       "<div>\n",
       "<style scoped>\n",
       "    .dataframe tbody tr th:only-of-type {\n",
       "        vertical-align: middle;\n",
       "    }\n",
       "\n",
       "    .dataframe tbody tr th {\n",
       "        vertical-align: top;\n",
       "    }\n",
       "\n",
       "    .dataframe thead th {\n",
       "        text-align: right;\n",
       "    }\n",
       "</style>\n",
       "<table border=\"1\" class=\"dataframe\">\n",
       "  <thead>\n",
       "    <tr style=\"text-align: right;\">\n",
       "      <th></th>\n",
       "      <th>Price</th>\n",
       "      <th>Condo</th>\n",
       "      <th>Size</th>\n",
       "      <th>Rooms</th>\n",
       "      <th>Toilets</th>\n",
       "      <th>Suites</th>\n",
       "      <th>Parking</th>\n",
       "      <th>Elevator</th>\n",
       "      <th>Furnished</th>\n",
       "      <th>Swimming Pool</th>\n",
       "      <th>New</th>\n",
       "      <th>District</th>\n",
       "    </tr>\n",
       "  </thead>\n",
       "  <tbody>\n",
       "    <tr>\n",
       "      <th>0</th>\n",
       "      <td>930</td>\n",
       "      <td>220</td>\n",
       "      <td>47</td>\n",
       "      <td>2</td>\n",
       "      <td>2</td>\n",
       "      <td>1</td>\n",
       "      <td>1</td>\n",
       "      <td>No</td>\n",
       "      <td>No</td>\n",
       "      <td>No</td>\n",
       "      <td>No</td>\n",
       "      <td>Artur Alvim/São Paulo</td>\n",
       "    </tr>\n",
       "    <tr>\n",
       "      <th>1</th>\n",
       "      <td>1000</td>\n",
       "      <td>148</td>\n",
       "      <td>45</td>\n",
       "      <td>2</td>\n",
       "      <td>2</td>\n",
       "      <td>1</td>\n",
       "      <td>1</td>\n",
       "      <td>No</td>\n",
       "      <td>No</td>\n",
       "      <td>No</td>\n",
       "      <td>No</td>\n",
       "      <td>Artur Alvim/São Paulo</td>\n",
       "    </tr>\n",
       "    <tr>\n",
       "      <th>2</th>\n",
       "      <td>1000</td>\n",
       "      <td>100</td>\n",
       "      <td>48</td>\n",
       "      <td>2</td>\n",
       "      <td>2</td>\n",
       "      <td>1</td>\n",
       "      <td>1</td>\n",
       "      <td>No</td>\n",
       "      <td>No</td>\n",
       "      <td>No</td>\n",
       "      <td>No</td>\n",
       "      <td>Artur Alvim/São Paulo</td>\n",
       "    </tr>\n",
       "    <tr>\n",
       "      <th>3</th>\n",
       "      <td>1000</td>\n",
       "      <td>200</td>\n",
       "      <td>48</td>\n",
       "      <td>2</td>\n",
       "      <td>2</td>\n",
       "      <td>1</td>\n",
       "      <td>1</td>\n",
       "      <td>No</td>\n",
       "      <td>No</td>\n",
       "      <td>No</td>\n",
       "      <td>No</td>\n",
       "      <td>Artur Alvim/São Paulo</td>\n",
       "    </tr>\n",
       "    <tr>\n",
       "      <th>4</th>\n",
       "      <td>1300</td>\n",
       "      <td>410</td>\n",
       "      <td>55</td>\n",
       "      <td>2</td>\n",
       "      <td>2</td>\n",
       "      <td>1</td>\n",
       "      <td>1</td>\n",
       "      <td>Yes</td>\n",
       "      <td>No</td>\n",
       "      <td>No</td>\n",
       "      <td>No</td>\n",
       "      <td>Artur Alvim/São Paulo</td>\n",
       "    </tr>\n",
       "    <tr>\n",
       "      <th>...</th>\n",
       "      <td>...</td>\n",
       "      <td>...</td>\n",
       "      <td>...</td>\n",
       "      <td>...</td>\n",
       "      <td>...</td>\n",
       "      <td>...</td>\n",
       "      <td>...</td>\n",
       "      <td>...</td>\n",
       "      <td>...</td>\n",
       "      <td>...</td>\n",
       "      <td>...</td>\n",
       "      <td>...</td>\n",
       "    </tr>\n",
       "    <tr>\n",
       "      <th>11205</th>\n",
       "      <td>3700</td>\n",
       "      <td>595</td>\n",
       "      <td>73</td>\n",
       "      <td>1</td>\n",
       "      <td>2</td>\n",
       "      <td>1</td>\n",
       "      <td>1</td>\n",
       "      <td>No</td>\n",
       "      <td>No</td>\n",
       "      <td>Yes</td>\n",
       "      <td>No</td>\n",
       "      <td>Brooklin/São Paulo</td>\n",
       "    </tr>\n",
       "    <tr>\n",
       "      <th>11206</th>\n",
       "      <td>21000</td>\n",
       "      <td>3000</td>\n",
       "      <td>208</td>\n",
       "      <td>4</td>\n",
       "      <td>4</td>\n",
       "      <td>3</td>\n",
       "      <td>3</td>\n",
       "      <td>Yes</td>\n",
       "      <td>Yes</td>\n",
       "      <td>Yes</td>\n",
       "      <td>No</td>\n",
       "      <td>Brooklin/São Paulo</td>\n",
       "    </tr>\n",
       "    <tr>\n",
       "      <th>11207</th>\n",
       "      <td>3800</td>\n",
       "      <td>710</td>\n",
       "      <td>55</td>\n",
       "      <td>1</td>\n",
       "      <td>1</td>\n",
       "      <td>0</td>\n",
       "      <td>1</td>\n",
       "      <td>No</td>\n",
       "      <td>Yes</td>\n",
       "      <td>Yes</td>\n",
       "      <td>No</td>\n",
       "      <td>Brooklin/São Paulo</td>\n",
       "    </tr>\n",
       "    <tr>\n",
       "      <th>11208</th>\n",
       "      <td>5000</td>\n",
       "      <td>2354</td>\n",
       "      <td>205</td>\n",
       "      <td>3</td>\n",
       "      <td>2</td>\n",
       "      <td>1</td>\n",
       "      <td>2</td>\n",
       "      <td>Yes</td>\n",
       "      <td>No</td>\n",
       "      <td>No</td>\n",
       "      <td>No</td>\n",
       "      <td>Brooklin/São Paulo</td>\n",
       "    </tr>\n",
       "    <tr>\n",
       "      <th>11209</th>\n",
       "      <td>15600</td>\n",
       "      <td>2300</td>\n",
       "      <td>162</td>\n",
       "      <td>3</td>\n",
       "      <td>4</td>\n",
       "      <td>3</td>\n",
       "      <td>3</td>\n",
       "      <td>No</td>\n",
       "      <td>No</td>\n",
       "      <td>Yes</td>\n",
       "      <td>No</td>\n",
       "      <td>Brooklin/São Paulo</td>\n",
       "    </tr>\n",
       "  </tbody>\n",
       "</table>\n",
       "<p>7228 rows × 12 columns</p>\n",
       "</div>"
      ],
      "text/plain": [
       "       Price  Condo  Size  Rooms  Toilets  Suites  Parking Elevator Furnished  \\\n",
       "0        930    220    47      2        2       1        1       No        No   \n",
       "1       1000    148    45      2        2       1        1       No        No   \n",
       "2       1000    100    48      2        2       1        1       No        No   \n",
       "3       1000    200    48      2        2       1        1       No        No   \n",
       "4       1300    410    55      2        2       1        1      Yes        No   \n",
       "...      ...    ...   ...    ...      ...     ...      ...      ...       ...   \n",
       "11205   3700    595    73      1        2       1        1       No        No   \n",
       "11206  21000   3000   208      4        4       3        3      Yes       Yes   \n",
       "11207   3800    710    55      1        1       0        1       No       Yes   \n",
       "11208   5000   2354   205      3        2       1        2      Yes        No   \n",
       "11209  15600   2300   162      3        4       3        3       No        No   \n",
       "\n",
       "      Swimming Pool New               District  \n",
       "0                No  No  Artur Alvim/São Paulo  \n",
       "1                No  No  Artur Alvim/São Paulo  \n",
       "2                No  No  Artur Alvim/São Paulo  \n",
       "3                No  No  Artur Alvim/São Paulo  \n",
       "4                No  No  Artur Alvim/São Paulo  \n",
       "...             ...  ..                    ...  \n",
       "11205           Yes  No     Brooklin/São Paulo  \n",
       "11206           Yes  No     Brooklin/São Paulo  \n",
       "11207           Yes  No     Brooklin/São Paulo  \n",
       "11208            No  No     Brooklin/São Paulo  \n",
       "11209           Yes  No     Brooklin/São Paulo  \n",
       "\n",
       "[7228 rows x 12 columns]"
      ]
     },
     "execution_count": 9,
     "metadata": {},
     "output_type": "execute_result"
    }
   ],
   "source": [
    "df['Swimming Pool'].cat.categories = ['No', 'Yes']\n",
    "df['Furnished'].cat.categories = ['No', 'Yes']\n",
    "df['Elevator'].cat.categories = ['No', 'Yes']\n",
    "df['New'].cat.categories = ['No', 'Yes']\n",
    "df['Swimming Pool'].cat.categories = ['No', 'Yes']\n",
    "\n",
    "df"
   ]
  },
  {
   "cell_type": "markdown",
   "metadata": {},
   "source": [
    "`confirmamos que todos os dados são da cidade de São Paulo`"
   ]
  },
  {
   "cell_type": "code",
   "execution_count": 10,
   "metadata": {},
   "outputs": [
    {
     "data": {
      "text/plain": [
       "array(['São Paulo'], dtype=object)"
      ]
     },
     "metadata": {},
     "output_type": "display_data"
    }
   ],
   "source": [
    "df[['District','City']] = df['District'].str.split('/', expand = True)\n",
    "display(df.City.unique())"
   ]
  },
  {
   "cell_type": "markdown",
   "metadata": {},
   "source": [
    "`Limpamos a série ['District'], retirando a informação de que os bairros são da cidade de São Paulo.`"
   ]
  },
  {
   "cell_type": "code",
   "execution_count": 11,
   "metadata": {},
   "outputs": [],
   "source": [
    "df = df.drop(columns='City', axis=1)\n",
    "df['District'] = df['District'].astype('category')"
   ]
  },
  {
   "cell_type": "code",
   "execution_count": 12,
   "metadata": {},
   "outputs": [
    {
     "data": {
      "text/html": [
       "<div>\n",
       "<style scoped>\n",
       "    .dataframe tbody tr th:only-of-type {\n",
       "        vertical-align: middle;\n",
       "    }\n",
       "\n",
       "    .dataframe tbody tr th {\n",
       "        vertical-align: top;\n",
       "    }\n",
       "\n",
       "    .dataframe thead th {\n",
       "        text-align: right;\n",
       "    }\n",
       "</style>\n",
       "<table border=\"1\" class=\"dataframe\">\n",
       "  <thead>\n",
       "    <tr style=\"text-align: right;\">\n",
       "      <th></th>\n",
       "      <th>Price</th>\n",
       "      <th>Condo</th>\n",
       "      <th>Size</th>\n",
       "      <th>Rooms</th>\n",
       "      <th>Toilets</th>\n",
       "      <th>Suites</th>\n",
       "      <th>Parking</th>\n",
       "      <th>Elevator</th>\n",
       "      <th>Furnished</th>\n",
       "      <th>Swimming Pool</th>\n",
       "      <th>New</th>\n",
       "      <th>District</th>\n",
       "    </tr>\n",
       "  </thead>\n",
       "  <tbody>\n",
       "    <tr>\n",
       "      <th>508</th>\n",
       "      <td>480</td>\n",
       "      <td>295</td>\n",
       "      <td>48</td>\n",
       "      <td>2</td>\n",
       "      <td>2</td>\n",
       "      <td>1</td>\n",
       "      <td>1</td>\n",
       "      <td>No</td>\n",
       "      <td>No</td>\n",
       "      <td>No</td>\n",
       "      <td>No</td>\n",
       "      <td>São Rafael</td>\n",
       "    </tr>\n",
       "    <tr>\n",
       "      <th>4486</th>\n",
       "      <td>500</td>\n",
       "      <td>380</td>\n",
       "      <td>66</td>\n",
       "      <td>2</td>\n",
       "      <td>1</td>\n",
       "      <td>0</td>\n",
       "      <td>1</td>\n",
       "      <td>No</td>\n",
       "      <td>No</td>\n",
       "      <td>No</td>\n",
       "      <td>No</td>\n",
       "      <td>Jaraguá</td>\n",
       "    </tr>\n",
       "    <tr>\n",
       "      <th>2878</th>\n",
       "      <td>500</td>\n",
       "      <td>36</td>\n",
       "      <td>45</td>\n",
       "      <td>1</td>\n",
       "      <td>2</td>\n",
       "      <td>1</td>\n",
       "      <td>0</td>\n",
       "      <td>No</td>\n",
       "      <td>No</td>\n",
       "      <td>Yes</td>\n",
       "      <td>No</td>\n",
       "      <td>Vila Maria</td>\n",
       "    </tr>\n",
       "    <tr>\n",
       "      <th>288</th>\n",
       "      <td>500</td>\n",
       "      <td>0</td>\n",
       "      <td>40</td>\n",
       "      <td>1</td>\n",
       "      <td>2</td>\n",
       "      <td>1</td>\n",
       "      <td>1</td>\n",
       "      <td>No</td>\n",
       "      <td>No</td>\n",
       "      <td>No</td>\n",
       "      <td>No</td>\n",
       "      <td>Jardim Helena</td>\n",
       "    </tr>\n",
       "    <tr>\n",
       "      <th>122</th>\n",
       "      <td>500</td>\n",
       "      <td>0</td>\n",
       "      <td>50</td>\n",
       "      <td>1</td>\n",
       "      <td>2</td>\n",
       "      <td>1</td>\n",
       "      <td>1</td>\n",
       "      <td>No</td>\n",
       "      <td>No</td>\n",
       "      <td>No</td>\n",
       "      <td>No</td>\n",
       "      <td>Cidade Líder</td>\n",
       "    </tr>\n",
       "  </tbody>\n",
       "</table>\n",
       "</div>"
      ],
      "text/plain": [
       "      Price  Condo  Size  Rooms  Toilets  Suites  Parking Elevator Furnished  \\\n",
       "508     480    295    48      2        2       1        1       No        No   \n",
       "4486    500    380    66      2        1       0        1       No        No   \n",
       "2878    500     36    45      1        2       1        0       No        No   \n",
       "288     500      0    40      1        2       1        1       No        No   \n",
       "122     500      0    50      1        2       1        1       No        No   \n",
       "\n",
       "     Swimming Pool New       District  \n",
       "508             No  No     São Rafael  \n",
       "4486            No  No        Jaraguá  \n",
       "2878           Yes  No     Vila Maria  \n",
       "288             No  No  Jardim Helena  \n",
       "122             No  No   Cidade Líder  "
      ]
     },
     "metadata": {},
     "output_type": "display_data"
    },
    {
     "data": {
      "text/plain": [
       "(7228, 12)"
      ]
     },
     "metadata": {},
     "output_type": "display_data"
    },
    {
     "data": {
      "text/plain": [
       "Price               int64\n",
       "Condo               int64\n",
       "Size                int64\n",
       "Rooms               int64\n",
       "Toilets             int64\n",
       "Suites              int64\n",
       "Parking             int64\n",
       "Elevator         category\n",
       "Furnished        category\n",
       "Swimming Pool    category\n",
       "New              category\n",
       "District         category\n",
       "dtype: object"
      ]
     },
     "metadata": {},
     "output_type": "display_data"
    }
   ],
   "source": [
    "display(df.sort_values(by='Price').head())\n",
    "display(df.shape)\n",
    "display(df.dtypes)"
   ]
  },
  {
   "cell_type": "markdown",
   "metadata": {},
   "source": [
    "## Análize dos dados"
   ]
  },
  {
   "cell_type": "code",
   "execution_count": 13,
   "metadata": {},
   "outputs": [],
   "source": [
    "# df2 = df.loc[:, ['Price', 'New']]\n",
    "\n",
    "# px.histogram(df2, x='Price', color='New') # opacity=0.5,"
   ]
  },
  {
   "cell_type": "code",
   "execution_count": 14,
   "metadata": {},
   "outputs": [],
   "source": [
    "# df2 = df.loc[:, ['Price', 'Swimming Pool']]\n",
    "\n",
    "# px.histogram(df2, x='Price', color='Swimming Pool') # opacity=0.5,"
   ]
  },
  {
   "cell_type": "code",
   "execution_count": 15,
   "metadata": {},
   "outputs": [],
   "source": [
    "# df2 = df.loc[:, ['Price', 'Furnished']]\n",
    "\n",
    "# px.histogram(df2, x='Price', color='Furnished') # opacity=0.5,"
   ]
  },
  {
   "cell_type": "code",
   "execution_count": 16,
   "metadata": {},
   "outputs": [],
   "source": [
    "# df2 = df.loc[:, ['Price', 'Elevator']]\n",
    "\n",
    "# px.histogram(df2, x='Price', color='Elevator') # opacity=0.5,"
   ]
  },
  {
   "cell_type": "code",
   "execution_count": 17,
   "metadata": {},
   "outputs": [],
   "source": [
    "# # ['Price', 'Condo', 'Size', 'Rooms', 'Toilets', 'Suites', 'Parking', 'Elevator', 'Furnished', 'Swimming Pool', 'District', 'Property Type']\n",
    "# print(f'Correlação Price/Condo: {df.Price.corr(df.Condo)*100:.3f} %')\n",
    "# print(f'Correlação Price/Size: {df.Price.corr(df.Size)*100:.3f} %')\n",
    "# print(f'Correlação Price/Rooms: {df.Price.corr(df.Rooms)*100:.3f} %')\n",
    "# print(f'Correlação Price/Toilets: {df.Price.corr(df.Toilets)*100:.3f} %')\n",
    "# print(f'Correlação Price/Suites: {df.Price.corr(df.Suites)*100:.3f} %')\n",
    "# print(f'Correlação Price/Parking: {df.Price.corr(df.Parking)*100:.3f} %')\n",
    "# # print(f'Correlação Price\\Elevator: {df.Price.corr(df.Elevator)*100:.3f} %')\n",
    "# # print(f'Correlação Price\\Furnished: {df.Price.corr(df.Furnished)*100:.3f} %')\n",
    "# # # print(f'Correlação Price/Swimming Pool: {df['Price'].corr(df['Swimming Pool'])*100:.3f} %')\n",
    "# # print(f'Correlação Price\\District: {df.Price.corr(df.District)*100:.3f} %')\n",
    "# # # print(f'Correlação Price/Property Type: {df.Price.corr(df.Property Type)*100:.3f} %')"
   ]
  },
  {
   "cell_type": "code",
   "execution_count": 18,
   "metadata": {},
   "outputs": [],
   "source": [
    "# Price\tCondo\tSize\tRooms\tToilets\tSuites"
   ]
  },
  {
   "cell_type": "markdown",
   "metadata": {},
   "source": [
    "## test train"
   ]
  },
  {
   "cell_type": "code",
   "execution_count": 19,
   "metadata": {},
   "outputs": [],
   "source": [
    "X_test = pd.read_csv('X_test.csv')\n",
    "X_train = pd.read_csv('X_train.csv')\n",
    "y_train = pd.read_csv('y_train.csv')\n",
    "y_test = pd.read_csv('y_test.csv')"
   ]
  },
  {
   "cell_type": "markdown",
   "metadata": {},
   "source": [
    "## Regressão Linear"
   ]
  },
  {
   "cell_type": "code",
   "execution_count": 20,
   "metadata": {},
   "outputs": [],
   "source": [
    "def regress(Y, X):\n",
    "\n",
    "    X_cp = sm.add_constant(X)\n",
    "    model = sm.OLS(Y,X_cp)\n",
    "    r = model.fit()\n",
    "    \n",
    "    return r"
   ]
  },
  {
   "cell_type": "code",
   "execution_count": 21,
   "metadata": {},
   "outputs": [],
   "source": [
    "X_train['Swimming Pool'] = X_train['Swimming Pool'].astype('category')\n",
    "X_train['New'] = X_train['New'].astype('category')\n",
    "X_train['Furnished'] = X_train['Furnished'].astype('category')\n",
    "X_train['Elevator'] = X_train['Elevator'].astype('category')\n",
    "\n",
    "X_train['Swimming Pool'].cat.categories = ['0', '1']\n",
    "X_train['Furnished'].cat.categories = ['0', '1']\n",
    "X_train['Elevator'].cat.categories = ['0', '1']\n",
    "X_train['New'].cat.categories = ['0', '1']\n",
    "\n",
    "X_train['Swimming Pool'] = X_train['Swimming Pool'].astype('int64')\n",
    "X_train['New'] = X_train['New'].astype('int64')\n",
    "X_train['Furnished'] = X_train['Furnished'].astype('int64')\n",
    "X_train['Elevator'] = X_train['Elevator'].astype('int64')"
   ]
  },
  {
   "cell_type": "code",
   "execution_count": 22,
   "metadata": {},
   "outputs": [
    {
     "data": {
      "text/plain": [
       "const             8.906199e-01\n",
       "Condo             2.192569e-43\n",
       "Size             8.916965e-156\n",
       "Rooms             3.086652e-50\n",
       "Toilets           7.803119e-03\n",
       "Suites            5.839098e-02\n",
       "Parking           3.787347e-17\n",
       "Elevator          1.529014e-01\n",
       "Furnished         3.695950e-43\n",
       "Swimming Pool     3.905467e-04\n",
       "New               7.742408e-01\n",
       "dtype: float64"
      ]
     },
     "execution_count": 22,
     "metadata": {},
     "output_type": "execute_result"
    }
   ],
   "source": [
    "Y = y_train['Price']\n",
    "X = X_train[['Condo', 'Size', 'Rooms', 'Toilets', 'Suites', 'Parking', 'Elevator', 'Furnished', 'Swimming Pool', 'New']]\n",
    "results = regress(Y,X)\n",
    "results.summary()\n",
    "results.pvalues"
   ]
  },
  {
   "cell_type": "code",
   "execution_count": 23,
   "metadata": {},
   "outputs": [
    {
     "data": {
      "text/plain": [
       "const             8.868752e-01\n",
       "Condo             2.083484e-43\n",
       "Size             8.003297e-156\n",
       "Rooms             3.155231e-50\n",
       "Toilets           7.731382e-03\n",
       "Suites            5.849949e-02\n",
       "Parking           3.911884e-17\n",
       "Elevator          1.485400e-01\n",
       "Furnished         3.672589e-43\n",
       "Swimming Pool     3.953153e-04\n",
       "dtype: float64"
      ]
     },
     "execution_count": 23,
     "metadata": {},
     "output_type": "execute_result"
    }
   ],
   "source": [
    "X = X.drop(columns='New', axis=1)\n",
    "results = regress(Y,X)\n",
    "results.summary()\n",
    "results.pvalues"
   ]
  },
  {
   "cell_type": "code",
   "execution_count": 24,
   "metadata": {},
   "outputs": [
    {
     "data": {
      "text/plain": [
       "const             8.118957e-01\n",
       "Condo             2.113042e-43\n",
       "Size             1.083067e-156\n",
       "Rooms             5.734968e-50\n",
       "Toilets           1.310419e-02\n",
       "Suites            4.972724e-02\n",
       "Parking           1.765640e-17\n",
       "Furnished         8.931940e-43\n",
       "Swimming Pool     6.706024e-04\n",
       "dtype: float64"
      ]
     },
     "execution_count": 24,
     "metadata": {},
     "output_type": "execute_result"
    }
   ],
   "source": [
    "X = X.drop(columns='Elevator', axis=1)\n",
    "results = regress(Y,X)\n",
    "results.summary()\n",
    "results.pvalues"
   ]
  },
  {
   "cell_type": "code",
   "execution_count": 25,
   "metadata": {},
   "outputs": [
    {
     "data": {
      "text/plain": [
       "const             1.198261e-01\n",
       "Condo             7.684512e-43\n",
       "Size             1.041524e-160\n",
       "Rooms             1.941865e-50\n",
       "Toilets           5.448455e-13\n",
       "Parking           3.670623e-19\n",
       "Furnished         5.786382e-43\n",
       "Swimming Pool     5.006387e-04\n",
       "dtype: float64"
      ]
     },
     "execution_count": 25,
     "metadata": {},
     "output_type": "execute_result"
    }
   ],
   "source": [
    "X = X.drop(columns='Suites', axis=1)\n",
    "results = regress(Y,X)\n",
    "results.summary()\n",
    "results.pvalues"
   ]
  },
  {
   "cell_type": "code",
   "execution_count": 26,
   "metadata": {},
   "outputs": [
    {
     "data": {
      "text/plain": [
       "const         2.066134e-01\n",
       "Condo         2.853670e-44\n",
       "Size         2.524286e-158\n",
       "Rooms         1.597524e-49\n",
       "Toilets       2.181445e-14\n",
       "Parking       1.109603e-22\n",
       "Furnished     1.970909e-47\n",
       "dtype: float64"
      ]
     },
     "execution_count": 26,
     "metadata": {},
     "output_type": "execute_result"
    }
   ],
   "source": [
    "X = X.drop(columns='Swimming Pool', axis=1)\n",
    "results = regress(Y,X)\n",
    "results.pvalues"
   ]
  },
  {
   "cell_type": "code",
   "execution_count": 27,
   "metadata": {},
   "outputs": [
    {
     "data": {
      "text/plain": [
       "const         2.459250e-01\n",
       "Condo         1.063377e-43\n",
       "Size         5.283442e-188\n",
       "Rooms         3.992929e-44\n",
       "Parking       1.420912e-38\n",
       "Furnished     2.293540e-51\n",
       "dtype: float64"
      ]
     },
     "execution_count": 27,
     "metadata": {},
     "output_type": "execute_result"
    }
   ],
   "source": [
    "X = X.drop(columns='Toilets', axis=1)\n",
    "results = regress(Y,X)\n",
    "results.pvalues"
   ]
  },
  {
   "cell_type": "code",
   "execution_count": 28,
   "metadata": {},
   "outputs": [
    {
     "data": {
      "text/plain": [
       "const         7.556512e-03\n",
       "Condo         9.334929e-72\n",
       "Size         4.566645e-239\n",
       "Rooms         1.094247e-28\n",
       "Furnished     2.282581e-58\n",
       "dtype: float64"
      ]
     },
     "execution_count": 28,
     "metadata": {},
     "output_type": "execute_result"
    }
   ],
   "source": [
    "X = X.drop(columns='Parking', axis=1)\n",
    "results = regress(Y,X)\n",
    "results.pvalues"
   ]
  },
  {
   "cell_type": "code",
   "execution_count": 29,
   "metadata": {},
   "outputs": [
    {
     "data": {
      "text/plain": [
       "const         3.452242e-28\n",
       "Condo         1.420614e-78\n",
       "Size         1.311498e-223\n",
       "Furnished     1.088813e-67\n",
       "dtype: float64"
      ]
     },
     "execution_count": 29,
     "metadata": {},
     "output_type": "execute_result"
    }
   ],
   "source": [
    "X = X.drop(columns='Rooms', axis=1)\n",
    "results = regress(Y,X)\n",
    "results.pvalues"
   ]
  },
  {
   "cell_type": "code",
   "execution_count": 30,
   "metadata": {},
   "outputs": [
    {
     "data": {
      "text/plain": [
       "const     1.328271e-10\n",
       "Condo     8.931316e-97\n",
       "Size     2.498904e-193\n",
       "dtype: float64"
      ]
     },
     "execution_count": 30,
     "metadata": {},
     "output_type": "execute_result"
    }
   ],
   "source": [
    "X = X.drop(columns='Furnished', axis=1)\n",
    "results = regress(Y,X)\n",
    "results.pvalues"
   ]
  },
  {
   "cell_type": "code",
   "execution_count": 35,
   "metadata": {},
   "outputs": [],
   "source": [
    "from mpl_toolkits.mplot3d import Axes3D"
   ]
  },
  {
   "cell_type": "code",
   "execution_count": 31,
   "metadata": {},
   "outputs": [],
   "source": [
    "beta0_hat = results.params[0]  # const\n",
    "beta1_hat = results.params[1]  # Condo\n",
    "beta2_hat = results.params[2]  # Size"
   ]
  },
  {
   "cell_type": "code",
   "execution_count": 32,
   "metadata": {},
   "outputs": [],
   "source": [
    "def f(feature1, feature2):\n",
    "    return beta0_hat + beta1_hat*feature1 + beta2_hat*feature2"
   ]
  },
  {
   "cell_type": "code",
   "execution_count": 33,
   "metadata": {},
   "outputs": [],
   "source": [
    "npoints = 100\n",
    "feature1 = X['Condo']\n",
    "feature2 = X['Size']\n",
    "x_vc = np.linspace(feature1.min(), feature1.max(), npoints)\n",
    "y_vc = np.linspace(feature2.min(), feature2.max(), npoints)\n",
    "\n",
    "eixo_x, eixo_y = np.meshgrid(x_vc, y_vc)\n",
    "\n",
    "fit_z = f(eixo_x, eixo_y)"
   ]
  },
  {
   "cell_type": "code",
   "execution_count": 34,
   "metadata": {},
   "outputs": [
    {
     "name": "stderr",
     "output_type": "stream",
     "text": [
      "C:\\Users\\pedro\\AppData\\Local\\Temp\\ipykernel_12092\\4246080977.py:1: MatplotlibDeprecationWarning: Calling gca() with keyword arguments was deprecated in Matplotlib 3.4. Starting two minor releases later, gca() will take no keyword arguments. The gca() function should only be used to get the current axes, or if no axes exist, create new axes with default keyword arguments. To create a new axes with non-default arguments, use plt.axes() or plt.subplot().\n",
      "  plt3d = plt.figure().gca(projection=\"3d\")\n"
     ]
    },
    {
     "data": {
      "image/png": "[encoded data removed]",
      "text/plain": [
       "<Figure size 432x288 with 1 Axes>"
      ]
     },
     "metadata": {
      "needs_background": "light"
     },
     "output_type": "display_data"
    }
   ],
   "source": [
    "plt3d = plt.figure().gca(projection=\"3d\")\n",
    "plt3d.plot_surface(eixo_x, eixo_y, fit_z)\n",
    "plt3d.scatter(feature1, feature2, Y, color=\"r\")\n",
    "plt3d.set_xlabel(\"feature1\")\n",
    "plt3d.set_ylabel(\"feature2\")\n",
    "plt3d.set_zlabel(\"Y\")\n",
    "plt.show()"
   ]
  },
  {
   "cell_type": "markdown",
   "metadata": {},
   "source": [
    "### Referêcias\n",
    "\n",
    "- Análise de dados e previsão de preços: https://www.kaggle.com/code/juxwzera/predictions-for-price\n",
    "- Algumas funções do statsmodels.api: https://www.statsmodels.org/stable/gettingstarted.html"
   ]
  }
 ],
 "metadata": {
  "interpreter": {
   "hash": "ad2bdc8ecc057115af97d19610ffacc2b4e99fae6737bb82f5d7fb13d2f2c186"
  },
  "kernelspec": {
   "display_name": "Python 3 (ipykernel)",
   "language": "python",
   "name": "python3"
  },
  "language_info": {
   "codemirror_mode": {
    "name": "ipython",
    "version": 3
   },
   "file_extension": ".py",
   "mimetype": "text/x-python",
   "name": "python",
   "nbconvert_exporter": "python",
   "pygments_lexer": "ipython3",
   "version": "3.9.12"
  }
 },
 "nbformat": 4,
 "nbformat_minor": 2
}
