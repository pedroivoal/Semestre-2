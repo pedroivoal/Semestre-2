{
 "cells": [
  {
   "cell_type": "code",
   "execution_count": 39,
   "metadata": {},
   "outputs": [],
   "source": [
    "import pandas as pd\n",
    "import matplotlib.pyplot as plt\n",
    "import numpy as np\n",
    "# import plotly.express as px\n",
    "\n",
    "import statsmodels.api as sm\n",
    "\n",
    "from IPython.display import display"
   ]
  },
  {
   "cell_type": "markdown",
   "metadata": {},
   "source": [
    "## Limpeza dos dados"
   ]
  },
  {
   "cell_type": "code",
   "execution_count": 40,
   "metadata": {},
   "outputs": [
    {
     "data": {
      "text/html": [
       "<div>\n",
       "<style scoped>\n",
       "    .dataframe tbody tr th:only-of-type {\n",
       "        vertical-align: middle;\n",
       "    }\n",
       "\n",
       "    .dataframe tbody tr th {\n",
       "        vertical-align: top;\n",
       "    }\n",
       "\n",
       "    .dataframe thead th {\n",
       "        text-align: right;\n",
       "    }\n",
       "</style>\n",
       "<table border=\"1\" class=\"dataframe\">\n",
       "  <thead>\n",
       "    <tr style=\"text-align: right;\">\n",
       "      <th></th>\n",
       "      <th>Price</th>\n",
       "      <th>Condo</th>\n",
       "      <th>Size</th>\n",
       "      <th>Rooms</th>\n",
       "      <th>Toilets</th>\n",
       "      <th>Suites</th>\n",
       "      <th>Parking</th>\n",
       "      <th>Elevator</th>\n",
       "      <th>Furnished</th>\n",
       "      <th>Swimming Pool</th>\n",
       "      <th>New</th>\n",
       "      <th>District</th>\n",
       "      <th>Negotiation Type</th>\n",
       "      <th>Property Type</th>\n",
       "      <th>Latitude</th>\n",
       "      <th>Longitude</th>\n",
       "    </tr>\n",
       "  </thead>\n",
       "  <tbody>\n",
       "    <tr>\n",
       "      <th>0</th>\n",
       "      <td>930</td>\n",
       "      <td>220</td>\n",
       "      <td>47</td>\n",
       "      <td>2</td>\n",
       "      <td>2</td>\n",
       "      <td>1</td>\n",
       "      <td>1</td>\n",
       "      <td>0</td>\n",
       "      <td>0</td>\n",
       "      <td>0</td>\n",
       "      <td>0</td>\n",
       "      <td>Artur Alvim/São Paulo</td>\n",
       "      <td>rent</td>\n",
       "      <td>apartment</td>\n",
       "      <td>-23.543138</td>\n",
       "      <td>-46.479486</td>\n",
       "    </tr>\n",
       "    <tr>\n",
       "      <th>1</th>\n",
       "      <td>1000</td>\n",
       "      <td>148</td>\n",
       "      <td>45</td>\n",
       "      <td>2</td>\n",
       "      <td>2</td>\n",
       "      <td>1</td>\n",
       "      <td>1</td>\n",
       "      <td>0</td>\n",
       "      <td>0</td>\n",
       "      <td>0</td>\n",
       "      <td>0</td>\n",
       "      <td>Artur Alvim/São Paulo</td>\n",
       "      <td>rent</td>\n",
       "      <td>apartment</td>\n",
       "      <td>-23.550239</td>\n",
       "      <td>-46.480718</td>\n",
       "    </tr>\n",
       "    <tr>\n",
       "      <th>2</th>\n",
       "      <td>1000</td>\n",
       "      <td>100</td>\n",
       "      <td>48</td>\n",
       "      <td>2</td>\n",
       "      <td>2</td>\n",
       "      <td>1</td>\n",
       "      <td>1</td>\n",
       "      <td>0</td>\n",
       "      <td>0</td>\n",
       "      <td>0</td>\n",
       "      <td>0</td>\n",
       "      <td>Artur Alvim/São Paulo</td>\n",
       "      <td>rent</td>\n",
       "      <td>apartment</td>\n",
       "      <td>-23.542818</td>\n",
       "      <td>-46.485665</td>\n",
       "    </tr>\n",
       "  </tbody>\n",
       "</table>\n",
       "</div>"
      ],
      "text/plain": [
       "   Price  Condo  Size  Rooms  Toilets  Suites  Parking  Elevator  Furnished  \\\n",
       "0    930    220    47      2        2       1        1         0          0   \n",
       "1   1000    148    45      2        2       1        1         0          0   \n",
       "2   1000    100    48      2        2       1        1         0          0   \n",
       "\n",
       "   Swimming Pool  New               District Negotiation Type Property Type  \\\n",
       "0              0    0  Artur Alvim/São Paulo             rent     apartment   \n",
       "1              0    0  Artur Alvim/São Paulo             rent     apartment   \n",
       "2              0    0  Artur Alvim/São Paulo             rent     apartment   \n",
       "\n",
       "    Latitude  Longitude  \n",
       "0 -23.543138 -46.479486  \n",
       "1 -23.550239 -46.480718  \n",
       "2 -23.542818 -46.485665  "
      ]
     },
     "metadata": {},
     "output_type": "display_data"
    },
    {
     "data": {
      "text/plain": [
       "(13640, 16)"
      ]
     },
     "metadata": {},
     "output_type": "display_data"
    }
   ],
   "source": [
    "df0 = pd.read_csv('sao-paulo-properties-april-2019.csv')\n",
    "display(df0.head(3))\n",
    "display(df0.shape)"
   ]
  },
  {
   "cell_type": "code",
   "execution_count": 41,
   "metadata": {},
   "outputs": [],
   "source": [
    "rent = df0['Negotiation Type'] == 'rent'\n",
    "df = df0.loc[rent,['Price', 'Condo', 'Size', 'Rooms', 'Toilets', 'Suites', 'Parking', 'Elevator', 'Furnished', 'Swimming Pool', 'New', 'District']]\n",
    "\n",
    "# df para regressão linear\n",
    "df_rl = df.drop(columns='District', axis=1)"
   ]
  },
  {
   "cell_type": "code",
   "execution_count": 42,
   "metadata": {},
   "outputs": [],
   "source": [
    "df['District'] = df['District'].astype('category')\n",
    "\n",
    "df['Swimming Pool'] = df['Swimming Pool'].astype('category')\n",
    "df['New'] = df['New'].astype('category')\n",
    "df['Furnished'] = df['Furnished'].astype('category')\n",
    "df['Elevator'] = df['Elevator'].astype('category')"
   ]
  },
  {
   "cell_type": "code",
   "execution_count": 43,
   "metadata": {},
   "outputs": [],
   "source": [
    "df['Swimming Pool'].cat.categories = ['No', 'Yes']\n",
    "df['Furnished'].cat.categories = ['No', 'Yes']\n",
    "df['Elevator'].cat.categories = ['No', 'Yes']\n",
    "df['New'].cat.categories = ['No', 'Yes']\n",
    "df['Swimming Pool'].cat.categories = ['No', 'Yes']"
   ]
  },
  {
   "cell_type": "code",
   "execution_count": 44,
   "metadata": {},
   "outputs": [
    {
     "data": {
      "text/plain": [
       "array(['São Paulo'], dtype=object)"
      ]
     },
     "metadata": {},
     "output_type": "display_data"
    }
   ],
   "source": [
    "df[['District','City']] = df['District'].str.split('/', expand = True)\n",
    "display(df.City.unique())"
   ]
  },
  {
   "cell_type": "code",
   "execution_count": 45,
   "metadata": {},
   "outputs": [],
   "source": [
    "df = df.drop(columns='City', axis=1)\n",
    "df['District'] = df['District'].astype('category')"
   ]
  },
  {
   "cell_type": "markdown",
   "metadata": {},
   "source": [
    "## Análize dos dados"
   ]
  },
  {
   "cell_type": "markdown",
   "metadata": {},
   "source": [
    "## test train"
   ]
  },
  {
   "cell_type": "code",
   "execution_count": 46,
   "metadata": {},
   "outputs": [],
   "source": [
    "X_test = pd.read_csv('X_test.csv')\n",
    "X_train = pd.read_csv('X_train.csv')\n",
    "y_train = pd.read_csv('y_train.csv')\n",
    "y_test = pd.read_csv('y_test.csv')"
   ]
  },
  {
   "cell_type": "markdown",
   "metadata": {},
   "source": [
    "## Regressão Linear"
   ]
  },
  {
   "cell_type": "markdown",
   "metadata": {},
   "source": [
    "`Explicaremos aqui todos os nossos passos, quem quiser entender melhor como funciona regressão linear pode ler sobre no seguinte site: https://www.ibm.com/br-pt/analytics/learn/linear-regression`"
   ]
  },
  {
   "cell_type": "code",
   "execution_count": 47,
   "metadata": {},
   "outputs": [],
   "source": [
    "def regress(Y, X):\n",
    "\n",
    "    X_cp = sm.add_constant(X)\n",
    "    model = sm.OLS(Y,X_cp)\n",
    "    r = model.fit()\n",
    "\n",
    "    return r"
   ]
  },
  {
   "cell_type": "code",
   "execution_count": 48,
   "metadata": {},
   "outputs": [],
   "source": [
    "X_train['Swimming Pool'] = X_train['Swimming Pool'].astype('category')\n",
    "X_train['New'] = X_train['New'].astype('category')\n",
    "X_train['Furnished'] = X_train['Furnished'].astype('category')\n",
    "X_train['Elevator'] = X_train['Elevator'].astype('category')\n",
    "\n",
    "X_train['Swimming Pool'].cat.categories = ['0', '1']\n",
    "X_train['Furnished'].cat.categories = ['0', '1']\n",
    "X_train['Elevator'].cat.categories = ['0', '1']\n",
    "X_train['New'].cat.categories = ['0', '1']\n",
    "\n",
    "X_train['Swimming Pool'] = X_train['Swimming Pool'].astype('int64')\n",
    "X_train['New'] = X_train['New'].astype('int64')\n",
    "X_train['Furnished'] = X_train['Furnished'].astype('int64')\n",
    "X_train['Elevator'] = X_train['Elevator'].astype('int64')"
   ]
  },
  {
   "cell_type": "markdown",
   "metadata": {},
   "source": [
    "`Adapitamos os nossos dados qualitativos para ficarem na forma binária e podermos fazer regressão linear com todas variáveis relevantes`"
   ]
  },
  {
   "cell_type": "code",
   "execution_count": 49,
   "metadata": {},
   "outputs": [
    {
     "data": {
      "text/html": [
       "<table class=\"simpletable\">\n",
       "<caption>OLS Regression Results</caption>\n",
       "<tr>\n",
       "  <th>Dep. Variable:</th>          <td>Price</td>      <th>  R-squared:         </th> <td>   0.609</td> \n",
       "</tr>\n",
       "<tr>\n",
       "  <th>Model:</th>                   <td>OLS</td>       <th>  Adj. R-squared:    </th> <td>   0.608</td> \n",
       "</tr>\n",
       "<tr>\n",
       "  <th>Method:</th>             <td>Least Squares</td>  <th>  F-statistic:       </th> <td>   898.8</td> \n",
       "</tr>\n",
       "<tr>\n",
       "  <th>Date:</th>             <td>Thu, 02 Jun 2022</td> <th>  Prob (F-statistic):</th>  <td>  0.00</td>  \n",
       "</tr>\n",
       "<tr>\n",
       "  <th>Time:</th>                 <td>15:13:11</td>     <th>  Log-Likelihood:    </th> <td> -52677.</td> \n",
       "</tr>\n",
       "<tr>\n",
       "  <th>No. Observations:</th>      <td>  5782</td>      <th>  AIC:               </th> <td>1.054e+05</td>\n",
       "</tr>\n",
       "<tr>\n",
       "  <th>Df Residuals:</th>          <td>  5771</td>      <th>  BIC:               </th> <td>1.054e+05</td>\n",
       "</tr>\n",
       "<tr>\n",
       "  <th>Df Model:</th>              <td>    10</td>      <th>                     </th>     <td> </td>    \n",
       "</tr>\n",
       "<tr>\n",
       "  <th>Covariance Type:</th>      <td>nonrobust</td>    <th>                     </th>     <td> </td>    \n",
       "</tr>\n",
       "</table>\n",
       "<table class=\"simpletable\">\n",
       "<tr>\n",
       "        <td></td>           <th>coef</th>     <th>std err</th>      <th>t</th>      <th>P>|t|</th>  <th>[0.025</th>    <th>0.975]</th>  \n",
       "</tr>\n",
       "<tr>\n",
       "  <th>const</th>         <td>  -15.7238</td> <td>  114.334</td> <td>   -0.138</td> <td> 0.891</td> <td> -239.861</td> <td>  208.413</td>\n",
       "</tr>\n",
       "<tr>\n",
       "  <th>Condo</th>         <td>    0.9004</td> <td>    0.065</td> <td>   13.926</td> <td> 0.000</td> <td>    0.774</td> <td>    1.027</td>\n",
       "</tr>\n",
       "<tr>\n",
       "  <th>Size</th>          <td>   27.6610</td> <td>    1.009</td> <td>   27.427</td> <td> 0.000</td> <td>   25.684</td> <td>   29.638</td>\n",
       "</tr>\n",
       "<tr>\n",
       "  <th>Rooms</th>         <td> -746.7056</td> <td>   49.616</td> <td>  -15.050</td> <td> 0.000</td> <td> -843.972</td> <td> -649.439</td>\n",
       "</tr>\n",
       "<tr>\n",
       "  <th>Toilets</th>       <td>  210.0955</td> <td>   78.942</td> <td>    2.661</td> <td> 0.008</td> <td>   55.340</td> <td>  364.851</td>\n",
       "</tr>\n",
       "<tr>\n",
       "  <th>Suites</th>        <td>  169.4692</td> <td>   89.518</td> <td>    1.893</td> <td> 0.058</td> <td>   -6.020</td> <td>  344.958</td>\n",
       "</tr>\n",
       "<tr>\n",
       "  <th>Parking</th>       <td>  486.9709</td> <td>   57.660</td> <td>    8.446</td> <td> 0.000</td> <td>  373.936</td> <td>  600.006</td>\n",
       "</tr>\n",
       "<tr>\n",
       "  <th>Elevator</th>      <td>  -93.3106</td> <td>   65.273</td> <td>   -1.430</td> <td> 0.153</td> <td> -221.270</td> <td>   34.649</td>\n",
       "</tr>\n",
       "<tr>\n",
       "  <th>Furnished</th>     <td> 1095.7383</td> <td>   78.900</td> <td>   13.888</td> <td> 0.000</td> <td>  941.065</td> <td> 1250.411</td>\n",
       "</tr>\n",
       "<tr>\n",
       "  <th>Swimming Pool</th> <td>  223.3972</td> <td>   62.956</td> <td>    3.548</td> <td> 0.000</td> <td>   99.980</td> <td>  346.814</td>\n",
       "</tr>\n",
       "<tr>\n",
       "  <th>New</th>           <td> -257.3482</td> <td>  897.166</td> <td>   -0.287</td> <td> 0.774</td> <td>-2016.131</td> <td> 1501.434</td>\n",
       "</tr>\n",
       "</table>\n",
       "<table class=\"simpletable\">\n",
       "<tr>\n",
       "  <th>Omnibus:</th>       <td>5115.530</td> <th>  Durbin-Watson:     </th>  <td>   2.030</td> \n",
       "</tr>\n",
       "<tr>\n",
       "  <th>Prob(Omnibus):</th>  <td> 0.000</td>  <th>  Jarque-Bera (JB):  </th> <td>566733.591</td>\n",
       "</tr>\n",
       "<tr>\n",
       "  <th>Skew:</th>           <td> 3.743</td>  <th>  Prob(JB):          </th>  <td>    0.00</td> \n",
       "</tr>\n",
       "<tr>\n",
       "  <th>Kurtosis:</th>       <td>50.920</td>  <th>  Cond. No.          </th>  <td>3.62e+04</td> \n",
       "</tr>\n",
       "</table><br/><br/>Notes:<br/>[1] Standard Errors assume that the covariance matrix of the errors is correctly specified.<br/>[2] The condition number is large, 3.62e+04. This might indicate that there are<br/>strong multicollinearity or other numerical problems."
      ],
      "text/plain": [
       "<class 'statsmodels.iolib.summary.Summary'>\n",
       "\"\"\"\n",
       "                            OLS Regression Results                            \n",
       "==============================================================================\n",
       "Dep. Variable:                  Price   R-squared:                       0.609\n",
       "Model:                            OLS   Adj. R-squared:                  0.608\n",
       "Method:                 Least Squares   F-statistic:                     898.8\n",
       "Date:                Thu, 02 Jun 2022   Prob (F-statistic):               0.00\n",
       "Time:                        15:13:11   Log-Likelihood:                -52677.\n",
       "No. Observations:                5782   AIC:                         1.054e+05\n",
       "Df Residuals:                    5771   BIC:                         1.054e+05\n",
       "Df Model:                          10                                         \n",
       "Covariance Type:            nonrobust                                         \n",
       "=================================================================================\n",
       "                    coef    std err          t      P>|t|      [0.025      0.975]\n",
       "---------------------------------------------------------------------------------\n",
       "const           -15.7238    114.334     -0.138      0.891    -239.861     208.413\n",
       "Condo             0.9004      0.065     13.926      0.000       0.774       1.027\n",
       "Size             27.6610      1.009     27.427      0.000      25.684      29.638\n",
       "Rooms          -746.7056     49.616    -15.050      0.000    -843.972    -649.439\n",
       "Toilets         210.0955     78.942      2.661      0.008      55.340     364.851\n",
       "Suites          169.4692     89.518      1.893      0.058      -6.020     344.958\n",
       "Parking         486.9709     57.660      8.446      0.000     373.936     600.006\n",
       "Elevator        -93.3106     65.273     -1.430      0.153    -221.270      34.649\n",
       "Furnished      1095.7383     78.900     13.888      0.000     941.065    1250.411\n",
       "Swimming Pool   223.3972     62.956      3.548      0.000      99.980     346.814\n",
       "New            -257.3482    897.166     -0.287      0.774   -2016.131    1501.434\n",
       "==============================================================================\n",
       "Omnibus:                     5115.530   Durbin-Watson:                   2.030\n",
       "Prob(Omnibus):                  0.000   Jarque-Bera (JB):           566733.591\n",
       "Skew:                           3.743   Prob(JB):                         0.00\n",
       "Kurtosis:                      50.920   Cond. No.                     3.62e+04\n",
       "==============================================================================\n",
       "\n",
       "Notes:\n",
       "[1] Standard Errors assume that the covariance matrix of the errors is correctly specified.\n",
       "[2] The condition number is large, 3.62e+04. This might indicate that there are\n",
       "strong multicollinearity or other numerical problems.\n",
       "\"\"\""
      ]
     },
     "execution_count": 49,
     "metadata": {},
     "output_type": "execute_result"
    }
   ],
   "source": [
    "Y = y_train['Price']\n",
    "X = X_train[['Condo', 'Size', 'Rooms', 'Toilets', 'Suites', 'Parking', 'Elevator', 'Furnished', 'Swimming Pool', 'New']]\n",
    "results = regress(Y,X)\n",
    "results.summary()\n",
    "# results.pvalues"
   ]
  },
  {
   "cell_type": "code",
   "execution_count": 50,
   "metadata": {},
   "outputs": [],
   "source": [
    "# X = X.drop(columns='Swimming Pool', axis=1)\n",
    "# results = regress(Y,X)\n",
    "# results.pvalues"
   ]
  },
  {
   "cell_type": "code",
   "execution_count": 51,
   "metadata": {},
   "outputs": [],
   "source": [
    "# X = X.drop(columns='Toilets', axis=1)\n",
    "# results = regress(Y,X)\n",
    "# results.pvalues"
   ]
  },
  {
   "cell_type": "code",
   "execution_count": 52,
   "metadata": {},
   "outputs": [],
   "source": [
    "# X = X.drop(columns='Parking', axis=1)\n",
    "# results = regress(Y,X)\n",
    "# results.pvalues"
   ]
  },
  {
   "cell_type": "code",
   "execution_count": 53,
   "metadata": {},
   "outputs": [],
   "source": [
    "# X = X.drop(columns='Rooms', axis=1)\n",
    "# results = regress(Y,X)\n",
    "# results.pvalues"
   ]
  },
  {
   "cell_type": "code",
   "execution_count": 54,
   "metadata": {},
   "outputs": [
    {
     "data": {
      "text/plain": [
       "const             4.005885e-02\n",
       "Condo             1.115989e-49\n",
       "Size             2.455109e-145\n",
       "Rooms             1.013415e-63\n",
       "Toilets           5.175198e-03\n",
       "Suites            3.256055e-02\n",
       "Parking           5.390853e-18\n",
       "Elevator          6.011903e-01\n",
       "Swimming Pool     1.750132e-08\n",
       "New               8.033180e-01\n",
       "dtype: float64"
      ]
     },
     "execution_count": 54,
     "metadata": {},
     "output_type": "execute_result"
    }
   ],
   "source": [
    "X = X.drop(columns='Furnished', axis=1)\n",
    "results = regress(Y,X)\n",
    "results.pvalues"
   ]
  },
  {
   "cell_type": "markdown",
   "metadata": {},
   "source": [
    "`Calculamos o valor p entre as variáveis e retiramos uma a uma as seguintas variáveis nessa ordem: New, Elevator, Suites, Swimming Pool, Toilets, Parking, Rooms, Furnished.`"
   ]
  },
  {
   "cell_type": "code",
   "execution_count": 55,
   "metadata": {},
   "outputs": [],
   "source": [
    "%matplotlib notebook\n",
    "\n",
    "\n",
    "from mpl_toolkits.mplot3d import Axes3D\n",
    "\n",
    "from scipy import stats "
   ]
  },
  {
   "cell_type": "code",
   "execution_count": 56,
   "metadata": {},
   "outputs": [
    {
     "ename": "IndexError",
     "evalue": "index 10 is out of bounds for axis 0 with size 10",
     "output_type": "error",
     "traceback": [
      "\u001b[1;31m---------------------------------------------------------------------------\u001b[0m",
      "\u001b[1;31mIndexError\u001b[0m                                Traceback (most recent call last)",
      "\u001b[1;32mc:\\Users\\pedro\\OneDrive\\Documentos\\GitHub\\Semestre-2\\Cdados\\P2\\01.filtrar dados.ipynb Cell 25'\u001b[0m in \u001b[0;36m<cell line: 11>\u001b[1;34m()\u001b[0m\n\u001b[0;32m      <a href='vscode-notebook-cell:/c%3A/Users/pedro/OneDrive/Documentos/GitHub/Semestre-2/Cdados/P2/01.filtrar%20dados.ipynb#ch0000024?line=8'>9</a>\u001b[0m beta8_hat \u001b[39m=\u001b[39m results\u001b[39m.\u001b[39mparams[\u001b[39m8\u001b[39m]  \u001b[39m# Size\u001b[39;00m\n\u001b[0;32m     <a href='vscode-notebook-cell:/c%3A/Users/pedro/OneDrive/Documentos/GitHub/Semestre-2/Cdados/P2/01.filtrar%20dados.ipynb#ch0000024?line=9'>10</a>\u001b[0m beta9_hat \u001b[39m=\u001b[39m results\u001b[39m.\u001b[39mparams[\u001b[39m9\u001b[39m]  \u001b[39m# Size\u001b[39;00m\n\u001b[1;32m---> <a href='vscode-notebook-cell:/c%3A/Users/pedro/OneDrive/Documentos/GitHub/Semestre-2/Cdados/P2/01.filtrar%20dados.ipynb#ch0000024?line=10'>11</a>\u001b[0m beta10_hat \u001b[39m=\u001b[39m results\u001b[39m.\u001b[39;49mparams[\u001b[39m10\u001b[39;49m]\n",
      "File \u001b[1;32mc:\\ProgramData\\Anaconda3\\lib\\site-packages\\pandas\\core\\series.py:955\u001b[0m, in \u001b[0;36mSeries.__getitem__\u001b[1;34m(self, key)\u001b[0m\n\u001b[0;32m    <a href='file:///c%3A/ProgramData/Anaconda3/lib/site-packages/pandas/core/series.py?line=951'>952</a>\u001b[0m     key \u001b[39m=\u001b[39m unpack_1tuple(key)\n\u001b[0;32m    <a href='file:///c%3A/ProgramData/Anaconda3/lib/site-packages/pandas/core/series.py?line=953'>954</a>\u001b[0m \u001b[39mif\u001b[39;00m is_integer(key) \u001b[39mand\u001b[39;00m \u001b[39mself\u001b[39m\u001b[39m.\u001b[39mindex\u001b[39m.\u001b[39m_should_fallback_to_positional:\n\u001b[1;32m--> <a href='file:///c%3A/ProgramData/Anaconda3/lib/site-packages/pandas/core/series.py?line=954'>955</a>\u001b[0m     \u001b[39mreturn\u001b[39;00m \u001b[39mself\u001b[39;49m\u001b[39m.\u001b[39;49m_values[key]\n\u001b[0;32m    <a href='file:///c%3A/ProgramData/Anaconda3/lib/site-packages/pandas/core/series.py?line=956'>957</a>\u001b[0m \u001b[39melif\u001b[39;00m key_is_scalar:\n\u001b[0;32m    <a href='file:///c%3A/ProgramData/Anaconda3/lib/site-packages/pandas/core/series.py?line=957'>958</a>\u001b[0m     \u001b[39mreturn\u001b[39;00m \u001b[39mself\u001b[39m\u001b[39m.\u001b[39m_get_value(key)\n",
      "\u001b[1;31mIndexError\u001b[0m: index 10 is out of bounds for axis 0 with size 10"
     ]
    }
   ],
   "source": [
    "beta0_hat = results.params[0]  # const\n",
    "beta1_hat = results.params[1]  # Condo\n",
    "beta2_hat = results.params[2]  # Size\n",
    "beta3_hat = results.params[3]  # Size\n",
    "beta4_hat = results.params[4]  # Size\n",
    "beta5_hat = results.params[5]  # Size\n",
    "beta6_hat = results.params[6]  # Size\n",
    "beta7_hat = results.params[7]  # Size\n",
    "beta8_hat = results.params[8]  # Size\n",
    "beta9_hat = results.params[9]  # Size\n",
    "beta10_hat = results.params[10]  # Size"
   ]
  },
  {
   "cell_type": "markdown",
   "metadata": {},
   "source": [
    "`\"Puxamos\" do resultado da regressão linear o β0, β do Condo e o β do Size`"
   ]
  },
  {
   "cell_type": "code",
   "execution_count": null,
   "metadata": {},
   "outputs": [],
   "source": [
    "def f(feature1, feature2, feature3, feature4, feature5, feature6, feature7, feature8, feature9, feature10,):\n",
    "    return beta0_hat + beta1_hat*feature1 + beta2_hat*feature2 + beta3_hat*feature3 + beta4_hat*feature4 + beta5_hat*feature5 + beta6_hat*feature6 + beta7_hat*feature7 + beta8_hat*feature8 + beta9_hat*feature9 + beta10_hat*feature10"
   ]
  },
  {
   "cell_type": "code",
   "execution_count": null,
   "metadata": {},
   "outputs": [
    {
     "ename": "TypeError",
     "evalue": "f() missing 8 required positional arguments: 'feature3', 'feature4', 'feature5', 'feature6', 'feature7', 'feature8', 'feature9', and 'feature10'",
     "output_type": "error",
     "traceback": [
      "\u001b[1;31m---------------------------------------------------------------------------\u001b[0m",
      "\u001b[1;31mTypeError\u001b[0m                                 Traceback (most recent call last)",
      "Input \u001b[1;32mIn [20]\u001b[0m, in \u001b[0;36m<cell line: 17>\u001b[1;34m()\u001b[0m\n\u001b[0;32m     13\u001b[0m y_vc \u001b[38;5;241m=\u001b[39m np\u001b[38;5;241m.\u001b[39mlinspace(feature2\u001b[38;5;241m.\u001b[39mmin(), feature2\u001b[38;5;241m.\u001b[39mmax(), npoints)\n\u001b[0;32m     15\u001b[0m eixo_x, eixo_y \u001b[38;5;241m=\u001b[39m np\u001b[38;5;241m.\u001b[39mmeshgrid(x_vc, y_vc)\n\u001b[1;32m---> 17\u001b[0m fit_z \u001b[38;5;241m=\u001b[39m \u001b[43mf\u001b[49m\u001b[43m(\u001b[49m\u001b[43meixo_x\u001b[49m\u001b[43m,\u001b[49m\u001b[43m \u001b[49m\u001b[43meixo_y\u001b[49m\u001b[43m)\u001b[49m\n",
      "\u001b[1;31mTypeError\u001b[0m: f() missing 8 required positional arguments: 'feature3', 'feature4', 'feature5', 'feature6', 'feature7', 'feature8', 'feature9', and 'feature10'"
     ]
    }
   ],
   "source": [
    "npoints = 100\n",
    "feature1 = X['Condo']\n",
    "feature2 = X['Size']\n",
    "feature3 = X['Rooms']\n",
    "feature4 = X['Toilets']\n",
    "feature5 = X['Suites']\n",
    "feature6 = X['Parking']\n",
    "feature7 = X['Elevator']\n",
    "feature8 = X['Furnished']\n",
    "feature9 = X['Swimming Pool']\n",
    "feature10 = X['New']\n",
    "x_vc = np.linspace(feature1.min(), feature1.max(), npoints)\n",
    "y_vc = np.linspace(feature2.min(), feature2.max(), npoints)\n",
    "\n",
    "eixo_x, eixo_y = np.meshgrid(x_vc, y_vc)\n",
    "\n",
    "fx = f(eixo_x, eixo_y)"
   ]
  },
  {
   "cell_type": "code",
   "execution_count": null,
   "metadata": {},
   "outputs": [],
   "source": [
    "plt3d = plt.figure().gca(projection=\"3d\");\n",
    "plt3d.plot_surface(eixo_x, eixo_y, fit_z);\n",
    "plt3d.scatter(feature1, feature2, Y, color=\"r\");\n",
    "plt3d.set_xlabel(\"feature1\");\n",
    "plt3d.set_ylabel(\"feature2\");\n",
    "plt3d.set_zlabel(\"Y\");\n",
    "plt.show();"
   ]
  },
  {
   "cell_type": "code",
   "execution_count": null,
   "metadata": {
    "scrolled": false
   },
   "outputs": [],
   "source": [
    "X = X_train['Size']\n",
    "Y = y_train['Price']\n",
    "\n",
    "med_x = X.mean()\n",
    "med_y = Y.mean()\n",
    "\n",
    "beta1 = X.cov(Y)/X.var()\n",
    "beta0 = med_y-beta1*med_x\n",
    "\n",
    "x_vec = np.linspace(X.min(), X.max(), 1000)\n",
    "y_vec = beta0 + beta1*x_vec\n",
    "\n",
    "fig = plt.figure(figsize=(10, 2.6))\n",
    "\n",
    "plt.subplot(1,2,1)\n",
    "plt.scatter(X, Y, alpha=0.4, color='darkmagenta')\n",
    "plt.plot(x_vec, y_vec)\n",
    "plt.xlabel('Size', fontsize=13)\n",
    "plt.ylabel('Price', fontsize=13)\n",
    "\n",
    "e = X - beta0 - beta1*X\n",
    "\n",
    "plt.subplot(1,2,2)\n",
    "stats.probplot(e, dist='norm', plot=plt)\n",
    "plt.show()"
   ]
  },
  {
   "cell_type": "code",
   "execution_count": null,
   "metadata": {},
   "outputs": [],
   "source": [
    "test = X_train['Size']<=590\n",
    "\n",
    "X = X_train.loc[test, ['Size']]\n",
    "Y = y_train.loc[test, ['Price']]\n",
    "\n",
    "med_x = X.Size.mean()\n",
    "med_y = Y.Price.mean()\n",
    "\n",
    "beta1 = X.Size.cov(Y.Price)/X.Size.var()\n",
    "beta0 = med_y-beta1*med_x\n",
    "x_vec = np.linspace(X.Size.min(), X.Size.max(), 1000)\n",
    "y_vec = beta0 + beta1*x_vec\n",
    "\n",
    "fig = plt.figure(figsize=(10, 2.6))\n",
    "\n",
    "plt.subplot(121)\n",
    "plt.scatter(X.Size, Y.Price, alpha=0.4, color='darkmagenta')\n",
    "plt.plot(x_vec, y_vec)\n",
    "plt.xlabel('Size', fontsize=13)\n",
    "plt.ylabel('Price', fontsize=13)\n",
    "\n",
    "e = X.Size - beta0 - beta1*X.Size\n",
    "\n",
    "plt.subplot(122)\n",
    "stats.probplot(e, dist='norm', plot=plt)\n",
    "plt.show()"
   ]
  },
  {
   "cell_type": "code",
   "execution_count": null,
   "metadata": {},
   "outputs": [],
   "source": [
    "X = X_train['Condo']\n",
    "Y = y_train['Price']\n",
    "\n",
    "med_x = X.mean()\n",
    "med_y = Y.mean()\n",
    "\n",
    "beta1 = X.cov(Y)/X.var()\n",
    "beta0 = med_y-beta1*med_x\n",
    "\n",
    "x_vec = np.linspace(X.min(), X.max(), 1000)\n",
    "y_vec = beta0 + beta1*x_vec\n",
    "\n",
    "fig = plt.figure(figsize=(10, 2.6))\n",
    "\n",
    "plt.subplot(121)\n",
    "plt.scatter(X, Y, alpha=0.4, color='darkmagenta')\n",
    "plt.plot(x_vec, y_vec)\n",
    "plt.xlabel('Condo', fontsize=13)\n",
    "plt.ylabel('Price', fontsize=13)\n",
    "\n",
    "e = X - beta0 - beta1*X\n",
    "\n",
    "plt.subplot(122)\n",
    "stats.probplot(e, dist='norm', plot=plt)\n",
    "plt.show()"
   ]
  },
  {
   "cell_type": "code",
   "execution_count": null,
   "metadata": {},
   "outputs": [],
   "source": [
    "test = X_train['Condo']<=7000\n",
    "\n",
    "X = X_train.loc[test, ['Condo']]\n",
    "Y = y_train.loc[test, ['Price']]\n",
    "\n",
    "med_x = X.Condo.mean()\n",
    "med_y = Y.Price.mean()\n",
    "\n",
    "beta1 = X.Condo.cov(Y.Price)/X.Condo.var()\n",
    "beta0 = med_y-beta1*med_x\n",
    "x_vec = np.linspace(X.Condo.min(), X.Condo.max(), 1000)\n",
    "y_vec = beta0 + beta1*x_vec\n",
    "\n",
    "fig = plt.figure(figsize=(10, 2.6))\n",
    "\n",
    "plt.subplot(121)\n",
    "plt.scatter(X.Condo, Y.Price, alpha=0.4, color='darkmagenta')\n",
    "plt.plot(x_vec, y_vec)\n",
    "plt.xlabel('Condo', fontsize=13)\n",
    "plt.ylabel('Price', fontsize=13)\n",
    "\n",
    "e = X.Condo - beta0 - beta1*X.Condo\n",
    "\n",
    "plt.subplot(122)\n",
    "stats.probplot(e, dist='norm', plot=plt)\n",
    "plt.show()"
   ]
  },
  {
   "cell_type": "code",
   "execution_count": null,
   "metadata": {},
   "outputs": [],
   "source": [
    "test = X_train['Condo']<=7000\n",
    "X = X_train.loc[test, ['Condo']]\n",
    "Y = y_train.loc[test, ['Price']]\n",
    "\n",
    "test = X.Condo > 0\n",
    "X = X.loc[test, ['Condo']]\n",
    "Y = Y.loc[test, ['Price']]\n",
    "\n",
    "med_x = X.Condo.mean()\n",
    "med_y = Y.Price.mean()\n",
    "\n",
    "beta1 = X.Condo.cov(Y.Price)/X.Condo.var()\n",
    "beta0 = med_y-beta1*med_x\n",
    "x_vec = np.linspace(X.Condo.min(), X.Condo.max(), 1000)\n",
    "y_vec = beta0 + beta1*x_vec\n",
    "\n",
    "fig = plt.figure(figsize=(10, 2.6))\n",
    "\n",
    "plt.subplot(121)\n",
    "plt.scatter(X.Condo, Y.Price, alpha=0.4, color='darkmagenta')\n",
    "plt.plot(x_vec, y_vec)\n",
    "plt.xlabel('Condo', fontsize=13)\n",
    "plt.ylabel('Price', fontsize=13)\n",
    "\n",
    "e = X.Condo - beta0 - beta1*X.Condo\n",
    "\n",
    "plt.subplot(122)\n",
    "stats.probplot(e, dist='norm', plot=plt)\n",
    "plt.show()"
   ]
  },
  {
   "cell_type": "markdown",
   "metadata": {},
   "source": [
    "### Referêcias\n",
    "\n",
    "- Base de dados: https://www.kaggle.com/code/juxwzera/predictions-for-price/data\n",
    "- Análise de dados e previsão de preços: https://www.kaggle.com/code/juxwzera/predictions-for-price\n",
    "- Algumas funções do statsmodels.api: https://www.statsmodels.org/stable/gettingstarted.html\n",
    "- Exemplo de regressão linear: https://pt.linkedin.com/pulse/regressão-linear-simples-e-múltipla-em-python-100-prático-santos"
   ]
  }
 ],
 "metadata": {
  "interpreter": {
   "hash": "ad2bdc8ecc057115af97d19610ffacc2b4e99fae6737bb82f5d7fb13d2f2c186"
  },
  "kernelspec": {
   "display_name": "Python 3 (ipykernel)",
   "language": "python",
   "name": "python3"
  },
  "language_info": {
   "codemirror_mode": {
    "name": "ipython",
    "version": 3
   },
   "file_extension": ".py",
   "mimetype": "text/x-python",
   "name": "python",
   "nbconvert_exporter": "python",
   "pygments_lexer": "ipython3",
   "version": "3.9.12"
  }
 },
 "nbformat": 4,
 "nbformat_minor": 2
}
