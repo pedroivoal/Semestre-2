{
 "cells": [
  {
   "cell_type": "code",
   "execution_count": null,
   "metadata": {},
   "outputs": [],
   "source": [
    "# faixa = np.arange(479, 8000, 500)\n",
    "# faixa = np.array([479,  979, 1479, 1979, 2479, 2979, 3479, 3979, 4479, 4979, 5479,5979, 6479, 6979, 7479, 7979, 10000, 15000, 50000])\n",
    "# df = df.sort_values(by='Price').reset_index()\n",
    "# df = df.drop(columns=['index'])\n",
    "# df['Faixa'] = pd.cut(df.Price, faixa)"
   ]
  },
  {
   "cell_type": "code",
   "execution_count": null,
   "metadata": {},
   "outputs": [],
   "source": [
    "## df = df.loc[maior,['Price', 'Condo', 'Size', 'Rooms', 'Toilets', 'Suites', 'Parking', 'Elevator', 'Furnished', 'Swimming Pool', 'New', 'District', 'Negotiation Type', 'Property Type', 'Latitude','Longitude']]"
   ]
  }
 ],
 "metadata": {
  "language_info": {
   "name": "python"
  },
  "orig_nbformat": 4
 },
 "nbformat": 4,
 "nbformat_minor": 2
}
