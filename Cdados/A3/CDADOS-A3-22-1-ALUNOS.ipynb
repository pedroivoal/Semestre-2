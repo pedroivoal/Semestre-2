{
 "cells": [
  {
   "cell_type": "markdown",
   "metadata": {},
   "source": [
    "# A3 - Avaliação de Ciência dos dados \n",
    "\n",
    "## 2022 - 1o. semestre \n",
    "\n",
    "___\n"
   ]
  },
  {
   "cell_type": "markdown",
   "metadata": {},
   "source": [
    "# NOME: Pedro Ivo Amaral Lima"
   ]
  },
  {
   "cell_type": "markdown",
   "metadata": {},
   "source": [
    "___\n",
    "\n",
    "**Leia atentamente as instruções desta avaliação. Essas devem ser seguidas rigorosamente!**\n",
    "\n",
    "**Prezado(a) Aluno(a),**\n",
    "\n",
    "Esta avaliação terá as seguintes etapas:\n",
    "   \n",
    " * **(10 minutos) - PROCTORIO:** Entre no Blackboard e inicie o teste em `Conteúdos/Avaliações/Avaliação (A3)/A3 (com Proctorio)`. \n",
    "\n",
    " * **(90 minutos) - Desenvolvimento da prova:** Concentre-se em resolver o notebook.\n",
    " * ATENÇÃO: administre esse tempo da maneira que julgar mais adequada para você. **NÃO utilize o cronômetro do Proctorio como referência, mas sim o tempo 90 minutos de prova.**\n",
    "\n",
    " * **(10 minutos) - Entrega via Blackboard - Notebook:** O arquivo `.ipynb` deve ser entregue em `Conteúdos/Avaliações/Avaliação (A3)/Entrega da prova`.\n",
    " * ATENÇÃO: **finalize o proctorio (o teste) APENAS após anexar a avaliação no Blackboard.**\n",
    "\n",
    "<br>\n",
    "\n",
    "Leia atentamente as instruções a seguir e as questões da prova antes de começar a resolvê-la.\n"
   ]
  },
  {
   "cell_type": "markdown",
   "metadata": {},
   "source": [
    "___\n",
    "### INSTRUÇÕES:\n",
    "\n",
    "Seguem instruções gerais enviadas no Blackboard:\n",
    " * Data Início: link do teste estará disponível a partir do dia 05/05 (quinta) às 18h\n",
    " * Data Fim: link do teste ficará disponível até dia 09/05 (segunda) às 22h\n",
    " * Individual\n",
    " * Proctorio: Ativado\n",
    " * Duração: 1h30 min (cronômetro ativado)\n",
    "     * ATENÇÃO: Qualquer tempo a mais do que 90 minutos no cronômetro do teste, deve considerar como tempo extra para que possa salvar o arquivo notebook com a resolução da prova dentro do Blackboard ainda com o Proctorio aberto.\n",
    " * Tentativa: uma única\n",
    " * Assunto: até TLC (até assunto da Aula 21)\n",
    " * Material de consulta: \n",
    "  * **PERMITE consulta de material do Blackboard e material on-line (usar navegador para pesquisas no Google, por exemplo)**. \n",
    "  * **PERMITE UTILIZAR APENAS UM COMPUTADOR NO QUAL ESTARÁ REALIZANDO A PROVA.**\n",
    "  * **NÃO PERMITE consulta a colegas (presencial ou remotamente), ou seja, não é permitido ter alguém ao seu lado assim como não é permitido conversar pelo WhatsApp, enviar e-mail ou qualquer outro formato em que converse com outra pessoa**. \n",
    "  * **NÃO PERMITE utilizar CELULAR, TABLET, SEGUNDO COMPUTADOR (ou NOTEBOOK) ou qualquer outro aparelho eletrônico no momento da prova.**\n",
    "  * **Seu olhar deve estar sempre para tela do computador da prova. Evite olhar para baixo ou para os lados com frequência.**\n",
    "  * **A câmera deve estar bem centralizada ao seu rosto, sem filmar teto ou apenas parte do rosto para cima. Atenção em deixar a câmera regulada para dar prioridade em filmar seu rosto por inteiro em todo o momento da prova.** \n",
    "  * **O desrespeito as essas regras constituirá violação ao Código de Ética e de Conduta e acarretará sanções nele previstas. Faça o seu trabalho de maneira ética!** \n",
    "\n",
    " * Questões: o enunciado de cada pergunta da prova estará EXCLUSIVAMENTE no teste do Blackboard\n",
    " * Jupyter Notebook:\n",
    "     * será disponibilizado um notebook com as marcações de cada questão para construir o código/contas necessárias para resolvê-la \n",
    "     * salvar esse arquivo no HD do seu computador. NÃO salvar em OneDrive, Dropbox ou qualquer outro lugar fora do seu computador.\n",
    " * Atenção: não compartilhe, por hipótese alguma, seu arquivo notebook da avaliação A3 enquanto o link do teste estiver disponível no Blackboard (ou seja, antes do final do dia 09/05)"
   ]
  },
  {
   "cell_type": "markdown",
   "metadata": {},
   "source": [
    "#### Avisos sobre desenvolvimento da prova:\n",
    "\n",
    "1. Esta Avaliação consiste em responder um arquivo Jupyter que será anexado ao Blackboard ao final da prova.\n",
    "1. Leia atentamente as **Precauções de segurança** abaixo para evitar ter sua prova anulada.\n",
    "1. Você não pode compartilhar material com seus colegas durante a prova.\n",
    "1. Em caso de dúvida sobre alguma questão desta avaliação, redija um texto em uma nova célula deste Jupyter notebook explicitando-a para que o professor avalie a pertinência durante a correção.  \n",
    "1. Leia atentamente cada questão e responda o que for pedido. Erros conceituais serão penalizados, mesmo que o conceito não se relacione com o que foi pedido na questão.\n",
    "1. Caso em algum item você necessite do resultado de um item anterior que você não conseguiu fazer, admita um valor razoável para esse resultado e faça o item normalmente. Indique na questão, caso isso aconteça.\n",
    "1. Todos os resultados devem ser justificados. Números que apareçam sem uma explicação de como foram encontrados serão ignorados na correção.\n",
    "1. **A qualidade do código na resolução em cada item também será levada em consideração, ou seja, códigos complicados para soluções que podem ser simples serão penalizados.**\n",
    "1. Esta avaliação requer **entrega via Blackboard**. **Não serão consideradas entregas por outros meios** (ex: e-mail, MS Teams, etc.)."
   ]
  },
  {
   "cell_type": "markdown",
   "metadata": {},
   "source": [
    "#### Precauções de segurança:\n",
    "\n",
    "1.\tTodas as precauções abaixo podem ser resumidas da seguinte forma: consulte o material que quiser desde que não seja nenhuma pessoa ou material físico. E não compartilhe informações com ninguém durante a prova. \n",
    "2.\tVocê não pode enviar nenhum tipo de mensagem durante a prova para qualquer pessoa dentro ou fora dela, com exceção do(a) professor(a). Por exemplo: e-mail, Skype, mensagens do Facebook, mensagens do WhatsApp, mensagens via Twitter, etc\n",
    "3.\tVocê não pode compartilhar nenhum tipo de informação em nenhum site, incluindo Pastebin, Codeshare, wikis, etc\n",
    "4.\tVocê não pode perguntar questões da prova no StackOverflow, StackExchange, MathExchange, etc. \n",
    "5.\tVocê pode procurar/tirar dúvida no Google.\n",
    "6.\tVocê pode consultar qualquer arquivo no seu computador.\n",
    "7.\tQualquer transgressão das normas acima pode zerar a nota da prova e implicar em infração ao código de ética do Insper."
   ]
  },
  {
   "cell_type": "code",
   "execution_count": 13,
   "metadata": {},
   "outputs": [],
   "source": [
    "# %matplotlib inline\n",
    "import math\n",
    "import os\n",
    "\n",
    "import matplotlib.pyplot as plt\n",
    "import numpy as np\n",
    "from numpy import arange\n",
    "import pandas as pd\n",
    "from scipy.stats import norm, expon\n",
    "from scipy import stats\n",
    "\n",
    "from IPython.display import display  # Para ter melhor print."
   ]
  },
  {
   "cell_type": "markdown",
   "metadata": {},
   "source": [
    "<div id=\"p1\"></div>\n",
    "\n",
    "## Refrigeração Precisa!\n",
    "<img src=\"http://www.vision.ime.usp.br/~calebe/img/cd/refrigera.jpg\">"
   ]
  },
  {
   "cell_type": "markdown",
   "metadata": {},
   "source": [
    "### PERGUNTA 1 (parte 1)\n",
    "\n",
    "Ver Enunciado no Blackboard!"
   ]
  },
  {
   "cell_type": "markdown",
   "metadata": {},
   "source": [
    "**a)** Ver Enunciado no Blackboard!"
   ]
  },
  {
   "cell_type": "code",
   "execution_count": 14,
   "metadata": {},
   "outputs": [],
   "source": [
    "# Quase isso, é possível calcular, não lembro do valor exato, mas sei que não é 80%"
   ]
  },
  {
   "cell_type": "markdown",
   "metadata": {},
   "source": [
    "### PERGUNTA 2 (parte 2)\n",
    "\n",
    "Ver Enunciado no Blackboard!"
   ]
  },
  {
   "cell_type": "markdown",
   "metadata": {},
   "source": [
    "**a)** Ver Enunciado no Blackboard!"
   ]
  },
  {
   "cell_type": "code",
   "execution_count": 71,
   "metadata": {},
   "outputs": [
    {
     "data": {
      "text/plain": [
       "0.9637640239939438"
      ]
     },
     "execution_count": 71,
     "metadata": {},
     "output_type": "execute_result"
    }
   ],
   "source": [
    "mu = -70\n",
    "sig = 0.228**(1/2)\n",
    "\n",
    "norm.cdf(-69, mu, sig) - norm.cdf(-71, mu, sig)"
   ]
  },
  {
   "cell_type": "markdown",
   "metadata": {},
   "source": [
    "**b)** Ver Enunciado no Blackboard!"
   ]
  },
  {
   "cell_type": "code",
   "execution_count": 31,
   "metadata": {},
   "outputs": [
    {
     "data": {
      "text/plain": [
       "-69.06413002445946"
      ]
     },
     "execution_count": 31,
     "metadata": {},
     "output_type": "execute_result"
    }
   ],
   "source": [
    "norm.ppf(0.975, mu, sig)\n",
    "# norm.cdf(-69.06413002445946, mu, sig)"
   ]
  },
  {
   "cell_type": "markdown",
   "metadata": {},
   "source": [
    "**c)** Ver Enunciado no Blackboard!"
   ]
  },
  {
   "cell_type": "code",
   "execution_count": 32,
   "metadata": {},
   "outputs": [
    {
     "data": {
      "text/plain": [
       "0.018117988003028107"
      ]
     },
     "execution_count": 32,
     "metadata": {},
     "output_type": "execute_result"
    }
   ],
   "source": [
    "1 - norm.cdf(-69, mu, sig)"
   ]
  },
  {
   "cell_type": "markdown",
   "metadata": {},
   "source": [
    "___\n",
    "<div id=\"p2\"></div>\n",
    "\n",
    "## Fábrica de Instrumentos\n",
    "\n",
    "<img src=\"http://www.vision.ime.usp.br/~calebe/img/cd/instrumento.jpg\">\n",
    "Fonte: extraído da internet\n",
    "\n",
    "### PERGUNTA 3\n",
    "\n",
    "Ver Enunciado no Blackboard!"
   ]
  },
  {
   "cell_type": "markdown",
   "metadata": {},
   "source": [
    "**a)** Ver Enunciado no Blackboard!"
   ]
  },
  {
   "cell_type": "code",
   "execution_count": 42,
   "metadata": {},
   "outputs": [
    {
     "data": {
      "text/plain": [
       "0.6487334043461923"
      ]
     },
     "execution_count": 42,
     "metadata": {},
     "output_type": "execute_result"
    }
   ],
   "source": [
    "mu = 15\n",
    "\n",
    "expon.cdf(15.693147180559945, 0, scale=mu)"
   ]
  },
  {
   "cell_type": "markdown",
   "metadata": {},
   "source": [
    "**b)** Ver Enunciado no Blackboard!"
   ]
  },
  {
   "cell_type": "code",
   "execution_count": 49,
   "metadata": {},
   "outputs": [
    {
     "name": "stdout",
     "output_type": "stream",
     "text": [
      "1635\n"
     ]
    }
   ],
   "source": [
    "print((120+15+1500))"
   ]
  },
  {
   "cell_type": "code",
   "execution_count": 67,
   "metadata": {},
   "outputs": [
    {
     "data": {
      "text/plain": [
       "16.09347693943108"
      ]
     },
     "execution_count": 67,
     "metadata": {},
     "output_type": "execute_result"
    }
   ],
   "source": [
    "var1 = 4\n",
    "var2 = expon.var(scale=15)\n",
    "var3 = 30\n",
    "\n",
    "vart = var1 + var2 + var3\n",
    "DP = vart**(1/2)\n",
    "DP"
   ]
  },
  {
   "cell_type": "markdown",
   "metadata": {},
   "source": [
    "**c)** Ver Enunciado no Blackboard!"
   ]
  },
  {
   "cell_type": "code",
   "execution_count": 50,
   "metadata": {},
   "outputs": [
    {
     "data": {
      "text/plain": [
       "1957.5"
      ]
     },
     "execution_count": 50,
     "metadata": {},
     "output_type": "execute_result"
    }
   ],
   "source": [
    "(120*1.2 + 15*0.9 + 1500*1.2)"
   ]
  },
  {
   "cell_type": "code",
   "execution_count": 68,
   "metadata": {},
   "outputs": [
    {
     "data": {
      "text/plain": [
       "15.205591076969023"
      ]
     },
     "execution_count": 68,
     "metadata": {},
     "output_type": "execute_result"
    }
   ],
   "source": [
    "var1 = 4*1.2**2\n",
    "var2 = expon.var(scale=15)*0.9**2\n",
    "var3 = 30*1.2**2\n",
    "\n",
    "vart = var1 + var2 + var3\n",
    "DP = vart**(1/2)\n",
    "DP"
   ]
  },
  {
   "cell_type": "markdown",
   "metadata": {},
   "source": [
    "___\n",
    "<div id=\"p3\"></div>\n",
    "\n",
    "## Combustível\n",
    "\n",
    "<img src=\"http://www.vision.ime.usp.br/~calebe/img/cd/gasolina.jpg\">\n",
    "Fonte: extraído da internet\n",
    "\n",
    "### PERGUNTA 4\n",
    "\n",
    "Ver Enunciado no Blackboard!"
   ]
  },
  {
   "cell_type": "markdown",
   "metadata": {},
   "source": [
    "**a)** Ver Enunciado no Blackboard!"
   ]
  },
  {
   "cell_type": "code",
   "execution_count": 86,
   "metadata": {},
   "outputs": [
    {
     "data": {
      "text/plain": [
       "0.2378163665321591"
      ]
     },
     "execution_count": 86,
     "metadata": {},
     "output_type": "execute_result"
    }
   ],
   "source": [
    "mug = 6.85*0.72\n",
    "sigg = 0.225*0.72\n",
    "mua = 4.88\n",
    "siga = 0.123\n",
    "\n",
    "# fig = plt.figure(figsize=(19,15))\n",
    "x = np.linspace(4.2, 5.5, 1000)\n",
    "fg = norm.pdf(x, mug, sigg)\n",
    "fa = norm.pdf(x, mua, siga)\n",
    "# plt.plot(x, fg)\n",
    "# plt.plot(x, fa)\n",
    "# plt.grid()\n",
    "# plt.show()\n",
    "\n",
    "# for i in range(0, 1001):\n",
    "    # if fg[i]>fa[i]:\n",
    "        # print(i)\n",
    "\n",
    "# print(x[338])\n",
    "# print(x[598])\n",
    "p = norm.cdf(4.63983983983984, mua, siga) + 1 - norm.cdf(4.978178178178178, mua, siga)\n",
    "p"
   ]
  },
  {
   "cell_type": "markdown",
   "metadata": {},
   "source": [
    "### Informação extra para responder os itens b) até d)\n",
    "\n",
    "Ver Enunciado no Blackboard!"
   ]
  },
  {
   "cell_type": "markdown",
   "metadata": {},
   "source": [
    "**b)** Ver Enunciado no Blackboard!"
   ]
  },
  {
   "cell_type": "code",
   "execution_count": 53,
   "metadata": {},
   "outputs": [
    {
     "data": {
      "text/plain": [
       "0.09430799641556953"
      ]
     },
     "execution_count": 53,
     "metadata": {},
     "output_type": "execute_result"
    }
   ],
   "source": [
    "n = 35\n",
    "mu = 6.85\n",
    "sig = ((sigg**2)/n)**(1/2)\n",
    "\n",
    "1-norm.cdf(6.9, mug, sig)"
   ]
  },
  {
   "cell_type": "markdown",
   "metadata": {},
   "source": [
    "**c)** Ver Enunciado no Blackboard!"
   ]
  },
  {
   "cell_type": "code",
   "execution_count": 54,
   "metadata": {},
   "outputs": [
    {
     "data": {
      "text/plain": [
       "6.801260105877669"
      ]
     },
     "execution_count": 54,
     "metadata": {},
     "output_type": "execute_result"
    }
   ],
   "source": [
    "norm.ppf(0.1, mu, sig)"
   ]
  },
  {
   "cell_type": "markdown",
   "metadata": {},
   "source": [
    "**d)** Ver Enunciado no Blackboard!"
   ]
  },
  {
   "cell_type": "code",
   "execution_count": 58,
   "metadata": {},
   "outputs": [
    {
     "data": {
      "text/plain": [
       "39.13375353245151"
      ]
     },
     "execution_count": 58,
     "metadata": {},
     "output_type": "execute_result"
    }
   ],
   "source": [
    "z = norm.ppf(0.95)\n",
    "\n",
    "n = (z*sig/0.01)**2\n",
    "# n = (z*sig/3000)**2\n",
    "n"
   ]
  }
 ],
 "metadata": {
  "kernelspec": {
   "display_name": "Python 3",
   "language": "python",
   "name": "python3"
  },
  "language_info": {
   "codemirror_mode": {
    "name": "ipython",
    "version": 3
   },
   "file_extension": ".py",
   "mimetype": "text/x-python",
   "name": "python",
   "nbconvert_exporter": "python",
   "pygments_lexer": "ipython3",
   "version": "3.8.8"
  }
 },
 "nbformat": 4,
 "nbformat_minor": 4
}
