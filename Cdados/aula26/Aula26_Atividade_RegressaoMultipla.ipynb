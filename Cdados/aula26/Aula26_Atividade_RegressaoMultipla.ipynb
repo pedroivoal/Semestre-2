{
 "cells": [
  {
   "cell_type": "markdown",
   "metadata": {},
   "source": [
    "___\n",
    "\n",
    "# Atividade - Regressão Linear Múltipla\n",
    "___\n",
    "\n",
    "## Aula 26"
   ]
  },
  {
   "cell_type": "markdown",
   "metadata": {},
   "source": [
    "<div id=\"indice\"></div>\n",
    "\n",
    "## Índice\n",
    "\n",
    "- [Consumo de combustível em milhas por galão](#dataset)\n",
    "    - [Passo 1: Ajustando o modelo](#passo1)\n",
    "    - [Passo 2: Verificando os resultados dos testes de hipótese](#passo2)\n",
    "    - [Passo 3: Visualizando o modelo e os dados (com duas variáveis explicativas)](#passo3)\n",
    "- [Atividade](#atividade)\n",
    "    - [Exercício 1](#ex1)\n",
    "    - [Exercício 2](#ex2)\n",
    "    - [Exercício 3](#ex3)\n",
    "    - [Exercício 4](#ex4)\n",
    "    - [Exercício 5](#ex5)\n",
    "- [Referências](#referencias)\n",
    "\n",
    "___"
   ]
  },
  {
   "cell_type": "markdown",
   "metadata": {},
   "source": [
    "<div id=\"dataset\"></div>\n",
    "\n",
    "# Consumo de combustível em milhas por galão\n",
    "\n",
    "A atividade a realizar está no final, mas estude todo o *notebook*"
   ]
  },
  {
   "cell_type": "code",
   "execution_count": 205,
   "metadata": {},
   "outputs": [],
   "source": [
    "# PARA ROTACIONAR GRÁFICO 3D\n",
    "%matplotlib notebook\n",
    "\n",
    "import pandas as pd\n",
    "import numpy as np\n",
    "from scipy.stats import norm, probplot\n",
    "import statsmodels.api as sm\n",
    "import matplotlib.pyplot as plt\n",
    "\n",
    "from mpl_toolkits.mplot3d import Axes3D\n",
    "\n",
    "# Para ter melhor print\n",
    "from IPython.display import display"
   ]
  },
  {
   "cell_type": "markdown",
   "metadata": {},
   "source": [
    "Vamos fazer uma análise exploratória sobre um dataset sobre carros.\n",
    "\n",
    "Fonte: [Auto MPG dataset](http://archive.ics.uci.edu/ml/datasets/Auto+MPG)\n",
    "\n",
    "<div id=\"regress\"></div>"
   ]
  },
  {
   "cell_type": "code",
   "execution_count": 206,
   "metadata": {},
   "outputs": [],
   "source": [
    "### Função utilitária para fazer a regressão com constante adicionada\n",
    "\n",
    "def regress(Y,X):\n",
    "    '''\n",
    "    Y: coluna do DataFrame utilizada como variável resposta (TARGET)\n",
    "    X: coluna(s) do DataFrame utilizadas como variável(is) explicativas (FEATURES)\n",
    "    '''\n",
    "    X_cp = sm.add_constant(X)\n",
    "    model = sm.OLS(Y,X_cp)\n",
    "    results = model.fit()\n",
    "    \n",
    "    return results"
   ]
  },
  {
   "cell_type": "code",
   "execution_count": 207,
   "metadata": {},
   "outputs": [],
   "source": [
    "data = pd.read_csv(\"auto_mpg_sub.csv\")"
   ]
  },
  {
   "cell_type": "markdown",
   "metadata": {},
   "source": [
    "**Dicionário de dados:**\n",
    "\n",
    "\n",
    "Variável | Descrição\n",
    ":---:|---:\n",
    "mpg | consumo em miles per gallon\n",
    "cylinders | número de cilindros do motor do carro\n",
    "displacement | deslocamento dos cilindros em polegadas cúbicas\n",
    "horsepower | potência do veículo (HP)\n",
    "weight | peso do veículo (libras)\n",
    "acceleration | aceleração do veículo\n",
    "model year | ano do modelo\n",
    "origin | origem - veja abaixo\n",
    "car name | nome do carro\n",
    "\n",
    "A variável *origin* identifica o país de origem de um veículo\n",
    "\n",
    "Valor | Origem\n",
    ":---:|:---:\n",
    "1 | Estados Unidos da América\n",
    "2 | Europa\n",
    "3 | Japão"
   ]
  },
  {
   "cell_type": "code",
   "execution_count": 208,
   "metadata": {
    "scrolled": true
   },
   "outputs": [
    {
     "data": {
      "text/plain": [
       "Index(['mpg', 'cylinders', 'displacement', 'horsepower', 'weight',\n",
       "       'acceleration', 'model year', 'origin', 'car name'],\n",
       "      dtype='object')"
      ]
     },
     "execution_count": 208,
     "metadata": {},
     "output_type": "execute_result"
    }
   ],
   "source": [
    "data.columns"
   ]
  },
  {
   "cell_type": "markdown",
   "metadata": {},
   "source": [
    "**Vamos trabalhar apenas com as variáveis quantitativas desse dataset**"
   ]
  },
  {
   "cell_type": "code",
   "execution_count": 209,
   "metadata": {},
   "outputs": [],
   "source": [
    "df = data[['mpg', 'cylinders', 'displacement', 'horsepower', \n",
    "           'weight', 'acceleration', 'model year']]"
   ]
  },
  {
   "cell_type": "code",
   "execution_count": 210,
   "metadata": {
    "scrolled": false
   },
   "outputs": [
    {
     "data": {
      "text/html": [
       "<div>\n",
       "<style scoped>\n",
       "    .dataframe tbody tr th:only-of-type {\n",
       "        vertical-align: middle;\n",
       "    }\n",
       "\n",
       "    .dataframe tbody tr th {\n",
       "        vertical-align: top;\n",
       "    }\n",
       "\n",
       "    .dataframe thead th {\n",
       "        text-align: right;\n",
       "    }\n",
       "</style>\n",
       "<table border=\"1\" class=\"dataframe\">\n",
       "  <thead>\n",
       "    <tr style=\"text-align: right;\">\n",
       "      <th></th>\n",
       "      <th>mpg</th>\n",
       "      <th>cylinders</th>\n",
       "      <th>displacement</th>\n",
       "      <th>horsepower</th>\n",
       "      <th>weight</th>\n",
       "      <th>acceleration</th>\n",
       "      <th>model year</th>\n",
       "    </tr>\n",
       "  </thead>\n",
       "  <tbody>\n",
       "    <tr>\n",
       "      <th>count</th>\n",
       "      <td>392.000000</td>\n",
       "      <td>392.000000</td>\n",
       "      <td>392.000000</td>\n",
       "      <td>392.000000</td>\n",
       "      <td>392.000000</td>\n",
       "      <td>392.000000</td>\n",
       "      <td>392.000000</td>\n",
       "    </tr>\n",
       "    <tr>\n",
       "      <th>mean</th>\n",
       "      <td>23.445918</td>\n",
       "      <td>5.471939</td>\n",
       "      <td>194.411990</td>\n",
       "      <td>104.469388</td>\n",
       "      <td>2977.584184</td>\n",
       "      <td>15.541327</td>\n",
       "      <td>75.979592</td>\n",
       "    </tr>\n",
       "    <tr>\n",
       "      <th>std</th>\n",
       "      <td>7.805007</td>\n",
       "      <td>1.705783</td>\n",
       "      <td>104.644004</td>\n",
       "      <td>38.491160</td>\n",
       "      <td>849.402560</td>\n",
       "      <td>2.758864</td>\n",
       "      <td>3.683737</td>\n",
       "    </tr>\n",
       "    <tr>\n",
       "      <th>min</th>\n",
       "      <td>9.000000</td>\n",
       "      <td>3.000000</td>\n",
       "      <td>68.000000</td>\n",
       "      <td>46.000000</td>\n",
       "      <td>1613.000000</td>\n",
       "      <td>8.000000</td>\n",
       "      <td>70.000000</td>\n",
       "    </tr>\n",
       "    <tr>\n",
       "      <th>25%</th>\n",
       "      <td>17.000000</td>\n",
       "      <td>4.000000</td>\n",
       "      <td>105.000000</td>\n",
       "      <td>75.000000</td>\n",
       "      <td>2225.250000</td>\n",
       "      <td>13.775000</td>\n",
       "      <td>73.000000</td>\n",
       "    </tr>\n",
       "    <tr>\n",
       "      <th>50%</th>\n",
       "      <td>22.750000</td>\n",
       "      <td>4.000000</td>\n",
       "      <td>151.000000</td>\n",
       "      <td>93.500000</td>\n",
       "      <td>2803.500000</td>\n",
       "      <td>15.500000</td>\n",
       "      <td>76.000000</td>\n",
       "    </tr>\n",
       "    <tr>\n",
       "      <th>75%</th>\n",
       "      <td>29.000000</td>\n",
       "      <td>8.000000</td>\n",
       "      <td>275.750000</td>\n",
       "      <td>126.000000</td>\n",
       "      <td>3614.750000</td>\n",
       "      <td>17.025000</td>\n",
       "      <td>79.000000</td>\n",
       "    </tr>\n",
       "    <tr>\n",
       "      <th>max</th>\n",
       "      <td>46.600000</td>\n",
       "      <td>8.000000</td>\n",
       "      <td>455.000000</td>\n",
       "      <td>230.000000</td>\n",
       "      <td>5140.000000</td>\n",
       "      <td>24.800000</td>\n",
       "      <td>82.000000</td>\n",
       "    </tr>\n",
       "  </tbody>\n",
       "</table>\n",
       "</div>"
      ],
      "text/plain": [
       "              mpg   cylinders  displacement  horsepower       weight  \\\n",
       "count  392.000000  392.000000    392.000000  392.000000   392.000000   \n",
       "mean    23.445918    5.471939    194.411990  104.469388  2977.584184   \n",
       "std      7.805007    1.705783    104.644004   38.491160   849.402560   \n",
       "min      9.000000    3.000000     68.000000   46.000000  1613.000000   \n",
       "25%     17.000000    4.000000    105.000000   75.000000  2225.250000   \n",
       "50%     22.750000    4.000000    151.000000   93.500000  2803.500000   \n",
       "75%     29.000000    8.000000    275.750000  126.000000  3614.750000   \n",
       "max     46.600000    8.000000    455.000000  230.000000  5140.000000   \n",
       "\n",
       "       acceleration  model year  \n",
       "count    392.000000  392.000000  \n",
       "mean      15.541327   75.979592  \n",
       "std        2.758864    3.683737  \n",
       "min        8.000000   70.000000  \n",
       "25%       13.775000   73.000000  \n",
       "50%       15.500000   76.000000  \n",
       "75%       17.025000   79.000000  \n",
       "max       24.800000   82.000000  "
      ]
     },
     "execution_count": 210,
     "metadata": {},
     "output_type": "execute_result"
    }
   ],
   "source": [
    "df.describe()"
   ]
  },
  {
   "cell_type": "markdown",
   "metadata": {},
   "source": [
    "Verificando valores nulos."
   ]
  },
  {
   "cell_type": "code",
   "execution_count": 211,
   "metadata": {
    "scrolled": true
   },
   "outputs": [
    {
     "data": {
      "text/plain": [
       "mpg             0\n",
       "cylinders       0\n",
       "displacement    0\n",
       "horsepower      0\n",
       "weight          0\n",
       "acceleration    0\n",
       "model year      0\n",
       "dtype: int64"
      ]
     },
     "execution_count": 211,
     "metadata": {},
     "output_type": "execute_result"
    }
   ],
   "source": [
    "df.isnull().sum()"
   ]
  },
  {
   "cell_type": "markdown",
   "metadata": {},
   "source": [
    "___\n"
   ]
  },
  {
   "cell_type": "code",
   "execution_count": 213,
   "metadata": {
    "scrolled": false
   },
   "outputs": [],
   "source": [
    "# sns.pairplot(df, height=1.5)"
   ]
  },
  {
   "cell_type": "markdown",
   "metadata": {},
   "source": [
    "___\n",
    "\n",
    "<div id=\"passo1\"></div>\n",
    "\n",
    "### Passo 1: Ajustando o modelo\n",
    "\n",
    "Ajuste um modelo considerando Consumo como resposta (dependente) e as demais variáveis da base de dados como explicativas!\n",
    "\n",
    "Faça a separação das variáveis resposta e preditoras (explicativas):"
   ]
  },
  {
   "cell_type": "code",
   "execution_count": 214,
   "metadata": {},
   "outputs": [],
   "source": [
    "X = df[['cylinders', 'displacement', 'horsepower', 'weight',\n",
    "       'acceleration', 'model year']]\n",
    "Y = df['mpg']"
   ]
  },
  {
   "cell_type": "markdown",
   "metadata": {},
   "source": [
    "Faça uso da função [`regress`](#regress) (que está neste *notebook* ) para fazer o ajuste:"
   ]
  },
  {
   "cell_type": "code",
   "execution_count": 215,
   "metadata": {
    "scrolled": false
   },
   "outputs": [
    {
     "data": {
      "text/html": [
       "<table class=\"simpletable\">\n",
       "<caption>OLS Regression Results</caption>\n",
       "<tr>\n",
       "  <th>Dep. Variable:</th>           <td>mpg</td>       <th>  R-squared:         </th> <td>   0.809</td> \n",
       "</tr>\n",
       "<tr>\n",
       "  <th>Model:</th>                   <td>OLS</td>       <th>  Adj. R-squared:    </th> <td>   0.806</td> \n",
       "</tr>\n",
       "<tr>\n",
       "  <th>Method:</th>             <td>Least Squares</td>  <th>  F-statistic:       </th> <td>   272.2</td> \n",
       "</tr>\n",
       "<tr>\n",
       "  <th>Date:</th>             <td>Tue, 24 May 2022</td> <th>  Prob (F-statistic):</th> <td>3.79e-135</td>\n",
       "</tr>\n",
       "<tr>\n",
       "  <th>Time:</th>                 <td>15:09:10</td>     <th>  Log-Likelihood:    </th> <td> -1036.5</td> \n",
       "</tr>\n",
       "<tr>\n",
       "  <th>No. Observations:</th>      <td>   392</td>      <th>  AIC:               </th> <td>   2087.</td> \n",
       "</tr>\n",
       "<tr>\n",
       "  <th>Df Residuals:</th>          <td>   385</td>      <th>  BIC:               </th> <td>   2115.</td> \n",
       "</tr>\n",
       "<tr>\n",
       "  <th>Df Model:</th>              <td>     6</td>      <th>                     </th>     <td> </td>    \n",
       "</tr>\n",
       "<tr>\n",
       "  <th>Covariance Type:</th>      <td>nonrobust</td>    <th>                     </th>     <td> </td>    \n",
       "</tr>\n",
       "</table>\n",
       "<table class=\"simpletable\">\n",
       "<tr>\n",
       "        <td></td>          <th>coef</th>     <th>std err</th>      <th>t</th>      <th>P>|t|</th>  <th>[0.025</th>    <th>0.975]</th>  \n",
       "</tr>\n",
       "<tr>\n",
       "  <th>const</th>        <td>  -14.5353</td> <td>    4.764</td> <td>   -3.051</td> <td> 0.002</td> <td>  -23.902</td> <td>   -5.169</td>\n",
       "</tr>\n",
       "<tr>\n",
       "  <th>cylinders</th>    <td>   -0.3299</td> <td>    0.332</td> <td>   -0.993</td> <td> 0.321</td> <td>   -0.983</td> <td>    0.323</td>\n",
       "</tr>\n",
       "<tr>\n",
       "  <th>displacement</th> <td>    0.0077</td> <td>    0.007</td> <td>    1.044</td> <td> 0.297</td> <td>   -0.007</td> <td>    0.022</td>\n",
       "</tr>\n",
       "<tr>\n",
       "  <th>horsepower</th>   <td>   -0.0004</td> <td>    0.014</td> <td>   -0.028</td> <td> 0.977</td> <td>   -0.028</td> <td>    0.027</td>\n",
       "</tr>\n",
       "<tr>\n",
       "  <th>weight</th>       <td>   -0.0068</td> <td>    0.001</td> <td>  -10.141</td> <td> 0.000</td> <td>   -0.008</td> <td>   -0.005</td>\n",
       "</tr>\n",
       "<tr>\n",
       "  <th>acceleration</th> <td>    0.0853</td> <td>    0.102</td> <td>    0.836</td> <td> 0.404</td> <td>   -0.115</td> <td>    0.286</td>\n",
       "</tr>\n",
       "<tr>\n",
       "  <th>model year</th>   <td>    0.7534</td> <td>    0.053</td> <td>   14.318</td> <td> 0.000</td> <td>    0.650</td> <td>    0.857</td>\n",
       "</tr>\n",
       "</table>\n",
       "<table class=\"simpletable\">\n",
       "<tr>\n",
       "  <th>Omnibus:</th>       <td>37.865</td> <th>  Durbin-Watson:     </th> <td>   1.232</td>\n",
       "</tr>\n",
       "<tr>\n",
       "  <th>Prob(Omnibus):</th> <td> 0.000</td> <th>  Jarque-Bera (JB):  </th> <td>  60.248</td>\n",
       "</tr>\n",
       "<tr>\n",
       "  <th>Skew:</th>          <td> 0.630</td> <th>  Prob(JB):          </th> <td>8.26e-14</td>\n",
       "</tr>\n",
       "<tr>\n",
       "  <th>Kurtosis:</th>      <td> 4.449</td> <th>  Cond. No.          </th> <td>8.53e+04</td>\n",
       "</tr>\n",
       "</table><br/><br/>Notes:<br/>[1] Standard Errors assume that the covariance matrix of the errors is correctly specified.<br/>[2] The condition number is large, 8.53e+04. This might indicate that there are<br/>strong multicollinearity or other numerical problems."
      ],
      "text/plain": [
       "<class 'statsmodels.iolib.summary.Summary'>\n",
       "\"\"\"\n",
       "                            OLS Regression Results                            \n",
       "==============================================================================\n",
       "Dep. Variable:                    mpg   R-squared:                       0.809\n",
       "Model:                            OLS   Adj. R-squared:                  0.806\n",
       "Method:                 Least Squares   F-statistic:                     272.2\n",
       "Date:                Tue, 24 May 2022   Prob (F-statistic):          3.79e-135\n",
       "Time:                        15:09:10   Log-Likelihood:                -1036.5\n",
       "No. Observations:                 392   AIC:                             2087.\n",
       "Df Residuals:                     385   BIC:                             2115.\n",
       "Df Model:                           6                                         \n",
       "Covariance Type:            nonrobust                                         \n",
       "================================================================================\n",
       "                   coef    std err          t      P>|t|      [0.025      0.975]\n",
       "--------------------------------------------------------------------------------\n",
       "const          -14.5353      4.764     -3.051      0.002     -23.902      -5.169\n",
       "cylinders       -0.3299      0.332     -0.993      0.321      -0.983       0.323\n",
       "displacement     0.0077      0.007      1.044      0.297      -0.007       0.022\n",
       "horsepower      -0.0004      0.014     -0.028      0.977      -0.028       0.027\n",
       "weight          -0.0068      0.001    -10.141      0.000      -0.008      -0.005\n",
       "acceleration     0.0853      0.102      0.836      0.404      -0.115       0.286\n",
       "model year       0.7534      0.053     14.318      0.000       0.650       0.857\n",
       "==============================================================================\n",
       "Omnibus:                       37.865   Durbin-Watson:                   1.232\n",
       "Prob(Omnibus):                  0.000   Jarque-Bera (JB):               60.248\n",
       "Skew:                           0.630   Prob(JB):                     8.26e-14\n",
       "Kurtosis:                       4.449   Cond. No.                     8.53e+04\n",
       "==============================================================================\n",
       "\n",
       "Notes:\n",
       "[1] Standard Errors assume that the covariance matrix of the errors is correctly specified.\n",
       "[2] The condition number is large, 8.53e+04. This might indicate that there are\n",
       "strong multicollinearity or other numerical problems.\n",
       "\"\"\""
      ]
     },
     "execution_count": 215,
     "metadata": {},
     "output_type": "execute_result"
    }
   ],
   "source": [
    "results = regress(Y,X)\n",
    "results.summary()"
   ]
  },
  {
   "cell_type": "markdown",
   "metadata": {},
   "source": [
    "___\n",
    "\n",
    "<div id=\"passo2\"></div>\n",
    "\n",
    "### Passo 2: Verificando os resultados dos testes de hipótese\n",
    "\n",
    "O que os valores contidos na coluna $P > |t|$ dizem a respeito das variáveis explicativas utilizadas no modelo ajustado?\n"
   ]
  },
  {
   "cell_type": "markdown",
   "metadata": {},
   "source": [
    "**R.:**\n",
    "\n",
    "A coluna $P > |t|$ obtida do comando `results.summary()` refere-se ao valor-*p* de cada variável explicativa utilizada para ajudar a compreender o comportamento da variável dependente `mpg`, no caso do exemplo.\n",
    "\n",
    "No caso da regressão múltipla obtida no exemplo, das seis variáveis explicativas, apenas duas se mostram relevantes para explicar a variável `mpg` pois possui valor-*p* menor do que 10% (maior nível de significância usualmente adotado na prática).\n",
    "Entretanto, como há muitas variáveis explicativas, o correto é utilizar algum método de seleção de variáveis. Em modelo de regressão linear, quando há suposição de erros normais, pode-se utilizar o método Stepwise. Vide alguns comentários de como fazê-lo no `Python´.\n",
    "\n",
    "https://stackoverflow.com/questions/15433372/stepwise-regression-in-python\n",
    "\n",
    "https://stackoverflow.com/questions/48071753/selecting-the-best-combination-of-variables-for-regression-model-based-on-reg-sc"
   ]
  },
  {
   "cell_type": "markdown",
   "metadata": {},
   "source": [
    "___\n",
    "\n",
    "<div id=\"passo3\"></div>\n",
    "\n",
    "### Passo 3: Visualizando o modelo e os dados (com duas variáveis explicativas)\n",
    "\n",
    "Observe como plotar os resultados de uma regressão múltipla quando há duas variáveis explicativas:"
   ]
  },
  {
   "cell_type": "code",
   "execution_count": 216,
   "metadata": {
    "scrolled": false
   },
   "outputs": [
    {
     "data": {
      "text/html": [
       "<table class=\"simpletable\">\n",
       "<caption>OLS Regression Results</caption>\n",
       "<tr>\n",
       "  <th>Dep. Variable:</th>           <td>mpg</td>       <th>  R-squared:         </th> <td>   0.606</td>\n",
       "</tr>\n",
       "<tr>\n",
       "  <th>Model:</th>                   <td>OLS</td>       <th>  Adj. R-squared:    </th> <td>   0.604</td>\n",
       "</tr>\n",
       "<tr>\n",
       "  <th>Method:</th>             <td>Least Squares</td>  <th>  F-statistic:       </th> <td>   299.1</td>\n",
       "</tr>\n",
       "<tr>\n",
       "  <th>Date:</th>             <td>Tue, 24 May 2022</td> <th>  Prob (F-statistic):</th> <td>2.14e-79</td>\n",
       "</tr>\n",
       "<tr>\n",
       "  <th>Time:</th>                 <td>15:09:10</td>     <th>  Log-Likelihood:    </th> <td> -1178.7</td>\n",
       "</tr>\n",
       "<tr>\n",
       "  <th>No. Observations:</th>      <td>   392</td>      <th>  AIC:               </th> <td>   2363.</td>\n",
       "</tr>\n",
       "<tr>\n",
       "  <th>Df Residuals:</th>          <td>   389</td>      <th>  BIC:               </th> <td>   2375.</td>\n",
       "</tr>\n",
       "<tr>\n",
       "  <th>Df Model:</th>              <td>     2</td>      <th>                     </th>     <td> </td>   \n",
       "</tr>\n",
       "<tr>\n",
       "  <th>Covariance Type:</th>      <td>nonrobust</td>    <th>                     </th>     <td> </td>   \n",
       "</tr>\n",
       "</table>\n",
       "<table class=\"simpletable\">\n",
       "<tr>\n",
       "        <td></td>          <th>coef</th>     <th>std err</th>      <th>t</th>      <th>P>|t|</th>  <th>[0.025</th>    <th>0.975]</th>  \n",
       "</tr>\n",
       "<tr>\n",
       "  <th>const</th>        <td>   40.5704</td> <td>    2.247</td> <td>   18.052</td> <td> 0.000</td> <td>   36.152</td> <td>   44.989</td>\n",
       "</tr>\n",
       "<tr>\n",
       "  <th>cylinders</th>    <td>   -3.4624</td> <td>    0.169</td> <td>  -20.526</td> <td> 0.000</td> <td>   -3.794</td> <td>   -3.131</td>\n",
       "</tr>\n",
       "<tr>\n",
       "  <th>acceleration</th> <td>    0.1172</td> <td>    0.104</td> <td>    1.124</td> <td> 0.262</td> <td>   -0.088</td> <td>    0.322</td>\n",
       "</tr>\n",
       "</table>\n",
       "<table class=\"simpletable\">\n",
       "<tr>\n",
       "  <th>Omnibus:</th>       <td>33.933</td> <th>  Durbin-Watson:     </th> <td>   1.012</td>\n",
       "</tr>\n",
       "<tr>\n",
       "  <th>Prob(Omnibus):</th> <td> 0.000</td> <th>  Jarque-Bera (JB):  </th> <td>  44.359</td>\n",
       "</tr>\n",
       "<tr>\n",
       "  <th>Skew:</th>          <td> 0.658</td> <th>  Prob(JB):          </th> <td>2.33e-10</td>\n",
       "</tr>\n",
       "<tr>\n",
       "  <th>Kurtosis:</th>      <td> 3.992</td> <th>  Cond. No.          </th> <td>    151.</td>\n",
       "</tr>\n",
       "</table><br/><br/>Notes:<br/>[1] Standard Errors assume that the covariance matrix of the errors is correctly specified."
      ],
      "text/plain": [
       "<class 'statsmodels.iolib.summary.Summary'>\n",
       "\"\"\"\n",
       "                            OLS Regression Results                            \n",
       "==============================================================================\n",
       "Dep. Variable:                    mpg   R-squared:                       0.606\n",
       "Model:                            OLS   Adj. R-squared:                  0.604\n",
       "Method:                 Least Squares   F-statistic:                     299.1\n",
       "Date:                Tue, 24 May 2022   Prob (F-statistic):           2.14e-79\n",
       "Time:                        15:09:10   Log-Likelihood:                -1178.7\n",
       "No. Observations:                 392   AIC:                             2363.\n",
       "Df Residuals:                     389   BIC:                             2375.\n",
       "Df Model:                           2                                         \n",
       "Covariance Type:            nonrobust                                         \n",
       "================================================================================\n",
       "                   coef    std err          t      P>|t|      [0.025      0.975]\n",
       "--------------------------------------------------------------------------------\n",
       "const           40.5704      2.247     18.052      0.000      36.152      44.989\n",
       "cylinders       -3.4624      0.169    -20.526      0.000      -3.794      -3.131\n",
       "acceleration     0.1172      0.104      1.124      0.262      -0.088       0.322\n",
       "==============================================================================\n",
       "Omnibus:                       33.933   Durbin-Watson:                   1.012\n",
       "Prob(Omnibus):                  0.000   Jarque-Bera (JB):               44.359\n",
       "Skew:                           0.658   Prob(JB):                     2.33e-10\n",
       "Kurtosis:                       3.992   Cond. No.                         151.\n",
       "==============================================================================\n",
       "\n",
       "Notes:\n",
       "[1] Standard Errors assume that the covariance matrix of the errors is correctly specified.\n",
       "\"\"\""
      ]
     },
     "execution_count": 216,
     "metadata": {},
     "output_type": "execute_result"
    }
   ],
   "source": [
    "# Obtém a regressão\n",
    "X3 = df[['cylinders', 'acceleration']]\n",
    "results3 = regress(Y,X3)\n",
    "results3.summary()"
   ]
  },
  {
   "cell_type": "code",
   "execution_count": 217,
   "metadata": {},
   "outputs": [],
   "source": [
    "# Recupera os parâmetros calculados\n",
    "beta0_hat = results3.params[0]  # const\n",
    "beta1_hat = results3.params[1]  # cylinders\n",
    "beta2_hat = results3.params[2]  # acceleration"
   ]
  },
  {
   "cell_type": "code",
   "execution_count": 218,
   "metadata": {},
   "outputs": [],
   "source": [
    "# Define uma função que aplica aos parâmetros\n",
    "def f(feature1, feature2):\n",
    "    return beta0_hat + beta1_hat*feature1 + beta2_hat*feature2"
   ]
  },
  {
   "cell_type": "code",
   "execution_count": 219,
   "metadata": {},
   "outputs": [],
   "source": [
    "# Gera 100 pontos entre os menores e maiores valores de cada feature\n",
    "npoints = 100\n",
    "feature1 = X3[\"cylinders\"]\n",
    "feature2 = X3[\"acceleration\"]\n",
    "x_vc = np.linspace(feature1.min(), feature1.max(), npoints)\n",
    "y_vc = np.linspace(feature2.min(), feature2.max(), npoints)\n"
   ]
  },
  {
   "cell_type": "code",
   "execution_count": 220,
   "metadata": {},
   "outputs": [],
   "source": [
    "# Constrói uma grade de 100x100 pontos \n",
    "eixo_x, eixo_y = np.meshgrid(x_vc, y_vc)"
   ]
  },
  {
   "cell_type": "code",
   "execution_count": 221,
   "metadata": {},
   "outputs": [],
   "source": [
    "# Aplica a função em cada ponto da grade \n",
    "# Constrói plano estimado\n",
    "fit_z = f(eixo_x, eixo_y)"
   ]
  },
  {
   "cell_type": "code",
   "execution_count": 222,
   "metadata": {},
   "outputs": [],
   "source": [
    "# Plota os pontos e o plano em 3D\n",
    "# plt3d = plt.figure().gca(projection=\"3d\")\n",
    "# plt3d.plot_surface(eixo_x, eixo_y, fit_z)\n",
    "# plt3d.scatter(feature1, feature2, Y, color=\"r\")\n",
    "# plt3d.set_xlabel(\"feature1\")\n",
    "# plt3d.set_ylabel(\"feature2\")\n",
    "# plt3d.set_zlabel(\"Y\")\n",
    "# plt.show()"
   ]
  },
  {
   "cell_type": "markdown",
   "metadata": {},
   "source": [
    "___\n",
    "\n",
    "<div id=\"atividade\"></div>\n",
    "\n",
    "# Atividade"
   ]
  },
  {
   "cell_type": "markdown",
   "metadata": {},
   "source": [
    "Parece que as variáveis `cylinders` e `acceleration` não são as melhores escolhas para explicar a economia de combustível.\n",
    "\n",
    "Encontre as variáveis mais relevantes para melhor prever os valores da variável `mpg`; gere o modelo via `OLS`; e realize o plot 3D. Esse objetivo será atingido ao completarmos os exercícios a seguir.\n",
    "\n",
    "<br>\n"
   ]
  },
  {
   "cell_type": "markdown",
   "metadata": {},
   "source": [
    "## Método de remoção de variáveis do modelo: Backward Stepwise\n",
    "\n",
    "Para encontrar as variáveis relevantes que explicam a variável `mpg`, vamos aplicar o método *Backward Stepwise*. Esse método consiste em ajustar um modelo considerando todas as variáveis explicativas disponíveis no *dataset* e remover, uma a uma, as menos relevantes para a explicação da variável *target* até sobrarem apenas as relevantes (que no caso serão apenas duas). \n",
    "\n",
    "Uma variável explicativa é dita não relevante se seu valor-*p* for maior do que o nível de significância $\\alpha$ adotado ao modelo. Assim sendo, uma variável explicativa é dita relevante para explicar variações no comportamento da variável *target* se essa apresentar valor-*p* menor do que o $\\alpha$ adotado.\n",
    "\n",
    "Dito isso, faça os exercícios a seguir.\n",
    "\n",
    "<br>"
   ]
  },
  {
   "cell_type": "markdown",
   "metadata": {},
   "source": [
    "## Método de remoção de variáveis do modelo: Backward Stepwise\n",
    "\n",
    "Para encontrar as variáveis relevantes que explicam a variável `mpg`, vamos aplicar o método *Backward Stepwise*. Esse método consiste em ajustar um modelo considerando todas as variáveis explicativas disponíveis no *dataset* e remover, uma a uma, as menos relevantes para a explicação da variável *target* até sobrarem apenas as relevantes (que no caso serão apenas duas). \n",
    "\n",
    "Uma variável explicativa é dita não relevante se seu valor-*p* for maior do que o nível de significância $\\alpha$ adotado ao modelo. Assim sendo, uma variável explicativa é dita relevante para explicar variações no comportamento da variável *target* se essa apresentar valor-*p* menor do que o $\\alpha$ adotado.\n",
    "\n",
    "Dito isso, faça os exercícios a seguir.\n",
    "\n",
    "<br>"
   ]
  },
  {
   "cell_type": "markdown",
   "metadata": {},
   "source": [
    "<div id=\"ex1\"></div>\n",
    "\n",
    "### EXERCÍCIO 1\n",
    "\n",
    "\n",
    "\n",
    "Para iniciar esse método de *Backward Stepwise*, ajuste um modelo linear com todas as variáveis disponíveis. **Dica**: isso já foi feito anteriormente nesta atividade e armazenado no objeto `results`. Você pode utilizar o mesmo resultado aqui."
   ]
  },
  {
   "cell_type": "code",
   "execution_count": 223,
   "metadata": {},
   "outputs": [
    {
     "data": {
      "text/html": [
       "<table class=\"simpletable\">\n",
       "<caption>OLS Regression Results</caption>\n",
       "<tr>\n",
       "  <th>Dep. Variable:</th>           <td>mpg</td>       <th>  R-squared:         </th> <td>   0.809</td> \n",
       "</tr>\n",
       "<tr>\n",
       "  <th>Model:</th>                   <td>OLS</td>       <th>  Adj. R-squared:    </th> <td>   0.806</td> \n",
       "</tr>\n",
       "<tr>\n",
       "  <th>Method:</th>             <td>Least Squares</td>  <th>  F-statistic:       </th> <td>   272.2</td> \n",
       "</tr>\n",
       "<tr>\n",
       "  <th>Date:</th>             <td>Tue, 24 May 2022</td> <th>  Prob (F-statistic):</th> <td>3.79e-135</td>\n",
       "</tr>\n",
       "<tr>\n",
       "  <th>Time:</th>                 <td>15:09:10</td>     <th>  Log-Likelihood:    </th> <td> -1036.5</td> \n",
       "</tr>\n",
       "<tr>\n",
       "  <th>No. Observations:</th>      <td>   392</td>      <th>  AIC:               </th> <td>   2087.</td> \n",
       "</tr>\n",
       "<tr>\n",
       "  <th>Df Residuals:</th>          <td>   385</td>      <th>  BIC:               </th> <td>   2115.</td> \n",
       "</tr>\n",
       "<tr>\n",
       "  <th>Df Model:</th>              <td>     6</td>      <th>                     </th>     <td> </td>    \n",
       "</tr>\n",
       "<tr>\n",
       "  <th>Covariance Type:</th>      <td>nonrobust</td>    <th>                     </th>     <td> </td>    \n",
       "</tr>\n",
       "</table>\n",
       "<table class=\"simpletable\">\n",
       "<tr>\n",
       "        <td></td>          <th>coef</th>     <th>std err</th>      <th>t</th>      <th>P>|t|</th>  <th>[0.025</th>    <th>0.975]</th>  \n",
       "</tr>\n",
       "<tr>\n",
       "  <th>const</th>        <td>  -14.5353</td> <td>    4.764</td> <td>   -3.051</td> <td> 0.002</td> <td>  -23.902</td> <td>   -5.169</td>\n",
       "</tr>\n",
       "<tr>\n",
       "  <th>cylinders</th>    <td>   -0.3299</td> <td>    0.332</td> <td>   -0.993</td> <td> 0.321</td> <td>   -0.983</td> <td>    0.323</td>\n",
       "</tr>\n",
       "<tr>\n",
       "  <th>displacement</th> <td>    0.0077</td> <td>    0.007</td> <td>    1.044</td> <td> 0.297</td> <td>   -0.007</td> <td>    0.022</td>\n",
       "</tr>\n",
       "<tr>\n",
       "  <th>horsepower</th>   <td>   -0.0004</td> <td>    0.014</td> <td>   -0.028</td> <td> 0.977</td> <td>   -0.028</td> <td>    0.027</td>\n",
       "</tr>\n",
       "<tr>\n",
       "  <th>weight</th>       <td>   -0.0068</td> <td>    0.001</td> <td>  -10.141</td> <td> 0.000</td> <td>   -0.008</td> <td>   -0.005</td>\n",
       "</tr>\n",
       "<tr>\n",
       "  <th>acceleration</th> <td>    0.0853</td> <td>    0.102</td> <td>    0.836</td> <td> 0.404</td> <td>   -0.115</td> <td>    0.286</td>\n",
       "</tr>\n",
       "<tr>\n",
       "  <th>model year</th>   <td>    0.7534</td> <td>    0.053</td> <td>   14.318</td> <td> 0.000</td> <td>    0.650</td> <td>    0.857</td>\n",
       "</tr>\n",
       "</table>\n",
       "<table class=\"simpletable\">\n",
       "<tr>\n",
       "  <th>Omnibus:</th>       <td>37.865</td> <th>  Durbin-Watson:     </th> <td>   1.232</td>\n",
       "</tr>\n",
       "<tr>\n",
       "  <th>Prob(Omnibus):</th> <td> 0.000</td> <th>  Jarque-Bera (JB):  </th> <td>  60.248</td>\n",
       "</tr>\n",
       "<tr>\n",
       "  <th>Skew:</th>          <td> 0.630</td> <th>  Prob(JB):          </th> <td>8.26e-14</td>\n",
       "</tr>\n",
       "<tr>\n",
       "  <th>Kurtosis:</th>      <td> 4.449</td> <th>  Cond. No.          </th> <td>8.53e+04</td>\n",
       "</tr>\n",
       "</table><br/><br/>Notes:<br/>[1] Standard Errors assume that the covariance matrix of the errors is correctly specified.<br/>[2] The condition number is large, 8.53e+04. This might indicate that there are<br/>strong multicollinearity or other numerical problems."
      ],
      "text/plain": [
       "<class 'statsmodels.iolib.summary.Summary'>\n",
       "\"\"\"\n",
       "                            OLS Regression Results                            \n",
       "==============================================================================\n",
       "Dep. Variable:                    mpg   R-squared:                       0.809\n",
       "Model:                            OLS   Adj. R-squared:                  0.806\n",
       "Method:                 Least Squares   F-statistic:                     272.2\n",
       "Date:                Tue, 24 May 2022   Prob (F-statistic):          3.79e-135\n",
       "Time:                        15:09:10   Log-Likelihood:                -1036.5\n",
       "No. Observations:                 392   AIC:                             2087.\n",
       "Df Residuals:                     385   BIC:                             2115.\n",
       "Df Model:                           6                                         \n",
       "Covariance Type:            nonrobust                                         \n",
       "================================================================================\n",
       "                   coef    std err          t      P>|t|      [0.025      0.975]\n",
       "--------------------------------------------------------------------------------\n",
       "const          -14.5353      4.764     -3.051      0.002     -23.902      -5.169\n",
       "cylinders       -0.3299      0.332     -0.993      0.321      -0.983       0.323\n",
       "displacement     0.0077      0.007      1.044      0.297      -0.007       0.022\n",
       "horsepower      -0.0004      0.014     -0.028      0.977      -0.028       0.027\n",
       "weight          -0.0068      0.001    -10.141      0.000      -0.008      -0.005\n",
       "acceleration     0.0853      0.102      0.836      0.404      -0.115       0.286\n",
       "model year       0.7534      0.053     14.318      0.000       0.650       0.857\n",
       "==============================================================================\n",
       "Omnibus:                       37.865   Durbin-Watson:                   1.232\n",
       "Prob(Omnibus):                  0.000   Jarque-Bera (JB):               60.248\n",
       "Skew:                           0.630   Prob(JB):                     8.26e-14\n",
       "Kurtosis:                       4.449   Cond. No.                     8.53e+04\n",
       "==============================================================================\n",
       "\n",
       "Notes:\n",
       "[1] Standard Errors assume that the covariance matrix of the errors is correctly specified.\n",
       "[2] The condition number is large, 8.53e+04. This might indicate that there are\n",
       "strong multicollinearity or other numerical problems.\n",
       "\"\"\""
      ]
     },
     "execution_count": 223,
     "metadata": {},
     "output_type": "execute_result"
    }
   ],
   "source": [
    "X = df[['cylinders', 'displacement', 'horsepower', 'weight',\n",
    "       'acceleration', 'model year']]\n",
    "Y = df['mpg']\n",
    "results = regress(Y,X)\n",
    "results.summary()"
   ]
  },
  {
   "cell_type": "markdown",
   "metadata": {},
   "source": [
    "<div id=\"ex2\"></div>\n",
    "\n",
    "### EXERCÍCIO 2\n",
    "\n",
    "Remova a variável com maior valor-*p* desde que não significante, ou seja, desde que seja maior do que o nível de significância (nesse caso, $10\\%$). Faça um novo ajuste de regressão sem essa primeira variável removida do modelo. "
   ]
  },
  {
   "cell_type": "code",
   "execution_count": 224,
   "metadata": {},
   "outputs": [
    {
     "data": {
      "text/html": [
       "<table class=\"simpletable\">\n",
       "<caption>OLS Regression Results</caption>\n",
       "<tr>\n",
       "  <th>Dep. Variable:</th>           <td>mpg</td>       <th>  R-squared:         </th> <td>   0.809</td> \n",
       "</tr>\n",
       "<tr>\n",
       "  <th>Model:</th>                   <td>OLS</td>       <th>  Adj. R-squared:    </th> <td>   0.807</td> \n",
       "</tr>\n",
       "<tr>\n",
       "  <th>Method:</th>             <td>Least Squares</td>  <th>  F-statistic:       </th> <td>   327.5</td> \n",
       "</tr>\n",
       "<tr>\n",
       "  <th>Date:</th>             <td>Tue, 24 May 2022</td> <th>  Prob (F-statistic):</th> <td>1.99e-136</td>\n",
       "</tr>\n",
       "<tr>\n",
       "  <th>Time:</th>                 <td>15:09:10</td>     <th>  Log-Likelihood:    </th> <td> -1036.5</td> \n",
       "</tr>\n",
       "<tr>\n",
       "  <th>No. Observations:</th>      <td>   392</td>      <th>  AIC:               </th> <td>   2085.</td> \n",
       "</tr>\n",
       "<tr>\n",
       "  <th>Df Residuals:</th>          <td>   386</td>      <th>  BIC:               </th> <td>   2109.</td> \n",
       "</tr>\n",
       "<tr>\n",
       "  <th>Df Model:</th>              <td>     5</td>      <th>                     </th>     <td> </td>    \n",
       "</tr>\n",
       "<tr>\n",
       "  <th>Covariance Type:</th>      <td>nonrobust</td>    <th>                     </th>     <td> </td>    \n",
       "</tr>\n",
       "</table>\n",
       "<table class=\"simpletable\">\n",
       "<tr>\n",
       "        <td></td>          <th>coef</th>     <th>std err</th>      <th>t</th>      <th>P>|t|</th>  <th>[0.025</th>    <th>0.975]</th>  \n",
       "</tr>\n",
       "<tr>\n",
       "  <th>const</th>        <td>  -14.6006</td> <td>    4.160</td> <td>   -3.510</td> <td> 0.001</td> <td>  -22.780</td> <td>   -6.421</td>\n",
       "</tr>\n",
       "<tr>\n",
       "  <th>cylinders</th>    <td>   -0.3289</td> <td>    0.330</td> <td>   -0.997</td> <td> 0.319</td> <td>   -0.978</td> <td>    0.320</td>\n",
       "</tr>\n",
       "<tr>\n",
       "  <th>displacement</th> <td>    0.0076</td> <td>    0.007</td> <td>    1.069</td> <td> 0.286</td> <td>   -0.006</td> <td>    0.022</td>\n",
       "</tr>\n",
       "<tr>\n",
       "  <th>weight</th>       <td>   -0.0068</td> <td>    0.001</td> <td>  -11.363</td> <td> 0.000</td> <td>   -0.008</td> <td>   -0.006</td>\n",
       "</tr>\n",
       "<tr>\n",
       "  <th>acceleration</th> <td>    0.0871</td> <td>    0.079</td> <td>    1.104</td> <td> 0.270</td> <td>   -0.068</td> <td>    0.242</td>\n",
       "</tr>\n",
       "<tr>\n",
       "  <th>model year</th>   <td>    0.7537</td> <td>    0.051</td> <td>   14.725</td> <td> 0.000</td> <td>    0.653</td> <td>    0.854</td>\n",
       "</tr>\n",
       "</table>\n",
       "<table class=\"simpletable\">\n",
       "<tr>\n",
       "  <th>Omnibus:</th>       <td>37.817</td> <th>  Durbin-Watson:     </th> <td>   1.232</td>\n",
       "</tr>\n",
       "<tr>\n",
       "  <th>Prob(Omnibus):</th> <td> 0.000</td> <th>  Jarque-Bera (JB):  </th> <td>  60.164</td>\n",
       "</tr>\n",
       "<tr>\n",
       "  <th>Skew:</th>          <td> 0.629</td> <th>  Prob(JB):          </th> <td>8.62e-14</td>\n",
       "</tr>\n",
       "<tr>\n",
       "  <th>Kurtosis:</th>      <td> 4.449</td> <th>  Cond. No.          </th> <td>7.45e+04</td>\n",
       "</tr>\n",
       "</table><br/><br/>Notes:<br/>[1] Standard Errors assume that the covariance matrix of the errors is correctly specified.<br/>[2] The condition number is large, 7.45e+04. This might indicate that there are<br/>strong multicollinearity or other numerical problems."
      ],
      "text/plain": [
       "<class 'statsmodels.iolib.summary.Summary'>\n",
       "\"\"\"\n",
       "                            OLS Regression Results                            \n",
       "==============================================================================\n",
       "Dep. Variable:                    mpg   R-squared:                       0.809\n",
       "Model:                            OLS   Adj. R-squared:                  0.807\n",
       "Method:                 Least Squares   F-statistic:                     327.5\n",
       "Date:                Tue, 24 May 2022   Prob (F-statistic):          1.99e-136\n",
       "Time:                        15:09:10   Log-Likelihood:                -1036.5\n",
       "No. Observations:                 392   AIC:                             2085.\n",
       "Df Residuals:                     386   BIC:                             2109.\n",
       "Df Model:                           5                                         \n",
       "Covariance Type:            nonrobust                                         \n",
       "================================================================================\n",
       "                   coef    std err          t      P>|t|      [0.025      0.975]\n",
       "--------------------------------------------------------------------------------\n",
       "const          -14.6006      4.160     -3.510      0.001     -22.780      -6.421\n",
       "cylinders       -0.3289      0.330     -0.997      0.319      -0.978       0.320\n",
       "displacement     0.0076      0.007      1.069      0.286      -0.006       0.022\n",
       "weight          -0.0068      0.001    -11.363      0.000      -0.008      -0.006\n",
       "acceleration     0.0871      0.079      1.104      0.270      -0.068       0.242\n",
       "model year       0.7537      0.051     14.725      0.000       0.653       0.854\n",
       "==============================================================================\n",
       "Omnibus:                       37.817   Durbin-Watson:                   1.232\n",
       "Prob(Omnibus):                  0.000   Jarque-Bera (JB):               60.164\n",
       "Skew:                           0.629   Prob(JB):                     8.62e-14\n",
       "Kurtosis:                       4.449   Cond. No.                     7.45e+04\n",
       "==============================================================================\n",
       "\n",
       "Notes:\n",
       "[1] Standard Errors assume that the covariance matrix of the errors is correctly specified.\n",
       "[2] The condition number is large, 7.45e+04. This might indicate that there are\n",
       "strong multicollinearity or other numerical problems.\n",
       "\"\"\""
      ]
     },
     "execution_count": 224,
     "metadata": {},
     "output_type": "execute_result"
    }
   ],
   "source": [
    "X = df[['cylinders', 'displacement', 'weight',\n",
    "       'acceleration', 'model year']]\n",
    "Y = df['mpg']\n",
    "results = regress(Y,X)\n",
    "results.summary()\n",
    "\n"
   ]
  },
  {
   "cell_type": "markdown",
   "metadata": {},
   "source": [
    "<div id=\"ex3\"></div>\n",
    "\n",
    "### EXERCÍCIO 3\n",
    "\n",
    "Do novo ajuste, verifique se há alguma variável explicativa não relevante ao modelo, ou seja, com valor-*p* maior do que $\\alpha=10\\%$. Agora faça um novo ajuste sem essa variável. \n",
    "\n",
    "<br>\n",
    "\n",
    "E assim sucessivamente até que todas as variáveis no modelo final tenham valor-*p* abaixo do nível de significância adotado ($10\\%$)."
   ]
  },
  {
   "cell_type": "code",
   "execution_count": 225,
   "metadata": {},
   "outputs": [
    {
     "data": {
      "text/html": [
       "<table class=\"simpletable\">\n",
       "<caption>OLS Regression Results</caption>\n",
       "<tr>\n",
       "  <th>Dep. Variable:</th>           <td>mpg</td>       <th>  R-squared:         </th> <td>   0.809</td> \n",
       "</tr>\n",
       "<tr>\n",
       "  <th>Model:</th>                   <td>OLS</td>       <th>  Adj. R-squared:    </th> <td>   0.807</td> \n",
       "</tr>\n",
       "<tr>\n",
       "  <th>Method:</th>             <td>Least Squares</td>  <th>  F-statistic:       </th> <td>   409.2</td> \n",
       "</tr>\n",
       "<tr>\n",
       "  <th>Date:</th>             <td>Tue, 24 May 2022</td> <th>  Prob (F-statistic):</th> <td>1.52e-137</td>\n",
       "</tr>\n",
       "<tr>\n",
       "  <th>Time:</th>                 <td>15:09:10</td>     <th>  Log-Likelihood:    </th> <td> -1037.0</td> \n",
       "</tr>\n",
       "<tr>\n",
       "  <th>No. Observations:</th>      <td>   392</td>      <th>  AIC:               </th> <td>   2084.</td> \n",
       "</tr>\n",
       "<tr>\n",
       "  <th>Df Residuals:</th>          <td>   387</td>      <th>  BIC:               </th> <td>   2104.</td> \n",
       "</tr>\n",
       "<tr>\n",
       "  <th>Df Model:</th>              <td>     4</td>      <th>                     </th>     <td> </td>    \n",
       "</tr>\n",
       "<tr>\n",
       "  <th>Covariance Type:</th>      <td>nonrobust</td>    <th>                     </th>     <td> </td>    \n",
       "</tr>\n",
       "</table>\n",
       "<table class=\"simpletable\">\n",
       "<tr>\n",
       "        <td></td>          <th>coef</th>     <th>std err</th>      <th>t</th>      <th>P>|t|</th>  <th>[0.025</th>    <th>0.975]</th>  \n",
       "</tr>\n",
       "<tr>\n",
       "  <th>const</th>        <td>  -15.2700</td> <td>    4.106</td> <td>   -3.719</td> <td> 0.000</td> <td>  -23.342</td> <td>   -7.198</td>\n",
       "</tr>\n",
       "<tr>\n",
       "  <th>displacement</th> <td>    0.0029</td> <td>    0.005</td> <td>    0.541</td> <td> 0.589</td> <td>   -0.008</td> <td>    0.013</td>\n",
       "</tr>\n",
       "<tr>\n",
       "  <th>weight</th>       <td>   -0.0069</td> <td>    0.001</td> <td>  -11.483</td> <td> 0.000</td> <td>   -0.008</td> <td>   -0.006</td>\n",
       "</tr>\n",
       "<tr>\n",
       "  <th>acceleration</th> <td>    0.0855</td> <td>    0.079</td> <td>    1.085</td> <td> 0.279</td> <td>   -0.069</td> <td>    0.241</td>\n",
       "</tr>\n",
       "<tr>\n",
       "  <th>model year</th>   <td>    0.7532</td> <td>    0.051</td> <td>   14.717</td> <td> 0.000</td> <td>    0.653</td> <td>    0.854</td>\n",
       "</tr>\n",
       "</table>\n",
       "<table class=\"simpletable\">\n",
       "<tr>\n",
       "  <th>Omnibus:</th>       <td>37.212</td> <th>  Durbin-Watson:     </th> <td>   1.224</td>\n",
       "</tr>\n",
       "<tr>\n",
       "  <th>Prob(Omnibus):</th> <td> 0.000</td> <th>  Jarque-Bera (JB):  </th> <td>  58.139</td>\n",
       "</tr>\n",
       "<tr>\n",
       "  <th>Skew:</th>          <td> 0.628</td> <th>  Prob(JB):          </th> <td>2.37e-13</td>\n",
       "</tr>\n",
       "<tr>\n",
       "  <th>Kurtosis:</th>      <td> 4.408</td> <th>  Cond. No.          </th> <td>7.36e+04</td>\n",
       "</tr>\n",
       "</table><br/><br/>Notes:<br/>[1] Standard Errors assume that the covariance matrix of the errors is correctly specified.<br/>[2] The condition number is large, 7.36e+04. This might indicate that there are<br/>strong multicollinearity or other numerical problems."
      ],
      "text/plain": [
       "<class 'statsmodels.iolib.summary.Summary'>\n",
       "\"\"\"\n",
       "                            OLS Regression Results                            \n",
       "==============================================================================\n",
       "Dep. Variable:                    mpg   R-squared:                       0.809\n",
       "Model:                            OLS   Adj. R-squared:                  0.807\n",
       "Method:                 Least Squares   F-statistic:                     409.2\n",
       "Date:                Tue, 24 May 2022   Prob (F-statistic):          1.52e-137\n",
       "Time:                        15:09:10   Log-Likelihood:                -1037.0\n",
       "No. Observations:                 392   AIC:                             2084.\n",
       "Df Residuals:                     387   BIC:                             2104.\n",
       "Df Model:                           4                                         \n",
       "Covariance Type:            nonrobust                                         \n",
       "================================================================================\n",
       "                   coef    std err          t      P>|t|      [0.025      0.975]\n",
       "--------------------------------------------------------------------------------\n",
       "const          -15.2700      4.106     -3.719      0.000     -23.342      -7.198\n",
       "displacement     0.0029      0.005      0.541      0.589      -0.008       0.013\n",
       "weight          -0.0069      0.001    -11.483      0.000      -0.008      -0.006\n",
       "acceleration     0.0855      0.079      1.085      0.279      -0.069       0.241\n",
       "model year       0.7532      0.051     14.717      0.000       0.653       0.854\n",
       "==============================================================================\n",
       "Omnibus:                       37.212   Durbin-Watson:                   1.224\n",
       "Prob(Omnibus):                  0.000   Jarque-Bera (JB):               58.139\n",
       "Skew:                           0.628   Prob(JB):                     2.37e-13\n",
       "Kurtosis:                       4.408   Cond. No.                     7.36e+04\n",
       "==============================================================================\n",
       "\n",
       "Notes:\n",
       "[1] Standard Errors assume that the covariance matrix of the errors is correctly specified.\n",
       "[2] The condition number is large, 7.36e+04. This might indicate that there are\n",
       "strong multicollinearity or other numerical problems.\n",
       "\"\"\""
      ]
     },
     "execution_count": 225,
     "metadata": {},
     "output_type": "execute_result"
    }
   ],
   "source": [
    "X = df[['displacement', 'weight',\n",
    "       'acceleration', 'model year']]\n",
    "Y = df['mpg']\n",
    "results = regress(Y,X)\n",
    "results.summary()"
   ]
  },
  {
   "cell_type": "code",
   "execution_count": 226,
   "metadata": {},
   "outputs": [
    {
     "data": {
      "text/html": [
       "<table class=\"simpletable\">\n",
       "<caption>OLS Regression Results</caption>\n",
       "<tr>\n",
       "  <th>Dep. Variable:</th>           <td>mpg</td>       <th>  R-squared:         </th> <td>   0.809</td> \n",
       "</tr>\n",
       "<tr>\n",
       "  <th>Model:</th>                   <td>OLS</td>       <th>  Adj. R-squared:    </th> <td>   0.807</td> \n",
       "</tr>\n",
       "<tr>\n",
       "  <th>Method:</th>             <td>Least Squares</td>  <th>  F-statistic:       </th> <td>   546.5</td> \n",
       "</tr>\n",
       "<tr>\n",
       "  <th>Date:</th>             <td>Tue, 24 May 2022</td> <th>  Prob (F-statistic):</th> <td>6.91e-139</td>\n",
       "</tr>\n",
       "<tr>\n",
       "  <th>Time:</th>                 <td>15:09:10</td>     <th>  Log-Likelihood:    </th> <td> -1037.1</td> \n",
       "</tr>\n",
       "<tr>\n",
       "  <th>No. Observations:</th>      <td>   392</td>      <th>  AIC:               </th> <td>   2082.</td> \n",
       "</tr>\n",
       "<tr>\n",
       "  <th>Df Residuals:</th>          <td>   388</td>      <th>  BIC:               </th> <td>   2098.</td> \n",
       "</tr>\n",
       "<tr>\n",
       "  <th>Df Model:</th>              <td>     3</td>      <th>                     </th>     <td> </td>    \n",
       "</tr>\n",
       "<tr>\n",
       "  <th>Covariance Type:</th>      <td>nonrobust</td>    <th>                     </th>     <td> </td>    \n",
       "</tr>\n",
       "</table>\n",
       "<table class=\"simpletable\">\n",
       "<tr>\n",
       "        <td></td>          <th>coef</th>     <th>std err</th>      <th>t</th>      <th>P>|t|</th>  <th>[0.025</th>    <th>0.975]</th>  \n",
       "</tr>\n",
       "<tr>\n",
       "  <th>const</th>        <td>  -14.9366</td> <td>    4.056</td> <td>   -3.683</td> <td> 0.000</td> <td>  -22.910</td> <td>   -6.963</td>\n",
       "</tr>\n",
       "<tr>\n",
       "  <th>weight</th>       <td>   -0.0066</td> <td>    0.000</td> <td>  -28.502</td> <td> 0.000</td> <td>   -0.007</td> <td>   -0.006</td>\n",
       "</tr>\n",
       "<tr>\n",
       "  <th>acceleration</th> <td>    0.0664</td> <td>    0.070</td> <td>    0.943</td> <td> 0.346</td> <td>   -0.072</td> <td>    0.205</td>\n",
       "</tr>\n",
       "<tr>\n",
       "  <th>model year</th>   <td>    0.7484</td> <td>    0.050</td> <td>   14.860</td> <td> 0.000</td> <td>    0.649</td> <td>    0.847</td>\n",
       "</tr>\n",
       "</table>\n",
       "<table class=\"simpletable\">\n",
       "<tr>\n",
       "  <th>Omnibus:</th>       <td>38.841</td> <th>  Durbin-Watson:     </th> <td>   1.222</td>\n",
       "</tr>\n",
       "<tr>\n",
       "  <th>Prob(Omnibus):</th> <td> 0.000</td> <th>  Jarque-Bera (JB):  </th> <td>  61.678</td>\n",
       "</tr>\n",
       "<tr>\n",
       "  <th>Skew:</th>          <td> 0.645</td> <th>  Prob(JB):          </th> <td>4.04e-14</td>\n",
       "</tr>\n",
       "<tr>\n",
       "  <th>Kurtosis:</th>      <td> 4.454</td> <th>  Cond. No.          </th> <td>7.26e+04</td>\n",
       "</tr>\n",
       "</table><br/><br/>Notes:<br/>[1] Standard Errors assume that the covariance matrix of the errors is correctly specified.<br/>[2] The condition number is large, 7.26e+04. This might indicate that there are<br/>strong multicollinearity or other numerical problems."
      ],
      "text/plain": [
       "<class 'statsmodels.iolib.summary.Summary'>\n",
       "\"\"\"\n",
       "                            OLS Regression Results                            \n",
       "==============================================================================\n",
       "Dep. Variable:                    mpg   R-squared:                       0.809\n",
       "Model:                            OLS   Adj. R-squared:                  0.807\n",
       "Method:                 Least Squares   F-statistic:                     546.5\n",
       "Date:                Tue, 24 May 2022   Prob (F-statistic):          6.91e-139\n",
       "Time:                        15:09:10   Log-Likelihood:                -1037.1\n",
       "No. Observations:                 392   AIC:                             2082.\n",
       "Df Residuals:                     388   BIC:                             2098.\n",
       "Df Model:                           3                                         \n",
       "Covariance Type:            nonrobust                                         \n",
       "================================================================================\n",
       "                   coef    std err          t      P>|t|      [0.025      0.975]\n",
       "--------------------------------------------------------------------------------\n",
       "const          -14.9366      4.056     -3.683      0.000     -22.910      -6.963\n",
       "weight          -0.0066      0.000    -28.502      0.000      -0.007      -0.006\n",
       "acceleration     0.0664      0.070      0.943      0.346      -0.072       0.205\n",
       "model year       0.7484      0.050     14.860      0.000       0.649       0.847\n",
       "==============================================================================\n",
       "Omnibus:                       38.841   Durbin-Watson:                   1.222\n",
       "Prob(Omnibus):                  0.000   Jarque-Bera (JB):               61.678\n",
       "Skew:                           0.645   Prob(JB):                     4.04e-14\n",
       "Kurtosis:                       4.454   Cond. No.                     7.26e+04\n",
       "==============================================================================\n",
       "\n",
       "Notes:\n",
       "[1] Standard Errors assume that the covariance matrix of the errors is correctly specified.\n",
       "[2] The condition number is large, 7.26e+04. This might indicate that there are\n",
       "strong multicollinearity or other numerical problems.\n",
       "\"\"\""
      ]
     },
     "execution_count": 226,
     "metadata": {},
     "output_type": "execute_result"
    }
   ],
   "source": [
    "X = df[['weight',\n",
    "       'acceleration', 'model year']]\n",
    "Y = df['mpg']\n",
    "results = regress(Y,X)\n",
    "results.summary()"
   ]
  },
  {
   "cell_type": "code",
   "execution_count": 227,
   "metadata": {},
   "outputs": [
    {
     "data": {
      "text/html": [
       "<table class=\"simpletable\">\n",
       "<caption>OLS Regression Results</caption>\n",
       "<tr>\n",
       "  <th>Dep. Variable:</th>           <td>mpg</td>       <th>  R-squared:         </th> <td>   0.808</td> \n",
       "</tr>\n",
       "<tr>\n",
       "  <th>Model:</th>                   <td>OLS</td>       <th>  Adj. R-squared:    </th> <td>   0.807</td> \n",
       "</tr>\n",
       "<tr>\n",
       "  <th>Method:</th>             <td>Least Squares</td>  <th>  F-statistic:       </th> <td>   819.5</td> \n",
       "</tr>\n",
       "<tr>\n",
       "  <th>Date:</th>             <td>Tue, 24 May 2022</td> <th>  Prob (F-statistic):</th> <td>3.33e-140</td>\n",
       "</tr>\n",
       "<tr>\n",
       "  <th>Time:</th>                 <td>15:09:10</td>     <th>  Log-Likelihood:    </th> <td> -1037.6</td> \n",
       "</tr>\n",
       "<tr>\n",
       "  <th>No. Observations:</th>      <td>   392</td>      <th>  AIC:               </th> <td>   2081.</td> \n",
       "</tr>\n",
       "<tr>\n",
       "  <th>Df Residuals:</th>          <td>   389</td>      <th>  BIC:               </th> <td>   2093.</td> \n",
       "</tr>\n",
       "<tr>\n",
       "  <th>Df Model:</th>              <td>     2</td>      <th>                     </th>     <td> </td>    \n",
       "</tr>\n",
       "<tr>\n",
       "  <th>Covariance Type:</th>      <td>nonrobust</td>    <th>                     </th>     <td> </td>    \n",
       "</tr>\n",
       "</table>\n",
       "<table class=\"simpletable\">\n",
       "<tr>\n",
       "       <td></td>         <th>coef</th>     <th>std err</th>      <th>t</th>      <th>P>|t|</th>  <th>[0.025</th>    <th>0.975]</th>  \n",
       "</tr>\n",
       "<tr>\n",
       "  <th>const</th>      <td>  -14.3473</td> <td>    4.007</td> <td>   -3.581</td> <td> 0.000</td> <td>  -22.224</td> <td>   -6.470</td>\n",
       "</tr>\n",
       "<tr>\n",
       "  <th>weight</th>     <td>   -0.0066</td> <td>    0.000</td> <td>  -30.911</td> <td> 0.000</td> <td>   -0.007</td> <td>   -0.006</td>\n",
       "</tr>\n",
       "<tr>\n",
       "  <th>model year</th> <td>    0.7573</td> <td>    0.049</td> <td>   15.308</td> <td> 0.000</td> <td>    0.660</td> <td>    0.855</td>\n",
       "</tr>\n",
       "</table>\n",
       "<table class=\"simpletable\">\n",
       "<tr>\n",
       "  <th>Omnibus:</th>       <td>42.504</td> <th>  Durbin-Watson:     </th> <td>   1.230</td>\n",
       "</tr>\n",
       "<tr>\n",
       "  <th>Prob(Omnibus):</th> <td> 0.000</td> <th>  Jarque-Bera (JB):  </th> <td>  71.997</td>\n",
       "</tr>\n",
       "<tr>\n",
       "  <th>Skew:</th>          <td> 0.670</td> <th>  Prob(JB):          </th> <td>2.32e-16</td>\n",
       "</tr>\n",
       "<tr>\n",
       "  <th>Kurtosis:</th>      <td> 4.616</td> <th>  Cond. No.          </th> <td>7.17e+04</td>\n",
       "</tr>\n",
       "</table><br/><br/>Notes:<br/>[1] Standard Errors assume that the covariance matrix of the errors is correctly specified.<br/>[2] The condition number is large, 7.17e+04. This might indicate that there are<br/>strong multicollinearity or other numerical problems."
      ],
      "text/plain": [
       "<class 'statsmodels.iolib.summary.Summary'>\n",
       "\"\"\"\n",
       "                            OLS Regression Results                            \n",
       "==============================================================================\n",
       "Dep. Variable:                    mpg   R-squared:                       0.808\n",
       "Model:                            OLS   Adj. R-squared:                  0.807\n",
       "Method:                 Least Squares   F-statistic:                     819.5\n",
       "Date:                Tue, 24 May 2022   Prob (F-statistic):          3.33e-140\n",
       "Time:                        15:09:10   Log-Likelihood:                -1037.6\n",
       "No. Observations:                 392   AIC:                             2081.\n",
       "Df Residuals:                     389   BIC:                             2093.\n",
       "Df Model:                           2                                         \n",
       "Covariance Type:            nonrobust                                         \n",
       "==============================================================================\n",
       "                 coef    std err          t      P>|t|      [0.025      0.975]\n",
       "------------------------------------------------------------------------------\n",
       "const        -14.3473      4.007     -3.581      0.000     -22.224      -6.470\n",
       "weight        -0.0066      0.000    -30.911      0.000      -0.007      -0.006\n",
       "model year     0.7573      0.049     15.308      0.000       0.660       0.855\n",
       "==============================================================================\n",
       "Omnibus:                       42.504   Durbin-Watson:                   1.230\n",
       "Prob(Omnibus):                  0.000   Jarque-Bera (JB):               71.997\n",
       "Skew:                           0.670   Prob(JB):                     2.32e-16\n",
       "Kurtosis:                       4.616   Cond. No.                     7.17e+04\n",
       "==============================================================================\n",
       "\n",
       "Notes:\n",
       "[1] Standard Errors assume that the covariance matrix of the errors is correctly specified.\n",
       "[2] The condition number is large, 7.17e+04. This might indicate that there are\n",
       "strong multicollinearity or other numerical problems.\n",
       "\"\"\""
      ]
     },
     "execution_count": 227,
     "metadata": {},
     "output_type": "execute_result"
    }
   ],
   "source": [
    "X = df[['weight',\n",
    "       'model year']]\n",
    "Y = df['mpg']\n",
    "results = regress(Y,X)\n",
    "results.summary()"
   ]
  },
  {
   "cell_type": "markdown",
   "metadata": {},
   "source": [
    "<div id=\"ex4\"></div>\n",
    "\n",
    "### EXERCÍCIO 4\n",
    "\n",
    "Na prática, em cada passo para remoção de uma variável é necessário avaliar a validade das suposições do modelo. Por questão de tempo, nesta atividade vamos fazer a análise detalhada das suposições do modelo apenas com o modelo final.\n",
    "\n",
    "Utilizando os resultados da regressão com duas variáveis explicativas do modelo final, discuta as suposições do modelo.\n",
    "\n",
    "**Atenção:** Para discutir a suposição de independência dos erros considerando o teste Durbin-Watson, veja [aqui](https://www.statology.org/durbin-watson-test-python/)."
   ]
  },
  {
   "cell_type": "code",
   "execution_count": 228,
   "metadata": {},
   "outputs": [
    {
     "data": {
      "text/html": [
       "<table class=\"simpletable\">\n",
       "<caption>OLS Regression Results</caption>\n",
       "<tr>\n",
       "  <th>Dep. Variable:</th>           <td>mpg</td>       <th>  R-squared:         </th> <td>   0.808</td> \n",
       "</tr>\n",
       "<tr>\n",
       "  <th>Model:</th>                   <td>OLS</td>       <th>  Adj. R-squared:    </th> <td>   0.807</td> \n",
       "</tr>\n",
       "<tr>\n",
       "  <th>Method:</th>             <td>Least Squares</td>  <th>  F-statistic:       </th> <td>   819.5</td> \n",
       "</tr>\n",
       "<tr>\n",
       "  <th>Date:</th>             <td>Tue, 24 May 2022</td> <th>  Prob (F-statistic):</th> <td>3.33e-140</td>\n",
       "</tr>\n",
       "<tr>\n",
       "  <th>Time:</th>                 <td>15:09:10</td>     <th>  Log-Likelihood:    </th> <td> -1037.6</td> \n",
       "</tr>\n",
       "<tr>\n",
       "  <th>No. Observations:</th>      <td>   392</td>      <th>  AIC:               </th> <td>   2081.</td> \n",
       "</tr>\n",
       "<tr>\n",
       "  <th>Df Residuals:</th>          <td>   389</td>      <th>  BIC:               </th> <td>   2093.</td> \n",
       "</tr>\n",
       "<tr>\n",
       "  <th>Df Model:</th>              <td>     2</td>      <th>                     </th>     <td> </td>    \n",
       "</tr>\n",
       "<tr>\n",
       "  <th>Covariance Type:</th>      <td>nonrobust</td>    <th>                     </th>     <td> </td>    \n",
       "</tr>\n",
       "</table>\n",
       "<table class=\"simpletable\">\n",
       "<tr>\n",
       "       <td></td>         <th>coef</th>     <th>std err</th>      <th>t</th>      <th>P>|t|</th>  <th>[0.025</th>    <th>0.975]</th>  \n",
       "</tr>\n",
       "<tr>\n",
       "  <th>const</th>      <td>  -14.3473</td> <td>    4.007</td> <td>   -3.581</td> <td> 0.000</td> <td>  -22.224</td> <td>   -6.470</td>\n",
       "</tr>\n",
       "<tr>\n",
       "  <th>weight</th>     <td>   -0.0066</td> <td>    0.000</td> <td>  -30.911</td> <td> 0.000</td> <td>   -0.007</td> <td>   -0.006</td>\n",
       "</tr>\n",
       "<tr>\n",
       "  <th>model year</th> <td>    0.7573</td> <td>    0.049</td> <td>   15.308</td> <td> 0.000</td> <td>    0.660</td> <td>    0.855</td>\n",
       "</tr>\n",
       "</table>\n",
       "<table class=\"simpletable\">\n",
       "<tr>\n",
       "  <th>Omnibus:</th>       <td>42.504</td> <th>  Durbin-Watson:     </th> <td>   1.230</td>\n",
       "</tr>\n",
       "<tr>\n",
       "  <th>Prob(Omnibus):</th> <td> 0.000</td> <th>  Jarque-Bera (JB):  </th> <td>  71.997</td>\n",
       "</tr>\n",
       "<tr>\n",
       "  <th>Skew:</th>          <td> 0.670</td> <th>  Prob(JB):          </th> <td>2.32e-16</td>\n",
       "</tr>\n",
       "<tr>\n",
       "  <th>Kurtosis:</th>      <td> 4.616</td> <th>  Cond. No.          </th> <td>7.17e+04</td>\n",
       "</tr>\n",
       "</table><br/><br/>Notes:<br/>[1] Standard Errors assume that the covariance matrix of the errors is correctly specified.<br/>[2] The condition number is large, 7.17e+04. This might indicate that there are<br/>strong multicollinearity or other numerical problems."
      ],
      "text/plain": [
       "<class 'statsmodels.iolib.summary.Summary'>\n",
       "\"\"\"\n",
       "                            OLS Regression Results                            \n",
       "==============================================================================\n",
       "Dep. Variable:                    mpg   R-squared:                       0.808\n",
       "Model:                            OLS   Adj. R-squared:                  0.807\n",
       "Method:                 Least Squares   F-statistic:                     819.5\n",
       "Date:                Tue, 24 May 2022   Prob (F-statistic):          3.33e-140\n",
       "Time:                        15:09:10   Log-Likelihood:                -1037.6\n",
       "No. Observations:                 392   AIC:                             2081.\n",
       "Df Residuals:                     389   BIC:                             2093.\n",
       "Df Model:                           2                                         \n",
       "Covariance Type:            nonrobust                                         \n",
       "==============================================================================\n",
       "                 coef    std err          t      P>|t|      [0.025      0.975]\n",
       "------------------------------------------------------------------------------\n",
       "const        -14.3473      4.007     -3.581      0.000     -22.224      -6.470\n",
       "weight        -0.0066      0.000    -30.911      0.000      -0.007      -0.006\n",
       "model year     0.7573      0.049     15.308      0.000       0.660       0.855\n",
       "==============================================================================\n",
       "Omnibus:                       42.504   Durbin-Watson:                   1.230\n",
       "Prob(Omnibus):                  0.000   Jarque-Bera (JB):               71.997\n",
       "Skew:                           0.670   Prob(JB):                     2.32e-16\n",
       "Kurtosis:                       4.616   Cond. No.                     7.17e+04\n",
       "==============================================================================\n",
       "\n",
       "Notes:\n",
       "[1] Standard Errors assume that the covariance matrix of the errors is correctly specified.\n",
       "[2] The condition number is large, 7.17e+04. This might indicate that there are\n",
       "strong multicollinearity or other numerical problems.\n",
       "\"\"\""
      ]
     },
     "execution_count": 228,
     "metadata": {},
     "output_type": "execute_result"
    }
   ],
   "source": [
    "X4 = df[['weight', 'model year']]\n",
    "results3 = regress(Y,X4)\n",
    "results3.summary()"
   ]
  },
  {
   "cell_type": "markdown",
   "metadata": {},
   "source": [
    "<div id=\"ex5\"></div>\n",
    "\n",
    "### EXERCÍCIO 5\n",
    "\n",
    "Faça o plot 3D com as duas variáveis relevantes para explicar a variável `mpg`. Note que podemos fazer isso apenas porque ambas possuem valor-*p* < $10\\%$."
   ]
  },
  {
   "cell_type": "code",
   "execution_count": 229,
   "metadata": {},
   "outputs": [],
   "source": [
    "beta0_hat = results3.params[0]  # const\n",
    "beta1_hat = results3.params[1]  # cylinders\n",
    "beta2_hat = results3.params[2]  # acceleration"
   ]
  },
  {
   "cell_type": "code",
   "execution_count": 230,
   "metadata": {},
   "outputs": [],
   "source": [
    "def f(feature1, feature2):\n",
    "    return beta0_hat + beta1_hat*feature1 + beta2_hat*feature2"
   ]
  },
  {
   "cell_type": "code",
   "execution_count": 231,
   "metadata": {},
   "outputs": [],
   "source": [
    "npoints = 100\n",
    "feature1 = X3[\"cylinders\"]\n",
    "feature2 = X3[\"acceleration\"]\n",
    "x_vc = np.linspace(feature1.min(), feature1.max(), npoints)\n",
    "y_vc = np.linspace(feature2.min(), feature2.max(), npoints)\n",
    "\n",
    "eixo_x, eixo_y = np.meshgrid(x_vc, y_vc)\n",
    "\n",
    "fit_z = f(eixo_x, eixo_y)"
   ]
  },
  {
   "cell_type": "code",
   "execution_count": 232,
   "metadata": {},
   "outputs": [
    {
     "data": {
      "application/javascript": "/* Put everything inside the global mpl namespace */\n/* global mpl */\nwindow.mpl = {};\n\nmpl.get_websocket_type = function () {\n    if (typeof WebSocket !== 'undefined') {\n        return WebSocket;\n    } else if (typeof MozWebSocket !== 'undefined') {\n        return MozWebSocket;\n    } else {\n        alert(\n            'Your browser does not have WebSocket support. ' +\n                'Please try Chrome, Safari or Firefox ≥ 6. ' +\n                'Firefox 4 and 5 are also supported but you ' +\n                'have to enable WebSockets in about:config.'\n        );\n    }\n};\n\nmpl.figure = function (figure_id, websocket, ondownload, parent_element) {\n    this.id = figure_id;\n\n    this.ws = websocket;\n\n    this.supports_binary = this.ws.binaryType !== undefined;\n\n    if (!this.supports_binary) {\n        var warnings = document.getElementById('mpl-warnings');\n        if (warnings) {\n            warnings.style.display = 'block';\n            warnings.textContent =\n                'This browser does not support binary websocket messages. ' +\n                'Performance may be slow.';\n        }\n    }\n\n    this.imageObj = new Image();\n\n    this.context = undefined;\n    this.message = undefined;\n    this.canvas = undefined;\n    this.rubberband_canvas = undefined;\n    this.rubberband_context = undefined;\n    this.format_dropdown = undefined;\n\n    this.image_mode = 'full';\n\n    this.root = document.createElement('div');\n    this.root.setAttribute('style', 'display: inline-block');\n    this._root_extra_style(this.root);\n\n    parent_element.appendChild(this.root);\n\n    this._init_header(this);\n    this._init_canvas(this);\n    this._init_toolbar(this);\n\n    var fig = this;\n\n    this.waiting = false;\n\n    this.ws.onopen = function () {\n        fig.send_message('supports_binary', { value: fig.supports_binary });\n        fig.send_message('send_image_mode', {});\n        if (fig.ratio !== 1) {\n            fig.send_message('set_dpi_ratio', { dpi_ratio: fig.ratio });\n        }\n        fig.send_message('refresh', {});\n    };\n\n    this.imageObj.onload = function () {\n        if (fig.image_mode === 'full') {\n            // Full images could contain transparency (where diff images\n            // almost always do), so we need to clear the canvas so that\n            // there is no ghosting.\n            fig.context.clearRect(0, 0, fig.canvas.width, fig.canvas.height);\n        }\n        fig.context.drawImage(fig.imageObj, 0, 0);\n    };\n\n    this.imageObj.onunload = function () {\n        fig.ws.close();\n    };\n\n    this.ws.onmessage = this._make_on_message_function(this);\n\n    this.ondownload = ondownload;\n};\n\nmpl.figure.prototype._init_header = function () {\n    var titlebar = document.createElement('div');\n    titlebar.classList =\n        'ui-dialog-titlebar ui-widget-header ui-corner-all ui-helper-clearfix';\n    var titletext = document.createElement('div');\n    titletext.classList = 'ui-dialog-title';\n    titletext.setAttribute(\n        'style',\n        'width: 100%; text-align: center; padding: 3px;'\n    );\n    titlebar.appendChild(titletext);\n    this.root.appendChild(titlebar);\n    this.header = titletext;\n};\n\nmpl.figure.prototype._canvas_extra_style = function (_canvas_div) {};\n\nmpl.figure.prototype._root_extra_style = function (_canvas_div) {};\n\nmpl.figure.prototype._init_canvas = function () {\n    var fig = this;\n\n    var canvas_div = (this.canvas_div = document.createElement('div'));\n    canvas_div.setAttribute(\n        'style',\n        'border: 1px solid #ddd;' +\n            'box-sizing: content-box;' +\n            'clear: both;' +\n            'min-height: 1px;' +\n            'min-width: 1px;' +\n            'outline: 0;' +\n            'overflow: hidden;' +\n            'position: relative;' +\n            'resize: both;'\n    );\n\n    function on_keyboard_event_closure(name) {\n        return function (event) {\n            return fig.key_event(event, name);\n        };\n    }\n\n    canvas_div.addEventListener(\n        'keydown',\n        on_keyboard_event_closure('key_press')\n    );\n    canvas_div.addEventListener(\n        'keyup',\n        on_keyboard_event_closure('key_release')\n    );\n\n    this._canvas_extra_style(canvas_div);\n    this.root.appendChild(canvas_div);\n\n    var canvas = (this.canvas = document.createElement('canvas'));\n    canvas.classList.add('mpl-canvas');\n    canvas.setAttribute('style', 'box-sizing: content-box;');\n\n    this.context = canvas.getContext('2d');\n\n    var backingStore =\n        this.context.backingStorePixelRatio ||\n        this.context.webkitBackingStorePixelRatio ||\n        this.context.mozBackingStorePixelRatio ||\n        this.context.msBackingStorePixelRatio ||\n        this.context.oBackingStorePixelRatio ||\n        this.context.backingStorePixelRatio ||\n        1;\n\n    this.ratio = (window.devicePixelRatio || 1) / backingStore;\n\n    var rubberband_canvas = (this.rubberband_canvas = document.createElement(\n        'canvas'\n    ));\n    rubberband_canvas.setAttribute(\n        'style',\n        'box-sizing: content-box; position: absolute; left: 0; top: 0; z-index: 1;'\n    );\n\n    // Apply a ponyfill if ResizeObserver is not implemented by browser.\n    if (this.ResizeObserver === undefined) {\n        if (window.ResizeObserver !== undefined) {\n            this.ResizeObserver = window.ResizeObserver;\n        } else {\n            var obs = _JSXTOOLS_RESIZE_OBSERVER({});\n            this.ResizeObserver = obs.ResizeObserver;\n        }\n    }\n\n    this.resizeObserverInstance = new this.ResizeObserver(function (entries) {\n        var nentries = entries.length;\n        for (var i = 0; i < nentries; i++) {\n            var entry = entries[i];\n            var width, height;\n            if (entry.contentBoxSize) {\n                if (entry.contentBoxSize instanceof Array) {\n                    // Chrome 84 implements new version of spec.\n                    width = entry.contentBoxSize[0].inlineSize;\n                    height = entry.contentBoxSize[0].blockSize;\n                } else {\n                    // Firefox implements old version of spec.\n                    width = entry.contentBoxSize.inlineSize;\n                    height = entry.contentBoxSize.blockSize;\n                }\n            } else {\n                // Chrome <84 implements even older version of spec.\n                width = entry.contentRect.width;\n                height = entry.contentRect.height;\n            }\n\n            // Keep the size of the canvas and rubber band canvas in sync with\n            // the canvas container.\n            if (entry.devicePixelContentBoxSize) {\n                // Chrome 84 implements new version of spec.\n                canvas.setAttribute(\n                    'width',\n                    entry.devicePixelContentBoxSize[0].inlineSize\n                );\n                canvas.setAttribute(\n                    'height',\n                    entry.devicePixelContentBoxSize[0].blockSize\n                );\n            } else {\n                canvas.setAttribute('width', width * fig.ratio);\n                canvas.setAttribute('height', height * fig.ratio);\n            }\n            canvas.setAttribute(\n                'style',\n                'width: ' + width + 'px; height: ' + height + 'px;'\n            );\n\n            rubberband_canvas.setAttribute('width', width);\n            rubberband_canvas.setAttribute('height', height);\n\n            // And update the size in Python. We ignore the initial 0/0 size\n            // that occurs as the element is placed into the DOM, which should\n            // otherwise not happen due to the minimum size styling.\n            if (fig.ws.readyState == 1 && width != 0 && height != 0) {\n                fig.request_resize(width, height);\n            }\n        }\n    });\n    this.resizeObserverInstance.observe(canvas_div);\n\n    function on_mouse_event_closure(name) {\n        return function (event) {\n            return fig.mouse_event(event, name);\n        };\n    }\n\n    rubberband_canvas.addEventListener(\n        'mousedown',\n        on_mouse_event_closure('button_press')\n    );\n    rubberband_canvas.addEventListener(\n        'mouseup',\n        on_mouse_event_closure('button_release')\n    );\n    // Throttle sequential mouse events to 1 every 20ms.\n    rubberband_canvas.addEventListener(\n        'mousemove',\n        on_mouse_event_closure('motion_notify')\n    );\n\n    rubberband_canvas.addEventListener(\n        'mouseenter',\n        on_mouse_event_closure('figure_enter')\n    );\n    rubberband_canvas.addEventListener(\n        'mouseleave',\n        on_mouse_event_closure('figure_leave')\n    );\n\n    canvas_div.addEventListener('wheel', function (event) {\n        if (event.deltaY < 0) {\n            event.step = 1;\n        } else {\n            event.step = -1;\n        }\n        on_mouse_event_closure('scroll')(event);\n    });\n\n    canvas_div.appendChild(canvas);\n    canvas_div.appendChild(rubberband_canvas);\n\n    this.rubberband_context = rubberband_canvas.getContext('2d');\n    this.rubberband_context.strokeStyle = '#000000';\n\n    this._resize_canvas = function (width, height, forward) {\n        if (forward) {\n            canvas_div.style.width = width + 'px';\n            canvas_div.style.height = height + 'px';\n        }\n    };\n\n    // Disable right mouse context menu.\n    this.rubberband_canvas.addEventListener('contextmenu', function (_e) {\n        event.preventDefault();\n        return false;\n    });\n\n    function set_focus() {\n        canvas.focus();\n        canvas_div.focus();\n    }\n\n    window.setTimeout(set_focus, 100);\n};\n\nmpl.figure.prototype._init_toolbar = function () {\n    var fig = this;\n\n    var toolbar = document.createElement('div');\n    toolbar.classList = 'mpl-toolbar';\n    this.root.appendChild(toolbar);\n\n    function on_click_closure(name) {\n        return function (_event) {\n            return fig.toolbar_button_onclick(name);\n        };\n    }\n\n    function on_mouseover_closure(tooltip) {\n        return function (event) {\n            if (!event.currentTarget.disabled) {\n                return fig.toolbar_button_onmouseover(tooltip);\n            }\n        };\n    }\n\n    fig.buttons = {};\n    var buttonGroup = document.createElement('div');\n    buttonGroup.classList = 'mpl-button-group';\n    for (var toolbar_ind in mpl.toolbar_items) {\n        var name = mpl.toolbar_items[toolbar_ind][0];\n        var tooltip = mpl.toolbar_items[toolbar_ind][1];\n        var image = mpl.toolbar_items[toolbar_ind][2];\n        var method_name = mpl.toolbar_items[toolbar_ind][3];\n\n        if (!name) {\n            /* Instead of a spacer, we start a new button group. */\n            if (buttonGroup.hasChildNodes()) {\n                toolbar.appendChild(buttonGroup);\n            }\n            buttonGroup = document.createElement('div');\n            buttonGroup.classList = 'mpl-button-group';\n            continue;\n        }\n\n        var button = (fig.buttons[name] = document.createElement('button'));\n        button.classList = 'mpl-widget';\n        button.setAttribute('role', 'button');\n        button.setAttribute('aria-disabled', 'false');\n        button.addEventListener('click', on_click_closure(method_name));\n        button.addEventListener('mouseover', on_mouseover_closure(tooltip));\n\n        var icon_img = document.createElement('img');\n        icon_img.src = '_images/' + image + '.png';\n        icon_img.srcset = '_images/' + image + '_large.png 2x';\n        icon_img.alt = tooltip;\n        button.appendChild(icon_img);\n\n        buttonGroup.appendChild(button);\n    }\n\n    if (buttonGroup.hasChildNodes()) {\n        toolbar.appendChild(buttonGroup);\n    }\n\n    var fmt_picker = document.createElement('select');\n    fmt_picker.classList = 'mpl-widget';\n    toolbar.appendChild(fmt_picker);\n    this.format_dropdown = fmt_picker;\n\n    for (var ind in mpl.extensions) {\n        var fmt = mpl.extensions[ind];\n        var option = document.createElement('option');\n        option.selected = fmt === mpl.default_extension;\n        option.innerHTML = fmt;\n        fmt_picker.appendChild(option);\n    }\n\n    var status_bar = document.createElement('span');\n    status_bar.classList = 'mpl-message';\n    toolbar.appendChild(status_bar);\n    this.message = status_bar;\n};\n\nmpl.figure.prototype.request_resize = function (x_pixels, y_pixels) {\n    // Request matplotlib to resize the figure. Matplotlib will then trigger a resize in the client,\n    // which will in turn request a refresh of the image.\n    this.send_message('resize', { width: x_pixels, height: y_pixels });\n};\n\nmpl.figure.prototype.send_message = function (type, properties) {\n    properties['type'] = type;\n    properties['figure_id'] = this.id;\n    this.ws.send(JSON.stringify(properties));\n};\n\nmpl.figure.prototype.send_draw_message = function () {\n    if (!this.waiting) {\n        this.waiting = true;\n        this.ws.send(JSON.stringify({ type: 'draw', figure_id: this.id }));\n    }\n};\n\nmpl.figure.prototype.handle_save = function (fig, _msg) {\n    var format_dropdown = fig.format_dropdown;\n    var format = format_dropdown.options[format_dropdown.selectedIndex].value;\n    fig.ondownload(fig, format);\n};\n\nmpl.figure.prototype.handle_resize = function (fig, msg) {\n    var size = msg['size'];\n    if (size[0] !== fig.canvas.width || size[1] !== fig.canvas.height) {\n        fig._resize_canvas(size[0], size[1], msg['forward']);\n        fig.send_message('refresh', {});\n    }\n};\n\nmpl.figure.prototype.handle_rubberband = function (fig, msg) {\n    var x0 = msg['x0'] / fig.ratio;\n    var y0 = (fig.canvas.height - msg['y0']) / fig.ratio;\n    var x1 = msg['x1'] / fig.ratio;\n    var y1 = (fig.canvas.height - msg['y1']) / fig.ratio;\n    x0 = Math.floor(x0) + 0.5;\n    y0 = Math.floor(y0) + 0.5;\n    x1 = Math.floor(x1) + 0.5;\n    y1 = Math.floor(y1) + 0.5;\n    var min_x = Math.min(x0, x1);\n    var min_y = Math.min(y0, y1);\n    var width = Math.abs(x1 - x0);\n    var height = Math.abs(y1 - y0);\n\n    fig.rubberband_context.clearRect(\n        0,\n        0,\n        fig.canvas.width / fig.ratio,\n        fig.canvas.height / fig.ratio\n    );\n\n    fig.rubberband_context.strokeRect(min_x, min_y, width, height);\n};\n\nmpl.figure.prototype.handle_figure_label = function (fig, msg) {\n    // Updates the figure title.\n    fig.header.textContent = msg['label'];\n};\n\nmpl.figure.prototype.handle_cursor = function (fig, msg) {\n    var cursor = msg['cursor'];\n    switch (cursor) {\n        case 0:\n            cursor = 'pointer';\n            break;\n        case 1:\n            cursor = 'default';\n            break;\n        case 2:\n            cursor = 'crosshair';\n            break;\n        case 3:\n            cursor = 'move';\n            break;\n    }\n    fig.rubberband_canvas.style.cursor = cursor;\n};\n\nmpl.figure.prototype.handle_message = function (fig, msg) {\n    fig.message.textContent = msg['message'];\n};\n\nmpl.figure.prototype.handle_draw = function (fig, _msg) {\n    // Request the server to send over a new figure.\n    fig.send_draw_message();\n};\n\nmpl.figure.prototype.handle_image_mode = function (fig, msg) {\n    fig.image_mode = msg['mode'];\n};\n\nmpl.figure.prototype.handle_history_buttons = function (fig, msg) {\n    for (var key in msg) {\n        if (!(key in fig.buttons)) {\n            continue;\n        }\n        fig.buttons[key].disabled = !msg[key];\n        fig.buttons[key].setAttribute('aria-disabled', !msg[key]);\n    }\n};\n\nmpl.figure.prototype.handle_navigate_mode = function (fig, msg) {\n    if (msg['mode'] === 'PAN') {\n        fig.buttons['Pan'].classList.add('active');\n        fig.buttons['Zoom'].classList.remove('active');\n    } else if (msg['mode'] === 'ZOOM') {\n        fig.buttons['Pan'].classList.remove('active');\n        fig.buttons['Zoom'].classList.add('active');\n    } else {\n        fig.buttons['Pan'].classList.remove('active');\n        fig.buttons['Zoom'].classList.remove('active');\n    }\n};\n\nmpl.figure.prototype.updated_canvas_event = function () {\n    // Called whenever the canvas gets updated.\n    this.send_message('ack', {});\n};\n\n// A function to construct a web socket function for onmessage handling.\n// Called in the figure constructor.\nmpl.figure.prototype._make_on_message_function = function (fig) {\n    return function socket_on_message(evt) {\n        if (evt.data instanceof Blob) {\n            /* FIXME: We get \"Resource interpreted as Image but\n             * transferred with MIME type text/plain:\" errors on\n             * Chrome.  But how to set the MIME type?  It doesn't seem\n             * to be part of the websocket stream */\n            evt.data.type = 'image/png';\n\n            /* Free the memory for the previous frames */\n            if (fig.imageObj.src) {\n                (window.URL || window.webkitURL).revokeObjectURL(\n                    fig.imageObj.src\n                );\n            }\n\n            fig.imageObj.src = (window.URL || window.webkitURL).createObjectURL(\n                evt.data\n            );\n            fig.updated_canvas_event();\n            fig.waiting = false;\n            return;\n        } else if (\n            typeof evt.data === 'string' &&\n            evt.data.slice(0, 21) === 'data:image/png;base64'\n        ) {\n            fig.imageObj.src = evt.data;\n            fig.updated_canvas_event();\n            fig.waiting = false;\n            return;\n        }\n\n        var msg = JSON.parse(evt.data);\n        var msg_type = msg['type'];\n\n        // Call the  \"handle_{type}\" callback, which takes\n        // the figure and JSON message as its only arguments.\n        try {\n            var callback = fig['handle_' + msg_type];\n        } catch (e) {\n            console.log(\n                \"No handler for the '\" + msg_type + \"' message type: \",\n                msg\n            );\n            return;\n        }\n\n        if (callback) {\n            try {\n                // console.log(\"Handling '\" + msg_type + \"' message: \", msg);\n                callback(fig, msg);\n            } catch (e) {\n                console.log(\n                    \"Exception inside the 'handler_\" + msg_type + \"' callback:\",\n                    e,\n                    e.stack,\n                    msg\n                );\n            }\n        }\n    };\n};\n\n// from http://stackoverflow.com/questions/1114465/getting-mouse-location-in-canvas\nmpl.findpos = function (e) {\n    //this section is from http://www.quirksmode.org/js/events_properties.html\n    var targ;\n    if (!e) {\n        e = window.event;\n    }\n    if (e.target) {\n        targ = e.target;\n    } else if (e.srcElement) {\n        targ = e.srcElement;\n    }\n    if (targ.nodeType === 3) {\n        // defeat Safari bug\n        targ = targ.parentNode;\n    }\n\n    // pageX,Y are the mouse positions relative to the document\n    var boundingRect = targ.getBoundingClientRect();\n    var x = e.pageX - (boundingRect.left + document.body.scrollLeft);\n    var y = e.pageY - (boundingRect.top + document.body.scrollTop);\n\n    return { x: x, y: y };\n};\n\n/*\n * return a copy of an object with only non-object keys\n * we need this to avoid circular references\n * http://stackoverflow.com/a/24161582/3208463\n */\nfunction simpleKeys(original) {\n    return Object.keys(original).reduce(function (obj, key) {\n        if (typeof original[key] !== 'object') {\n            obj[key] = original[key];\n        }\n        return obj;\n    }, {});\n}\n\nmpl.figure.prototype.mouse_event = function (event, name) {\n    var canvas_pos = mpl.findpos(event);\n\n    if (name === 'button_press') {\n        this.canvas.focus();\n        this.canvas_div.focus();\n    }\n\n    var x = canvas_pos.x * this.ratio;\n    var y = canvas_pos.y * this.ratio;\n\n    this.send_message(name, {\n        x: x,\n        y: y,\n        button: event.button,\n        step: event.step,\n        guiEvent: simpleKeys(event),\n    });\n\n    /* This prevents the web browser from automatically changing to\n     * the text insertion cursor when the button is pressed.  We want\n     * to control all of the cursor setting manually through the\n     * 'cursor' event from matplotlib */\n    event.preventDefault();\n    return false;\n};\n\nmpl.figure.prototype._key_event_extra = function (_event, _name) {\n    // Handle any extra behaviour associated with a key event\n};\n\nmpl.figure.prototype.key_event = function (event, name) {\n    // Prevent repeat events\n    if (name === 'key_press') {\n        if (event.which === this._key) {\n            return;\n        } else {\n            this._key = event.which;\n        }\n    }\n    if (name === 'key_release') {\n        this._key = null;\n    }\n\n    var value = '';\n    if (event.ctrlKey && event.which !== 17) {\n        value += 'ctrl+';\n    }\n    if (event.altKey && event.which !== 18) {\n        value += 'alt+';\n    }\n    if (event.shiftKey && event.which !== 16) {\n        value += 'shift+';\n    }\n\n    value += 'k';\n    value += event.which.toString();\n\n    this._key_event_extra(event, name);\n\n    this.send_message(name, { key: value, guiEvent: simpleKeys(event) });\n    return false;\n};\n\nmpl.figure.prototype.toolbar_button_onclick = function (name) {\n    if (name === 'download') {\n        this.handle_save(this, null);\n    } else {\n        this.send_message('toolbar_button', { name: name });\n    }\n};\n\nmpl.figure.prototype.toolbar_button_onmouseover = function (tooltip) {\n    this.message.textContent = tooltip;\n};\n\n///////////////// REMAINING CONTENT GENERATED BY embed_js.py /////////////////\n// prettier-ignore\nvar _JSXTOOLS_RESIZE_OBSERVER=function(A){var t,i=new WeakMap,n=new WeakMap,a=new WeakMap,r=new WeakMap,o=new Set;function s(e){if(!(this instanceof s))throw new TypeError(\"Constructor requires 'new' operator\");i.set(this,e)}function h(){throw new TypeError(\"Function is not a constructor\")}function c(e,t,i,n){e=0 in arguments?Number(arguments[0]):0,t=1 in arguments?Number(arguments[1]):0,i=2 in arguments?Number(arguments[2]):0,n=3 in arguments?Number(arguments[3]):0,this.right=(this.x=this.left=e)+(this.width=i),this.bottom=(this.y=this.top=t)+(this.height=n),Object.freeze(this)}function d(){t=requestAnimationFrame(d);var s=new WeakMap,p=new Set;o.forEach((function(t){r.get(t).forEach((function(i){var r=t instanceof window.SVGElement,o=a.get(t),d=r?0:parseFloat(o.paddingTop),f=r?0:parseFloat(o.paddingRight),l=r?0:parseFloat(o.paddingBottom),u=r?0:parseFloat(o.paddingLeft),g=r?0:parseFloat(o.borderTopWidth),m=r?0:parseFloat(o.borderRightWidth),w=r?0:parseFloat(o.borderBottomWidth),b=u+f,F=d+l,v=(r?0:parseFloat(o.borderLeftWidth))+m,W=g+w,y=r?0:t.offsetHeight-W-t.clientHeight,E=r?0:t.offsetWidth-v-t.clientWidth,R=b+v,z=F+W,M=r?t.width:parseFloat(o.width)-R-E,O=r?t.height:parseFloat(o.height)-z-y;if(n.has(t)){var k=n.get(t);if(k[0]===M&&k[1]===O)return}n.set(t,[M,O]);var S=Object.create(h.prototype);S.target=t,S.contentRect=new c(u,d,M,O),s.has(i)||(s.set(i,[]),p.add(i)),s.get(i).push(S)}))})),p.forEach((function(e){i.get(e).call(e,s.get(e),e)}))}return s.prototype.observe=function(i){if(i instanceof window.Element){r.has(i)||(r.set(i,new Set),o.add(i),a.set(i,window.getComputedStyle(i)));var n=r.get(i);n.has(this)||n.add(this),cancelAnimationFrame(t),t=requestAnimationFrame(d)}},s.prototype.unobserve=function(i){if(i instanceof window.Element&&r.has(i)){var n=r.get(i);n.has(this)&&(n.delete(this),n.size||(r.delete(i),o.delete(i))),n.size||r.delete(i),o.size||cancelAnimationFrame(t)}},A.DOMRectReadOnly=c,A.ResizeObserver=s,A.ResizeObserverEntry=h,A}; // eslint-disable-line\nmpl.toolbar_items = [[\"Home\", \"Reset original view\", \"fa fa-home icon-home\", \"home\"], [\"Back\", \"Back to previous view\", \"fa fa-arrow-left icon-arrow-left\", \"back\"], [\"Forward\", \"Forward to next view\", \"fa fa-arrow-right icon-arrow-right\", \"forward\"], [\"\", \"\", \"\", \"\"], [\"Pan\", \"Left button pans, Right button zooms\\nx/y fixes axis, CTRL fixes aspect\", \"fa fa-arrows icon-move\", \"pan\"], [\"Zoom\", \"Zoom to rectangle\\nx/y fixes axis, CTRL fixes aspect\", \"fa fa-square-o icon-check-empty\", \"zoom\"], [\"\", \"\", \"\", \"\"], [\"Download\", \"Download plot\", \"fa fa-floppy-o icon-save\", \"download\"]];\n\nmpl.extensions = [\"eps\", \"jpeg\", \"pdf\", \"png\", \"ps\", \"raw\", \"svg\", \"tif\"];\n\nmpl.default_extension = \"png\";/* global mpl */\n\nvar comm_websocket_adapter = function (comm) {\n    // Create a \"websocket\"-like object which calls the given IPython comm\n    // object with the appropriate methods. Currently this is a non binary\n    // socket, so there is still some room for performance tuning.\n    var ws = {};\n\n    ws.close = function () {\n        comm.close();\n    };\n    ws.send = function (m) {\n        //console.log('sending', m);\n        comm.send(m);\n    };\n    // Register the callback with on_msg.\n    comm.on_msg(function (msg) {\n        //console.log('receiving', msg['content']['data'], msg);\n        // Pass the mpl event to the overridden (by mpl) onmessage function.\n        ws.onmessage(msg['content']['data']);\n    });\n    return ws;\n};\n\nmpl.mpl_figure_comm = function (comm, msg) {\n    // This is the function which gets called when the mpl process\n    // starts-up an IPython Comm through the \"matplotlib\" channel.\n\n    var id = msg.content.data.id;\n    // Get hold of the div created by the display call when the Comm\n    // socket was opened in Python.\n    var element = document.getElementById(id);\n    var ws_proxy = comm_websocket_adapter(comm);\n\n    function ondownload(figure, _format) {\n        window.open(figure.canvas.toDataURL());\n    }\n\n    var fig = new mpl.figure(id, ws_proxy, ondownload, element);\n\n    // Call onopen now - mpl needs it, as it is assuming we've passed it a real\n    // web socket which is closed, not our websocket->open comm proxy.\n    ws_proxy.onopen();\n\n    fig.parent_element = element;\n    fig.cell_info = mpl.find_output_cell(\"<div id='\" + id + \"'></div>\");\n    if (!fig.cell_info) {\n        console.error('Failed to find cell for figure', id, fig);\n        return;\n    }\n    fig.cell_info[0].output_area.element.on(\n        'cleared',\n        { fig: fig },\n        fig._remove_fig_handler\n    );\n};\n\nmpl.figure.prototype.handle_close = function (fig, msg) {\n    var width = fig.canvas.width / fig.ratio;\n    fig.cell_info[0].output_area.element.off(\n        'cleared',\n        fig._remove_fig_handler\n    );\n    fig.resizeObserverInstance.unobserve(fig.canvas_div);\n\n    // Update the output cell to use the data from the current canvas.\n    fig.push_to_output();\n    var dataURL = fig.canvas.toDataURL();\n    // Re-enable the keyboard manager in IPython - without this line, in FF,\n    // the notebook keyboard shortcuts fail.\n    IPython.keyboard_manager.enable();\n    fig.parent_element.innerHTML =\n        '<img src=\"' + dataURL + '\" width=\"' + width + '\">';\n    fig.close_ws(fig, msg);\n};\n\nmpl.figure.prototype.close_ws = function (fig, msg) {\n    fig.send_message('closing', msg);\n    // fig.ws.close()\n};\n\nmpl.figure.prototype.push_to_output = function (_remove_interactive) {\n    // Turn the data on the canvas into data in the output cell.\n    var width = this.canvas.width / this.ratio;\n    var dataURL = this.canvas.toDataURL();\n    this.cell_info[1]['text/html'] =\n        '<img src=\"' + dataURL + '\" width=\"' + width + '\">';\n};\n\nmpl.figure.prototype.updated_canvas_event = function () {\n    // Tell IPython that the notebook contents must change.\n    IPython.notebook.set_dirty(true);\n    this.send_message('ack', {});\n    var fig = this;\n    // Wait a second, then push the new image to the DOM so\n    // that it is saved nicely (might be nice to debounce this).\n    setTimeout(function () {\n        fig.push_to_output();\n    }, 1000);\n};\n\nmpl.figure.prototype._init_toolbar = function () {\n    var fig = this;\n\n    var toolbar = document.createElement('div');\n    toolbar.classList = 'btn-toolbar';\n    this.root.appendChild(toolbar);\n\n    function on_click_closure(name) {\n        return function (_event) {\n            return fig.toolbar_button_onclick(name);\n        };\n    }\n\n    function on_mouseover_closure(tooltip) {\n        return function (event) {\n            if (!event.currentTarget.disabled) {\n                return fig.toolbar_button_onmouseover(tooltip);\n            }\n        };\n    }\n\n    fig.buttons = {};\n    var buttonGroup = document.createElement('div');\n    buttonGroup.classList = 'btn-group';\n    var button;\n    for (var toolbar_ind in mpl.toolbar_items) {\n        var name = mpl.toolbar_items[toolbar_ind][0];\n        var tooltip = mpl.toolbar_items[toolbar_ind][1];\n        var image = mpl.toolbar_items[toolbar_ind][2];\n        var method_name = mpl.toolbar_items[toolbar_ind][3];\n\n        if (!name) {\n            /* Instead of a spacer, we start a new button group. */\n            if (buttonGroup.hasChildNodes()) {\n                toolbar.appendChild(buttonGroup);\n            }\n            buttonGroup = document.createElement('div');\n            buttonGroup.classList = 'btn-group';\n            continue;\n        }\n\n        button = fig.buttons[name] = document.createElement('button');\n        button.classList = 'btn btn-default';\n        button.href = '#';\n        button.title = name;\n        button.innerHTML = '<i class=\"fa ' + image + ' fa-lg\"></i>';\n        button.addEventListener('click', on_click_closure(method_name));\n        button.addEventListener('mouseover', on_mouseover_closure(tooltip));\n        buttonGroup.appendChild(button);\n    }\n\n    if (buttonGroup.hasChildNodes()) {\n        toolbar.appendChild(buttonGroup);\n    }\n\n    // Add the status bar.\n    var status_bar = document.createElement('span');\n    status_bar.classList = 'mpl-message pull-right';\n    toolbar.appendChild(status_bar);\n    this.message = status_bar;\n\n    // Add the close button to the window.\n    var buttongrp = document.createElement('div');\n    buttongrp.classList = 'btn-group inline pull-right';\n    button = document.createElement('button');\n    button.classList = 'btn btn-mini btn-primary';\n    button.href = '#';\n    button.title = 'Stop Interaction';\n    button.innerHTML = '<i class=\"fa fa-power-off icon-remove icon-large\"></i>';\n    button.addEventListener('click', function (_evt) {\n        fig.handle_close(fig, {});\n    });\n    button.addEventListener(\n        'mouseover',\n        on_mouseover_closure('Stop Interaction')\n    );\n    buttongrp.appendChild(button);\n    var titlebar = this.root.querySelector('.ui-dialog-titlebar');\n    titlebar.insertBefore(buttongrp, titlebar.firstChild);\n};\n\nmpl.figure.prototype._remove_fig_handler = function (event) {\n    var fig = event.data.fig;\n    if (event.target !== this) {\n        // Ignore bubbled events from children.\n        return;\n    }\n    fig.close_ws(fig, {});\n};\n\nmpl.figure.prototype._root_extra_style = function (el) {\n    el.style.boxSizing = 'content-box'; // override notebook setting of border-box.\n};\n\nmpl.figure.prototype._canvas_extra_style = function (el) {\n    // this is important to make the div 'focusable\n    el.setAttribute('tabindex', 0);\n    // reach out to IPython and tell the keyboard manager to turn it's self\n    // off when our div gets focus\n\n    // location in version 3\n    if (IPython.notebook.keyboard_manager) {\n        IPython.notebook.keyboard_manager.register_events(el);\n    } else {\n        // location in version 2\n        IPython.keyboard_manager.register_events(el);\n    }\n};\n\nmpl.figure.prototype._key_event_extra = function (event, _name) {\n    var manager = IPython.notebook.keyboard_manager;\n    if (!manager) {\n        manager = IPython.keyboard_manager;\n    }\n\n    // Check for shift+enter\n    if (event.shiftKey && event.which === 13) {\n        this.canvas_div.blur();\n        // select the cell after this one\n        var index = IPython.notebook.find_cell_index(this.cell_info[0]);\n        IPython.notebook.select(index + 1);\n    }\n};\n\nmpl.figure.prototype.handle_save = function (fig, _msg) {\n    fig.ondownload(fig, null);\n};\n\nmpl.find_output_cell = function (html_output) {\n    // Return the cell and output element which can be found *uniquely* in the notebook.\n    // Note - this is a bit hacky, but it is done because the \"notebook_saving.Notebook\"\n    // IPython event is triggered only after the cells have been serialised, which for\n    // our purposes (turning an active figure into a static one), is too late.\n    var cells = IPython.notebook.get_cells();\n    var ncells = cells.length;\n    for (var i = 0; i < ncells; i++) {\n        var cell = cells[i];\n        if (cell.cell_type === 'code') {\n            for (var j = 0; j < cell.output_area.outputs.length; j++) {\n                var data = cell.output_area.outputs[j];\n                if (data.data) {\n                    // IPython >= 3 moved mimebundle to data attribute of output\n                    data = data.data;\n                }\n                if (data['text/html'] === html_output) {\n                    return [cell, data, j];\n                }\n            }\n        }\n    }\n};\n\n// Register the function which deals with the matplotlib target/channel.\n// The kernel may be null if the page has been refreshed.\nif (IPython.notebook.kernel !== null) {\n    IPython.notebook.kernel.comm_manager.register_target(\n        'matplotlib',\n        mpl.mpl_figure_comm\n    );\n}\n",
      "text/plain": [
       "<IPython.core.display.Javascript object>"
      ]
     },
     "metadata": {},
     "output_type": "display_data"
    },
    {
     "data": {
      "text/html": [
       "<img src=\"data:image/png;base64,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\" width=\"640\">"
      ],
      "text/plain": [
       "<IPython.core.display.HTML object>"
      ]
     },
     "metadata": {},
     "output_type": "display_data"
    }
   ],
   "source": [
    "plt3d = plt.figure().gca(projection=\"3d\")\n",
    "plt3d.plot_surface(eixo_x, eixo_y, fit_z)\n",
    "plt3d.scatter(feature1, feature2, Y, color=\"r\")\n",
    "plt3d.set_xlabel(\"feature1\")\n",
    "plt3d.set_ylabel(\"feature2\")\n",
    "plt3d.set_zlabel(\"Y\")\n",
    "plt.show()"
   ]
  },
  {
   "cell_type": "markdown",
   "metadata": {},
   "source": [
    "**OBSERVAÇÃO**\n",
    "\n",
    "Note que se o modelo final ficasse com mais do que duas variáveis preditoras com valor *p* < 10%, então um gráfico 3D não seria adequado e nem informativo para conseguir avaliar o modelo ajustado sob os pontos!!"
   ]
  },
  {
   "cell_type": "markdown",
   "metadata": {},
   "source": [
    "# Referências\n",
    "\n",
    "1. Montogmery e Runger. Capítulo 12 - Regressão linear Múltipla\n",
    "1. Magalhães e Lima, seção 9.5. Regressão Linear Simples\n",
    "1. http://www.statsmodels.org/dev/diagnostic.html\n",
    "1. [http://connor-johnson.com/2014/02/18/linear-regression-with-python/](http://connor-johnson.com/2014/02/18/linear-regression-with-python/)\n"
   ]
  }
 ],
 "metadata": {
  "hide_input": false,
  "interpreter": {
   "hash": "aea149784bd30735ce6bf75b9a5314843328adf2083b944f20623ef50c2ca00d"
  },
  "kernelspec": {
   "display_name": "Python 3",
   "language": "python",
   "name": "python3"
  },
  "language_info": {
   "codemirror_mode": {
    "name": "ipython",
    "version": 3
   },
   "file_extension": ".py",
   "mimetype": "text/x-python",
   "name": "python",
   "nbconvert_exporter": "python",
   "pygments_lexer": "ipython3",
   "version": "3.8.8"
  }
 },
 "nbformat": 4,
 "nbformat_minor": 2
}
