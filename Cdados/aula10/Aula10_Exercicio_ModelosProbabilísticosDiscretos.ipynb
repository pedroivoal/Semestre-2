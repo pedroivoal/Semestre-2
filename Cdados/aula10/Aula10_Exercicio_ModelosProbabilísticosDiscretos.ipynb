{
 "cells": [
  {
   "cell_type": "markdown",
   "metadata": {},
   "source": [
    "___\n",
    "# Exercício: Modelos probabilísticos discretos\n",
    "___\n",
    "\n",
    "## Aula 10"
   ]
  },
  {
   "cell_type": "markdown",
   "metadata": {},
   "source": [
    "<div id=\"indice\"></div>\n",
    "\n",
    "## Índice\n",
    "\n",
    "- [Microempresas](#microempresas)\n",
    "    - [Exercício 1](#ex1) **- APS6 disponível no Blackboard**\n",
    "    - [Exercício 2](#ex2) **- APS6 disponível no Blackboard**\n",
    "    - [Exercício 3](#ex3) **- APS6 disponível no Blackboard**\n",
    "    - [Exercício 4](#ex4) **- APS6 disponível no Blackboard**"
   ]
  },
  {
   "cell_type": "markdown",
   "metadata": {},
   "source": [
    "___\n",
    "\n",
    "<div id=\"microempresas\"></div>\n",
    "\n",
    "# <font color='blue'>Microempresas</font> \n",
    "\n",
    "A mortalidade de microempresas no primeiro ano de funcionamento é da ordem de 0,55. Deseja-se avaliar as causas da mortalidade. Para os exercícios a seguir, considere uma amostra de 10 empresas."
   ]
  },
  {
   "cell_type": "code",
   "execution_count": 29,
   "metadata": {},
   "outputs": [],
   "source": [
    "from scipy.stats import binom"
   ]
  },
  {
   "cell_type": "markdown",
   "metadata": {},
   "source": [
    "<div id=\"ex1\"></div>\n",
    "\n",
    "### EXERCÍCIO 1\n",
    "\n",
    "Qual é a probabilidade de exatamente 5 empresas terem falido ao final do primeiro ano?"
   ]
  },
  {
   "cell_type": "code",
   "execution_count": 30,
   "metadata": {},
   "outputs": [
    {
     "data": {
      "text/plain": [
       "0.2340327075925782"
      ]
     },
     "execution_count": 30,
     "metadata": {},
     "output_type": "execute_result"
    }
   ],
   "source": [
    "mu = 0.55\n",
    "binom.pmf(5, 10, 0.55)"
   ]
  },
  {
   "cell_type": "markdown",
   "metadata": {},
   "source": [
    "<div id=\"ex2\"></div>\n",
    "\n",
    "### EXERCÍCIO 2\n",
    "\n",
    "Qual é a probabilidade de pelo menos 3 empresas virem a falir no primeiro ano?"
   ]
  },
  {
   "cell_type": "code",
   "execution_count": 59,
   "metadata": {},
   "outputs": [
    {
     "data": {
      "text/plain": [
       "0.9726081607386718"
      ]
     },
     "execution_count": 59,
     "metadata": {},
     "output_type": "execute_result"
    }
   ],
   "source": [
    "P_m3 = 1 - binom.cdf(2, 10, mu)\n",
    "P_m3"
   ]
  },
  {
   "cell_type": "markdown",
   "metadata": {},
   "source": [
    "<div id=\"ex3\"></div>\n",
    "\n",
    "### EXERCÍCIO 3\n",
    "\n",
    "Sabe-se que pelo menos 3 empresas faliram no primeiro ano. Qual é a probabilidade de no máximo 5 terem falido?"
   ]
  },
  {
   "cell_type": "code",
   "execution_count": 62,
   "metadata": {},
   "outputs": [
    {
     "data": {
      "text/plain": [
       "0.48138971888756643"
      ]
     },
     "execution_count": 62,
     "metadata": {},
     "output_type": "execute_result"
    }
   ],
   "source": [
    "(binom.cdf(5, 10, mu) - binom.cdf(2, 10, mu))/ P_m3"
   ]
  },
  {
   "cell_type": "markdown",
   "metadata": {},
   "source": [
    "<div id=\"ex4\"></div>\n",
    "\n",
    "### EXERCÍCIO 4\n",
    "\n",
    "Qual o número esperado de empresas que irão à falência no primeiro ano na amostra? E o desvio padrão?"
   ]
  },
  {
   "cell_type": "code",
   "execution_count": 33,
   "metadata": {},
   "outputs": [
    {
     "data": {
      "text/plain": [
       "1.5732132722552272"
      ]
     },
     "execution_count": 33,
     "metadata": {},
     "output_type": "execute_result"
    }
   ],
   "source": [
    "5.5\n",
    "\n",
    "binom.std(10, 0.55)"
   ]
  }
 ],
 "metadata": {
  "anaconda-cloud": {},
  "kernelspec": {
   "display_name": "Python 3",
   "language": "python",
   "name": "python3"
  },
  "language_info": {
   "codemirror_mode": {
    "name": "ipython",
    "version": 3
   },
   "file_extension": ".py",
   "mimetype": "text/x-python",
   "name": "python",
   "nbconvert_exporter": "python",
   "pygments_lexer": "ipython3",
   "version": "3.8.8"
  }
 },
 "nbformat": 4,
 "nbformat_minor": 1
}
