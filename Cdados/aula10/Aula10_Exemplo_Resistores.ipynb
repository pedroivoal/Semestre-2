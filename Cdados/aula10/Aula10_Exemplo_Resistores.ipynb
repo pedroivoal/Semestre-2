{
 "cells": [
  {
   "cell_type": "markdown",
   "metadata": {},
   "source": [
    "___\n",
    "# Exemplo: Distribuição Binomial\n",
    "\n",
    "___\n",
    "## Aula 10\n",
    "\n",
    "\n",
    "## Lista de comandos:"
   ]
  },
  {
   "cell_type": "markdown",
   "metadata": {},
   "source": [
    "Comandos:\n",
    "\n",
    "- $P(Y=y)$: `stats.binom.pmf(y, n, p)`\n",
    "- $P(Y\\leq y)$: `stats.binom.cdf(y, n, p)`\n",
    "- $E(Y)$: `stats.binom.mean(n, p)`\n",
    "- $Var(Y)$: `stats.binom.var(n, p)`\n",
    "- $DP(Y)$: `stats.binom.std(n, p)`\n",
    "\n",
    "Link: https://docs.scipy.org/doc/scipy/reference/generated/scipy.stats.binom.html"
   ]
  },
  {
   "cell_type": "code",
   "execution_count": 2,
   "metadata": {},
   "outputs": [],
   "source": [
    "from scipy import stats"
   ]
  },
  {
   "cell_type": "markdown",
   "metadata": {},
   "source": [
    "A probabilidade de um determinado resistor falhar é sempre de 0,20. \n",
    "\n",
    "Considere pacote de 100 resistores."
   ]
  },
  {
   "cell_type": "code",
   "execution_count": 3,
   "metadata": {},
   "outputs": [],
   "source": [
    "# Problema:\n",
    "n=100  # total de resistores\n",
    "p=0.2  # probabilidade de sucesso"
   ]
  },
  {
   "cell_type": "markdown",
   "metadata": {},
   "source": [
    "a) Em um pacote com 100 resistores, qual a probabilidade de 20 falharem?\n",
    "\n",
    "*Resposta esperada: 0.09930021480881725*"
   ]
  },
  {
   "cell_type": "code",
   "execution_count": 4,
   "metadata": {},
   "outputs": [
    {
     "data": {
      "text/plain": [
       "0.09930021480881725"
      ]
     },
     "execution_count": 4,
     "metadata": {},
     "output_type": "execute_result"
    }
   ],
   "source": [
    "stats.binom.pmf(20, n, p)"
   ]
  },
  {
   "cell_type": "markdown",
   "metadata": {},
   "source": [
    "b) Em um pacote com 100 resistores, qual a probabilidade de no máximo 20 falharem?\n",
    "\n",
    "*Resposta esperada: 0.5594615848733977*"
   ]
  },
  {
   "cell_type": "code",
   "execution_count": 5,
   "metadata": {},
   "outputs": [
    {
     "data": {
      "text/plain": [
       "0.5594615848733977"
      ]
     },
     "execution_count": 5,
     "metadata": {},
     "output_type": "execute_result"
    }
   ],
   "source": [
    "stats.binom.cdf(20, n, p)"
   ]
  },
  {
   "cell_type": "markdown",
   "metadata": {},
   "source": [
    "c) Em um pacote com 100 resistores, qual a probabilidade de pelo menos 20 falharem?\n",
    "\n",
    "* 0.5398386299354281\n",
    "* 0.5398386299354281\n",
    "* 0.5398386299354281"
   ]
  },
  {
   "cell_type": "code",
   "execution_count": 14,
   "metadata": {},
   "outputs": [
    {
     "data": {
      "text/plain": [
       "0.5398386299354281"
      ]
     },
     "execution_count": 14,
     "metadata": {},
     "output_type": "execute_result"
    }
   ],
   "source": [
    "stats.binom.cdf(80, n, 1-p)\n",
    "# 1 - stats.binom.cdf(19, n, p)"
   ]
  },
  {
   "cell_type": "markdown",
   "metadata": {},
   "source": [
    "___\n",
    "### Exercícios EXTRAS"
   ]
  },
  {
   "cell_type": "markdown",
   "metadata": {},
   "source": [
    "d) Em um pacote com 100 resistores, qual a probabilidade mais de 20 e menos de 40 falharem?\n",
    "\n",
    "Resposta esperada: \n",
    "* 0.4405348067064877\n",
    "* 0.4405348067064877"
   ]
  },
  {
   "cell_type": "code",
   "execution_count": 7,
   "metadata": {},
   "outputs": [
    {
     "data": {
      "text/plain": [
       "0.4405348067064877"
      ]
     },
     "execution_count": 7,
     "metadata": {},
     "output_type": "execute_result"
    }
   ],
   "source": [
    "stats.binom.cdf(39, n, p) - stats.binom.cdf(20, n, p)"
   ]
  },
  {
   "cell_type": "markdown",
   "metadata": {},
   "source": [
    "e) Em um pacote com 100 resistores, qual a probabilidade menos de 20 e mais de 40 falharem?\n",
    "\n",
    "Resposta esperada: \n",
    "* 0.460162662248815\n",
    "* 0.4601626622488151\n",
    "* 0.46016266224881497\n"
   ]
  },
  {
   "cell_type": "code",
   "execution_count": 13,
   "metadata": {},
   "outputs": [
    {
     "data": {
      "text/plain": [
       "0.46016266224881497"
      ]
     },
     "execution_count": 13,
     "metadata": {},
     "output_type": "execute_result"
    }
   ],
   "source": [
    "stats.binom.cdf(19, n, p) + stats.binom.cdf(59, n, 1-p)\n",
    "# stats.binom.cdf(19, n, p) + 1 - stats.binom.cdf(40, n, p)"
   ]
  },
  {
   "cell_type": "markdown",
   "metadata": {},
   "source": [
    "f) Em um pacote com 100 resistores, se mais de 20 resistores falharam, qual a probabilidade de ter no máximo 25 com falhas?\n",
    "\n",
    "*Resposta esperada: 0.8014352854598751*"
   ]
  },
  {
   "cell_type": "code",
   "execution_count": 9,
   "metadata": {},
   "outputs": [],
   "source": [
    "C = stats.binom.cdf(79, n, 1-p)"
   ]
  },
  {
   "cell_type": "code",
   "execution_count": 10,
   "metadata": {},
   "outputs": [
    {
     "data": {
      "text/plain": [
       "0.8014352854598752"
      ]
     },
     "execution_count": 10,
     "metadata": {},
     "output_type": "execute_result"
    }
   ],
   "source": [
    "(stats.binom.cdf(25, n, p)-stats.binom.cdf(20, n, p))/C"
   ]
  }
 ],
 "metadata": {
  "kernelspec": {
   "display_name": "Python 3",
   "language": "python",
   "name": "python3"
  },
  "language_info": {
   "codemirror_mode": {
    "name": "ipython",
    "version": 3
   },
   "file_extension": ".py",
   "mimetype": "text/x-python",
   "name": "python",
   "nbconvert_exporter": "python",
   "pygments_lexer": "ipython3",
   "version": "3.8.8"
  }
 },
 "nbformat": 4,
 "nbformat_minor": 2
}
