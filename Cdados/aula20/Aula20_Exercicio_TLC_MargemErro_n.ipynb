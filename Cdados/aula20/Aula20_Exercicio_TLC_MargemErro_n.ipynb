{
 "cells": [
  {
   "cell_type": "markdown",
   "metadata": {},
   "source": [
    "___\n",
    "# Exercício: TLC, Erro Amostral, Margem de erro e Tamanho Amostral\n",
    "___\n",
    "## Aula 20"
   ]
  },
  {
   "cell_type": "markdown",
   "metadata": {},
   "source": [
    "<div id=\"indice\"></div>\n",
    "\n",
    "## Índice\n",
    "\n",
    "- [Tempo de espera na fila do *check-in*](#tempoespera)\n",
    "- [Concentração de Cálcio em águas de lagos](#calcio)\n",
    "- [Tomando decisões com TLC - Resistores](#tomando-decisoes)\n",
    "___"
   ]
  },
  {
   "cell_type": "code",
   "execution_count": 102,
   "metadata": {},
   "outputs": [],
   "source": [
    "%matplotlib inline\n",
    "import matplotlib.pyplot as plt\n",
    "import pandas as pd\n",
    "import numpy as np\n",
    "from scipy import stats\n",
    "\n",
    "from math import sqrt"
   ]
  },
  {
   "cell_type": "markdown",
   "metadata": {},
   "source": [
    "___\n",
    "\n",
    "<div id=\"tempofila\"></div>\n",
    "\n",
    "# Tempo de espera na fila com uso do TLC\n",
    "\n",
    "(Baseado no Exercício 7-12 Montgomery). \n",
    "\n",
    "O tempo que um consumidor esperando na fila de *check-in* de um aeroporto é uma variável aleatória com média de $\\mu$ minutos e desvio padrão de $3.5$ minuto.\n",
    "Suponha que uma amostra aleatória de $49$ consumidores seja observada.\n",
    "\n",
    "**Responda:** (<a href=\"#respostas1\">Respostas</a>)"
   ]
  },
  {
   "cell_type": "markdown",
   "metadata": {},
   "source": [
    "**a)** Seja $\\overline{X}$ o tempo médio de espera na fila de *check-in* considerando uma amostra de 49 consumidores selecionados aleatoriamente. Qual é a distribuição de probabilidades de $\\overline{X}$ (qual distribuição e quais os seus respectivos parâmetros)? Aqui foi feito uso do TLC? Justifique porquê."
   ]
  },
  {
   "cell_type": "code",
   "execution_count": 103,
   "metadata": {},
   "outputs": [],
   "source": [
    "# distribuição normal pois ela seguirá o Teorema do Limite Central"
   ]
  },
  {
   "cell_type": "markdown",
   "metadata": {},
   "source": [
    "### IMPORTANTE para assumir nos próximos itens:\n",
    "\n",
    "A concessionária desse aeroporto afirma, independente da operadora aérea, que o **tempo médio IDEAL de espera na fila de *check-in* deva ser de $8.2$ minutos**."
   ]
  },
  {
   "cell_type": "markdown",
   "metadata": {},
   "source": [
    "**b)** Sob a hipótese de que a afirmação da concessionária procede, construa um gráfico para visualizar a distribuição de $X$ e um de $\\overline{X}$. Explique o que cada uma representa."
   ]
  },
  {
   "cell_type": "code",
   "execution_count": 104,
   "metadata": {},
   "outputs": [],
   "source": [
    "DP = 3.5\n",
    "mu = 8.2"
   ]
  },
  {
   "cell_type": "code",
   "execution_count": 105,
   "metadata": {},
   "outputs": [
    {
     "data": {
      "image/png": "[encoded data removed]",
      "text/plain": [
       "<Figure size 432x288 with 1 Axes>"
      ]
     },
     "metadata": {
      "needs_background": "light"
     },
     "output_type": "display_data"
    }
   ],
   "source": [
    "x = np.linspace(-5, 20, 100)\n",
    "fx = stats.norm.pdf(x, mu, DP)\n",
    "plt.plot(x, fx)\n",
    "plt.show()"
   ]
  },
  {
   "cell_type": "code",
   "execution_count": 122,
   "metadata": {},
   "outputs": [
    {
     "data": {
      "image/png": "[encoded data removed]",
      "text/plain": [
       "<Figure size 432x288 with 1 Axes>"
      ]
     },
     "metadata": {
      "needs_background": "light"
     },
     "output_type": "display_data"
    }
   ],
   "source": [
    "x = np.linspace(6, 10, 100)\n",
    "fx = stats.norm.pdf(x, mu, DP/7)\n",
    "plt.plot(x, fx)\n",
    "plt.show()"
   ]
  },
  {
   "cell_type": "markdown",
   "metadata": {},
   "source": [
    "**c)** Assuma que $\\mu=8.2$ minutos. Encontre a probabilidade de que o tempo médio de espera na fila seja:\n",
    "  * Menor do que 10 minutos\n",
    "  * Entre 8 e 10 minutos\n",
    "  * Maior do que 9 minutos"
   ]
  },
  {
   "cell_type": "code",
   "execution_count": 123,
   "metadata": {},
   "outputs": [
    {
     "data": {
      "text/plain": [
       "0.9998408914098424"
      ]
     },
     "execution_count": 123,
     "metadata": {},
     "output_type": "execute_result"
    }
   ],
   "source": [
    "mu = 8.2\n",
    "sig = DP/7\n",
    "\n",
    "stats.norm.cdf(10, mu, sig)"
   ]
  },
  {
   "cell_type": "code",
   "execution_count": 124,
   "metadata": {},
   "outputs": [
    {
     "data": {
      "text/plain": [
       "0.6552626330201661"
      ]
     },
     "execution_count": 124,
     "metadata": {},
     "output_type": "execute_result"
    }
   ],
   "source": [
    "stats.norm.cdf(10, mu, sig) - stats.norm.cdf(8, mu, sig)"
   ]
  },
  {
   "cell_type": "code",
   "execution_count": 125,
   "metadata": {},
   "outputs": [
    {
     "data": {
      "text/plain": [
       "0.054799291699557884"
      ]
     },
     "execution_count": 125,
     "metadata": {},
     "output_type": "execute_result"
    }
   ],
   "source": [
    "1 - stats.norm.cdf(9, mu, sig)"
   ]
  },
  {
   "cell_type": "markdown",
   "metadata": {},
   "source": [
    "**d)** Assuma que $\\mu=8.2$ minutos. Assim, qual deve ser a região de valores de médias amostrais, todas com $n=49$, que contemplam $95\\%$ das possíveis médias amostrais mais próximas de $\\mu$.\n",
    "\n",
    "Neste item, consulte o comando `stats.norm.interval()` explicado [aqui](https://docs.scipy.org/doc/scipy/reference/generated/scipy.stats.norm.html)."
   ]
  },
  {
   "cell_type": "code",
   "execution_count": 167,
   "metadata": {},
   "outputs": [
    {
     "data": {
      "text/plain": [
       "(7.220018007729973, 9.179981992270026)"
      ]
     },
     "execution_count": 167,
     "metadata": {},
     "output_type": "execute_result"
    }
   ],
   "source": [
    "stats.norm.interval(0.95, mu, sig)"
   ]
  },
  {
   "cell_type": "markdown",
   "metadata": {},
   "source": [
    "**e)** Considerando o resultado do item anterior, obtenha a margem de erro quando $\\mu=8.2$ minutos, $n=49$ e coeficiente de confiança igual a $95\\%$.\n",
    "\n",
    "Para tanto, considere a seguinte definição:\n",
    "  * **Margem de erro:** é o maior erro, para mais ou para menos, que uma média amostral pode ter para estimar a média populacional, quando considera 95% das possíveis médias amostrais ($\\overline{X}$) mais próximos do verdadeiro valor ($\\mu$)."
   ]
  },
  {
   "cell_type": "code",
   "execution_count": 145,
   "metadata": {},
   "outputs": [
    {
     "data": {
      "text/plain": [
       "0.9799819922700271"
      ]
     },
     "execution_count": 145,
     "metadata": {},
     "output_type": "execute_result"
    }
   ],
   "source": [
    "8.2 - stats.norm.ppf(0.025, mu, sig)"
   ]
  },
  {
   "cell_type": "markdown",
   "metadata": {},
   "source": [
    "**f)** Considerando agora que $\\mu$ é desconhecido, obtenha a margem de erro quando $n=49$ e coeficiente de confiança igual a $95\\%$.\n",
    "\n",
    "**Dica:** Aqui será necessário fazer uso da Normal Padrão, porém padronização a média amostral, ou seja,\n",
    "$$Z = \\frac{\\overline{X}-\\mu}{\\sigma/\\sqrt{n}} \\sim N(0; 1)$$"
   ]
  },
  {
   "cell_type": "code",
   "execution_count": 165,
   "metadata": {},
   "outputs": [
    {
     "data": {
      "text/plain": [
       "0.9799819922700271"
      ]
     },
     "execution_count": 165,
     "metadata": {},
     "output_type": "execute_result"
    }
   ],
   "source": [
    "z = stats.norm.ppf(0.975)\n",
    "\n",
    "me = z*DP/7\n",
    "me"
   ]
  },
  {
   "cell_type": "markdown",
   "metadata": {},
   "source": [
    "**g)** Qual deveria ser o tamanho da amostra para se ter uma margem de erro de $0.5$ minutos e coeficiente de confiança igual a $95\\%$."
   ]
  },
  {
   "cell_type": "code",
   "execution_count": 168,
   "metadata": {},
   "outputs": [
    {
     "data": {
      "text/plain": [
       "188.2314822140122"
      ]
     },
     "execution_count": 168,
     "metadata": {},
     "output_type": "execute_result"
    }
   ],
   "source": [
    "z = -stats.norm.ppf(0.025)\n",
    "\n",
    "n = ((z*DP)/0.5)**2\n",
    "n"
   ]
  },
  {
   "cell_type": "markdown",
   "metadata": {},
   "source": [
    "___\n",
    "\n",
    "<div id=\"calcio\"></div>\n",
    "\n",
    "# Concentração de cálcio em águas de lagos\n",
    "\n",
    "Assuma o interesse em estudar a concentração média de cálcio em águas de lagos de uma determinada região. Considere ainda que o desvio padrão populacional da variável de interesse seja conhecido e igual a 0,10 u.m.\n",
    "\n",
    "**Responda:** (<a href=\"#respostas2\">Respostas</a>)"
   ]
  },
  {
   "cell_type": "markdown",
   "metadata": {},
   "source": [
    "**a)** Qual a distribuição de probabilidades da média amostral?"
   ]
  },
  {
   "cell_type": "code",
   "execution_count": 166,
   "metadata": {},
   "outputs": [],
   "source": [
    "# normal"
   ]
  },
  {
   "cell_type": "markdown",
   "metadata": {},
   "source": [
    "**b)** Considerando um coeficiente de confiança igual a 98% e uma amostra de tamanho igual a 100, qual deve ser a margem de erro dessa pesquisa?"
   ]
  },
  {
   "cell_type": "code",
   "execution_count": 172,
   "metadata": {},
   "outputs": [
    {
     "data": {
      "text/plain": [
       "0.02326347874040841"
      ]
     },
     "execution_count": 172,
     "metadata": {},
     "output_type": "execute_result"
    }
   ],
   "source": [
    "DP = 0.1\n",
    "z = stats.norm.ppf(0.99)\n",
    "\n",
    "me = z*DP/10\n",
    "me"
   ]
  },
  {
   "cell_type": "markdown",
   "metadata": {},
   "source": [
    "**c)** Considerando um coeficiente de confiança igual a 98% e uma margem de erro igual a 0,015 u.m., qual deve ser o tamanho da amostra?"
   ]
  },
  {
   "cell_type": "code",
   "execution_count": 116,
   "metadata": {},
   "outputs": [],
   "source": [
    "# ESCREVA SUA RESPOSTA AQUI"
   ]
  },
  {
   "cell_type": "code",
   "execution_count": 177,
   "metadata": {},
   "outputs": [
    {
     "data": {
      "text/plain": [
       "240.5286413801929"
      ]
     },
     "execution_count": 177,
     "metadata": {},
     "output_type": "execute_result"
    }
   ],
   "source": [
    "n = (z*DP/0.015)**2\n",
    "n"
   ]
  },
  {
   "cell_type": "markdown",
   "metadata": {},
   "source": [
    "___\n",
    "<div id=\"tomando-decisoes\"></div>\n",
    "\n",
    "# Tomando decisões com uso do TLC\n",
    "\n",
    "Vamos considerar agora um exemplo (baseado no Exemplo 7-1 Montgomery). \n",
    "\n",
    "Um fabricante de componentes eletrônicos afirma que os resistores produzidos por ele possuem uma resistência média de $100 \\Omega$ e um desvio padrão de $2 \\Omega$. A distribuição da resistência de cada resistor é normal.\n",
    "\n",
    "Antes de fechar uma grande compra com esse fabricante, considerando seus conhecimentos adquiridos ao longo da graduação no Insper, você decidiu solicitar uma pequena amostra de 25 resistores para realizar um teste de qualidade. O objetivo desta parte da atividade é decidir se você confia ou não na palavra do fabricante.\n",
    "\n",
    "Considere aqui o valor de $\\sigma=2$ teórica não esteja sendo questionado sobre a qualidade do fabricante.\n",
    "\n",
    "**Responda:**(<a href=\"#respostas3\">Respostas</a>)"
   ]
  },
  {
   "cell_type": "markdown",
   "metadata": {},
   "source": [
    "**a)** Seja $\\overline{X}$ a resistência média de uma amostra com 25 resistores selecionados aleatoriamente. De acordo com o TLC, qual é a distribuição de probabilidades de $\\overline{X}$ (qual distribuição e quais os seus respectivos parâmetros)?"
   ]
  },
  {
   "cell_type": "code",
   "execution_count": 117,
   "metadata": {},
   "outputs": [],
   "source": [
    "# ESCREVA SUA RESPOSTA AQUI"
   ]
  },
  {
   "cell_type": "code",
   "execution_count": null,
   "metadata": {},
   "outputs": [],
   "source": []
  },
  {
   "cell_type": "markdown",
   "metadata": {},
   "source": [
    "### IMPORTANTE para assumir nos próximos itens:\n",
    "\n",
    "Assuma que o fabricante afirma que esteja produzindo resistores de acordo com as especificações, ou seja, com $\\mu=100 \\Omega$."
   ]
  },
  {
   "cell_type": "markdown",
   "metadata": {},
   "source": [
    "**b)** Sob a hipótese de que os resistores foram produzidos de acordo com especificação do fabricante, construa um gráfico para visualizar a distribuição de $X$ e um de $\\overline{X}$. Explique o que cada uma representa."
   ]
  },
  {
   "cell_type": "code",
   "execution_count": 118,
   "metadata": {},
   "outputs": [],
   "source": [
    "# ESCREVA SEU CÓDIGO AQUI"
   ]
  },
  {
   "cell_type": "code",
   "execution_count": null,
   "metadata": {},
   "outputs": [],
   "source": []
  },
  {
   "cell_type": "markdown",
   "metadata": {},
   "source": [
    "**c)** Sob a hipótese de que os resistores foram produzidos de acordo com especificação do fabricante. Assim, qual deve ser a região de valores de médias amostrais, todas com $n=25$, que contemplam $90\\%$ das possíveis médias amostrais mais próximas de $\\mu$.\n",
    "Neste item, consulte o comando `stats.norm.interval()` explicado [aqui](https://docs.scipy.org/doc/scipy/reference/generated/scipy.stats.norm.html)."
   ]
  },
  {
   "cell_type": "code",
   "execution_count": 119,
   "metadata": {},
   "outputs": [],
   "source": [
    "# ESCREVA SEU CÓDIGO AQUI"
   ]
  },
  {
   "cell_type": "code",
   "execution_count": null,
   "metadata": {},
   "outputs": [],
   "source": []
  },
  {
   "cell_type": "markdown",
   "metadata": {},
   "source": [
    "**d)** Considerando o resultado do item anterior, obtenha a margem de erro quando $\\mu=100 \\Omega$, $n=25$ e coeficiente de confiança igual a $90\\%$."
   ]
  },
  {
   "cell_type": "code",
   "execution_count": 120,
   "metadata": {},
   "outputs": [],
   "source": [
    "# ESCREVA SEU CÓDIGO AQUI"
   ]
  },
  {
   "cell_type": "code",
   "execution_count": null,
   "metadata": {},
   "outputs": [],
   "source": []
  },
  {
   "cell_type": "markdown",
   "metadata": {},
   "source": [
    "**e)** Se uma amostra de 25 resistores é coletada e a média amostral calculada é igual a $\\overline{x}=98.929451$. \n",
    "\n",
    "Com $90\\%$ de confianca, você acredita que essa amostra foi coletada de um população cuja verdadeira média é $\\mu=100\\Omega$? Ou seja, voce confia no fabricante?"
   ]
  },
  {
   "cell_type": "code",
   "execution_count": 121,
   "metadata": {},
   "outputs": [],
   "source": [
    "# ESCREVA SEU CÓDIGO AQUI"
   ]
  },
  {
   "cell_type": "code",
   "execution_count": null,
   "metadata": {},
   "outputs": [],
   "source": []
  },
  {
   "cell_type": "markdown",
   "metadata": {},
   "source": [
    "<div id=\"respostas\"></div>\n",
    "\n",
    "---\n",
    "# Respostas\n",
    "\n",
    "<a href=\"#indice\">Voltar para o índice</a>"
   ]
  },
  {
   "cell_type": "markdown",
   "metadata": {},
   "source": [
    "<div id=\"respostas1\"></div>\n",
    "\n",
    "### Respostas do exercício - Tempo de espera na fila do *check-in*\n",
    "\n",
    "**item a)** \n",
    "$\\overline{X}$ ~ Normal($\\mu$, 12.25/49) ou, equivalente, $\\overline{X}$ ~ Normal($\\mu$, 0.25)\n",
    "\n",
    "**item b)** São gráficos semelhantes a esses:\n",
    "\n",
    "![](./fig_exerc1_itemb.png)\n",
    "\n",
    "\n",
    "**item c)** \n",
    "* P($\\overline{X}$ < 10) = 0.99984\n",
    "* P(8 < $\\overline{X}$ < 10) = 0.65526\n",
    "* P($\\overline{X}$ > 9) = 0.054799\n",
    "\n",
    "\n",
    "**item d)** A região de 95% das possíveis médias amostrais mais próximas de $\\mu$=8.2 vai de: \n",
    "7.22002 até 9.17998\n",
    "\n",
    "\n",
    "**item e)** \n",
    "A margem de erro é o maior erro, para mais ou para menos, que uma média amostral pode ter para estimar $\\mu$,\n",
    "quando considera 95% das possíveis médias amostrais mais próximos do verdadeiro valor ($\\mu$).\n",
    "  * A margem de erro baseada na maior distância aquém de $\\mu$ é: -0.979982\n",
    "  * A margem de erro baseada na maior distância além de $\\mu$ é: 0.979982\n",
    "\n",
    "\n",
    "**item f)** A margem de erro mantendo $n=49$ e 95% de confiança é 0.979982\n",
    "\n",
    "\n",
    "**item g)** Tamanho da amostra para margem de erro de 0.5 minuto mantendo 95% de confiança é 189.\n",
    "\n",
    "<a href=\"#tempofila\">Voltar para enunciado</a>"
   ]
  },
  {
   "cell_type": "markdown",
   "metadata": {},
   "source": [
    "<div id=\"respostas2\"></div>\n",
    "\n",
    "### Respostas do exercício - Concentração de cálcio\n",
    "\n",
    "**item a)** \n",
    "$\\overline{X}$ ~ Normal($\\mu$, 0.01/n)\n",
    "\n",
    "\n",
    "**item b)** A margem de erro mantendo $n=100$ e 98% de confiança é 0.02326\n",
    "\n",
    "\n",
    "**item g)** Tamanho da amostra para margem de erro de 0.015 minuto mantendo 98% de confiança é 241.\n",
    "\n",
    "<a href=\"#calcio\">Voltar para enunciado</a>"
   ]
  },
  {
   "cell_type": "markdown",
   "metadata": {},
   "source": [
    "___\n",
    "\n",
    "<div id=\"respostas3\"></div>\n",
    "\n",
    "### Respostas do exercício - Tomando decisões com TLC\n",
    "\n",
    "**item a)** Normal(100, 0.16)\n",
    "\n",
    "**item b)** São gráficos semelhantes a esses:\n",
    "\n",
    "![](./fig_exerc2_itemb.png)\n",
    "\n",
    "\n",
    "**item c)** A região de 90% das possíveis médias amostrais mais próximas de mu=100 vai de: \n",
    "99.3421 até 100.658\n",
    "\n",
    "**item d)** \n",
    "A margem de erro é o maior erro, para mais ou para menos, que uma média amostral pode ter para estimar $\\mu$,\n",
    "quando considera 90% das possíveis médias amostrais mais próximos do verdadeiro valor ($\\mu$).\n",
    "  * A margem de erro baseada na maior distância aquém de $\\mu$ é: -0.657941\n",
    "  * A margem de erro baseada na maior distância além de $\\mu$ é: 0.657941\n",
    "\n",
    "\n",
    "**item e)** Como xbarra=98.929451 está aquém da menor média, então não há evidências para se confiar na afirmação do fabricante, com 90% de confiança.\n",
    "\n",
    "\n",
    "<a href=\"#tomando-decisoes\">Voltar para enunciado</a>"
   ]
  },
  {
   "cell_type": "code",
   "execution_count": null,
   "metadata": {},
   "outputs": [],
   "source": []
  }
 ],
 "metadata": {
  "hide_input": false,
  "kernelspec": {
   "display_name": "Python 3",
   "language": "python",
   "name": "python3"
  },
  "language_info": {
   "codemirror_mode": {
    "name": "ipython",
    "version": 3
   },
   "file_extension": ".py",
   "mimetype": "text/x-python",
   "name": "python",
   "nbconvert_exporter": "python",
   "pygments_lexer": "ipython3",
   "version": "3.8.8"
  }
 },
 "nbformat": 4,
 "nbformat_minor": 2
}
