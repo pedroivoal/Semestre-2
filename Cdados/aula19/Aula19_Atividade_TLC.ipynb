{
 "cells": [
  {
   "cell_type": "markdown",
   "metadata": {},
   "source": [
    "___\n",
    "# Atividade: Uso da Distribuição Amostral da Média via resultado do TLC\n",
    "___\n",
    "## Aula 19"
   ]
  },
  {
   "cell_type": "markdown",
   "metadata": {},
   "source": [
    "<div id=\"indice\"></div>\n",
    "\n",
    "## Índice\n",
    "\n",
    "- [Teoria](#teoria)\n",
    "- [Simulação](#simulacao)\n",
    "    - [Exercício 1](#ex1)\n",
    "    - [Visualizando os dados gerados](#visualizando)\n",
    "    - [Exercício 2](#ex2)\n",
    "    - [Exercício 3](#ex3)\n",
    "    - [Exercício 4](#ex4)\n",
    "    - [Exercício 5](#ex5)\n",
    "\n",
    "___"
   ]
  },
  {
   "cell_type": "code",
   "execution_count": 1,
   "metadata": {},
   "outputs": [],
   "source": [
    "%matplotlib inline\n",
    "%reset -f\n",
    "import matplotlib.pyplot as plt\n",
    "import pandas as pd\n",
    "import numpy as np\n",
    "from scipy.stats import uniform, expon, norm, probplot"
   ]
  },
  {
   "cell_type": "markdown",
   "metadata": {},
   "source": [
    "<div id=\"teoria\"></div>\n",
    "\n",
    "# Teoria\n",
    "\n",
    "## Estatísticas e distribuições amostrais\n",
    "\n",
    "Uma **estatística** é qualquer função baseada nas observações de uma amostra aleatória. Usamos estatísticas quando, para fins práticos, não é possível ter acesso a toda uma população.\n",
    "\n",
    "A distribuição de probabilidades de uma estatística é chamada de *distribuição amostral*.\n",
    "\n",
    "\n",
    "## Média Amostral $\\overline{X}$\n",
    "\n",
    "Assuma que $X$ seja uma variável aleatória com média $\\mu$ e variância $\\sigma^2$, ou seja, $E(X)=\\mu$ e $Var(X)=\\sigma^2$.\n",
    "\n",
    "Sejam $X_1, X_2, \\ldots, X_n$ amostras aleatórias de $X$ de tamanho $n$, então:\n",
    "\n",
    "$$\\overline{X} = \\frac{X_1 + X_2 + X_3 + \\cdots + X_n}{n}$$\n",
    "\n",
    "É chamada *Média Amostral*!\n",
    "\n",
    "Pode-se caracterizar a média amostral com os seguintes valores:\n",
    "\n",
    "* Média de $\\overline{X}$:\n",
    "\n",
    "$$\\mu_{\\overline{X}} = E(\\overline{X})=\\frac{\\mu + \\mu + \\cdots + \\mu}{n} = \\mu$$\n",
    "\n",
    "* Variância de $\\overline{X}$:\n",
    "\n",
    "\n",
    "$$\\sigma^2_{\\overline{X}} = Var(\\overline{X})=\\frac{\\sigma^2 + \\sigma^2 + \\cdots + \\sigma^2}{n^2} = \\frac{\\sigma^2}{n}$$\n",
    "\n",
    "\n",
    "<br>\n",
    "\n",
    "## Teorema  Central do Limite (TLC)\n",
    "\n",
    "Assuma que $X$ seja uma variável aleatória com média $\\mu$ e variância $\\sigma^2$, ou seja, $E(X)=\\mu$ e $Var(X)=\\sigma^2$.\n",
    "\n",
    "Dado $X_i$ uma variável aleatória *i.i.d.* (independente e identicamente distribuída) a $X$ com distribuição qualquer, tem-se que:\n",
    "\n",
    "$$\\bar{X}=\\frac{X_1+X_2+...+X_n}{n}=\\frac{\\sum_{i=1}^n X_i}{n} \\sim N\\left(\\mu,\\frac{\\sigma^2}{n}\\right),$$\n",
    "\n",
    "quando $n$ for suficientemente grande.\n",
    "\n",
    "*Obs:* Em alguns casos específicos, pode-se considerar $X_i$ com distribuições diferentes ou com certa dependência entre elas.\n",
    "\n",
    "<br> \n",
    "\n",
    "**Resultado adicional:**\n",
    "\n",
    "Se $X_1, X_2, \\cdots, X_n$ é uma amostra aleatória de tamanho $n$ extraída de uma população com média $\\mu$ e variância $\\sigma^2$ e $\\overline{X}$ é a distribuição da média amostral, a forma limite da distribuição:\n",
    "\n",
    "$$Z = \\frac{\\overline{X} - \\mu}{\\sigma/\\sqrt{n}} \\sim N\\left(0,1\\right).$$\n",
    "\n",
    "É a **distribuição normal padrão**, à medida que $n  \\rightarrow \\infty$."
   ]
  },
  {
   "cell_type": "markdown",
   "metadata": {},
   "source": [
    "___\n",
    "<div id=\"simulacao\"></div>\n",
    "\n",
    "# Simulação\n",
    "\n",
    "Vamos tentar entender a intuição do TLC através de uma simulação."
   ]
  },
  {
   "cell_type": "markdown",
   "metadata": {},
   "source": [
    "<div id=\"ex1\"></div>\n",
    "\n",
    "### EXERCÍCIO 1\n",
    "\n",
    "Faça uma função chamada `amostra_uniforme(n)`, que recebe um número inteiro `n` e que retorna uma lista contendo `n` valores gerados aleatoriamente a partir de uma distribuição uniforme com parâmetros $a=10$, $b=20$. \n",
    "\n",
    "Esses `n` valores representam uma amostra aleatória qualquer extraída de $X\\sim \\text{Uniforme}(10;20)$.\n",
    "\n",
    "**Dica:** você provavelmente vai utilizar o método `stats.uniform.rvs` (pesquise a documentação)."
   ]
  },
  {
   "cell_type": "code",
   "execution_count": 2,
   "metadata": {},
   "outputs": [],
   "source": [
    "def amostra_uniforme(n):\n",
    "    all_n = uniform.rvs(loc=10, scale=10 , size=n)\n",
    "    return all_n"
   ]
  },
  {
   "cell_type": "markdown",
   "metadata": {},
   "source": [
    "___\n",
    "<div id=\"visualizando\"></div>\n",
    "\n",
    "## Visualizando os dados gerados\n",
    "\n",
    "Execute a função `amostra_uniforme(n)` criada no exercício anterior considerando `n=20`.\n",
    "\n",
    "O gráfico a seguir contem um histograma com os valores da amostra gerados por sua função.\n",
    "\n",
    "Execute algumas vezes a célula abaixo para perceber que a amostra pode conter valores diferentes."
   ]
  },
  {
   "cell_type": "code",
   "execution_count": 3,
   "metadata": {},
   "outputs": [
    {
     "data": {
      "image/png": "[encoded data removed]",
      "text/plain": [
       "<Figure size 1080x360 with 1 Axes>"
      ]
     },
     "metadata": {
      "needs_background": "light"
     },
     "output_type": "display_data"
    }
   ],
   "source": [
    "# Gera uma amostra aleatória de tamanho n\n",
    "#amostra = pd.Series(amostra_uniforme(20))\n",
    "\n",
    "plt.figure(figsize=(15, 5))\n",
    "\n",
    "# Para construir o histograma com amplitude 1 nas faixas\n",
    "faixa = np.arange(10,21,1)\n",
    "plt.hist(amostra_uniforme(20), bins=faixa, density=True,\n",
    "         color='skyblue', edgecolor='white', \n",
    "         linewidth=1, alpha=0.8)\n",
    "\n",
    "# Para construir a fdp \n",
    "eixo_x = np.linspace(5, 25, 1000)\n",
    "fx_uniform = uniform.pdf(eixo_x, loc=10, scale=20-10)\n",
    "plt.plot(eixo_x, fx_uniform, color='blue')\n",
    "plt.ylabel('densidade')\n",
    "plt.xlabel('valores de x')\n",
    "plt.title('Uma amostra de X ~ Uniforme(10; 20)')\n",
    "plt.ylim(0,0.2)\n",
    "plt.legend(('fdp','amostra'))\n",
    "\n",
    "plt.show()\n"
   ]
  },
  {
   "cell_type": "markdown",
   "metadata": {},
   "source": [
    "<div id=\"ex2\"></div>\n",
    "\n",
    "### EXERCÍCIO 2\n",
    "\n",
    "Gere um amostra aleatória de tamanho `n=20` utilizando a sua função `amostra_uniforme`.\n",
    "Calcule a média amostral."
   ]
  },
  {
   "cell_type": "code",
   "execution_count": 4,
   "metadata": {},
   "outputs": [
    {
     "data": {
      "text/plain": [
       "15.092065525982154"
      ]
     },
     "execution_count": 4,
     "metadata": {},
     "output_type": "execute_result"
    }
   ],
   "source": [
    "amostra = amostra_uniforme(20)\n",
    "np.mean(amostra)"
   ]
  },
  {
   "cell_type": "markdown",
   "metadata": {},
   "source": [
    "<div id=\"ex3\"></div>\n",
    "\n",
    "### EXERCÍCIO 3\n",
    "\n",
    "**a.** Agora repita o [Exercício 2](#ex2) por mil vezes, armazenando as mil médias em uma lista.\n",
    "\n",
    "**b.** Plote um histograma com as médias obtidas. Utilize `bins=20`, por exemplo.\n",
    "\n",
    "**c.** Interprete a distribuição dessas médias amostrais."
   ]
  },
  {
   "cell_type": "code",
   "execution_count": 5,
   "metadata": {},
   "outputs": [],
   "source": [
    "all_mean = []\n",
    "for i in range(0, 2000):\n",
    "    amostra = amostra_uniforme(20)\n",
    "    media = np.mean(amostra)\n",
    "    all_mean.append(media)"
   ]
  },
  {
   "cell_type": "code",
   "execution_count": 6,
   "metadata": {},
   "outputs": [
    {
     "data": {
      "image/png": "[encoded data removed]",
      "text/plain": [
       "<Figure size 432x288 with 1 Axes>"
      ]
     },
     "metadata": {
      "needs_background": "light"
     },
     "output_type": "display_data"
    }
   ],
   "source": [
    "sigma = (0.41666666666666663)**(1/2)\n",
    "\n",
    "x = np.linspace(13, 17, 1000)\n",
    "fx = norm.pdf(x, 15, sigma)\n",
    "\n",
    "faixa = np.arange(13, 17, 0.08)\n",
    "plt.hist(all_mean, bins=faixa, density=True,edgecolor='white', linewidth=0.1)\n",
    "plt.plot(x, fx)\n",
    "plt.show()"
   ]
  },
  {
   "cell_type": "markdown",
   "metadata": {},
   "source": [
    "<div id=\"ex4\"></div>\n",
    "\n",
    "### EXERCÍCIO 4\n",
    "\n",
    "No [Exercício 1](#ex1), a sua função `amostra_uniforme(n)` foi constuída para gerar `n` valores para representar uma amostra aleatória qualquer. Ou seja, de forma teórica $X_1, X_2, X_3, \\ldots, X_n$ é uma amostra aleatória de $X\\sim \\text{Uniforme}(10; 20)$.\n",
    "\n",
    "No [Exercício 2](#ex2), calculamos uma única média amostral a partir dos valores $X_1, X_2, X_3, \\ldots, X_n$. Nos nossos exemplos utilizamos `n=20`.\n",
    "\n",
    "No [Exercício 3a](#ex3), geramos 1000 amostras de tamanho `n=20` e, com isso, foram calculadas 1000 médias amostrais, $\\overline{X}$, todas obtidas de forma independente e da mesma distribuição. \n",
    "\n",
    "O que podemos observar no histograma é que essas 1000 médias amostrais se aproximam de uma distribuição simétrica. Seria uma distribuição normal?\n",
    "\n",
    "Faça um *QQPlot* para avaliar, descritivamente, se as médias seguem uma distribuição normal.\n",
    "Consulte [aqui](https://docs.scipy.org/doc/scipy/reference/generated/scipy.stats.probplot.html)."
   ]
  },
  {
   "cell_type": "code",
   "execution_count": 7,
   "metadata": {},
   "outputs": [
    {
     "data": {
      "image/png": "[encoded data removed]",
      "text/plain": [
       "<Figure size 720x482.4 with 1 Axes>"
      ]
     },
     "metadata": {
      "needs_background": "light"
     },
     "output_type": "display_data"
    }
   ],
   "source": [
    "fig = plt.figure(figsize=(10,6.7))\n",
    "probplot(all_mean, dist=norm, plot=plt)\n",
    "plt.show()"
   ]
  },
  {
   "cell_type": "markdown",
   "metadata": {},
   "source": [
    "<div id=\"ex5\"></div>\n",
    "\n",
    "### EXERCÍCIO 5\n",
    "\n",
    "Pelo TLC, as médias amostrais $\\overline{X}$ devem seguir distribuição normal conforme `n` seja grande. Há estudos que mostram que, com `n>30`, $\\overline{X}$ já apresenta boa aproximação de uma normal não importando o formato de $X$.\n",
    "\n",
    "Ainda, pelo TLC, $\\overline{X}$ tem valor médio igual a $\\mu$ (que é a média da distribuição original $X$, no caso da uniforme) e variância $\\sigma^2/n$. Vamos verificar essa afirmação:\n",
    "\n",
    "**a.** Calcule a média e variância teóricas da distribuição de $\\overline{X}$. Para isso, calcule a média e a variância da $\\text{Uniforme}(10; 20)$. Esses dois últimos valores vão representar $\\mu$ e $\\sigma^2$.\n",
    "\n",
    "**b.** Calcule a média e variância das 1000 médias amostrais geradas no [Exercício 3](#ex3).\n",
    "\n",
    "**c.** Compare os resultados e discuta se eles se aproximam do que era esperado pelo TLC."
   ]
  },
  {
   "cell_type": "code",
   "execution_count": 8,
   "metadata": {},
   "outputs": [
    {
     "name": "stdout",
     "output_type": "stream",
     "text": [
      "mean: 15.0\n",
      "var: 0.04166666666666666\n"
     ]
    }
   ],
   "source": [
    "print('mean:',uniform.mean(loc=10, scale=10))\n",
    "print('var:',uniform.var(loc=10, scale=10)/200)\n"
   ]
  },
  {
   "cell_type": "code",
   "execution_count": 9,
   "metadata": {},
   "outputs": [
    {
     "name": "stdout",
     "output_type": "stream",
     "text": [
      "14.990302145427584\n",
      "0.43089058883264386\n"
     ]
    }
   ],
   "source": [
    "print(np.mean(all_mean))\n",
    "print(np.var(all_mean))"
   ]
  }
 ],
 "metadata": {
  "hide_input": false,
  "interpreter": {
   "hash": "aea149784bd30735ce6bf75b9a5314843328adf2083b944f20623ef50c2ca00d"
  },
  "kernelspec": {
   "display_name": "Python 3.8.8 ('base')",
   "language": "python",
   "name": "python3"
  },
  "language_info": {
   "codemirror_mode": {
    "name": "ipython",
    "version": 3
   },
   "file_extension": ".py",
   "mimetype": "text/x-python",
   "name": "python",
   "nbconvert_exporter": "python",
   "pygments_lexer": "ipython3",
   "version": "3.8.8"
  }
 },
 "nbformat": 4,
 "nbformat_minor": 4
}
