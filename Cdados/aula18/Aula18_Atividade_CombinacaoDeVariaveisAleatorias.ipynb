{
 "cells": [
  {
   "cell_type": "markdown",
   "metadata": {},
   "source": [
    "___\n",
    "# Atividade: Propriedades de esperança e variância para Combinação linear de variáveis aleatórias\n",
    "___\n",
    "\n",
    "## Aula 18"
   ]
  },
  {
   "cell_type": "markdown",
   "metadata": {},
   "source": [
    "<div id=\"indice\"></div>\n",
    "\n",
    "## Índice\n",
    "\n",
    "- [Motivação teórica: estudo das f.d.p.'s](#motivacao)\n",
    "    - [Exercício 1](#ex1)\n",
    "\n",
    "<p> \n",
    "    \n",
    "- [PROBLEMA: O que significa fazer $X+Y$?](#significa)\n",
    "\n",
    "<p> \n",
    "    \n",
    "- [SIMULAÇÃO: Programando valores para representar $X$, $Y$ e $X+Y$](#simulacao)\n",
    "    - [Simulação com uso de *loop*](#simulacao1)\n",
    "        - [Exercício 2 - Média e Variância via `numpy`](#ex2)\n",
    "    - [Simulação sem uso de *loop* ](#simulacao2)\n",
    "        - [Exercício 3 - Média e Variância via `pandas`](#ex3)\n",
    "\n",
    "<p> \n",
    "\n",
    "- [TEORIA: Contrastando respostas utilizando as propriedades](#teoria)       \n",
    "    - [Propriedades de esperança e variância em combinação linear de variáveis aleatórias](#propriedades)       \n",
    "        - [Exercício 4 - Média e Variância com via propriedades](#ex4)\n",
    "\n",
    "<p>\n",
    "    \n",
    "- [Lista de comandos utilizados neste notebook](#comandos)\n",
    "___"
   ]
  },
  {
   "cell_type": "code",
   "execution_count": 91,
   "metadata": {},
   "outputs": [],
   "source": [
    "import pandas as pd\n",
    "import numpy as np\n",
    "from scipy.stats import uniform, expon, norm\n",
    "import matplotlib.pyplot as plt\n",
    "%matplotlib inline"
   ]
  },
  {
   "cell_type": "markdown",
   "metadata": {},
   "source": [
    "___\n",
    "<div id=\"motivacao\"></div>\n",
    "\n",
    "# Motivação teórica: estudo das f.d.p.'s\n",
    "\n",
    "A seguir, considere duas variáveis aleatórias $X$ e $Y$, ambas contínuas, cujo objetivo seja somá-las, ou seja, obter $X+Y$!\n",
    "\n",
    "Vamos criar um experimento considerando as seguintes distribuições e parâmetros para $X$ e $Y$, respectivamente:\n",
    "\n",
    " $X \\sim$ Uniforme$(4,7)$, ou seja, $a=4$ e $b=7$\n",
    "\n",
    "e \n",
    "\n",
    " $Y \\sim$ Exponencial$(1/3)$, ou seja, $\\lambda=1/3$ e $\\mu=3$."
   ]
  },
  {
   "cell_type": "markdown",
   "metadata": {},
   "source": [
    "<div id=\"ex1\"></div>\n",
    "\n",
    "### EXERCÍCIO 1\n",
    "\n",
    "Inicialmente, construa um gráfico de ambas as distribuições univariadamente. Veja **Aula15** caso tenha dúvidas com essas duas distribuições."
   ]
  },
  {
   "cell_type": "code",
   "execution_count": 92,
   "metadata": {},
   "outputs": [
    {
     "data": {
      "image/png": "[encoded data removed]",
      "text/plain": [
       "<Figure size 432x288 with 1 Axes>"
      ]
     },
     "metadata": {
      "needs_background": "light"
     },
     "output_type": "display_data"
    }
   ],
   "source": [
    "a = 4\n",
    "b = 7\n",
    "\n",
    "xu = np.linspace(4-1, 7+1, 100)\n",
    "fxu = uniform.pdf(xu, a, b-a)\n",
    "\n",
    "plt.plot(xu, fxu)\n",
    "plt.show()"
   ]
  },
  {
   "cell_type": "code",
   "execution_count": 93,
   "metadata": {},
   "outputs": [
    {
     "data": {
      "image/png": "[encoded data removed]",
      "text/plain": [
       "<Figure size 432x288 with 1 Axes>"
      ]
     },
     "metadata": {
      "needs_background": "light"
     },
     "output_type": "display_data"
    }
   ],
   "source": [
    "mu = 3\n",
    "\n",
    "ye = np.linspace(0, 20, 500)\n",
    "fye = expon.pdf(ye, 0, mu)\n",
    "\n",
    "plt.plot(ye, fye)\n",
    "plt.show()"
   ]
  },
  {
   "cell_type": "markdown",
   "metadata": {},
   "source": [
    "___\n",
    "<div id=\"significa\"></div>\n",
    "\n",
    "# PROBLEMA: O que significa fazer $X + Y$ ?\n",
    "\n",
    "Considere, **por exemplo**, que um produto passe por duas etapas na linha de produção e o tempo em cada etapa seja mensurados. Assim, assuma que:\n",
    "\n",
    "  * $X$ represente o tempo, em minutos, que um produto demora para passar pela etapa $1$; e\n",
    "  * $Y$ represente o tempo, em minutos, que o mesmo produto demora para passar pela etapa $2$ na linha de produção.\n",
    "  \n",
    "Assim, $W=X+Y$ deverá representar o tempo total que um produto demora para ficar pronto se esse precisa apenas dessas duas etapas na linha de produção.\n",
    "\n",
    "O que vamos entender agora é como podemos analisar o **valor esperado** e a **variância** de $W$ a partir de dados e depois considerando propriedades de esperança e variância."
   ]
  },
  {
   "cell_type": "markdown",
   "metadata": {},
   "source": [
    "___\n",
    "<div id=\"simulacao\"></div>\n",
    "\n",
    "# SIMULAÇÃO: Programando valores para representar $X$, $Y$ e $X+Y$\n",
    "\n",
    "Para estudarmos como ficaria o valor esperado e a variância de $W=X+Y$ a partir de dados, devemos simular alguns valores hipotéticos para representar $X$ conforme a uniforme e $Y$ conforme a exponencial mencionada acima. \n",
    "\n",
    "Para tanto, no `scipy.stats`, a função que gera uma amostra de valores conforme uma distribuição qualquer é a função `rvs()` (de *random variable sample*). No nosso exemplo, vamos utilizar `uniform.rvs()` ou `expon.rvs` com os valores dos parâmetros adequadamente aos citados anteriormente.\n",
    "\n",
    "Assim, faremos:\n",
    "  * Simular $n$ valores para construir uma amostra de $X$ utilizando a distribuição uniforme\n",
    "  * Simular $n$ valores para construir uma amostra de $Y$ utilizando a distribuição exponencial\n",
    "  * A cada linha, somar os valores de $x$ e de $y$ para construir a coluna $w$, já que $W = X + Y$"
   ]
  },
  {
   "cell_type": "markdown",
   "metadata": {},
   "source": [
    "<div id=\"simulacao1\"></div>\n",
    "\n",
    "## Simulação com uso de *loop*:\n",
    "\n",
    "Simulação mais \"lenta\" por fazer uso de `for`. Aqui, será simulado um valor por vez para $x$ e para $y$, calculado a soma e aguardado em $w$."
   ]
  },
  {
   "cell_type": "code",
   "execution_count": 94,
   "metadata": {},
   "outputs": [],
   "source": [
    "n = 50000"
   ]
  },
  {
   "cell_type": "code",
   "execution_count": 95,
   "metadata": {},
   "outputs": [],
   "source": [
    "x_all = []\n",
    "y_all = []\n",
    "w_all = []\n",
    "\n",
    "for i in range(n):\n",
    "    x = uniform.rvs(loc=a, scale=b-a)\n",
    "    y = expon.rvs(scale=mu)\n",
    "    w = x+y\n",
    "    \n",
    "    # Guarda os n valores em lista\n",
    "    x_all.append(x)\n",
    "    y_all.append(y)\n",
    "    w_all.append(w)"
   ]
  },
  {
   "cell_type": "markdown",
   "metadata": {},
   "source": [
    "Dependendo das distribuições somadas, a nova distribuição resultante pode apresentar um outro formato. Ou seja, somar uma uniforme e uma exponencial, pode resultar numa terceira distribuição teórica que pode ou não ser facilmente conhecida na literatura estatística. \n",
    "\n",
    "Vamos visualizar o histograma dos valores de $x$, de $y$ e de $w$, esse último que deve indicar o formato da distribuição resultante."
   ]
  },
  {
   "cell_type": "code",
   "execution_count": 96,
   "metadata": {},
   "outputs": [
    {
     "data": {
      "image/png": "[encoded data removed]",
      "text/plain": [
       "<Figure size 1296x360 with 3 Axes>"
      ]
     },
     "metadata": {
      "needs_background": "light"
     },
     "output_type": "display_data"
    }
   ],
   "source": [
    "plt.figure(figsize=(18, 5))\n",
    "\n",
    "plt.subplot(131)\n",
    "plt.hist(x_all, bins=50, density=True,\n",
    "         color='blue', edgecolor='white', \n",
    "         linewidth=1, alpha=0.8)\n",
    "plt.ylabel('densidade')\n",
    "plt.xlabel('valores simulados para x')\n",
    "plt.title('Simulação - Uniforme')\n",
    "#plt.ylim(0,0.35)\n",
    "\n",
    "plt.subplot(132)\n",
    "plt.hist(y_all, bins=50, density=True,\n",
    "         color='orange', edgecolor='white', \n",
    "         linewidth=1, alpha=0.8)\n",
    "plt.ylabel('densidade')\n",
    "plt.xlabel('valores simulados para y')\n",
    "plt.title('Simulação - Exponencial')\n",
    "plt.ylim(0,0.35)\n",
    "\n",
    "plt.subplot(133)\n",
    "plt.hist(w_all, bins=50, density=True,\n",
    "         color='red', edgecolor='white', \n",
    "         linewidth=1, alpha=0.8)\n",
    "plt.ylabel('densidade')\n",
    "plt.xlabel('valores calculados para w')\n",
    "plt.title('W=X+Y')\n",
    "\n",
    "plt.show()"
   ]
  },
  {
   "cell_type": "markdown",
   "metadata": {},
   "source": [
    "\n",
    "**Pontos importantes:** \n",
    "\n",
    "Implementar $X+Y$ é somar os valores de $X$ com os valores de $Y$, linha a linha, e obter uma nova distribuição, cuja área também valerá $1$!!!"
   ]
  },
  {
   "cell_type": "markdown",
   "metadata": {},
   "source": [
    "<div id=\"ex2\"></div>\n",
    "\n",
    "### EXERCÍCIO 2 - Média e Variância via `numpy`\n",
    "\n",
    "Considerando os valores de `x_all`, `y_all` e `w_all`, calcule a média e variância de cada variável. Ainda, calcule covariância e correlação entre `x_all` e `y_all`."
   ]
  },
  {
   "cell_type": "code",
   "execution_count": 97,
   "metadata": {},
   "outputs": [
    {
     "name": "stdout",
     "output_type": "stream",
     "text": [
      "5.499 + 2.998 = 8.496\n"
     ]
    }
   ],
   "source": [
    "med_x = float(np.mean(x_all))\n",
    "med_y = float(np.mean(y_all))\n",
    "med_w = float(np.mean(w_all))\n",
    "print(f'{med_x:.3f} + {med_y:.3f} = {med_w:.3f}')"
   ]
  },
  {
   "cell_type": "code",
   "execution_count": 98,
   "metadata": {},
   "outputs": [
    {
     "name": "stdout",
     "output_type": "stream",
     "text": [
      "0.753 + 8.957 = 9.708\n"
     ]
    }
   ],
   "source": [
    "var_x = float(np.var(x_all))\n",
    "var_y = float(np.var(y_all))\n",
    "var_w = float(np.var(w_all))\n",
    "print(f'{var_x:.3f} + {var_y:.3f} = {var_w:.3f}');\n",
    "\n",
    "# print(f'{np.corrcoef(np.array(var_x), np.array(var_y))}')"
   ]
  },
  {
   "cell_type": "markdown",
   "metadata": {},
   "source": [
    "___\n",
    "\n",
    "<div id=\"simulacao2\"></div>\n",
    "\n",
    "## Simulação sem uso de *loop*:\n",
    "\n",
    "Agora, ao invés de fazer um *loop* para gerar $n$ amostras em Python, podemos pedir à função `rvs()` que realize $n$ sorteios diretamente utilizando o **argumento** `size = n`. "
   ]
  },
  {
   "cell_type": "markdown",
   "metadata": {},
   "source": [
    "Observe que os resultados gerados aqui não se alteram, de maneira geral, mas o desempenho é melhor (mais rápido)."
   ]
  },
  {
   "cell_type": "code",
   "execution_count": 99,
   "metadata": {},
   "outputs": [],
   "source": [
    "x_All = uniform.rvs(loc=a, scale=b-a, size=n)\n",
    "y_All = expon.rvs(scale=mu, size=n)\n",
    "\n",
    "# note que estamos somando elemento a elemento de x_All e y_All e obtendo um novo array\n",
    "w_All = x_All + y_All "
   ]
  },
  {
   "cell_type": "markdown",
   "metadata": {},
   "source": [
    "<div id=\"ex3\"></div>\n",
    "\n",
    "### EXERCÍCIO 3 - Média e Variância via `pandas`\n",
    "\n",
    "Os valores de `x_All`, `y_All` e `w_All`, a seguir, serão colocados em um *dataframe* chamando `df`.\n",
    "\n",
    "Considerando as variáveis `X`, `Y` e `W` desse *dataframe*, calcule a média e variância de cada variável. Ainda, calcule covariância e correlação entre `X` e `Y`.\n",
    "\n",
    "Faça todas as contas utilizando comando do *pandas*.\n"
   ]
  },
  {
   "cell_type": "code",
   "execution_count": 100,
   "metadata": {
    "scrolled": true
   },
   "outputs": [
    {
     "data": {
      "text/html": [
       "<div>\n",
       "<style scoped>\n",
       "    .dataframe tbody tr th:only-of-type {\n",
       "        vertical-align: middle;\n",
       "    }\n",
       "\n",
       "    .dataframe tbody tr th {\n",
       "        vertical-align: top;\n",
       "    }\n",
       "\n",
       "    .dataframe thead th {\n",
       "        text-align: right;\n",
       "    }\n",
       "</style>\n",
       "<table border=\"1\" class=\"dataframe\">\n",
       "  <thead>\n",
       "    <tr style=\"text-align: right;\">\n",
       "      <th></th>\n",
       "      <th>X</th>\n",
       "      <th>Y</th>\n",
       "      <th>W</th>\n",
       "    </tr>\n",
       "  </thead>\n",
       "  <tbody>\n",
       "    <tr>\n",
       "      <th>0</th>\n",
       "      <td>5.301343</td>\n",
       "      <td>2.285654</td>\n",
       "      <td>7.586997</td>\n",
       "    </tr>\n",
       "    <tr>\n",
       "      <th>1</th>\n",
       "      <td>5.901360</td>\n",
       "      <td>0.861075</td>\n",
       "      <td>6.762435</td>\n",
       "    </tr>\n",
       "    <tr>\n",
       "      <th>2</th>\n",
       "      <td>4.490015</td>\n",
       "      <td>5.965626</td>\n",
       "      <td>10.455641</td>\n",
       "    </tr>\n",
       "    <tr>\n",
       "      <th>3</th>\n",
       "      <td>4.229385</td>\n",
       "      <td>7.231252</td>\n",
       "      <td>11.460636</td>\n",
       "    </tr>\n",
       "    <tr>\n",
       "      <th>4</th>\n",
       "      <td>6.503872</td>\n",
       "      <td>1.241543</td>\n",
       "      <td>7.745415</td>\n",
       "    </tr>\n",
       "  </tbody>\n",
       "</table>\n",
       "</div>"
      ],
      "text/plain": [
       "          X         Y          W\n",
       "0  5.301343  2.285654   7.586997\n",
       "1  5.901360  0.861075   6.762435\n",
       "2  4.490015  5.965626  10.455641\n",
       "3  4.229385  7.231252  11.460636\n",
       "4  6.503872  1.241543   7.745415"
      ]
     },
     "execution_count": 100,
     "metadata": {},
     "output_type": "execute_result"
    }
   ],
   "source": [
    "df = pd.DataFrame()\n",
    "df['X'] = x_All\n",
    "df['Y'] = y_All\n",
    "df['W'] = w_All\n",
    "df.head()"
   ]
  },
  {
   "cell_type": "code",
   "execution_count": 101,
   "metadata": {},
   "outputs": [
    {
     "name": "stdout",
     "output_type": "stream",
     "text": [
      "5.496 + 2.985 = 8.481\n"
     ]
    }
   ],
   "source": [
    "med_x = df.X.mean()\n",
    "med_y = df.Y.mean()\n",
    "med_w = df.W.mean()\n",
    "\n",
    "print(f'{med_x:.3f} + {med_y:.3f} = {med_w:.3f}')"
   ]
  },
  {
   "cell_type": "code",
   "execution_count": 102,
   "metadata": {},
   "outputs": [
    {
     "name": "stdout",
     "output_type": "stream",
     "text": [
      "0.748\n",
      "8.977\n",
      "9.740\n"
     ]
    }
   ],
   "source": [
    "var_x = df.X.var()\n",
    "var_y = df.Y.var()\n",
    "var_w = df.W.var()\n",
    "print(f'{var_x:.3f}\\n{var_y:.3f}\\n{var_w:.3f}')"
   ]
  },
  {
   "cell_type": "code",
   "execution_count": 111,
   "metadata": {},
   "outputs": [
    {
     "name": "stdout",
     "output_type": "stream",
     "text": [
      "0.0074567515624842364\n",
      "0.002877103460848195\n"
     ]
    }
   ],
   "source": [
    "cov_xy = df.X.cov(df.Y)\n",
    "\n",
    "print(df.X.cov(df.Y))\n",
    "print(df.X.corr(df.Y))"
   ]
  },
  {
   "cell_type": "markdown",
   "metadata": {},
   "source": [
    "___\n",
    "<div id=\"teoria\"></div>\n",
    "\n",
    "\n",
    "# TEORIA: Contrastando respostas utilizando as propriedades\n",
    "\n",
    "Dica: Reveja as aulas de **modelos probabilísticos contínuos** - uniforme e exponencial\n",
    "\n",
    "Relembrando:\n",
    "\n",
    "### Para a Uniforme:\n",
    "\n",
    "Utilizando o resultado teórica da distribuição Uniforme, temos que o valor esperado é dado por:\n",
    "\n",
    "$$E(X) = \\frac{a + b}{2} = 5.5$$\n",
    "\n",
    "Já a variância de uma variável com distribuição Yniforme é dada por:\n",
    "\n",
    "$$Var(X) = \\frac{(b-a)^2}{12} = 0.75$$\n",
    "\n",
    "\n",
    "### Para a exponencial:\n",
    "\n",
    "Utilizando o resultado teórica da distribuição Exponencial, temos que o valor esperado é dado por:\n",
    "\n",
    "$$E(Y) = \\mu = 3$$\n",
    "\n",
    "Já a variância de uma variável com distribuição Exponencial é dada por:\n",
    "\n",
    "$$Var(Y) = \\mu^2 = 9$$"
   ]
  },
  {
   "cell_type": "markdown",
   "metadata": {},
   "source": [
    "___\n",
    "<div id=\"propriedades\"></div>\n",
    "\n",
    "## Propriedades de esperança e variância em combinação linear de variáveis aleatórias\n",
    "\n",
    "\n",
    "### E(W): Valor esperado da W calculada a partir da teoria\n",
    "\n",
    "**Previsão teórica:**\n",
    "\n",
    "**$\\qquad E(W) = E(X)  + E(Y)$**\n",
    "\n",
    "$\\quad$\n",
    "\n",
    "### Var(W): Variância da W calculada a partir da teoria\n",
    "\n",
    "**Previsão teórica:**\n",
    "\n",
    "**$\\qquad Var(W) = Var(X) + Var(Y) + 2 * Cov(X,Y)$**\n",
    "\n",
    "$\\quad$\n",
    "\n",
    "Assuma que as variáveis $X$ e $Y$ são **INDEPENDENTES** até mesmo pela maneira que foram geradas.\n",
    "\n"
   ]
  },
  {
   "cell_type": "markdown",
   "metadata": {},
   "source": [
    "<div id=\"ex4\"></div>\n",
    "\n",
    "### EXERCÍCIO 4 - Média e Variância com via propriedades\n",
    "\n",
    "Considerando os resultados teóricos para $E(X)$, $E(Y)$, $Var(X)$, $Var(Y)$ e $Cov(X,Y)$, calcule o valor esperado e a variância de $W$. \n",
    "\n",
    "Compare os valores obtidos para $E(W)$ e $Var(W)$ com os obtidos nos exercícios [Exercício 2](#ex2) e [Exercício 3](#ex3).\n"
   ]
  },
  {
   "cell_type": "code",
   "execution_count": 104,
   "metadata": {},
   "outputs": [
    {
     "name": "stdout",
     "output_type": "stream",
     "text": [
      "5.5 = 5.496475987730824\n",
      "0.75 = 0.7482748593930636\n"
     ]
    }
   ],
   "source": [
    "E_x = uniform.mean(a, b-a)\n",
    "print(f'{E_x} = {med_x}')\n",
    "\n",
    "V_x = uniform.var(loc=a, scale=b-a)\n",
    "print(f'{V_x} = {var_x}')"
   ]
  },
  {
   "cell_type": "code",
   "execution_count": 127,
   "metadata": {},
   "outputs": [
    {
     "name": "stdout",
     "output_type": "stream",
     "text": [
      "3 = 2.984597776267623\n",
      "9.0 = 8.976917520215917\n"
     ]
    }
   ],
   "source": [
    "E_y = expon.mean(scale=mu)\n",
    "print(f'{3} = {med_y}')\n",
    "\n",
    "V_y = expon.var(scale=3)\n",
    "print(f'{V_y} = {var_y}')"
   ]
  },
  {
   "cell_type": "code",
   "execution_count": 129,
   "metadata": {},
   "outputs": [
    {
     "name": "stdout",
     "output_type": "stream",
     "text": [
      "0 = 0.0074567515624842364\n"
     ]
    }
   ],
   "source": [
    "print(f'{0} = {cov_xy}')"
   ]
  },
  {
   "cell_type": "code",
   "execution_count": 131,
   "metadata": {},
   "outputs": [
    {
     "name": "stdout",
     "output_type": "stream",
     "text": [
      "8.5 = 8.481073763998475\n",
      "9.75 = 9.740105882733845\n"
     ]
    }
   ],
   "source": [
    "E_w = E_x + E_y\n",
    "print(f'{E_w} = {med_w}')\n",
    "\n",
    "V_w = V_y + V_x + 2*0\n",
    "print(f'{V_w} = {var_w}')\n"
   ]
  },
  {
   "cell_type": "markdown",
   "metadata": {},
   "source": [
    "___\n",
    "<div id=\"comandos\"></div>\n",
    "\n",
    "## Lista de comandos utilizados neste notebook\n",
    "\n",
    "Coloque aqui a lista de novos comandos deste notebook:\n",
    "\n",
    " * \n",
    " "
   ]
  }
 ],
 "metadata": {
  "kernelspec": {
   "display_name": "Python 3",
   "language": "python",
   "name": "python3"
  },
  "language_info": {
   "codemirror_mode": {
    "name": "ipython",
    "version": 3
   },
   "file_extension": ".py",
   "mimetype": "text/x-python",
   "name": "python",
   "nbconvert_exporter": "python",
   "pygments_lexer": "ipython3",
   "version": "3.8.8"
  }
 },
 "nbformat": 4,
 "nbformat_minor": 4
}
