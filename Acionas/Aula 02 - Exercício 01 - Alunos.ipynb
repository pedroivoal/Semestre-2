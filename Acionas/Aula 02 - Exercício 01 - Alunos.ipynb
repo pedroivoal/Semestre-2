{
 "cells": [
  {
   "cell_type": "markdown",
   "metadata": {},
   "source": [
    "# ** Insper - Acionamentos Elétricos**\n",
    "\n",
    "**Aula 02**\n",
    "\n",
    "**Exercício 01**\n",
    "No circuito abaixo, construa e resolva o sistema linear de equações para encontrar as correntes.\n",
    "\n"
   ]
  },
  {
   "cell_type": "code",
   "execution_count": 3,
   "metadata": {},
   "outputs": [],
   "source": [
    "from IPython.display import Image\n",
    "# Image(filename=\"circuito.png\")"
   ]
  },
  {
   "cell_type": "markdown",
   "metadata": {},
   "source": [
    "Equacionando os nós:\n",
    "\\begin{align*}\n",
    "i_1 -i_4-i_5 &=0\\\\\n",
    "i_5 -i_2 - i_7&=0\\\\\n",
    "i_7 - i_3 -i_6 &= 0\n",
    "\\end{align*}\n",
    "Equacionando as malhas:\n",
    "\\begin{align*}\n",
    "5 - R_1 i_i -R_4 i_4 &= 0\\\\\n",
    "R_4 i_4 - 2,17 - R_2 i_2 &= 0\\\\\n",
    "R_2 i_2 - R_3 i_3 &= 0\\\\\n",
    "R_3 i_3 - R_6 i_6 &= 0\n",
    "\\end{align*}\n",
    "A equação na forma matricial fica:\n",
    "\\begin{align*}\n",
    "\\mathbf{A} \\times \\mathbf{I} = \\mathbf{V}\n",
    "\\end{align*}"
   ]
  },
  {
   "cell_type": "markdown",
   "metadata": {},
   "source": [
    "\\begin{align*}\n",
    "\\begin{pmatrix}\n",
    "1  &  0  &  0  &  -1  &  -1  &  0  &  0\\\\\n",
    "    0  &  -1  &  0  &  0  &  1  &  0  &  -1\\\\\n",
    "    0  &  0  &  -1  &  0  &  0  &  -1  &  1\\\\\n",
    "    -R_1  &  0  &  0  &  -R_4  &  0  &  0  &  0\\\\\n",
    "    0  &  -R_2  &  0  &  R_4  &  0  &  0  &  0\\\\\n",
    "    0  &  R_2  &  -R_3  &  0  &  0  &  0  &  0\\\\\n",
    "    0  &  0  &  R_3  &  0  &  0  &  -R_6  &  0\n",
    "\\end{pmatrix} \n",
    "\\times\n",
    "\\begin{pmatrix}\n",
    "i_1\\\\i_2\\\\i_3\\\\i_4\\\\i_5\\\\i_6\\\\i_7\n",
    "\\end{pmatrix}\n",
    "&=\n",
    "\\begin{pmatrix}\n",
    "0\\\\0\\\\0\\\\-5\\\\2,17\\\\0\\\\0\n",
    "\\end{pmatrix}\n",
    "\\end{align*}"
   ]
  },
  {
   "cell_type": "markdown",
   "metadata": {},
   "source": [
    "E invertendo a matriz A podemos descobrir o vetor de correntes I:\n",
    "\\begin{align*}\n",
    "\\mathbf{I} = \\mathbf{A}^{-1} \\times \\mathbf{V}\n",
    "\\end{align*}"
   ]
  },
  {
   "cell_type": "code",
   "execution_count": 4,
   "metadata": {},
   "outputs": [
    {
     "name": "stdout",
     "output_type": "stream",
     "text": [
      "Matriz A: \n",
      " [[ 1 -1 -1]\n",
      " [-5  0  0]\n",
      " [ 0  0 10]]\n",
      "\n",
      "Vetor  V: \n",
      " [[ 0.  ]\n",
      " [ 0.  ]\n",
      " [ 0.  ]\n",
      " [-5.  ]\n",
      " [ 2.17]\n",
      " [ 0.  ]\n",
      " [ 0.  ]]\n"
     ]
    }
   ],
   "source": [
    "# Implementação do exercício 2\n",
    "# Constantes\n",
    "Vled = 2.17\n",
    "R1 = 47\n",
    "R2 = 62\n",
    "R3 = 100\n",
    "R4 = 470\n",
    "R6 = 220\n",
    "\n",
    "# Matriz das \"Resistências\" A: Como criávamos uma matrix no Python?\n",
    "A = [[1,-1,-1],[-5,0,0],[0,0,10]]\n",
    "\n",
    "# Matriz (Vetor) das constantes de tensão dentro das malhas\n",
    "V = [0,0,0,-5,2.17,0,0]\n",
    "\n",
    "# Vamos imprimir as matrizes para verificar se está tudo certo.\n",
    "# Visualização como matrizes (np.array). Obs: Formalmente o vetor V\n",
    "#   é um vetor coluna, por isso utilizamos a transposta (.T).\n",
    "\n",
    "import numpy as np\n",
    "A = np.array(A)\n",
    "V = np.array([V]).T\n",
    "print(\"Matriz A: \\n\", A)\n",
    "print(\"\\nVetor  V: \\n\", V)"
   ]
  },
  {
   "cell_type": "code",
   "execution_count": 5,
   "metadata": {},
   "outputs": [
    {
     "ename": "ValueError",
     "evalue": "shapes (3,3) and (7,1) not aligned: 3 (dim 1) != 7 (dim 0)",
     "output_type": "error",
     "traceback": [
      "\u001b[1;31m---------------------------------------------------------------------------\u001b[0m",
      "\u001b[1;31mValueError\u001b[0m                                Traceback (most recent call last)",
      "\u001b[1;32m<ipython-input-5-f79c7378f992>\u001b[0m in \u001b[0;36m<module>\u001b[1;34m\u001b[0m\n\u001b[0;32m      2\u001b[0m \u001b[1;32mfrom\u001b[0m \u001b[0mscipy\u001b[0m \u001b[1;32mimport\u001b[0m \u001b[0mlinalg\u001b[0m\u001b[1;33m\u001b[0m\u001b[1;33m\u001b[0m\u001b[0m\n\u001b[0;32m      3\u001b[0m \u001b[1;31m# dot product of A^-1 and V\u001b[0m\u001b[1;33m\u001b[0m\u001b[1;33m\u001b[0m\u001b[1;33m\u001b[0m\u001b[0m\n\u001b[1;32m----> 4\u001b[1;33m \u001b[0mI\u001b[0m\u001b[1;33m=\u001b[0m\u001b[0mnp\u001b[0m\u001b[1;33m.\u001b[0m\u001b[0mdot\u001b[0m\u001b[1;33m(\u001b[0m\u001b[0mlinalg\u001b[0m\u001b[1;33m.\u001b[0m\u001b[0minv\u001b[0m\u001b[1;33m(\u001b[0m\u001b[0mA\u001b[0m\u001b[1;33m)\u001b[0m\u001b[1;33m,\u001b[0m\u001b[0mV\u001b[0m\u001b[1;33m)\u001b[0m\u001b[1;33m\u001b[0m\u001b[1;33m\u001b[0m\u001b[0m\n\u001b[0m\u001b[0;32m      5\u001b[0m \u001b[1;33m\u001b[0m\u001b[0m\n\u001b[0;32m      6\u001b[0m \u001b[1;31m# Correntes em Amperes\u001b[0m\u001b[1;33m\u001b[0m\u001b[1;33m\u001b[0m\u001b[1;33m\u001b[0m\u001b[0m\n",
      "\u001b[1;32m<__array_function__ internals>\u001b[0m in \u001b[0;36mdot\u001b[1;34m(*args, **kwargs)\u001b[0m\n",
      "\u001b[1;31mValueError\u001b[0m: shapes (3,3) and (7,1) not aligned: 3 (dim 1) != 7 (dim 0)"
     ]
    }
   ],
   "source": [
    "import numpy as np\n",
    "from scipy import linalg\n",
    "# dot product of A^-1 and V\n",
    "I=np.dot(linalg.inv(A),V)\n",
    "\n",
    "# Correntes em Amperes\n",
    "print(\"Correntes:\")\n",
    "print(\"i1 = \", '%6.4f'% I[0], \"A\")\n",
    "print(\"i2 = \", '%6.4f'% I[1], \"A\")\n",
    "print(\"i3 = \", '%6.4f'% I[2], \"A\")\n",
    "print(\"i4 = \", '%6.4f'% I[3], \"A\")\n",
    "print(\"i5 = \", '%6.4f'% I[4], \"A\")\n",
    "print(\"i6 = \", '%6.4f'% I[5], \"A\")\n",
    "print(\"i7 = \", '%6.4f'% I[6], \"A\")\n",
    "\n",
    "# As correntes são muito pequeninas, vamos exibir os valores em mA\n",
    "print(\"\\n\\nCorrentes em mA:\")\n",
    "print(\"i1 = \", '%06.4f' % (1000*I[0]), \"mA\")\n",
    "print(\"i2 = \", '%06.4f' % (1000*I[1]), \"mA\")\n",
    "print(\"i3 = \", '%06.4f' % (1000*I[2]), \"mA\")\n",
    "print(\"i4 = \", '%06.4f' % (1000*I[3]), \"mA\")\n",
    "print(\"i5 = \", '%06.4f' % (1000*I[4]), \"mA\")\n",
    "print(\"i6 = \", '%06.4f' % (1000*I[5]), \"mA\")\n",
    "print(\"i7 = \", '%06.4f' % (1000*I[6]), \"mA\")\n"
   ]
  }
 ],
 "metadata": {
  "interpreter": {
   "hash": "aea149784bd30735ce6bf75b9a5314843328adf2083b944f20623ef50c2ca00d"
  },
  "kernelspec": {
   "display_name": "Python 3.8.8 ('base')",
   "language": "python",
   "name": "python3"
  },
  "language_info": {
   "codemirror_mode": {
    "name": "ipython",
    "version": 3
   },
   "file_extension": ".py",
   "mimetype": "text/x-python",
   "name": "python",
   "nbconvert_exporter": "python",
   "pygments_lexer": "ipython3",
   "version": "3.8.8"
  }
 },
 "nbformat": 4,
 "nbformat_minor": 2
}
