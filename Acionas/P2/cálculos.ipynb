{
 "cells": [
  {
   "cell_type": "code",
   "execution_count": 2,
   "metadata": {},
   "outputs": [],
   "source": [
    "import numpy as np"
   ]
  },
  {
   "cell_type": "markdown",
   "metadata": {},
   "source": [
    "## Frequência"
   ]
  },
  {
   "cell_type": "code",
   "execution_count": 18,
   "metadata": {},
   "outputs": [
    {
     "name": "stdout",
     "output_type": "stream",
     "text": [
      "45,511.961\n"
     ]
    }
   ],
   "source": [
    "Vc = 4.5\n",
    "Vf = 9\n",
    "Vo = -4.5\n",
    "\n",
    "t = 5 * 10**-3\n",
    "\n",
    "C = 100 * 10**-9\n",
    "\n",
    "\n",
    "ln = np.log((Vf-Vc)/(Vf-Vo))\n",
    "R = -t/(C*ln)\n",
    "print(f'{R:,.3f}')"
   ]
  },
  {
   "cell_type": "markdown",
   "metadata": {},
   "source": [
    "## Resistência do Integrador"
   ]
  },
  {
   "cell_type": "code",
   "execution_count": 14,
   "metadata": {},
   "outputs": [
    {
     "name": "stdout",
     "output_type": "stream",
     "text": [
      "500,000.00\n"
     ]
    }
   ],
   "source": [
    "t = 5 * 10**-3\n",
    "C = 10 * 10**-9\n",
    "Vp = 8.775\n",
    "V = 8.775\n",
    "\n",
    "R = Vp*t/(C*V)\n",
    "print(f'{R:,.2f}')"
   ]
  },
  {
   "cell_type": "code",
   "execution_count": null,
   "metadata": {},
   "outputs": [],
   "source": []
  }
 ],
 "metadata": {
  "interpreter": {
   "hash": "ad2bdc8ecc057115af97d19610ffacc2b4e99fae6737bb82f5d7fb13d2f2c186"
  },
  "kernelspec": {
   "display_name": "Python 3.9.12 ('base')",
   "language": "python",
   "name": "python3"
  },
  "language_info": {
   "codemirror_mode": {
    "name": "ipython",
    "version": 3
   },
   "file_extension": ".py",
   "mimetype": "text/x-python",
   "name": "python",
   "nbconvert_exporter": "python",
   "pygments_lexer": "ipython3",
   "version": "3.9.12"
  },
  "orig_nbformat": 4
 },
 "nbformat": 4,
 "nbformat_minor": 2
}
