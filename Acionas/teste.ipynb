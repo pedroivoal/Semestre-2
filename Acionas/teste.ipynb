{
 "cells": [
  {
   "cell_type": "code",
   "execution_count": 1,
   "metadata": {},
   "outputs": [
    {
     "name": "stdout",
     "output_type": "stream",
     "text": [
      "1.0\n",
      "1.5\n",
      "-0.5\n"
     ]
    }
   ],
   "source": [
    "import numpy as np\n",
    "# from numpy import dot\n",
    "from scipy import linalg\n",
    "\n",
    "A = [[1,-1,-1],[-5,0,0],[0,0,10]]\n",
    "V = [0,-5,-5]\n",
    "I = np.dot(linalg.inv(A),V)\n",
    "\n",
    "print(I[0])\n",
    "print(I[1])\n",
    "print(I[2])"
   ]
  }
 ],
 "metadata": {
  "interpreter": {
   "hash": "74ab7c6ffe6706754a8af46cc4d18eebe476c74ce21a19282f620e1b1e9919fe"
  },
  "kernelspec": {
   "display_name": "Python 3.8.8 ('base')",
   "language": "python",
   "name": "python3"
  },
  "language_info": {
   "codemirror_mode": {
    "name": "ipython",
    "version": 3
   },
   "file_extension": ".py",
   "mimetype": "text/x-python",
   "name": "python",
   "nbconvert_exporter": "python",
   "pygments_lexer": "ipython3",
   "version": "3.8.8"
  },
  "orig_nbformat": 4
 },
 "nbformat": 4,
 "nbformat_minor": 2
}
