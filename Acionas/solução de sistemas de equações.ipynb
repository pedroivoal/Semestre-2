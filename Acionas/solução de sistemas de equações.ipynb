{
 "cells": [
  {
   "cell_type": "code",
   "execution_count": 1,
   "metadata": {},
   "outputs": [],
   "source": [
    "from numpy import array, dot\n",
    "# import numpy as np\n",
    "from scipy import linalg\n",
    "from math import *"
   ]
  },
  {
   "cell_type": "code",
   "execution_count": 53,
   "metadata": {},
   "outputs": [
    {
     "name": "stdout",
     "output_type": "stream",
     "text": [
      "\n",
      "\n",
      "Correntes em mA:\n",
      "i1 =  10.000000000000000000000000000000 mA\n",
      "i2 =  10.0000 mA\n",
      "i3 =  -0.0000 mA\n",
      "i4 =  -4.2000 mA\n",
      "i5 =  -14.2000 mA\n"
     ]
    }
   ],
   "source": [
    "\n",
    "E1 = [1,-1,-1,0,0]\n",
    "E2 = [0,1,0,-1,1]\n",
    "E3 = [1e3,0,1e3,0,0]\n",
    "E4 = [0,1e3,-1e3,1e3,0]\n",
    "E5 = [0,0,0,-1e3,-1e3]\n",
    "\n",
    "A = [E1, E2, E3, E4, E5]\n",
    "A = array(A)\n",
    "V = [0,0,10,+5.8,18.4]\n",
    "V = array([V]).T\n",
    "\n",
    "I = dot(linalg.inv(A),V)\n",
    "\n",
    "I*1000\n",
    "\n",
    "print(\"\\n\\nCorrentes em mA:\")\n",
    "print(\"i1 = \", '%06.30f' % (1000*I[0]), \"mA\")\n",
    "print(\"i2 = \", '%06.4f' % (1000*I[1]), \"mA\")\n",
    "print(\"i3 = \", '%06.4f' % (1000*I[2]), \"mA\")\n",
    "print(\"i4 = \", '%06.4f' % (1000*I[3]), \"mA\")\n",
    "print(\"i5 = \", '%06.4f' % (1000*I[4]), \"mA\")\n",
    "\n",
    "i1 = I[0]\n",
    "i2 = I[1]\n",
    "i3 = I[2]\n",
    "i4 = I[3]\n",
    "i5 = I[4]"
   ]
  },
  {
   "cell_type": "code",
   "execution_count": 37,
   "metadata": {},
   "outputs": [
    {
     "name": "stdout",
     "output_type": "stream",
     "text": [
      "-0.000000000000000000082572837456\n",
      "0.035800000000000012367884494324\n"
     ]
    }
   ],
   "source": [
    "e1 = float(i1-i2-i3)\n",
    "e2 = float(i2-i4+i1)\n",
    "# e1 = round((i1-i2-i3), 7)\n",
    "\n",
    "print(f'{e1:.30f}')\n",
    "print(f'{e2:.30f}')\n"
   ]
  }
 ],
 "metadata": {
  "interpreter": {
   "hash": "74ab7c6ffe6706754a8af46cc4d18eebe476c74ce21a19282f620e1b1e9919fe"
  },
  "kernelspec": {
   "display_name": "Python 3.8.8 ('base')",
   "language": "python",
   "name": "python3"
  },
  "language_info": {
   "codemirror_mode": {
    "name": "ipython",
    "version": 3
   },
   "file_extension": ".py",
   "mimetype": "text/x-python",
   "name": "python",
   "nbconvert_exporter": "python",
   "pygments_lexer": "ipython3",
   "version": "3.8.8"
  },
  "orig_nbformat": 4
 },
 "nbformat": 4,
 "nbformat_minor": 2
}
